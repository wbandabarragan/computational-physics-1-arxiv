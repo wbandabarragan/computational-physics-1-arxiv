{
 "cells": [
  {
   "cell_type": "markdown",
   "id": "8f708ba4",
   "metadata": {},
   "source": [
    "# Radioactive Decay"
   ]
  },
  {
   "cell_type": "code",
   "execution_count": 1,
   "id": "e51cd7d5",
   "metadata": {},
   "outputs": [],
   "source": [
    "import numpy as np\n",
    "import matplotlib.pyplot as plt\n",
    "import random\n",
    "import os # Generate a beep \n",
    "# conda install -c conda-forge sox"
   ]
  },
  {
   "cell_type": "code",
   "execution_count": 8,
   "id": "7efb977a",
   "metadata": {},
   "outputs": [
    {
     "name": "stdout",
     "output_type": "stream",
     "text": [
      "0.6789330991616378\n"
     ]
    }
   ],
   "source": [
    "# Fix lambda:\n",
    "\n",
    "lambda_fixed = 0.01\n",
    "\n",
    "N_max = 100\n",
    "\n",
    "time_max = 1000\n",
    "\n",
    "seed = random.seed(1238776786)\n",
    "\n",
    "#seed = 123\n",
    "\n",
    "print(random.random())\n",
    "\n",
    "nn = nloop = N_max "
   ]
  },
  {
   "cell_type": "code",
   "execution_count": 9,
   "id": "4433df2a",
   "metadata": {},
   "outputs": [],
   "source": [
    "time_axis = np.zeros(time_max)\n",
    "N_axis    = np.zeros(time_max)\n",
    "\n",
    "# Loop oveer time\n",
    "for time in range(0, time_max):\n",
    "    \n",
    "    # Loops over the N_max of atoms\n",
    "    for at in range(1, nn):\n",
    "        random_lambda = random.random()\n",
    "        if (random_lambda < lambda_fixed):\n",
    "            nloop = nloop - 1\n",
    "            #print(nloop)\n",
    "            freq_beep = 600 #Hz\n",
    "            duration = 100 #miliseconds\n",
    "            os.system('play -n synth %s sin %s' % (duration/1000, freq_beep))    \n",
    "            \n",
    "    nn = nloop\n",
    "    time_axis[time] = time\n",
    "    time_axis[time] = nloop\n",
    "\n",
    "#print(time_axis, N_axis)\n",
    "        "
   ]
  },
  {
   "cell_type": "code",
   "execution_count": 10,
   "id": "4b20e9d1",
   "metadata": {},
   "outputs": [
    {
     "data": {
      "image/png": "[encoded data removed]",
      "text/plain": [
       "<Figure size 640x480 with 1 Axes>"
      ]
     },
     "metadata": {},
     "output_type": "display_data"
    }
   ],
   "source": [
    "plt.plot(time_axis, N_axis)\n",
    "plt.show()"
   ]
  },
  {
   "cell_type": "code",
   "execution_count": null,
   "id": "db67b8d6",
   "metadata": {},
   "outputs": [],
   "source": []
  },
  {
   "cell_type": "code",
   "execution_count": null,
   "id": "763242e7",
   "metadata": {},
   "outputs": [],
   "source": []
  }
 ],
 "metadata": {
  "kernelspec": {
   "display_name": "Python 3",
   "language": "python",
   "name": "python3"
  },
  "language_info": {
   "codemirror_mode": {
    "name": "ipython",
    "version": 3
   },
   "file_extension": ".py",
   "mimetype": "text/x-python",
   "name": "python",
   "nbconvert_exporter": "python",
   "pygments_lexer": "ipython3",
   "version": "3.7.10"
  }
 },
 "nbformat": 4,
 "nbformat_minor": 5
}
