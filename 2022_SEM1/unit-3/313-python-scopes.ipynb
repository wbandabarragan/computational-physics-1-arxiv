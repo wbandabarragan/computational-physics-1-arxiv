{
 "cells": [
  {
   "cell_type": "markdown",
   "id": "0606d62f",
   "metadata": {},
   "source": [
    "# Python Scopes\n",
    "\n",
    "Scopes are environments within which variables are defined.\n",
    "\n",
    "- A variable is only available from inside the region where it is created.\n",
    "\n",
    "We have two types:\n",
    "\n",
    "\n",
    "## 1. Local scope:\n",
    "\n",
    "A variable created inside a function belongs to the local scope of that function, and can only be used inside that function."
   ]
  },
  {
   "cell_type": "code",
   "execution_count": 1,
   "id": "c0e4272b",
   "metadata": {},
   "outputs": [],
   "source": [
    "def function1():\n",
    "    a = \"physics\"\n",
    "    print(a)"
   ]
  },
  {
   "cell_type": "code",
   "execution_count": 2,
   "id": "63cc64f5",
   "metadata": {},
   "outputs": [
    {
     "name": "stdout",
     "output_type": "stream",
     "text": [
      "physics\n"
     ]
    }
   ],
   "source": [
    "function1()"
   ]
  },
  {
   "cell_type": "code",
   "execution_count": 4,
   "id": "0b3e6302",
   "metadata": {},
   "outputs": [],
   "source": [
    "#print(a) # This produces an error"
   ]
  },
  {
   "cell_type": "code",
   "execution_count": 5,
   "id": "770a1476",
   "metadata": {},
   "outputs": [],
   "source": [
    "def function1():\n",
    "    a = \"physics\"\n",
    "    def function2():\n",
    "        print(a)\n",
    "    function2()"
   ]
  },
  {
   "cell_type": "code",
   "execution_count": 8,
   "id": "dc5d85df",
   "metadata": {},
   "outputs": [
    {
     "name": "stdout",
     "output_type": "stream",
     "text": [
      "physics\n"
     ]
    }
   ],
   "source": [
    "function1()"
   ]
  },
  {
   "cell_type": "code",
   "execution_count": 9,
   "id": "b8b26c1b",
   "metadata": {},
   "outputs": [],
   "source": [
    "def function1():\n",
    "    def function2():\n",
    "        a = \"physics\"\n",
    "        print(a)\n",
    "    function2()"
   ]
  },
  {
   "cell_type": "code",
   "execution_count": 10,
   "id": "90023458",
   "metadata": {},
   "outputs": [
    {
     "name": "stdout",
     "output_type": "stream",
     "text": [
      "physics\n"
     ]
    }
   ],
   "source": [
    "function1()"
   ]
  },
  {
   "cell_type": "code",
   "execution_count": 11,
   "id": "e1a0058d",
   "metadata": {},
   "outputs": [
    {
     "ename": "NameError",
     "evalue": "name 'a' is not defined",
     "output_type": "error",
     "traceback": [
      "\u001b[0;31m---------------------------------------------------------------------------\u001b[0m",
      "\u001b[0;31mNameError\u001b[0m                                 Traceback (most recent call last)",
      "\u001b[0;32m<ipython-input-11-bca0e2660b9f>\u001b[0m in \u001b[0;36m<module>\u001b[0;34m\u001b[0m\n\u001b[0;32m----> 1\u001b[0;31m \u001b[0mprint\u001b[0m\u001b[0;34m(\u001b[0m\u001b[0ma\u001b[0m\u001b[0;34m)\u001b[0m\u001b[0;34m\u001b[0m\u001b[0;34m\u001b[0m\u001b[0m\n\u001b[0m",
      "\u001b[0;31mNameError\u001b[0m: name 'a' is not defined"
     ]
    }
   ],
   "source": [
    "print(a)"
   ]
  },
  {
   "cell_type": "markdown",
   "id": "bb32acdd",
   "metadata": {},
   "source": [
    "## 2. Global scope:\n",
    "\n",
    "A variable created in the main body of the Python code is a global variable and belongs to the global scope.\n",
    "\n",
    "Global variables are available from within any scope, global and local."
   ]
  },
  {
   "cell_type": "code",
   "execution_count": 13,
   "id": "d910b66f",
   "metadata": {},
   "outputs": [],
   "source": [
    "a = \"physics\"\n",
    "\n",
    "def function1():\n",
    "    def function2():\n",
    "        print(a)\n",
    "    function2()"
   ]
  },
  {
   "cell_type": "code",
   "execution_count": 14,
   "id": "a78b2b3f",
   "metadata": {},
   "outputs": [
    {
     "name": "stdout",
     "output_type": "stream",
     "text": [
      "physics\n"
     ]
    }
   ],
   "source": [
    "function1()"
   ]
  },
  {
   "cell_type": "code",
   "execution_count": 15,
   "id": "43e88011",
   "metadata": {},
   "outputs": [
    {
     "name": "stdout",
     "output_type": "stream",
     "text": [
      "physics\n"
     ]
    }
   ],
   "source": [
    "print(a)"
   ]
  },
  {
   "cell_type": "code",
   "execution_count": 16,
   "id": "95765c06",
   "metadata": {},
   "outputs": [],
   "source": [
    "del(a)"
   ]
  },
  {
   "cell_type": "code",
   "execution_count": 17,
   "id": "37fcaf32",
   "metadata": {},
   "outputs": [
    {
     "ename": "NameError",
     "evalue": "name 'a' is not defined",
     "output_type": "error",
     "traceback": [
      "\u001b[0;31m---------------------------------------------------------------------------\u001b[0m",
      "\u001b[0;31mNameError\u001b[0m                                 Traceback (most recent call last)",
      "\u001b[0;32m<ipython-input-17-bca0e2660b9f>\u001b[0m in \u001b[0;36m<module>\u001b[0;34m\u001b[0m\n\u001b[0;32m----> 1\u001b[0;31m \u001b[0mprint\u001b[0m\u001b[0;34m(\u001b[0m\u001b[0ma\u001b[0m\u001b[0;34m)\u001b[0m\u001b[0;34m\u001b[0m\u001b[0;34m\u001b[0m\u001b[0m\n\u001b[0m",
      "\u001b[0;31mNameError\u001b[0m: name 'a' is not defined"
     ]
    }
   ],
   "source": [
    "print(a)"
   ]
  },
  {
   "cell_type": "markdown",
   "id": "c0ea1515",
   "metadata": {},
   "source": [
    "### Variable naming hierarchy:"
   ]
  },
  {
   "cell_type": "code",
   "execution_count": 18,
   "id": "dafc261a",
   "metadata": {},
   "outputs": [],
   "source": [
    "a = \"physics\"\n",
    "\n",
    "def function_new():\n",
    "    a = \"mathematics\"\n",
    "    print(a)"
   ]
  },
  {
   "cell_type": "code",
   "execution_count": 19,
   "id": "7753e53a",
   "metadata": {},
   "outputs": [
    {
     "name": "stdout",
     "output_type": "stream",
     "text": [
      "mathematics\n"
     ]
    }
   ],
   "source": [
    "function_new()"
   ]
  },
  {
   "cell_type": "code",
   "execution_count": 20,
   "id": "d9d262fc",
   "metadata": {},
   "outputs": [
    {
     "name": "stdout",
     "output_type": "stream",
     "text": [
      "physics\n"
     ]
    }
   ],
   "source": [
    "print(a)"
   ]
  },
  {
   "cell_type": "markdown",
   "id": "a1561c7b",
   "metadata": {},
   "source": [
    "### Creating global variable from a local scope:"
   ]
  },
  {
   "cell_type": "code",
   "execution_count": 21,
   "id": "086de23d",
   "metadata": {},
   "outputs": [],
   "source": [
    "a = \"physics\"\n",
    "\n",
    "def function_new():\n",
    "    # The global keyword makes the variable belong to the global scope\n",
    "    global a \n",
    "    a = \"mathematics\"\n",
    "    print(a)"
   ]
  },
  {
   "cell_type": "code",
   "execution_count": 22,
   "id": "feb2e79b",
   "metadata": {},
   "outputs": [
    {
     "name": "stdout",
     "output_type": "stream",
     "text": [
      "physics\n"
     ]
    }
   ],
   "source": [
    "print(a)"
   ]
  },
  {
   "cell_type": "code",
   "execution_count": 23,
   "id": "3dfd573f",
   "metadata": {},
   "outputs": [
    {
     "name": "stdout",
     "output_type": "stream",
     "text": [
      "mathematics\n"
     ]
    }
   ],
   "source": [
    "function_new()"
   ]
  },
  {
   "cell_type": "code",
   "execution_count": 24,
   "id": "f22fd334",
   "metadata": {},
   "outputs": [
    {
     "name": "stdout",
     "output_type": "stream",
     "text": [
      "mathematics\n"
     ]
    }
   ],
   "source": [
    "print(a)"
   ]
  },
  {
   "cell_type": "markdown",
   "id": "2f475f6b",
   "metadata": {},
   "source": [
    "### Check global and local variables:"
   ]
  },
  {
   "cell_type": "code",
   "execution_count": 25,
   "id": "4e12e789",
   "metadata": {},
   "outputs": [
    {
     "data": {
      "text/plain": [
       "{'__name__': '__main__',\n",
       " '__doc__': 'Automatically created module for IPython interactive environment',\n",
       " '__package__': None,\n",
       " '__loader__': None,\n",
       " '__spec__': None,\n",
       " '__builtin__': <module 'builtins' (built-in)>,\n",
       " '__builtins__': <module 'builtins' (built-in)>,\n",
       " '_ih': ['',\n",
       "  'def function1():\\n    a = \"physics\"\\n    print(a)',\n",
       "  'function1()',\n",
       "  'print(a)',\n",
       "  '#print(a) # This produces an error',\n",
       "  'def function1():\\n    a = \"physics\"\\n    def function2():\\n        print(a)\\n    function2()',\n",
       "  'function(1)',\n",
       "  'function1())',\n",
       "  'function1()',\n",
       "  'def function1():\\n    def function2():\\n        a = \"physics\"\\n        print(a)\\n    function2()',\n",
       "  'function1()',\n",
       "  'print(a)',\n",
       "  'def function1():\\n    def function2():\\n        a = \"physics\"\\n        print(a)\\n    function2()',\n",
       "  'a = \"physics\"\\n\\ndef function1():\\n    def function2():\\n        print(a)\\n    function2()',\n",
       "  'function1()',\n",
       "  'print(a)',\n",
       "  'del(a)',\n",
       "  'print(a)',\n",
       "  'a = \"physics\"\\n\\ndef function_new():\\n    a = \"mathematics\"\\n    print(a)',\n",
       "  'function_new()',\n",
       "  'print(a)',\n",
       "  'a = \"physics\"\\n\\ndef function_new():\\n    # The global keyword makes the variable belong to the global scope\\n    global a \\n    a = \"mathematics\"\\n    print(a)',\n",
       "  'print(a)',\n",
       "  'function_new()',\n",
       "  'print(a)',\n",
       "  'globals()'],\n",
       " '_oh': {},\n",
       " '_dh': ['/Users/webb/Dropbox/Yachay_Tech/Docencia/Fisica_Computacional/Lectures/computational-physics-1/unit-3'],\n",
       " 'In': ['',\n",
       "  'def function1():\\n    a = \"physics\"\\n    print(a)',\n",
       "  'function1()',\n",
       "  'print(a)',\n",
       "  '#print(a) # This produces an error',\n",
       "  'def function1():\\n    a = \"physics\"\\n    def function2():\\n        print(a)\\n    function2()',\n",
       "  'function(1)',\n",
       "  'function1())',\n",
       "  'function1()',\n",
       "  'def function1():\\n    def function2():\\n        a = \"physics\"\\n        print(a)\\n    function2()',\n",
       "  'function1()',\n",
       "  'print(a)',\n",
       "  'def function1():\\n    def function2():\\n        a = \"physics\"\\n        print(a)\\n    function2()',\n",
       "  'a = \"physics\"\\n\\ndef function1():\\n    def function2():\\n        print(a)\\n    function2()',\n",
       "  'function1()',\n",
       "  'print(a)',\n",
       "  'del(a)',\n",
       "  'print(a)',\n",
       "  'a = \"physics\"\\n\\ndef function_new():\\n    a = \"mathematics\"\\n    print(a)',\n",
       "  'function_new()',\n",
       "  'print(a)',\n",
       "  'a = \"physics\"\\n\\ndef function_new():\\n    # The global keyword makes the variable belong to the global scope\\n    global a \\n    a = \"mathematics\"\\n    print(a)',\n",
       "  'print(a)',\n",
       "  'function_new()',\n",
       "  'print(a)',\n",
       "  'globals()'],\n",
       " 'Out': {},\n",
       " 'get_ipython': <bound method InteractiveShell.get_ipython of <ipykernel.zmqshell.ZMQInteractiveShell object at 0x10485bf50>>,\n",
       " 'exit': <IPython.core.autocall.ZMQExitAutocall at 0x1048e2f90>,\n",
       " 'quit': <IPython.core.autocall.ZMQExitAutocall at 0x1048e2f90>,\n",
       " '_': '',\n",
       " '__': '',\n",
       " '___': '',\n",
       " '_i': 'print(a)',\n",
       " '_ii': 'function_new()',\n",
       " '_iii': 'print(a)',\n",
       " '_i1': 'def function1():\\n    a = \"physics\"\\n    print(a)',\n",
       " 'function1': <function __main__.function1()>,\n",
       " '_i2': 'function1()',\n",
       " '_i3': 'print(a)',\n",
       " '_i4': '#print(a) # This produces an error',\n",
       " '_i5': 'def function1():\\n    a = \"physics\"\\n    def function2():\\n        print(a)\\n    function2()',\n",
       " '_i6': 'function(1)',\n",
       " '_i7': 'function1())',\n",
       " '_i8': 'function1()',\n",
       " '_i9': 'def function1():\\n    def function2():\\n        a = \"physics\"\\n        print(a)\\n    function2()',\n",
       " '_i10': 'function1()',\n",
       " '_i11': 'print(a)',\n",
       " '_i12': 'def function1():\\n    def function2():\\n        a = \"physics\"\\n        print(a)\\n    function2()',\n",
       " '_i13': 'a = \"physics\"\\n\\ndef function1():\\n    def function2():\\n        print(a)\\n    function2()',\n",
       " '_i14': 'function1()',\n",
       " '_i15': 'print(a)',\n",
       " '_i16': 'del(a)',\n",
       " '_i17': 'print(a)',\n",
       " '_i18': 'a = \"physics\"\\n\\ndef function_new():\\n    a = \"mathematics\"\\n    print(a)',\n",
       " 'a': 'mathematics',\n",
       " 'function_new': <function __main__.function_new()>,\n",
       " '_i19': 'function_new()',\n",
       " '_i20': 'print(a)',\n",
       " '_i21': 'a = \"physics\"\\n\\ndef function_new():\\n    # The global keyword makes the variable belong to the global scope\\n    global a \\n    a = \"mathematics\"\\n    print(a)',\n",
       " '_i22': 'print(a)',\n",
       " '_i23': 'function_new()',\n",
       " '_i24': 'print(a)',\n",
       " '_i25': 'globals()'}"
      ]
     },
     "execution_count": 25,
     "metadata": {},
     "output_type": "execute_result"
    }
   ],
   "source": [
    "globals()"
   ]
  },
  {
   "cell_type": "code",
   "execution_count": 26,
   "id": "7cbac661",
   "metadata": {},
   "outputs": [
    {
     "data": {
      "text/plain": [
       "{'__name__': '__main__',\n",
       " '__doc__': 'Automatically created module for IPython interactive environment',\n",
       " '__package__': None,\n",
       " '__loader__': None,\n",
       " '__spec__': None,\n",
       " '__builtin__': <module 'builtins' (built-in)>,\n",
       " '__builtins__': <module 'builtins' (built-in)>,\n",
       " '_ih': ['',\n",
       "  'def function1():\\n    a = \"physics\"\\n    print(a)',\n",
       "  'function1()',\n",
       "  'print(a)',\n",
       "  '#print(a) # This produces an error',\n",
       "  'def function1():\\n    a = \"physics\"\\n    def function2():\\n        print(a)\\n    function2()',\n",
       "  'function(1)',\n",
       "  'function1())',\n",
       "  'function1()',\n",
       "  'def function1():\\n    def function2():\\n        a = \"physics\"\\n        print(a)\\n    function2()',\n",
       "  'function1()',\n",
       "  'print(a)',\n",
       "  'def function1():\\n    def function2():\\n        a = \"physics\"\\n        print(a)\\n    function2()',\n",
       "  'a = \"physics\"\\n\\ndef function1():\\n    def function2():\\n        print(a)\\n    function2()',\n",
       "  'function1()',\n",
       "  'print(a)',\n",
       "  'del(a)',\n",
       "  'print(a)',\n",
       "  'a = \"physics\"\\n\\ndef function_new():\\n    a = \"mathematics\"\\n    print(a)',\n",
       "  'function_new()',\n",
       "  'print(a)',\n",
       "  'a = \"physics\"\\n\\ndef function_new():\\n    # The global keyword makes the variable belong to the global scope\\n    global a \\n    a = \"mathematics\"\\n    print(a)',\n",
       "  'print(a)',\n",
       "  'function_new()',\n",
       "  'print(a)',\n",
       "  'globals()',\n",
       "  'locals()'],\n",
       " '_oh': {25: {...}},\n",
       " '_dh': ['/Users/webb/Dropbox/Yachay_Tech/Docencia/Fisica_Computacional/Lectures/computational-physics-1/unit-3'],\n",
       " 'In': ['',\n",
       "  'def function1():\\n    a = \"physics\"\\n    print(a)',\n",
       "  'function1()',\n",
       "  'print(a)',\n",
       "  '#print(a) # This produces an error',\n",
       "  'def function1():\\n    a = \"physics\"\\n    def function2():\\n        print(a)\\n    function2()',\n",
       "  'function(1)',\n",
       "  'function1())',\n",
       "  'function1()',\n",
       "  'def function1():\\n    def function2():\\n        a = \"physics\"\\n        print(a)\\n    function2()',\n",
       "  'function1()',\n",
       "  'print(a)',\n",
       "  'def function1():\\n    def function2():\\n        a = \"physics\"\\n        print(a)\\n    function2()',\n",
       "  'a = \"physics\"\\n\\ndef function1():\\n    def function2():\\n        print(a)\\n    function2()',\n",
       "  'function1()',\n",
       "  'print(a)',\n",
       "  'del(a)',\n",
       "  'print(a)',\n",
       "  'a = \"physics\"\\n\\ndef function_new():\\n    a = \"mathematics\"\\n    print(a)',\n",
       "  'function_new()',\n",
       "  'print(a)',\n",
       "  'a = \"physics\"\\n\\ndef function_new():\\n    # The global keyword makes the variable belong to the global scope\\n    global a \\n    a = \"mathematics\"\\n    print(a)',\n",
       "  'print(a)',\n",
       "  'function_new()',\n",
       "  'print(a)',\n",
       "  'globals()',\n",
       "  'locals()'],\n",
       " 'Out': {25: {...}},\n",
       " 'get_ipython': <bound method InteractiveShell.get_ipython of <ipykernel.zmqshell.ZMQInteractiveShell object at 0x10485bf50>>,\n",
       " 'exit': <IPython.core.autocall.ZMQExitAutocall at 0x1048e2f90>,\n",
       " 'quit': <IPython.core.autocall.ZMQExitAutocall at 0x1048e2f90>,\n",
       " '_': {...},\n",
       " '__': '',\n",
       " '___': '',\n",
       " '_i': 'globals()',\n",
       " '_ii': 'print(a)',\n",
       " '_iii': 'function_new()',\n",
       " '_i1': 'def function1():\\n    a = \"physics\"\\n    print(a)',\n",
       " 'function1': <function __main__.function1()>,\n",
       " '_i2': 'function1()',\n",
       " '_i3': 'print(a)',\n",
       " '_i4': '#print(a) # This produces an error',\n",
       " '_i5': 'def function1():\\n    a = \"physics\"\\n    def function2():\\n        print(a)\\n    function2()',\n",
       " '_i6': 'function(1)',\n",
       " '_i7': 'function1())',\n",
       " '_i8': 'function1()',\n",
       " '_i9': 'def function1():\\n    def function2():\\n        a = \"physics\"\\n        print(a)\\n    function2()',\n",
       " '_i10': 'function1()',\n",
       " '_i11': 'print(a)',\n",
       " '_i12': 'def function1():\\n    def function2():\\n        a = \"physics\"\\n        print(a)\\n    function2()',\n",
       " '_i13': 'a = \"physics\"\\n\\ndef function1():\\n    def function2():\\n        print(a)\\n    function2()',\n",
       " '_i14': 'function1()',\n",
       " '_i15': 'print(a)',\n",
       " '_i16': 'del(a)',\n",
       " '_i17': 'print(a)',\n",
       " '_i18': 'a = \"physics\"\\n\\ndef function_new():\\n    a = \"mathematics\"\\n    print(a)',\n",
       " 'a': 'mathematics',\n",
       " 'function_new': <function __main__.function_new()>,\n",
       " '_i19': 'function_new()',\n",
       " '_i20': 'print(a)',\n",
       " '_i21': 'a = \"physics\"\\n\\ndef function_new():\\n    # The global keyword makes the variable belong to the global scope\\n    global a \\n    a = \"mathematics\"\\n    print(a)',\n",
       " '_i22': 'print(a)',\n",
       " '_i23': 'function_new()',\n",
       " '_i24': 'print(a)',\n",
       " '_i25': 'globals()',\n",
       " '_25': {...},\n",
       " '_i26': 'locals()'}"
      ]
     },
     "execution_count": 26,
     "metadata": {},
     "output_type": "execute_result"
    }
   ],
   "source": [
    "locals()"
   ]
  },
  {
   "cell_type": "code",
   "execution_count": 27,
   "id": "aa0b5862",
   "metadata": {},
   "outputs": [
    {
     "name": "stdout",
     "output_type": "stream",
     "text": [
      "Variable       Type        Data/Info\n",
      "------------------------------------\n",
      "a              str         mathematics\n",
      "function1      function    <function function1 at 0x1052063b0>\n",
      "function_new   function    <function function_new at 0x1049e79e0>\n"
     ]
    }
   ],
   "source": [
    "%whos"
   ]
  },
  {
   "cell_type": "code",
   "execution_count": 28,
   "id": "77d4ac56",
   "metadata": {},
   "outputs": [
    {
     "name": "stdout",
     "output_type": "stream",
     "text": [
      "mathematics\n"
     ]
    }
   ],
   "source": [
    "print(a)"
   ]
  },
  {
   "cell_type": "code",
   "execution_count": 29,
   "id": "4dd44021",
   "metadata": {},
   "outputs": [],
   "source": [
    "del a"
   ]
  },
  {
   "cell_type": "code",
   "execution_count": 30,
   "id": "d29338cd",
   "metadata": {},
   "outputs": [
    {
     "ename": "NameError",
     "evalue": "name 'a' is not defined",
     "output_type": "error",
     "traceback": [
      "\u001b[0;31m---------------------------------------------------------------------------\u001b[0m",
      "\u001b[0;31mNameError\u001b[0m                                 Traceback (most recent call last)",
      "\u001b[0;32m<ipython-input-30-bca0e2660b9f>\u001b[0m in \u001b[0;36m<module>\u001b[0;34m\u001b[0m\n\u001b[0;32m----> 1\u001b[0;31m \u001b[0mprint\u001b[0m\u001b[0;34m(\u001b[0m\u001b[0ma\u001b[0m\u001b[0;34m)\u001b[0m\u001b[0;34m\u001b[0m\u001b[0;34m\u001b[0m\u001b[0m\n\u001b[0m",
      "\u001b[0;31mNameError\u001b[0m: name 'a' is not defined"
     ]
    }
   ],
   "source": [
    "print(a)"
   ]
  },
  {
   "cell_type": "code",
   "execution_count": 31,
   "id": "7d5c994b",
   "metadata": {},
   "outputs": [
    {
     "name": "stdout",
     "output_type": "stream",
     "text": [
      "Variable       Type        Data/Info\n",
      "------------------------------------\n",
      "function1      function    <function function1 at 0x1052063b0>\n",
      "function_new   function    <function function_new at 0x1049e79e0>\n"
     ]
    }
   ],
   "source": [
    "%whos"
   ]
  },
  {
   "cell_type": "code",
   "execution_count": null,
   "id": "7bdf78b7",
   "metadata": {},
   "outputs": [],
   "source": []
  }
 ],
 "metadata": {
  "kernelspec": {
   "display_name": "Python 3",
   "language": "python",
   "name": "python3"
  },
  "language_info": {
   "codemirror_mode": {
    "name": "ipython",
    "version": 3
   },
   "file_extension": ".py",
   "mimetype": "text/x-python",
   "name": "python",
   "nbconvert_exporter": "python",
   "pygments_lexer": "ipython3",
   "version": "3.7.10"
  }
 },
 "nbformat": 4,
 "nbformat_minor": 5
}
