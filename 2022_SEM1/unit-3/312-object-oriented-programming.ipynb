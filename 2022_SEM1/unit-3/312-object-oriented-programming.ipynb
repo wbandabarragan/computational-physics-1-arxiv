{
 "cells": [
  {
   "cell_type": "markdown",
   "id": "af257dca",
   "metadata": {},
   "source": [
    "## 1. Creating classes:\n",
    "\n",
    "Let us create a class named **physics_courses**, with a property named **x1,2,3,4**:"
   ]
  },
  {
   "cell_type": "code",
   "execution_count": 1,
   "id": "d5a02912",
   "metadata": {},
   "outputs": [],
   "source": [
    "class physics_courses:\n",
    "    \n",
    "    # Properties/Attributes\n",
    "    x1 = \"computational physics\"\n",
    "    x2 = \"quantum mechanics II\"\n",
    "    x3 = \"solid state physics\"\n",
    "    x4 = \"electrodynamics II\""
   ]
  },
  {
   "cell_type": "markdown",
   "id": "eda90328",
   "metadata": {},
   "source": [
    "## 2. Creating objects:\n",
    "\n",
    "We can use the class named **physics_courses** to create objects:"
   ]
  },
  {
   "cell_type": "code",
   "execution_count": 2,
   "id": "eea8d4f3",
   "metadata": {},
   "outputs": [],
   "source": [
    "obj = physics_courses()"
   ]
  },
  {
   "cell_type": "code",
   "execution_count": 3,
   "id": "38728b3d",
   "metadata": {},
   "outputs": [
    {
     "name": "stdout",
     "output_type": "stream",
     "text": [
      "<__main__.physics_courses object at 0x1089c92d0>\n"
     ]
    }
   ],
   "source": [
    "print(obj)"
   ]
  },
  {
   "cell_type": "code",
   "execution_count": 4,
   "id": "9f4e9039",
   "metadata": {},
   "outputs": [
    {
     "name": "stdout",
     "output_type": "stream",
     "text": [
      "computational physics\n",
      "quantum mechanics II\n",
      "solid state physics\n",
      "electrodynamics II\n"
     ]
    }
   ],
   "source": [
    "print(obj.x1)\n",
    "print(obj.x2)\n",
    "print(obj.x3)\n",
    "print(obj.x4)"
   ]
  },
  {
   "cell_type": "markdown",
   "id": "f3e473e7",
   "metadata": {},
   "source": [
    "## 3. The \\_\\_init__() function\n",
    "\n",
    "- All classes have a function called **\\_\\_init__()**, which is always executed when the class is being initiated.\n",
    "\n",
    "\n",
    "- The __init__() function is used to assign values to the object properties, or define operations for them."
   ]
  },
  {
   "cell_type": "code",
   "execution_count": 5,
   "id": "ed53d562",
   "metadata": {},
   "outputs": [],
   "source": [
    "class physics_courses:\n",
    "    def __init__(self, course, grade):\n",
    "        self.course = course\n",
    "        self.grade  = grade"
   ]
  },
  {
   "cell_type": "markdown",
   "id": "de4550f0",
   "metadata": {},
   "source": [
    "We just created a class named **physics_courses**. The \\_\\_init__() function allows us to assign values for course and score:"
   ]
  },
  {
   "cell_type": "code",
   "execution_count": 6,
   "id": "15c8701d",
   "metadata": {},
   "outputs": [],
   "source": [
    "obj2 = physics_courses(\"computational physics\", 8) "
   ]
  },
  {
   "cell_type": "code",
   "execution_count": 7,
   "id": "93f16610",
   "metadata": {},
   "outputs": [
    {
     "name": "stdout",
     "output_type": "stream",
     "text": [
      "<__main__.physics_courses object at 0x10920ab10>\n"
     ]
    }
   ],
   "source": [
    "print(obj2)"
   ]
  },
  {
   "cell_type": "code",
   "execution_count": 8,
   "id": "0770fe20",
   "metadata": {},
   "outputs": [
    {
     "name": "stdout",
     "output_type": "stream",
     "text": [
      "computational physics\n",
      "8\n"
     ]
    }
   ],
   "source": [
    "print(obj2.course)\n",
    "\n",
    "print(obj2.grade)"
   ]
  },
  {
   "cell_type": "markdown",
   "id": "5874e80b",
   "metadata": {},
   "source": [
    "# Python Inheritance:\n",
    "\n",
    "- Inheritance allows us to define a new class that inherits all the methods and properties from another class.\n",
    "\n",
    "\n",
    "- **Base class:** is the class being inherited from.\n",
    "\n",
    "\n",
    "- **Derived class:** is the class that inherits from another class."
   ]
  },
  {
   "cell_type": "markdown",
   "id": "94536611",
   "metadata": {},
   "source": [
    "## 4. Creating **base** classes\n",
    "\n",
    "Any class can be a base class:\n"
   ]
  },
  {
   "cell_type": "code",
   "execution_count": 9,
   "id": "8ff5a23d",
   "metadata": {},
   "outputs": [],
   "source": [
    "# Create base class\n",
    "\n",
    "class physics_courses:\n",
    "    \n",
    "    # Define init function\n",
    "    def __init__(self, course, grade):\n",
    "        self.course = course\n",
    "        self.grade  = grade\n",
    "        \n",
    "    # Define a method\n",
    "    def print_course_info(self):\n",
    "        print(self.course, self.grade)\n",
    "  "
   ]
  },
  {
   "cell_type": "markdown",
   "id": "53b512bb",
   "metadata": {},
   "source": [
    "### Call class:"
   ]
  },
  {
   "cell_type": "code",
   "execution_count": 10,
   "id": "bf7b077d",
   "metadata": {},
   "outputs": [
    {
     "name": "stdout",
     "output_type": "stream",
     "text": [
      "quantum mechanics II 9\n"
     ]
    }
   ],
   "source": [
    "obj3 = physics_courses(\"quantum mechanics II\", 9)\n",
    "\n",
    "# Execute:\n",
    "\n",
    "obj3.print_course_info()"
   ]
  },
  {
   "cell_type": "markdown",
   "id": "2716be86",
   "metadata": {},
   "source": [
    "## 5. Creating derived classes\n",
    "\n",
    "To create a class that inherits the functionality from another class, wee can send the base class as a parameter when creating the derived. class.\n",
    "\n",
    "**Note:** We can use the **pass** keyword when we do NOT want to add any other properties or methods to the class."
   ]
  },
  {
   "cell_type": "code",
   "execution_count": 11,
   "id": "be9e48cc",
   "metadata": {},
   "outputs": [],
   "source": [
    "# Create class\n",
    "\n",
    "class all_courses(physics_courses):\n",
    "    pass"
   ]
  },
  {
   "cell_type": "markdown",
   "id": "1ccb7251",
   "metadata": {},
   "source": [
    "### Call base class:\n",
    "\n",
    "This should be exactly as the previous one, we do not want to add more attributes."
   ]
  },
  {
   "cell_type": "code",
   "execution_count": 12,
   "id": "15722a4e",
   "metadata": {},
   "outputs": [
    {
     "name": "stdout",
     "output_type": "stream",
     "text": [
      "quantum mechanics II 9\n"
     ]
    }
   ],
   "source": [
    "obj4 = physics_courses(\"quantum mechanics II\", 9)\n",
    "\n",
    "# Execute:\n",
    "\n",
    "obj4.print_course_info()"
   ]
  },
  {
   "cell_type": "markdown",
   "id": "2e6a7bdd",
   "metadata": {},
   "source": [
    "### Call derived class:"
   ]
  },
  {
   "cell_type": "code",
   "execution_count": 13,
   "id": "22d385c9",
   "metadata": {},
   "outputs": [
    {
     "name": "stdout",
     "output_type": "stream",
     "text": [
      "quantum mechanics II 9\n"
     ]
    }
   ],
   "source": [
    "obj5 = all_courses(\"quantum mechanics II\", 9)\n",
    "\n",
    "# Execute:\n",
    "\n",
    "obj5.print_course_info()"
   ]
  },
  {
   "cell_type": "markdown",
   "id": "dac4db38",
   "metadata": {},
   "source": [
    "## 6. Adding a customised \\_\\_init__() function\n",
    "\n",
    "\n",
    "- Derived classes inherit the properties and methods from the base class.\n",
    "\n",
    "\n",
    "- We want to add an \\_\\_init__() function to the derived class (instead of using the **pass** keyword).\n",
    "\n",
    "\n",
    "- The \\_\\_init__() function is called automatically every time the class is being used to create a new object.\n",
    "\n",
    "\n",
    "- When we add the \\_\\_init__() function, the derived class will no longer inherit the base's \\_\\_init__() function.\n",
    "\n",
    "\n",
    "- The \\_\\_init__() function of the derived class then overrides the inheritance of the base's \\_\\_init__() function."
   ]
  },
  {
   "cell_type": "code",
   "execution_count": 14,
   "id": "506e6251",
   "metadata": {},
   "outputs": [],
   "source": [
    "# Add a customised __init__() function to the former class:\n",
    "\n",
    "class all_courses6(physics_courses):\n",
    "    \n",
    "    # Define init function\n",
    "    def __init__(self, course, grade, average):\n",
    "        self.course  = course\n",
    "        self.grade   = grade\n",
    "        self.average = average"
   ]
  },
  {
   "cell_type": "code",
   "execution_count": 15,
   "id": "43297856",
   "metadata": {},
   "outputs": [
    {
     "name": "stdout",
     "output_type": "stream",
     "text": [
      "electrodynamics II 7.5\n"
     ]
    }
   ],
   "source": [
    "obj5 = all_courses(\"electrodynamics II\", 7.5)\n",
    "\n",
    "# Execute:\n",
    "\n",
    "obj5.print_course_info()"
   ]
  },
  {
   "cell_type": "code",
   "execution_count": 17,
   "id": "c4f97582",
   "metadata": {},
   "outputs": [
    {
     "name": "stdout",
     "output_type": "stream",
     "text": [
      "electrodynamics II 7.5\n"
     ]
    }
   ],
   "source": [
    "obj6 = all_courses6(\"electrodynamics II\", 7.5, 6)\n",
    "\n",
    "# Execute:\n",
    "\n",
    "obj6.print_course_info()"
   ]
  },
  {
   "cell_type": "markdown",
   "id": "7d9ecd50",
   "metadata": {},
   "source": [
    "## 7. Adding  new properties\n",
    "\n",
    "Add a property called **field** to the **physics_courses** class:\n",
    "\n",
    "### Note: The super() function can be used to keep the functionality of the original \\_\\_init__()\n",
    "\n",
    "\n",
    "- The super() function makes the derived class inherit all the methods and properties from the base class.\n",
    "\n",
    "\n",
    "- By using the super() function, we do not have to use the name of the base element as it automatically inherits the methods and properties from its base."
   ]
  },
  {
   "cell_type": "code",
   "execution_count": 18,
   "id": "34e64da0",
   "metadata": {},
   "outputs": [],
   "source": [
    "# Create new class\n",
    "\n",
    "class all_courses7(physics_courses):\n",
    "    \n",
    "    # Define init function\n",
    "    def __init__(self, course, grade, average, field_of_study):\n",
    "        \n",
    "        # Use super to keep inheritance\n",
    "        super().__init__(course, grade)\n",
    "        \n",
    "        # Add new properties to the derived class\n",
    "        self.average = average\n",
    "        self.field   = field_of_study  "
   ]
  },
  {
   "cell_type": "markdown",
   "id": "5e1433ed",
   "metadata": {},
   "source": [
    "### Call new class:"
   ]
  },
  {
   "cell_type": "code",
   "execution_count": 21,
   "id": "cdfcc773",
   "metadata": {},
   "outputs": [
    {
     "name": "stdout",
     "output_type": "stream",
     "text": [
      "computational physics 8\n"
     ]
    }
   ],
   "source": [
    "# Use the physics_courses class to create an object\n",
    "obj7 = all_courses7(\"computational physics\", 8, 9.2, \"elective course of physics\")\n",
    "\n",
    "# Execute the printname method:\n",
    "obj7.print_course_info()"
   ]
  },
  {
   "cell_type": "markdown",
   "id": "3fce9b0b",
   "metadata": {},
   "source": [
    "## 9. Adding  new methods\n",
    "\n",
    "Add a method called **print_allvalues** to the **physics_courses** class:"
   ]
  },
  {
   "cell_type": "code",
   "execution_count": 22,
   "id": "80f0356d",
   "metadata": {},
   "outputs": [],
   "source": [
    "class all_courses8(physics_courses):\n",
    "    \n",
    "    def __init__(self, course, grade, average, field_of_study):\n",
    "        \n",
    "        # Keep attributes from the base class\n",
    "        super().__init__(course, grade)\n",
    "        \n",
    "        #Add new attributes\n",
    "        self.average = average\n",
    "        self.field   = field_of_study         \n",
    "        \n",
    "    # Define new method:\n",
    "    \n",
    "    def print_allvalues(self):\n",
    "        print(self.course, self.grade, self.average, self.field)"
   ]
  },
  {
   "cell_type": "code",
   "execution_count": 23,
   "id": "97f85eb0",
   "metadata": {},
   "outputs": [
    {
     "name": "stdout",
     "output_type": "stream",
     "text": [
      "computational physics 8\n",
      "computational physics 8 9.2 elective course of physics\n"
     ]
    }
   ],
   "source": [
    "# Use the physics_courses class to create an object\n",
    "obj8 = all_courses8(\"computational physics\", 8, 9.2, \"elective course of physics\")\n",
    "\n",
    "# Execute the printname method:\n",
    "obj8.print_course_info()\n",
    "\n",
    "# Execure the new method:\n",
    "obj8.print_allvalues()"
   ]
  },
  {
   "cell_type": "markdown",
   "id": "143cec1d",
   "metadata": {},
   "source": [
    "###  Example 1: Create an Iterator\n",
    "\n",
    "- To create an object/class as an iterator we have to implement the methods \\_\\_iter__() and \\_\\_next__() to our object.\n",
    "\n",
    "- The \\_\\_iter__() method acts similarly to the \\_\\_init() as it can do operations (initializing etc.), but must always return the iterator object itself.\n",
    "\n",
    "- The \\_\\_next__() method also allows you to do operations, and must return the next item in the sequence."
   ]
  },
  {
   "cell_type": "code",
   "execution_count": 24,
   "id": "71b04848",
   "metadata": {},
   "outputs": [],
   "source": [
    "# Create an iterator class\n",
    "\n",
    "class Sequence:\n",
    "    \n",
    "    def __iter__(self):\n",
    "        # Define attribute to start from 1\n",
    "        self.x = 1\n",
    "        # Return it\n",
    "        return self\n",
    "    \n",
    "    def __next__(self):\n",
    "        y = self.x\n",
    "        # Build iterator adding +1\n",
    "        self.x += 1\n",
    "        # Return new value\n",
    "        return y"
   ]
  },
  {
   "cell_type": "code",
   "execution_count": 25,
   "id": "d5ffd2a9",
   "metadata": {},
   "outputs": [
    {
     "name": "stdout",
     "output_type": "stream",
     "text": [
      "1\n",
      "2\n",
      "3\n",
      "4\n",
      "5\n",
      "6\n",
      "7\n",
      "8\n",
      "9\n",
      "10\n"
     ]
    }
   ],
   "source": [
    "result = Sequence()\n",
    "iterations = iter(result)\n",
    "\n",
    "print(next(iterations))\n",
    "print(next(iterations))\n",
    "print(next(iterations))\n",
    "print(next(iterations))\n",
    "print(next(iterations))\n",
    "print(next(iterations))\n",
    "print(next(iterations))\n",
    "print(next(iterations))\n",
    "print(next(iterations))\n",
    "print(next(iterations))"
   ]
  }
 ],
 "metadata": {
  "kernelspec": {
   "display_name": "Python 3",
   "language": "python",
   "name": "python3"
  },
  "language_info": {
   "codemirror_mode": {
    "name": "ipython",
    "version": 3
   },
   "file_extension": ".py",
   "mimetype": "text/x-python",
   "name": "python",
   "nbconvert_exporter": "python",
   "pygments_lexer": "ipython3",
   "version": "3.7.10"
  }
 },
 "nbformat": 4,
 "nbformat_minor": 5
}
