{
 "cells": [
  {
   "cell_type": "markdown",
   "id": "a478c777",
   "metadata": {},
   "source": [
    "# Integrals on the grid \n",
    "\n",
    "When analysing meshes, integrals always become sums over indices.\n",
    "\n",
    "$\\int$ -> $\\sum$\n",
    "\n",
    "\n",
    "## Exercise:\n",
    "\n",
    "Let's compute some integrated quantities from a 3D wind-cloud simulation, which you can find in Google Drive:\n",
    "\n",
    "https://drive.google.com/drive/folders/13H5bGBQh5UKo2U519praAXAUiYYrugb6?usp=sharing"
   ]
  },
  {
   "cell_type": "code",
   "execution_count": 1,
   "id": "8486a0e9",
   "metadata": {},
   "outputs": [],
   "source": [
    "import numpy as np\n",
    "import matplotlib.pyplot as plt\n",
    "import pyvista as pv"
   ]
  },
  {
   "cell_type": "markdown",
   "id": "7c46333c",
   "metadata": {},
   "source": [
    "#### 1. Read mesh:"
   ]
  },
  {
   "cell_type": "code",
   "execution_count": 3,
   "id": "b84c57cb",
   "metadata": {},
   "outputs": [],
   "source": [
    "mesh = pv.read(\"/Users/webb/Dropbox/Yachay_Tech/Docencia/Fisica_Computacional/Wind-Cloud-MHD-Al/data.0000.vtk\")"
   ]
  },
  {
   "cell_type": "markdown",
   "id": "25dea412",
   "metadata": {},
   "source": [
    "#### 2. Check mesh contents:"
   ]
  },
  {
   "cell_type": "code",
   "execution_count": 4,
   "id": "9576ad13",
   "metadata": {},
   "outputs": [
    {
     "name": "stdout",
     "output_type": "stream",
     "text": [
      "RectilinearGrid (0x12483c1a0)\n",
      "  N Cells:\t1769472\n",
      "  N Points:\t1815937\n",
      "  X Bounds:\t-6.000e+00, 6.000e+00\n",
      "  Y Bounds:\t-2.000e+00, 2.200e+01\n",
      "  Z Bounds:\t-6.000e+00, 6.000e+00\n",
      "  Dimensions:\t97, 193, 97\n",
      "  N Arrays:\t9\n",
      "\n"
     ]
    }
   ],
   "source": [
    "print(mesh)"
   ]
  },
  {
   "cell_type": "code",
   "execution_count": 5,
   "id": "4eeedcb0",
   "metadata": {},
   "outputs": [
    {
     "name": "stdout",
     "output_type": "stream",
     "text": [
      "(97, 193, 97)\n"
     ]
    }
   ],
   "source": [
    "print(mesh.dimensions)"
   ]
  },
  {
   "cell_type": "code",
   "execution_count": 6,
   "id": "ad3a621c",
   "metadata": {},
   "outputs": [
    {
     "name": "stdout",
     "output_type": "stream",
     "text": [
      "1769472\n"
     ]
    }
   ],
   "source": [
    "print(mesh.n_cells)"
   ]
  },
  {
   "cell_type": "code",
   "execution_count": 7,
   "id": "120473ca",
   "metadata": {},
   "outputs": [
    {
     "name": "stdout",
     "output_type": "stream",
     "text": [
      "9\n"
     ]
    }
   ],
   "source": [
    "print(mesh.n_arrays)"
   ]
  },
  {
   "cell_type": "code",
   "execution_count": 8,
   "id": "f265a6ce",
   "metadata": {},
   "outputs": [
    {
     "name": "stdout",
     "output_type": "stream",
     "text": [
      "[0.0, 10.0, 0.0]\n"
     ]
    }
   ],
   "source": [
    "print(mesh.center)"
   ]
  },
  {
   "cell_type": "markdown",
   "id": "d0b125ab",
   "metadata": {},
   "source": [
    "#### 3. Check mesh arrays:"
   ]
  },
  {
   "cell_type": "code",
   "execution_count": 9,
   "id": "50343521",
   "metadata": {},
   "outputs": [
    {
     "name": "stdout",
     "output_type": "stream",
     "text": [
      "pyvista DataSetAttributes\n",
      "Association     : CELL\n",
      "Active Scalars  : rho\n",
      "Active Vectors  : None\n",
      "Active Texture  : None\n",
      "Active Normals  : None\n",
      "Contains arrays :\n",
      "    rho                     float32  (1769472,)           SCALARS\n",
      "    vx1                     float32  (1769472,)\n",
      "    vx2                     float32  (1769472,)\n",
      "    vx3                     float32  (1769472,)\n",
      "    Bx1                     float32  (1769472,)\n",
      "    Bx2                     float32  (1769472,)\n",
      "    Bx3                     float32  (1769472,)\n",
      "    prs                     float32  (1769472,)\n",
      "    tr1                     float32  (1769472,)\n"
     ]
    }
   ],
   "source": [
    "print(mesh.cell_data)"
   ]
  },
  {
   "cell_type": "markdown",
   "id": "45212488",
   "metadata": {},
   "source": [
    "#### 4. Read the density and pigment arrays:"
   ]
  },
  {
   "cell_type": "code",
   "execution_count": 10,
   "id": "0ace34fe",
   "metadata": {},
   "outputs": [],
   "source": [
    "# Density\n",
    "rho = pv.get_array(mesh, \"rho\", preference = \"cell\")\n",
    "\n",
    "# Pigment\n",
    "tr1 = pv.get_array(mesh, \"tr1\", preference = \"cell\")"
   ]
  },
  {
   "cell_type": "code",
   "execution_count": 11,
   "id": "71ec6c73",
   "metadata": {},
   "outputs": [
    {
     "name": "stdout",
     "output_type": "stream",
     "text": [
      "(1769472,)\n"
     ]
    }
   ],
   "source": [
    "print(rho.shape)"
   ]
  },
  {
   "cell_type": "code",
   "execution_count": 12,
   "id": "43e01e35",
   "metadata": {},
   "outputs": [
    {
     "name": "stdout",
     "output_type": "stream",
     "text": [
      "96\n"
     ]
    }
   ],
   "source": [
    "print(mesh.dimensions[2] - 1)"
   ]
  },
  {
   "cell_type": "markdown",
   "id": "3ac41392",
   "metadata": {},
   "source": [
    "#### 5. Convert arrays from 1D to 3D:"
   ]
  },
  {
   "cell_type": "code",
   "execution_count": 13,
   "id": "401a0d8d",
   "metadata": {},
   "outputs": [
    {
     "name": "stdout",
     "output_type": "stream",
     "text": [
      "(97, 193, 97)\n"
     ]
    }
   ],
   "source": [
    "print(mesh.dimensions)"
   ]
  },
  {
   "cell_type": "code",
   "execution_count": 14,
   "id": "71434616",
   "metadata": {},
   "outputs": [],
   "source": [
    "rho3D = rho.reshape(mesh.dimensions[0] - 1, mesh.dimensions[1] - 1, mesh.dimensions[2] - 1)\n",
    "\n",
    "tr13D = tr1.reshape(mesh.dimensions[0] - 1, mesh.dimensions[1] - 1, mesh.dimensions[2] - 1)"
   ]
  },
  {
   "cell_type": "code",
   "execution_count": 15,
   "id": "1adae257",
   "metadata": {},
   "outputs": [
    {
     "name": "stdout",
     "output_type": "stream",
     "text": [
      "(96, 192, 96)\n"
     ]
    }
   ],
   "source": [
    "print(rho3D.shape)"
   ]
  },
  {
   "cell_type": "markdown",
   "id": "0cfb4688",
   "metadata": {},
   "source": [
    "#### 6. Slice 3D data:"
   ]
  },
  {
   "cell_type": "code",
   "execution_count": 16,
   "id": "cb4030eb",
   "metadata": {},
   "outputs": [],
   "source": [
    "rho2D_48 = rho3D[48, :, :]\n",
    "tr12D_48 = tr13D[48, :, :]"
   ]
  },
  {
   "cell_type": "code",
   "execution_count": 17,
   "id": "7baeb788",
   "metadata": {},
   "outputs": [
    {
     "name": "stdout",
     "output_type": "stream",
     "text": [
      "(192, 96)\n"
     ]
    }
   ],
   "source": [
    "print(rho2D_48.shape)"
   ]
  },
  {
   "cell_type": "code",
   "execution_count": 18,
   "id": "8ff56067",
   "metadata": {},
   "outputs": [
    {
     "data": {
      "text/plain": [
       "<matplotlib.image.AxesImage at 0x12c212c50>"
      ]
     },
     "execution_count": 18,
     "metadata": {},
     "output_type": "execute_result"
    },
    {
     "data": {
      "image/png": "[encoded data removed]",
      "text/plain": [
       "<Figure size 432x288 with 1 Axes>"
      ]
     },
     "metadata": {
      "needs_background": "light"
     },
     "output_type": "display_data"
    }
   ],
   "source": [
    "# Python reverses the axes:\n",
    "\n",
    "%matplotlib inline\n",
    "\n",
    "plt.imshow(rho2D_48)"
   ]
  },
  {
   "cell_type": "markdown",
   "id": "79267d8e",
   "metadata": {},
   "source": [
    "#### 7. Create coordinate vectors for mesh grid"
   ]
  },
  {
   "cell_type": "code",
   "execution_count": 19,
   "id": "d432d42e",
   "metadata": {},
   "outputs": [
    {
     "name": "stdout",
     "output_type": "stream",
     "text": [
      "-6.0\n",
      "6.0\n",
      "-2.0\n",
      "22.0\n",
      "-6.0\n",
      "6.0\n"
     ]
    }
   ],
   "source": [
    "# Print mesh bounds:\n",
    "\n",
    "print(mesh.bounds[0])\n",
    "print(mesh.bounds[1])\n",
    "print(mesh.bounds[2])\n",
    "print(mesh.bounds[3])\n",
    "print(mesh.bounds[4])\n",
    "print(mesh.bounds[5])"
   ]
  },
  {
   "cell_type": "code",
   "execution_count": 20,
   "id": "955daf6c",
   "metadata": {},
   "outputs": [],
   "source": [
    "# Get coordinates - first manner:\n",
    "x = np.linspace(mesh.bounds[0], mesh.bounds[1], mesh.dimensions[0] - 1)\n",
    "y = np.linspace(mesh.bounds[2], mesh.bounds[3], mesh.dimensions[1] - 1)\n",
    "z = np.linspace(mesh.bounds[4], mesh.bounds[5], mesh.dimensions[2] - 1)\n",
    "\n",
    "# Get coordinates - second manner:\n",
    "xx = np.linspace(mesh.bounds[0], mesh.bounds[1], (mesh.dimensions[0]))\n",
    "yy = np.linspace(mesh.bounds[2], mesh.bounds[3], (mesh.dimensions[1]))\n",
    "zz = np.linspace(mesh.bounds[4], mesh.bounds[5], (mesh.dimensions[2]))"
   ]
  },
  {
   "cell_type": "code",
   "execution_count": 21,
   "id": "c3c01b6d",
   "metadata": {},
   "outputs": [
    {
     "name": "stdout",
     "output_type": "stream",
     "text": [
      "0.1263157894736846 0.12565445026178002 0.1263157894736846\n"
     ]
    }
   ],
   "source": [
    "# Get dx, dy, dz\n",
    "\n",
    "dx = x[1] - x[0]\n",
    "dy = y[1] - y[0]\n",
    "dz = z[1] - z[0]\n",
    "\n",
    "print(dx, dy, dz)\n",
    "\n",
    "# We can see below that this results in a non-evenly spaced grid"
   ]
  },
  {
   "cell_type": "code",
   "execution_count": 22,
   "id": "9aabec36",
   "metadata": {},
   "outputs": [
    {
     "name": "stdout",
     "output_type": "stream",
     "text": [
      "0.125 0.125 0.125\n"
     ]
    }
   ],
   "source": [
    "# Get dx, dy, dz\n",
    "\n",
    "dxx = xx[1] - xx[0]\n",
    "dyy = yy[1] - yy[0]\n",
    "dzz = zz[1] - zz[0]\n",
    "\n",
    "print(dxx, dyy, dzz)\n",
    "\n",
    "# We can see below that this results in an evenly spaced grid"
   ]
  },
  {
   "cell_type": "markdown",
   "id": "6dbbd532",
   "metadata": {},
   "source": [
    "#### 8. Create mesh grid:"
   ]
  },
  {
   "cell_type": "code",
   "execution_count": 23,
   "id": "28af25a6",
   "metadata": {},
   "outputs": [],
   "source": [
    "X, Y = np.meshgrid(xx, yy)"
   ]
  },
  {
   "cell_type": "code",
   "execution_count": 24,
   "id": "12d63c72",
   "metadata": {},
   "outputs": [
    {
     "name": "stdout",
     "output_type": "stream",
     "text": [
      "(193, 97)\n",
      "(193, 97)\n"
     ]
    }
   ],
   "source": [
    "print(X.shape)\n",
    "print(Y.shape)"
   ]
  },
  {
   "cell_type": "markdown",
   "id": "efbe563f",
   "metadata": {},
   "source": [
    "#### 9. Plot mid-plane slice:"
   ]
  },
  {
   "cell_type": "code",
   "execution_count": 25,
   "id": "f05e3e35",
   "metadata": {},
   "outputs": [
    {
     "data": {
      "image/png": "[encoded data removed]",
      "text/plain": [
       "<Figure size 432x720 with 2 Axes>"
      ]
     },
     "metadata": {
      "needs_background": "light"
     },
     "output_type": "display_data"
    }
   ],
   "source": [
    "plt.figure(figsize = (6, 10))\n",
    "\n",
    "Z = plt.pcolor(X, Y, np.log10(rho2D_48), shading='auto')\n",
    "\n",
    "plt.colorbar(Z)\n",
    "\n",
    "plt.show()"
   ]
  },
  {
   "cell_type": "code",
   "execution_count": 26,
   "id": "ebce8b1c",
   "metadata": {},
   "outputs": [
    {
     "data": {
      "image/png": "[encoded data removed]",
      "text/plain": [
       "<Figure size 432x720 with 2 Axes>"
      ]
     },
     "metadata": {
      "needs_background": "light"
     },
     "output_type": "display_data"
    }
   ],
   "source": [
    "plt.figure(figsize = (6, 10))\n",
    "\n",
    "Z = plt.pcolor(X, Y, tr12D_48, shading='auto', cmap = 'Reds')\n",
    "\n",
    "plt.colorbar(Z)\n",
    "\n",
    "plt.show()"
   ]
  },
  {
   "cell_type": "markdown",
   "id": "5668297e",
   "metadata": {},
   "source": [
    "#### 9. Plot first-plane slice:"
   ]
  },
  {
   "cell_type": "code",
   "execution_count": 27,
   "id": "269fa840",
   "metadata": {},
   "outputs": [],
   "source": [
    "rho2D_00 = rho3D[0, :, :]\n",
    "tr12D_00 = tr13D[0, :, :]"
   ]
  },
  {
   "cell_type": "code",
   "execution_count": 28,
   "id": "212cbab8",
   "metadata": {},
   "outputs": [
    {
     "data": {
      "image/png": "[encoded data removed]",
      "text/plain": [
       "<Figure size 432x720 with 2 Axes>"
      ]
     },
     "metadata": {
      "needs_background": "light"
     },
     "output_type": "display_data"
    }
   ],
   "source": [
    "plt.figure(figsize = (6, 10))\n",
    "\n",
    "Z = plt.pcolor(X, Y, np.log10(rho2D_00), shading='auto')\n",
    "\n",
    "plt.colorbar(Z)\n",
    "\n",
    "plt.show()"
   ]
  },
  {
   "cell_type": "code",
   "execution_count": 29,
   "id": "69904821",
   "metadata": {},
   "outputs": [
    {
     "data": {
      "image/png": "[encoded data removed]",
      "text/plain": [
       "<Figure size 432x720 with 2 Axes>"
      ]
     },
     "metadata": {
      "needs_background": "light"
     },
     "output_type": "display_data"
    }
   ],
   "source": [
    "plt.figure(figsize = (6, 10))\n",
    "\n",
    "Z = plt.pcolor(X, Y, tr12D_00, shading='auto', cmap = 'Reds')\n",
    "\n",
    "plt.colorbar(Z)\n",
    "\n",
    "plt.show()"
   ]
  },
  {
   "cell_type": "markdown",
   "id": "ebf8fc30",
   "metadata": {},
   "source": [
    "## Integrated quantities\n",
    "\n",
    "### Example 1:\n",
    "\n",
    "Compute the mass:\n",
    "\n",
    "$M = \\int\\int\\int \\rho\\,dV = \\sum_i \\sum_j \\sum_k \\rho_{i,j,k}\\Delta V_{i,j,k}$\n",
    "\n",
    "The grid is uniform:\n",
    "\n",
    "$M = \\int\\int\\int \\rho\\,dV = \\Delta V\\,\\sum_i \\sum_j \\sum_k \\rho_{i,j,k}$\n",
    "\n",
    "$M = \\Delta x^3\\,\\sum_i \\sum_j \\sum_k \\rho_{i,j,k}$"
   ]
  },
  {
   "cell_type": "code",
   "execution_count": 30,
   "id": "24ac821c",
   "metadata": {},
   "outputs": [
    {
     "name": "stdout",
     "output_type": "stream",
     "text": [
      "0.125 0.125 0.125\n"
     ]
    }
   ],
   "source": [
    "# Delta x\n",
    "\n",
    "print(dxx, dyy, dzz)"
   ]
  },
  {
   "cell_type": "code",
   "execution_count": 31,
   "id": "9b42c856",
   "metadata": {},
   "outputs": [],
   "source": [
    "# mass - first manner\n",
    "\n",
    "total_mass = np.sum(rho3D)*dxx**3"
   ]
  },
  {
   "cell_type": "code",
   "execution_count": 32,
   "id": "95bf4d0f",
   "metadata": {},
   "outputs": [
    {
     "name": "stdout",
     "output_type": "stream",
     "text": [
      "406.5387878417969\n"
     ]
    }
   ],
   "source": [
    "print(total_mass)"
   ]
  },
  {
   "cell_type": "code",
   "execution_count": 33,
   "id": "1295b22c",
   "metadata": {},
   "outputs": [],
   "source": [
    "# mass - second manner\n",
    "\n",
    "total_mass1 = (dxx**3)*np.sum(np.sum(np.sum(rho3D, axis = 2), axis =1), axis = 0)"
   ]
  },
  {
   "cell_type": "code",
   "execution_count": 34,
   "id": "f55bf28c",
   "metadata": {},
   "outputs": [
    {
     "name": "stdout",
     "output_type": "stream",
     "text": [
      "406.53814697265625\n"
     ]
    }
   ],
   "source": [
    "print(total_mass1)"
   ]
  },
  {
   "cell_type": "markdown",
   "id": "6a053aa9",
   "metadata": {},
   "source": [
    "### Example 2:\n",
    "\n",
    "Compute the column density and plot the map:\n",
    "\n",
    "$\\rho_A = \\int \\rho\\,dy = \\sum_j \\rho_{i,j,k}\\Delta y$\n",
    "\n",
    "The grid is uniform:\n",
    "\n",
    "$\\rho_A = \\Delta y\\, \\sum_j \\rho_{i,j,k}$"
   ]
  },
  {
   "cell_type": "code",
   "execution_count": 35,
   "id": "9fc013bb",
   "metadata": {},
   "outputs": [],
   "source": [
    "# Projected 2D density:\n",
    "\n",
    "rho_A = dyy*np.sum(rho3D, axis = 1)"
   ]
  },
  {
   "cell_type": "code",
   "execution_count": 36,
   "id": "0fdfa326",
   "metadata": {},
   "outputs": [
    {
     "name": "stdout",
     "output_type": "stream",
     "text": [
      "(96, 96)\n"
     ]
    }
   ],
   "source": [
    "print(rho_A.shape)"
   ]
  },
  {
   "cell_type": "code",
   "execution_count": 37,
   "id": "003c274f",
   "metadata": {},
   "outputs": [
    {
     "data": {
      "image/png": "[encoded data removed]",
      "text/plain": [
       "<Figure size 720x720 with 1 Axes>"
      ]
     },
     "metadata": {
      "needs_background": "light"
     },
     "output_type": "display_data"
    }
   ],
   "source": [
    "# Plotting the map:\n",
    "\n",
    "#plt.imshow(rho_A)\n",
    "\n",
    "plt.figure(figsize = (10, 10))\n",
    "\n",
    "plt.imshow(rho_A)\n",
    "\n",
    "plt.show()"
   ]
  },
  {
   "cell_type": "markdown",
   "id": "277dbbe2",
   "metadata": {},
   "source": [
    "### Example 3:\n",
    "\n",
    "Compute the linear density and plot it:\n",
    "\n",
    "$\\rho_l = \\int \\rho\\,dy\\,dz$"
   ]
  },
  {
   "cell_type": "code",
   "execution_count": 38,
   "id": "0bd30df5",
   "metadata": {},
   "outputs": [],
   "source": [
    "# Projected linear density:\n",
    "\n",
    "rho_l = dyy**2*np.sum(np.sum(rho3D, axis = 1), axis = 0)"
   ]
  },
  {
   "cell_type": "code",
   "execution_count": 39,
   "id": "46735dc5",
   "metadata": {},
   "outputs": [
    {
     "name": "stdout",
     "output_type": "stream",
     "text": [
      "(96,)\n"
     ]
    }
   ],
   "source": [
    "print(rho_l.shape)"
   ]
  },
  {
   "cell_type": "code",
   "execution_count": 40,
   "id": "8be983f8",
   "metadata": {},
   "outputs": [
    {
     "data": {
      "text/plain": [
       "[<matplotlib.lines.Line2D at 0x12c86b8d0>]"
      ]
     },
     "execution_count": 40,
     "metadata": {},
     "output_type": "execute_result"
    },
    {
     "data": {
      "image/png": "[encoded data removed]",
      "text/plain": [
       "<Figure size 432x288 with 1 Axes>"
      ]
     },
     "metadata": {
      "needs_background": "light"
     },
     "output_type": "display_data"
    }
   ],
   "source": [
    "# Linear density plot:\n",
    "\n",
    "plt.plot(rho_l)"
   ]
  },
  {
   "cell_type": "markdown",
   "id": "fea6c185",
   "metadata": {},
   "source": [
    "### Example 4:  Centre of mass\n",
    "\n",
    "Compute the centre of mass considering all the gas in the computational domain:\n",
    "\n",
    "\n",
    "$cm_x = \\frac{\\int \\rho\\,x\\,dV}{\\int \\rho\\,dV}$\n",
    "\n",
    "$cm_y = \\frac{\\int \\rho\\,y\\,dV}{\\int \\rho\\,dV}$\n",
    "\n",
    "$cm_z = \\frac{\\int \\rho\\,z\\,dV}{\\int \\rho\\,dV}$\n"
   ]
  },
  {
   "cell_type": "code",
   "execution_count": 41,
   "id": "dadf506e",
   "metadata": {},
   "outputs": [],
   "source": [
    "cmx = np.sum(np.sum(np.sum(rho3D,axis=2),axis=1)*(x))/np.sum(rho3D) \n",
    "\n",
    "cmy = np.sum(np.sum(np.sum(rho3D,axis=2),axis=0)*(y))/np.sum(rho3D) \n",
    "\n",
    "cmz = np.sum(np.sum(np.sum(rho3D,axis=1),axis=0)*(z))/np.sum(rho3D) "
   ]
  },
  {
   "cell_type": "code",
   "execution_count": 42,
   "id": "8108813d",
   "metadata": {},
   "outputs": [
    {
     "name": "stdout",
     "output_type": "stream",
     "text": [
      "1.7477858374404495e-16 8.493178390076352 2.4469001724166293e-16\n"
     ]
    }
   ],
   "source": [
    "print(cmx, cmy, cmz)"
   ]
  },
  {
   "cell_type": "markdown",
   "id": "e7d46aa7",
   "metadata": {},
   "source": [
    "### Example 5:  Cloud centre of mass\n",
    "\n",
    "Compute the cloud's centre of mass considering only cloud gas in the computational domain:\n",
    "\n",
    "**Hint:** Remember that cloud gas is tracked by a pigment (array tr1).\n",
    "\n",
    "\n",
    "$cm_x = \\frac{\\int \\rho\\, C\\,x\\,dV}{\\int \\rho\\,C\\,dV}$\n",
    "\n",
    "$cm_y = \\frac{\\int \\rho\\, C\\,y\\,dV}{\\int \\rho\\,C\\,dV}$\n",
    "\n",
    "$cm_z = \\frac{\\int \\rho\\, C\\,z\\,dV}{\\int \\rho\\,C\\,dV}$\n"
   ]
  },
  {
   "cell_type": "code",
   "execution_count": 43,
   "id": "275db2b1",
   "metadata": {},
   "outputs": [],
   "source": [
    "x_mid = 0.5*(xx[1:] + xx[:-1])\n",
    "y_mid = 0.5*(yy[1:] + yy[:-1])\n",
    "z_mid = 0.5*(zz[1:] + zz[:-1])"
   ]
  },
  {
   "cell_type": "markdown",
   "id": "42bed9da",
   "metadata": {},
   "source": [
    "#### Using x, y, z, we get a small deviation from zero at t=0:"
   ]
  },
  {
   "cell_type": "code",
   "execution_count": 44,
   "id": "21c10000",
   "metadata": {},
   "outputs": [],
   "source": [
    "#Centre of mass - first\n",
    "\n",
    "cmx_c = np.sum(np.sum(np.sum(rho3D*tr13D,axis=2),axis=1)*(x))/np.sum(rho3D*tr13D)\n",
    "cmy_c = np.sum(np.sum(np.sum(rho3D*tr13D,axis=2),axis=0)*(y))/np.sum(rho3D*tr13D)\n",
    "cmz_c = np.sum(np.sum(np.sum(rho3D*tr13D,axis=1),axis=0)*(z))/np.sum(rho3D*tr13D) "
   ]
  },
  {
   "cell_type": "code",
   "execution_count": 45,
   "id": "862baf00",
   "metadata": {},
   "outputs": [
    {
     "name": "stdout",
     "output_type": "stream",
     "text": [
      "1.886633608487478e-16 -0.05235602422811987 1.7415079462961335e-16\n"
     ]
    }
   ],
   "source": [
    "print(cmx_c, cmy_c, cmz_c)"
   ]
  },
  {
   "cell_type": "markdown",
   "id": "17b60ea6",
   "metadata": {},
   "source": [
    "#### Using x, y, z, we get the correct position at t=0:"
   ]
  },
  {
   "cell_type": "code",
   "execution_count": 46,
   "id": "ef04a59d",
   "metadata": {},
   "outputs": [],
   "source": [
    "#Centre of mass - second\n",
    "\n",
    "cmx_c2 = np.sum(np.sum(np.sum(rho3D*tr13D,axis=2),axis=1)*(x_mid))/np.sum(rho3D*tr13D)\n",
    "cmy_c2 = np.sum(np.sum(np.sum(rho3D*tr13D,axis=2),axis=0)*(y_mid))/np.sum(rho3D*tr13D)\n",
    "cmz_c2 = np.sum(np.sum(np.sum(rho3D*tr13D,axis=1),axis=0)*(z_mid))/np.sum(rho3D*tr13D) "
   ]
  },
  {
   "cell_type": "code",
   "execution_count": 47,
   "id": "bbfc2756",
   "metadata": {},
   "outputs": [
    {
     "name": "stdout",
     "output_type": "stream",
     "text": [
      "0.0 0.0 0.0\n"
     ]
    }
   ],
   "source": [
    "print(cmx_c2, cmy_c2, cmz_c2)"
   ]
  },
  {
   "cell_type": "markdown",
   "id": "5d705644",
   "metadata": {},
   "source": [
    "### Centre of mass of the rho2D_48 slice"
   ]
  },
  {
   "cell_type": "code",
   "execution_count": 59,
   "id": "9b00d86d",
   "metadata": {},
   "outputs": [
    {
     "name": "stdout",
     "output_type": "stream",
     "text": [
      "(192, 96)\n",
      "(192, 96)\n",
      "(96,)\n"
     ]
    }
   ],
   "source": [
    "print(rho2D_48.shape)\n",
    "print(tr12D_48.shape)\n",
    "print(x_mid.shape)"
   ]
  },
  {
   "cell_type": "code",
   "execution_count": 60,
   "id": "2b5c3b2e",
   "metadata": {},
   "outputs": [],
   "source": [
    "cx_2D = np.sum(np.sum(rho2D_48*tr12D_48,axis=0)*(x_mid))/np.sum(rho2D_48*tr12D_48)\n",
    "cy_2D = np.sum(np.sum(rho2D_48*tr12D_48,axis=1)*(y_mid))/np.sum(rho2D_48*tr12D_48)"
   ]
  },
  {
   "cell_type": "code",
   "execution_count": 61,
   "id": "048bcfcd",
   "metadata": {},
   "outputs": [
    {
     "name": "stdout",
     "output_type": "stream",
     "text": [
      "0.0 0.0\n"
     ]
    }
   ],
   "source": [
    "print(cx_2D, cy_2D)"
   ]
  },
  {
   "cell_type": "code",
   "execution_count": null,
   "id": "1ef777c1",
   "metadata": {},
   "outputs": [],
   "source": []
  }
 ],
 "metadata": {
  "kernelspec": {
   "display_name": "Python 3",
   "language": "python",
   "name": "python3"
  },
  "language_info": {
   "codemirror_mode": {
    "name": "ipython",
    "version": 3
   },
   "file_extension": ".py",
   "mimetype": "text/x-python",
   "name": "python",
   "nbconvert_exporter": "python",
   "pygments_lexer": "ipython3",
   "version": "3.7.10"
  }
 },
 "nbformat": 4,
 "nbformat_minor": 5
}
