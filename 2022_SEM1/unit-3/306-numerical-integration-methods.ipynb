{
 "cells": [
  {
   "cell_type": "markdown",
   "id": "596d347f",
   "metadata": {},
   "source": [
    "# Numerical Integration"
   ]
  },
  {
   "cell_type": "markdown",
   "id": "5c22b9e4",
   "metadata": {},
   "source": [
    "### Example:\n",
    "\n",
    "Calculate the integral of:\n",
    "\n",
    "$f(x) = \\int_0^{\\pi}\\sin(x)\\,dx$ "
   ]
  },
  {
   "cell_type": "code",
   "execution_count": 1,
   "id": "9c7e87ab",
   "metadata": {},
   "outputs": [],
   "source": [
    "import numpy as np\n",
    "import matplotlib.pyplot as plt\n",
    "from sympy import *\n",
    "import sympy as sp"
   ]
  },
  {
   "cell_type": "markdown",
   "id": "8b0118d9",
   "metadata": {},
   "source": [
    "## 1. Using sympy (symbolic algebra):\n",
    "\n",
    "We can use the integrate() function to calculate both the undefined and defined integral of analytical functions:\n",
    "\n",
    "https://docs.sympy.org/latest/modules/integrals/integrals.html\n"
   ]
  },
  {
   "cell_type": "code",
   "execution_count": 2,
   "id": "6af11362",
   "metadata": {},
   "outputs": [
    {
     "name": "stdout",
     "output_type": "stream",
     "text": [
      "-cos(x)\n"
     ]
    }
   ],
   "source": [
    "x = sp.Symbol('x')\n",
    "\n",
    "y = sp.integrate(sin(x), x)\n",
    "\n",
    "print(y)"
   ]
  },
  {
   "cell_type": "code",
   "execution_count": 3,
   "id": "16d74838",
   "metadata": {},
   "outputs": [
    {
     "name": "stdout",
     "output_type": "stream",
     "text": [
      "2.00000000000000\n"
     ]
    }
   ],
   "source": [
    "y_eval = integrate(sin(x), (x, 0, np.pi))\n",
    "\n",
    "print(y_eval)"
   ]
  },
  {
   "cell_type": "markdown",
   "id": "02226fd5",
   "metadata": {},
   "source": [
    "### Plot:"
   ]
  },
  {
   "cell_type": "code",
   "execution_count": 4,
   "id": "9b5d8a5f",
   "metadata": {},
   "outputs": [
    {
     "data": {
      "text/plain": [
       "[<matplotlib.lines.Line2D at 0x11a362250>]"
      ]
     },
     "execution_count": 4,
     "metadata": {},
     "output_type": "execute_result"
    },
    {
     "data": {
      "image/png": "[encoded data removed]",
      "text/plain": [
       "<Figure size 432x288 with 1 Axes>"
      ]
     },
     "metadata": {
      "needs_background": "light"
     },
     "output_type": "display_data"
    }
   ],
   "source": [
    "%matplotlib inline\n",
    "\n",
    "x = np.arange(0, np.pi, 0.01)\n",
    "\n",
    "y = np.sin(x)\n",
    "\n",
    "plt.plot(x, y)"
   ]
  },
  {
   "cell_type": "markdown",
   "id": "09914ba6",
   "metadata": {},
   "source": [
    "## 2. Using Riemanns Integral:\n",
    "\n",
    "We can approximate integrals by summing the area of rectangles under the curve.\n",
    "\n",
    "The width of the rectangle is $x_{i+1} - x_i = h$, and its height is defined by the function $f(x)$ evaluated for the interval, $h$.\n",
    "\n",
    "We have three options:\n",
    "\n",
    "1. We can choose the left point, $x_i$, to evaluate $f(x_i)$ and get $O(h)$ for:\n",
    "\n",
    "$$\\int_a^b f(x) dx \\approx \\sum_{i = 0}^{n-1} hf(x_i),$$\n",
    "\n",
    "2. We can choose the right point, $x_{i+1}$, to evaluate $f(x_{i+1})$ and get $O(h)$ for:\n",
    "\n",
    "$$\\int_a^b f(x) dx \\approx \\sum_{i = 1}^{n} hf(x_i),$$\n",
    "\n",
    "3. We can choose the mid point, $x_{mid} = \\frac{x_{i+1} + x_i}{2}$, to evaluate $f(x_{mid})$ and get $O(h^2)$ for:\n",
    "\n",
    "$$\\int_a^b f(x)dx \\approx \\sum_{i = 0}^{n-1} hf(y_i)$$\n",
    "\n",
    "where $y_i = \\frac{x_{i+1} + x_i}{2}$.\n",
    "\n",
    "Based on: https://pythonnumericalmethods.berkeley.edu/notebooks/chapter21.02-Riemanns-Integral.html"
   ]
  },
  {
   "cell_type": "markdown",
   "id": "e3665635",
   "metadata": {},
   "source": [
    "### 2.1. Left and right Riemann integrals:\n",
    "\n",
    "Calculate the integral of:\n",
    "\n",
    "$f(x) = \\int_0^{\\pi}\\sin(x)\\,dx$ \n",
    "\n",
    "using the Riemann left and right approximations and compare the errors to the actual value."
   ]
  },
  {
   "cell_type": "code",
   "execution_count": 5,
   "id": "225747f1",
   "metadata": {},
   "outputs": [],
   "source": [
    "# Integration limits\n",
    "x_0 = 0\n",
    "x_1 = np.pi\n",
    "\n",
    "# Number of rectangles\n",
    "n = 10\n",
    "\n",
    "# x and y vectors\n",
    "x = np.linspace(x_0, x_1, n)\n",
    "y = np.sin(x)"
   ]
  },
  {
   "cell_type": "code",
   "execution_count": 6,
   "id": "ec6c131e",
   "metadata": {},
   "outputs": [],
   "source": [
    "# Rectangle width\n",
    "h = (x_1 - x_0)/(n - 1)"
   ]
  },
  {
   "cell_type": "code",
   "execution_count": 7,
   "id": "9e319154",
   "metadata": {},
   "outputs": [
    {
     "name": "stdout",
     "output_type": "stream",
     "text": [
      "1.979650811216484 1.979650811216484\n"
     ]
    }
   ],
   "source": [
    "# Left and right Riemann approximations:\n",
    "left_riemann = h * sum(np.sin(x[:n-1]))\n",
    "\n",
    "right_riemann = h * sum(np.sin(x[1:]))\n",
    "\n",
    "print(left_riemann, right_riemann)"
   ]
  },
  {
   "cell_type": "markdown",
   "id": "85d6d858",
   "metadata": {},
   "source": [
    "#### Integration errors:"
   ]
  },
  {
   "cell_type": "code",
   "execution_count": 8,
   "id": "ee693621",
   "metadata": {},
   "outputs": [
    {
     "name": "stdout",
     "output_type": "stream",
     "text": [
      "h = 0.3490658503988659 , O_{left} = 0.0203491887835161 , O_{right} = 0.0203491887835161\n"
     ]
    }
   ],
   "source": [
    "error_left_riemann = np.abs(y_eval - left_riemann)\n",
    "\n",
    "error_right_riemann = np.abs(y_eval - right_riemann)\n",
    "\n",
    "print('h =', h, ', O_{left} =', error_left_riemann, ', O_{right} =', error_right_riemann)"
   ]
  },
  {
   "cell_type": "markdown",
   "id": "bdc2fa6e",
   "metadata": {},
   "source": [
    "### 2.2. Midpoint Riemann integral"
   ]
  },
  {
   "cell_type": "code",
   "execution_count": 9,
   "id": "314a1ec9",
   "metadata": {},
   "outputs": [],
   "source": [
    "# Mid-point:\n",
    "\n",
    "x_mid = (x[:n-1] + x[1:])/2"
   ]
  },
  {
   "cell_type": "code",
   "execution_count": 10,
   "id": "11235a5c",
   "metadata": {},
   "outputs": [
    {
     "name": "stdout",
     "output_type": "stream",
     "text": [
      "2.01019011595042\n"
     ]
    }
   ],
   "source": [
    "# Midpint integral\n",
    "\n",
    "midpoint_riemann = h * sum(np.sin(x_mid))\n",
    "print(midpoint_riemann)"
   ]
  },
  {
   "cell_type": "markdown",
   "id": "857b417e",
   "metadata": {},
   "source": [
    "#### Integration error:"
   ]
  },
  {
   "cell_type": "code",
   "execution_count": 11,
   "id": "60b39914",
   "metadata": {},
   "outputs": [
    {
     "name": "stdout",
     "output_type": "stream",
     "text": [
      "0.0101901159504201\n"
     ]
    }
   ],
   "source": [
    "error_midpoint_riemann = np.abs(y_eval - midpoint_riemann)\n",
    "\n",
    "print(error_midpoint_riemann)"
   ]
  },
  {
   "cell_type": "code",
   "execution_count": 12,
   "id": "559aa155",
   "metadata": {},
   "outputs": [
    {
     "name": "stdout",
     "output_type": "stream",
     "text": [
      "h = 0.0425326154736623 , O_{mid} = 0.0101901159504201\n"
     ]
    }
   ],
   "source": [
    "print('h =', h**3, ', O_{mid} =', error_midpoint_riemann)"
   ]
  },
  {
   "cell_type": "markdown",
   "id": "db73a5e6",
   "metadata": {},
   "source": [
    "## 3. Using the Trapezoid Rule:\n",
    "\n",
    "Instead of rectangles, this method fits trapezoids into each subintervals, and then it sums the areas of the trapezoids to approximate the total integral.\n",
    "\n",
    "For each subinterval along $x$, the trapezoid rule computes the area:\n",
    "\n",
    "$h\\frac{f(x_i) + f(x_{i+1})}{2}$\n",
    "\n",
    "of a trapezoid with corners at:\n",
    "\n",
    "1. $(x_i, 0)$\n",
    "\n",
    "2. $(x_{i+1}, 0)$\n",
    "\n",
    "3. $(x_i, f(x_i))$\n",
    "\n",
    "4. $(x_{i+1}, f(x_{i+1}))$.\n",
    "\n",
    "The Trapezoid Rule approximates integrals according to the expression:\n",
    "\n",
    "$$\\int_a^b f(x) dx \\approx \\sum_{i=0}^{n-1} h\\frac{f(x_i) + f(x_{i+1})}{2}.$$"
   ]
  },
  {
   "cell_type": "code",
   "execution_count": 13,
   "id": "133eb7d1",
   "metadata": {},
   "outputs": [
    {
     "name": "stdout",
     "output_type": "stream",
     "text": [
      "1.9796508112164835\n"
     ]
    }
   ],
   "source": [
    "# Trapezoid area\n",
    "\n",
    "trapezoid_1 = sum(0.5*h*(y[:n-1] + y[1:]))\n",
    "\n",
    "print(trapezoid_1)"
   ]
  },
  {
   "cell_type": "markdown",
   "id": "6818ecf5",
   "metadata": {},
   "source": [
    "The trapezoid rule \"double-counts\" most of the terms in the series:\n",
    "\n",
    "\\begin{eqnarray*}\\sum_{i=0}^{n-1} h\\frac{f(x_i) + f(x_{i+1})}{2} &=& \\frac{h}{2} \\left[(f(x_0) + f(x_1)) + (f(x_1) + f(x_2)) + (f(x_2)\\right. \\\\\n",
    "&&\\left. + f(x_3)) + \\cdots + (f(x_{n-1}) + f(x_n))\\right].\\end{eqnarray*}\n",
    "\n",
    "We can be more computationally efficient using the following expression.\n",
    "\n",
    "$$\\int_a^b f(x) dx \\approx \\frac{h}{2} \\left(f(x_0) + 2 \\left(\\sum_{i=1}^{n-1} f(x_i)\\right) + f(x_n)\\right).$$"
   ]
  },
  {
   "cell_type": "code",
   "execution_count": 14,
   "id": "fa15c7a0",
   "metadata": {},
   "outputs": [
    {
     "name": "stdout",
     "output_type": "stream",
     "text": [
      "1.979650811216484\n"
     ]
    }
   ],
   "source": [
    "# Trapezoid area\n",
    "trapezoid_2 = (h/2)*(y[0] + 2 * sum(y[1:n-1]) + y[n-1])\n",
    "\n",
    "print(trapezoid_2)"
   ]
  },
  {
   "cell_type": "markdown",
   "id": "e559dc0e",
   "metadata": {},
   "source": [
    "#### Error estimation:"
   ]
  },
  {
   "cell_type": "code",
   "execution_count": 15,
   "id": "83e1b92c",
   "metadata": {},
   "outputs": [
    {
     "name": "stdout",
     "output_type": "stream",
     "text": [
      "h = 0.12184696791468343 , O_{trap} = 0.0203491887835161\n"
     ]
    }
   ],
   "source": [
    "error_trapezoid = np.abs(y_eval - trapezoid_2)\n",
    "\n",
    "print('h =', h**2, ', O_{trap} =', error_trapezoid)"
   ]
  },
  {
   "cell_type": "markdown",
   "id": "27a92af2",
   "metadata": {},
   "source": [
    "## 4. Using Simpson's rule:\n",
    "\n",
    "The Simpson's Rule approximates the area under $f(x)$ over these two subintervals by fitting a quadratic polynomial through the points:\n",
    "\n",
    "1. $(x_{i-1}, f(x_{i-1}))$\n",
    "\n",
    "2. $(x_i, f(x_i))$\n",
    "\n",
    "3. $(x_{i+1}, f(x_{i+1}))$\n",
    "\n",
    "which is a unique polynomial, and then integrating the quadratic exactly.\n",
    "\n",
    "First, we construct the quadratic polynomial approximation of the function over the two subintervals. The easiest way to do this is to use Lagrange polynomials:\n",
    "\n",
    "\\begin{eqnarray*}P_i(x) &=& f(x_{i-1})\\frac{(x - x_i)(x - x_{i+1})}{(x_{i-1} - x_i)(x_{i-1} - x_{i+1})} + f(x_i)\\frac{(x - x_{i-1})(x - x_{i+1})}{(x_{i} - x_{i-1})(x_{i} - x_{i+1})}\\\\\n",
    "&&+ f(x_{i+1})\\frac{(x - x_{i-1})(x - x_{i})}{(x_{i+1} - x_{i-1})(x_{i+1} -\n",
    "x_{i})},\\end{eqnarray*}\n",
    "\n",
    "and with substitutions for $h$ results in\n",
    "\n",
    "$$P_i(x) = \\frac{f(x_{i-1})}{2h^2} (x - x_i)(x - x_{i+1}) - \\frac{f(x_i)}{h^2} (x - x_{i-1})(x - x_{i+1}) + \\frac{f(x_{i+1})}{2h^2} (x - x_{i-1})(x - x_{i}).$$\n",
    "\n",
    "You can confirm that the polynomial intersects the desired points. With some algebra and manipulation, the integral of $P_i(x)$ over the two subintervals is\n",
    "\n",
    "$$\\int_{x_{i-1}}^{x_{i+1}} P_i(x) dx = \\frac{h}{3}(f(x_{i-1}) + 4f(x_i) + f(x_{i+1}).$$\n",
    "\n",
    "To approximate the integral over $(a, b)$, we must sum the integrals of $P_i(x)$ over every *two* subintervals since $P_i(x)$ spans two subintervals. Substituting $\\frac{h}{3}(f(x_{i-1}) + 4f(x_i) + f(x_{i+1}))$ for the integral of $P_i(x)$ and regrouping the terms for efficiency leads to the formula\n",
    "\n",
    "$$\\int_a^b f(x) dx \\approx \\frac{h}{3} \\left[f(x_0)+4 \\left(\\sum_{i=1, i\\  {\\text{odd}}}^{n-1}f(x_i)\\right)+2 \\left(\\sum_{i=2, i\\  {\\text{even}}}^{n-2}f(x_i)\\right)+f(x_n)\\right].$$\n",
    "\n",
    "Note that to use Simpson's Rule, we **must** have an even number of intervals and, therefore, an odd number of grid points."
   ]
  },
  {
   "cell_type": "code",
   "execution_count": 16,
   "id": "2de2f128",
   "metadata": {},
   "outputs": [
    {
     "name": "stdout",
     "output_type": "stream",
     "text": [
      "1.9000591097608057\n"
     ]
    }
   ],
   "source": [
    "simpson = (h/3) * (y[0] + 4*sum(y[1:n-1:2]) + + 2*sum(y[:n-2:2]) + y[n-1])\n",
    "\n",
    "print(simpson)"
   ]
  },
  {
   "cell_type": "markdown",
   "id": "063c1b6d",
   "metadata": {},
   "source": [
    "#### Error estimation:"
   ]
  },
  {
   "cell_type": "code",
   "execution_count": 17,
   "id": "0e5b0f35",
   "metadata": {},
   "outputs": [
    {
     "name": "stdout",
     "output_type": "stream",
     "text": [
      "h = 0.014846683590001892 , O_{simpson} = 0.0999408902391943\n"
     ]
    }
   ],
   "source": [
    "error_simpson = np.abs(y_eval - simpson)\n",
    "\n",
    "print('h =', h**4, ', O_{simpson} =', error_simpson)"
   ]
  },
  {
   "cell_type": "markdown",
   "id": "90226ce0",
   "metadata": {},
   "source": [
    "## 5. Using scipy:"
   ]
  },
  {
   "cell_type": "code",
   "execution_count": 18,
   "id": "f6f8c352",
   "metadata": {},
   "outputs": [],
   "source": [
    "import scipy as sp\n",
    "from scipy import integrate"
   ]
  },
  {
   "cell_type": "markdown",
   "id": "c33fa6c0",
   "metadata": {},
   "source": [
    "### 5.1. With the integrate.trapz() or integrate.simpson() function:\n",
    "\n",
    "https://docs.scipy.org/doc/scipy-0.10.1/reference/generated/scipy.integrate.trapz.html\n",
    "\n",
    "https://docs.scipy.org/doc/scipy/reference/generated/scipy.integrate.simpson.html"
   ]
  },
  {
   "cell_type": "code",
   "execution_count": 19,
   "id": "93bc1212",
   "metadata": {},
   "outputs": [
    {
     "name": "stdout",
     "output_type": "stream",
     "text": [
      "1.9796508112164835\n"
     ]
    }
   ],
   "source": [
    "sp_trapezoid = sp.integrate.trapz(y, x)\n",
    "\n",
    "print(sp_trapezoid)"
   ]
  },
  {
   "cell_type": "code",
   "execution_count": 20,
   "id": "e346d64a",
   "metadata": {},
   "outputs": [
    {
     "name": "stdout",
     "output_type": "stream",
     "text": [
      "1.9995487365804028\n"
     ]
    }
   ],
   "source": [
    "sp_simpson = sp.integrate.simpson(y, x)\n",
    "\n",
    "print(sp_simpson)"
   ]
  },
  {
   "cell_type": "markdown",
   "id": "6c41fb42",
   "metadata": {},
   "source": [
    "### 5.2. With the integrate.quad() function:\n",
    "\n",
    "https://docs.scipy.org/doc/scipy/reference/generated/scipy.integrate.quad.html"
   ]
  },
  {
   "cell_type": "code",
   "execution_count": 21,
   "id": "312e4018",
   "metadata": {},
   "outputs": [],
   "source": [
    "def function1(x):\n",
    "    return np.sin(x)"
   ]
  },
  {
   "cell_type": "code",
   "execution_count": 22,
   "id": "6412bb3a",
   "metadata": {},
   "outputs": [
    {
     "name": "stdout",
     "output_type": "stream",
     "text": [
      "2.0 2.220446049250313e-14\n"
     ]
    }
   ],
   "source": [
    "sp_quad, est_err_quad = sp.integrate.quad(function1, 0, np.pi)\n",
    "\n",
    "print(sp_quad, est_err_quad)"
   ]
  },
  {
   "cell_type": "markdown",
   "id": "542b4836",
   "metadata": {},
   "source": [
    "### 5.3. Double integrals:\n",
    "\n",
    "Documentation: https://docs.scipy.org/doc/scipy/reference/generated/scipy.integrate.dblquad.html\n",
    "\n",
    "#### Example:\n",
    "\n",
    "Integrate:\n",
    "\n",
    "$f(x, y) = x\\,y^2$ between $x=(0,2)$ and $y=(0,1)$\n",
    "\n",
    "\n",
    "$\\int_0^2 \\int_0^1 f(x, y)\\,dy\\,dx$\n",
    "\n",
    "\n",
    "$\\Rightarrow \\int_0^2 \\int_0^1 x\\,y^2\\,dy\\,dx$\n"
   ]
  },
  {
   "cell_type": "code",
   "execution_count": 23,
   "id": "42fa6bc6",
   "metadata": {},
   "outputs": [
    {
     "name": "stdout",
     "output_type": "stream",
     "text": [
      "(400, 400)\n"
     ]
    }
   ],
   "source": [
    "x = np.arange(-2, 2, 0.01)\n",
    "y = np.arange(-2, 2, 0.01)\n",
    "\n",
    "X, Y = np.meshgrid(x, y)\n",
    "\n",
    "Z = X*Y**2\n",
    "\n",
    "print(Z.shape)"
   ]
  },
  {
   "cell_type": "code",
   "execution_count": 24,
   "id": "3cfc0eb1",
   "metadata": {},
   "outputs": [
    {
     "data": {
      "image/png": "[encoded data removed]",
      "text/plain": [
       "<Figure size 720x432 with 1 Axes>"
      ]
     },
     "metadata": {
      "needs_background": "light"
     },
     "output_type": "display_data"
    }
   ],
   "source": [
    "fig, ax = plt.subplots(figsize = (10, 6), subplot_kw={\"projection\": \"3d\"})\n",
    "\n",
    "# Plot the surface.\n",
    "surf = ax.plot_surface(X, Y, Z, cmap='Blues', linewidth=0, antialiased=False)\n",
    "\n",
    "# Customise the z axis.\n",
    "ax.set_zlim(-8, 8)\n",
    "\n",
    "plt.show()\n",
    "\n"
   ]
  },
  {
   "cell_type": "markdown",
   "id": "a151eb46",
   "metadata": {},
   "source": [
    "### Integral:\n",
    "\n",
    "https://docs.scipy.org/doc/scipy/reference/generated/scipy.integrate.dblquad.html?highlight=dblquad"
   ]
  },
  {
   "cell_type": "code",
   "execution_count": 25,
   "id": "8e3af835",
   "metadata": {},
   "outputs": [],
   "source": [
    "func = lambda y, x: x*y**2"
   ]
  },
  {
   "cell_type": "code",
   "execution_count": 26,
   "id": "b153bb83",
   "metadata": {},
   "outputs": [],
   "source": [
    "result = sp.integrate.dblquad(func, 0, 2, 0, 1)"
   ]
  },
  {
   "cell_type": "code",
   "execution_count": 27,
   "id": "36402c2d",
   "metadata": {},
   "outputs": [
    {
     "name": "stdout",
     "output_type": "stream",
     "text": [
      "(0.6666666666666667, 7.401486830834377e-15)\n"
     ]
    }
   ],
   "source": [
    "print(result)"
   ]
  },
  {
   "cell_type": "code",
   "execution_count": 28,
   "id": "64306224",
   "metadata": {},
   "outputs": [],
   "source": [
    "from sympy import integrate"
   ]
  },
  {
   "cell_type": "code",
   "execution_count": 29,
   "id": "30430a59",
   "metadata": {},
   "outputs": [
    {
     "name": "stdout",
     "output_type": "stream",
     "text": [
      "0.6666666666666666\n"
     ]
    }
   ],
   "source": [
    "x, y = symbols('x, y')\n",
    "\n",
    "y_eval = integrate(x*y**2, (y, 0, 1), (x, 0, 2))\n",
    "\n",
    "print(float(y_eval))"
   ]
  },
  {
   "cell_type": "markdown",
   "id": "89408e7f",
   "metadata": {},
   "source": [
    "### Example:\n",
    "\n",
    "Integrate: \n",
    "\n",
    "$\\int\\int f(x,y)\\,dy\\,dx$, where $f(x,y) = 4\\,x\\,y- y^3$\n",
    "\n",
    "in the region bounded by $y = \\sqrt{x}$ and $y = x^3$."
   ]
  },
  {
   "cell_type": "code",
   "execution_count": 30,
   "id": "b0f226b1",
   "metadata": {},
   "outputs": [],
   "source": [
    "x = np.arange(0, 1.2, 0.01)\n",
    "\n",
    "y1 = np.sqrt(x)\n",
    "\n",
    "y2 = x**3"
   ]
  },
  {
   "cell_type": "code",
   "execution_count": 31,
   "id": "189056db",
   "metadata": {},
   "outputs": [
    {
     "data": {
      "image/png": "[encoded data removed]",
      "text/plain": [
       "<Figure size 720x576 with 1 Axes>"
      ]
     },
     "metadata": {
      "needs_background": "light"
     },
     "output_type": "display_data"
    }
   ],
   "source": [
    "fig, ax = plt.subplots(figsize = (10, 8))\n",
    "\n",
    "# Plot\n",
    "ax.plot(x, y1)\n",
    "ax.plot(x, y2)\n",
    "\n",
    "plt.show()"
   ]
  },
  {
   "cell_type": "code",
   "execution_count": 32,
   "id": "de67aa3d",
   "metadata": {},
   "outputs": [],
   "source": [
    "x = np.arange(0, 1.2, 0.01)\n",
    "\n",
    "y = np.arange(0, 1.2, 0.01)\n",
    "\n",
    "\n",
    "X, Y = np.meshgrid(x, y)\n",
    "\n",
    "Z1 = 4*X*Y - Y**3"
   ]
  },
  {
   "cell_type": "code",
   "execution_count": 33,
   "id": "1a020e10",
   "metadata": {},
   "outputs": [
    {
     "data": {
      "image/png": "[encoded data removed]",
      "text/plain": [
       "<Figure size 720x432 with 2 Axes>"
      ]
     },
     "metadata": {
      "needs_background": "light"
     },
     "output_type": "display_data"
    }
   ],
   "source": [
    "fig, ax = plt.subplots(figsize = (10, 6), subplot_kw={\"projection\": \"3d\"})\n",
    "\n",
    "# Plot the surface.\n",
    "surf = ax.plot_surface(X, Y, Z1, cmap='Blues', linewidth=0, antialiased=False, alpha = 0.3)\n",
    "ax.plot(x, y1)\n",
    "ax.plot(x, y2)\n",
    "\n",
    "# Customize the z axis.\n",
    "ax.set_zlim(-8, 8)\n",
    "\n",
    "ax.zaxis.set_major_formatter('{x:.02f}')\n",
    "\n",
    "# Add a color bar which maps values to colors.\n",
    "fig.colorbar(surf, shrink=0.5, aspect=5)\n",
    "\n",
    "plt.show()"
   ]
  },
  {
   "cell_type": "markdown",
   "id": "f8cc9b3d",
   "metadata": {},
   "source": [
    "## Integrals:"
   ]
  },
  {
   "cell_type": "code",
   "execution_count": 34,
   "id": "b8017502",
   "metadata": {},
   "outputs": [],
   "source": [
    "from sympy import integrate"
   ]
  },
  {
   "cell_type": "markdown",
   "id": "d5054ce4",
   "metadata": {},
   "source": [
    "#### Using sympy:"
   ]
  },
  {
   "cell_type": "code",
   "execution_count": 35,
   "id": "48fea7e2",
   "metadata": {},
   "outputs": [
    {
     "name": "stdout",
     "output_type": "stream",
     "text": [
      "0.352564102564102\n"
     ]
    }
   ],
   "source": [
    "x, y = symbols('x, y')\n",
    "\n",
    "y_eval = integrate((4*x*y - y**3), (y, x**3, x**0.5), (x, 0, 1))\n",
    "\n",
    "print(y_eval)"
   ]
  },
  {
   "cell_type": "markdown",
   "id": "87af1d86",
   "metadata": {},
   "source": [
    "#### Using dblquad():"
   ]
  },
  {
   "cell_type": "code",
   "execution_count": 36,
   "id": "75086137",
   "metadata": {},
   "outputs": [],
   "source": [
    "f1 = lambda y, x: 4*x*y - y**3"
   ]
  },
  {
   "cell_type": "code",
   "execution_count": 37,
   "id": "87ca6920",
   "metadata": {},
   "outputs": [
    {
     "name": "stdout",
     "output_type": "stream",
     "text": [
      "(0.35256410256410253, 8.05729071063299e-15)\n"
     ]
    }
   ],
   "source": [
    "result1 = sp.integrate.dblquad(f1, 0, 1, lambda x: x**3, lambda x: x**0.5)\n",
    "\n",
    "print(result1)"
   ]
  },
  {
   "cell_type": "markdown",
   "id": "7a2f3aac",
   "metadata": {},
   "source": [
    "### 5.4. Triple integrals:\n",
    "\n",
    "Documentation: https://docs.scipy.org/doc/scipy/reference/generated/scipy.integrate.tplquad.html\n",
    "\n",
    "#### Example:\n",
    "\n",
    "Integrate:\n",
    "\n",
    "$f(x, y, z) = x\\,y\\,z$ between $x=(1,2)$, $y=(2,3)$, $z=(0,1)$\n",
    "\n",
    "\n",
    "$\\int_1^2 \\int_2^3 \\int_0^1 f(x, y, z)\\,dz\\,dy\\,dx$\n",
    "\n",
    "\n",
    "$\\Rightarrow \\int_1^2 \\int_2^3 \\int_0^1 x\\,y\\,z\\,dz\\,dy\\,dx$\n"
   ]
  },
  {
   "cell_type": "markdown",
   "id": "3e1b5909",
   "metadata": {},
   "source": [
    "#### Using sympy:"
   ]
  },
  {
   "cell_type": "code",
   "execution_count": 38,
   "id": "558361dc",
   "metadata": {},
   "outputs": [
    {
     "name": "stdout",
     "output_type": "stream",
     "text": [
      "1.875\n"
     ]
    }
   ],
   "source": [
    "x, y, z = symbols('x, y, z')\n",
    "\n",
    "y_eval2 = integrate((x*y*z), (z, 0, 1), (y, 2, 3), (x, 1, 2))\n",
    "\n",
    "print(float(y_eval2))"
   ]
  },
  {
   "cell_type": "markdown",
   "id": "7438fa49",
   "metadata": {},
   "source": [
    "#### Using scipy:"
   ]
  },
  {
   "cell_type": "code",
   "execution_count": 39,
   "id": "add06468",
   "metadata": {},
   "outputs": [
    {
     "name": "stdout",
     "output_type": "stream",
     "text": [
      "(1.8750000000000002, 3.324644794257407e-14)\n"
     ]
    }
   ],
   "source": [
    "func3d = lambda z, y, x: x*y*z # f takes arguments in the order (z, y, x).\n",
    "\n",
    "result2 = sp.integrate.tplquad(func3d, 1, 2, 2, 3, 0, 1)\n",
    "\n",
    "print(result2)"
   ]
  },
  {
   "cell_type": "markdown",
   "id": "2612e6cd",
   "metadata": {},
   "source": [
    "### Example:\n",
    "\n",
    "Integrate:\n",
    "\n",
    "$f(x, y, z) = x\\,y\\,z$ between $x=(0,1)$, $y=(0,1-2x)$, $z=(0,1-x-2y)$\n",
    "\n",
    "\n",
    "$\\int_0^1 \\int_0^{1-2x} \\int_0^{1-x-2y} f(x, y, z)\\,dz\\,dy\\,dx$\n",
    "\n",
    "\n",
    "$\\Rightarrow \\int_0^1 \\int_0^{1-2x} \\int_0^{1-x-2y} xyz\\,dz\\,dy\\,dx$"
   ]
  },
  {
   "cell_type": "markdown",
   "id": "6fb37c3f",
   "metadata": {},
   "source": [
    "#### Using sympy:"
   ]
  },
  {
   "cell_type": "code",
   "execution_count": 40,
   "id": "3211d2b4",
   "metadata": {},
   "outputs": [
    {
     "name": "stdout",
     "output_type": "stream",
     "text": [
      "0.05416666666666667\n"
     ]
    }
   ],
   "source": [
    "x, y, z = symbols('x, y, z')\n",
    "\n",
    "y_eval3 = integrate((x*y*z), (z, 0, 1 - x - 2*y), (y, 0, 1 - 2*x), (x, 0, 1))\n",
    "\n",
    "print(float(y_eval3))"
   ]
  },
  {
   "cell_type": "markdown",
   "id": "f8dc579a",
   "metadata": {},
   "source": [
    "#### Using scipy:"
   ]
  },
  {
   "cell_type": "code",
   "execution_count": 41,
   "id": "41f6e95b",
   "metadata": {},
   "outputs": [
    {
     "name": "stdout",
     "output_type": "stream",
     "text": [
      "(0.05416666666666667, 2.1774196738157757e-14)\n"
     ]
    }
   ],
   "source": [
    "#func3d_1 = lambda z, y, x: x*y*z\n",
    "\n",
    "result3 = sp.integrate.tplquad(func3d, 0, 1, 0, lambda x: 1 - 2*x, 0, lambda x, y: 1 - x -2*y)\n",
    "\n",
    "print(result3)"
   ]
  },
  {
   "cell_type": "markdown",
   "id": "2aea323b",
   "metadata": {},
   "source": [
    "## 6. Integrals with infinity ($\\pm\\infty$) using sympy:"
   ]
  },
  {
   "cell_type": "markdown",
   "id": "b672b84a",
   "metadata": {},
   "source": [
    "### Example:\n",
    "\n",
    "Calculate the integral of:\n",
    "\n",
    "$f(x) = \\int_0^{\\infty}\\exp(-x^2)\\,dx$ "
   ]
  },
  {
   "cell_type": "code",
   "execution_count": 42,
   "id": "15f7a792",
   "metadata": {},
   "outputs": [],
   "source": [
    "import sympy as sp"
   ]
  },
  {
   "cell_type": "code",
   "execution_count": 43,
   "id": "c14c2986",
   "metadata": {},
   "outputs": [
    {
     "name": "stdout",
     "output_type": "stream",
     "text": [
      "sqrt(pi)*erf(x)/2\n"
     ]
    }
   ],
   "source": [
    "x = sp.Symbol('x')\n",
    "\n",
    "y = sp.integrate(exp(-x**2), x)\n",
    "\n",
    "print(y)"
   ]
  },
  {
   "cell_type": "code",
   "execution_count": 44,
   "id": "36dad6ea",
   "metadata": {},
   "outputs": [],
   "source": [
    "y_eval = integrate(exp(-x**2), (x, 0, np.inf))"
   ]
  },
  {
   "cell_type": "code",
   "execution_count": 45,
   "id": "924af4ec",
   "metadata": {},
   "outputs": [
    {
     "name": "stdout",
     "output_type": "stream",
     "text": [
      "sqrt(pi)/2\n"
     ]
    }
   ],
   "source": [
    "print(y_eval)"
   ]
  },
  {
   "cell_type": "code",
   "execution_count": 48,
   "id": "c0de8376",
   "metadata": {},
   "outputs": [
    {
     "name": "stdout",
     "output_type": "stream",
     "text": [
      "0.886226925452758\n"
     ]
    }
   ],
   "source": [
    "print(float(y_eval))"
   ]
  },
  {
   "cell_type": "markdown",
   "id": "0fcc2267",
   "metadata": {},
   "source": [
    "### Example:\n",
    "\n",
    "Calculate the integral of:\n",
    "\n",
    "$f(x) = \\int_{-\\infty}^{\\infty}\\exp(-x^2)\\,dx$ "
   ]
  },
  {
   "cell_type": "code",
   "execution_count": 49,
   "id": "4a3b2418",
   "metadata": {},
   "outputs": [],
   "source": [
    "y_eval2 = integrate(exp(-x**2), (x, -np.inf, np.inf))"
   ]
  },
  {
   "cell_type": "code",
   "execution_count": 50,
   "id": "1bdede78",
   "metadata": {},
   "outputs": [
    {
     "name": "stdout",
     "output_type": "stream",
     "text": [
      "sqrt(pi)\n"
     ]
    }
   ],
   "source": [
    "print(y_eval2)"
   ]
  },
  {
   "cell_type": "code",
   "execution_count": 51,
   "id": "2e8e9af6",
   "metadata": {},
   "outputs": [
    {
     "name": "stdout",
     "output_type": "stream",
     "text": [
      "1.772453850905516\n"
     ]
    }
   ],
   "source": [
    "print(float(y_eval2))"
   ]
  },
  {
   "cell_type": "code",
   "execution_count": null,
   "id": "5b436820",
   "metadata": {},
   "outputs": [],
   "source": []
  }
 ],
 "metadata": {
  "kernelspec": {
   "display_name": "Python 3",
   "language": "python",
   "name": "python3"
  },
  "language_info": {
   "codemirror_mode": {
    "name": "ipython",
    "version": 3
   },
   "file_extension": ".py",
   "mimetype": "text/x-python",
   "name": "python",
   "nbconvert_exporter": "python",
   "pygments_lexer": "ipython3",
   "version": "3.7.10"
  }
 },
 "nbformat": 4,
 "nbformat_minor": 5
}
