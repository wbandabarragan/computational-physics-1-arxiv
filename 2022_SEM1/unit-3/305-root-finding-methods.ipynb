{
 "cells": [
  {
   "cell_type": "markdown",
   "id": "0a871ff8",
   "metadata": {},
   "source": [
    "# Root finding methods\n",
    "\n",
    "These are a collection of methods used to find where 1D functions are zero."
   ]
  },
  {
   "cell_type": "markdown",
   "id": "969c2c69",
   "metadata": {},
   "source": [
    "\n",
    "## Example:\n",
    "\n",
    "Find the roots of:\n",
    "\n",
    "$f(x) = x^2 -1$\n",
    "\n",
    "$x = +/-1$"
   ]
  },
  {
   "cell_type": "code",
   "execution_count": 2,
   "id": "3db790ae",
   "metadata": {},
   "outputs": [],
   "source": [
    "import numpy as np\n",
    "import matplotlib.pyplot as plt\n",
    "import scipy.optimize as opt"
   ]
  },
  {
   "cell_type": "markdown",
   "id": "5a8371ed",
   "metadata": {},
   "source": [
    "## 1. Using scipy.optimize()"
   ]
  },
  {
   "cell_type": "code",
   "execution_count": 3,
   "id": "48a0d537",
   "metadata": {},
   "outputs": [],
   "source": [
    "x = np.arange(-2, 2, 0.01)"
   ]
  },
  {
   "cell_type": "code",
   "execution_count": 6,
   "id": "d1145c48",
   "metadata": {},
   "outputs": [],
   "source": [
    "func = lambda x: x**2 - 1"
   ]
  },
  {
   "cell_type": "code",
   "execution_count": 7,
   "id": "99175301",
   "metadata": {},
   "outputs": [],
   "source": [
    "y = func(x)"
   ]
  },
  {
   "cell_type": "code",
   "execution_count": 10,
   "id": "b9260361",
   "metadata": {},
   "outputs": [
    {
     "name": "stdout",
     "output_type": "stream",
     "text": [
      "(400,) (400,)\n"
     ]
    }
   ],
   "source": [
    "print(x.shape, y.shape)"
   ]
  },
  {
   "cell_type": "code",
   "execution_count": 13,
   "id": "003d29ca",
   "metadata": {},
   "outputs": [
    {
     "data": {
      "image/png": "[encoded data removed]",
      "text/plain": [
       "<Figure size 432x288 with 1 Axes>"
      ]
     },
     "metadata": {
      "needs_background": "light"
     },
     "output_type": "display_data"
    }
   ],
   "source": [
    "%matplotlib inline\n",
    "\n",
    "plt.plot(x, y)\n",
    "plt.grid()"
   ]
  },
  {
   "cell_type": "code",
   "execution_count": 19,
   "id": "93f5f97c",
   "metadata": {},
   "outputs": [],
   "source": [
    "roots_func = opt.fsolve(func, [-10, 20])"
   ]
  },
  {
   "cell_type": "code",
   "execution_count": 20,
   "id": "9ba8d127",
   "metadata": {},
   "outputs": [
    {
     "name": "stdout",
     "output_type": "stream",
     "text": [
      "[-1.  1.]\n"
     ]
    }
   ],
   "source": [
    "print(roots_func)"
   ]
  },
  {
   "cell_type": "markdown",
   "id": "9b9c56f4",
   "metadata": {},
   "source": [
    "## 2. Imaginary roots using numpy.roots()"
   ]
  },
  {
   "cell_type": "markdown",
   "id": "7552cc52",
   "metadata": {},
   "source": [
    "\n",
    "## Example:\n",
    "\n",
    "Find the roots of:\n",
    "\n",
    "$f(x) = x^2 +1$\n",
    "\n",
    "$x = +/-i$"
   ]
  },
  {
   "cell_type": "code",
   "execution_count": 21,
   "id": "5b83b1d6",
   "metadata": {},
   "outputs": [],
   "source": [
    "func2 = lambda x: x**2 + 1"
   ]
  },
  {
   "cell_type": "code",
   "execution_count": 23,
   "id": "de904663",
   "metadata": {},
   "outputs": [],
   "source": [
    "y2 = func2(x)"
   ]
  },
  {
   "cell_type": "code",
   "execution_count": 24,
   "id": "94191931",
   "metadata": {},
   "outputs": [
    {
     "data": {
      "image/png": "[encoded data removed]",
      "text/plain": [
       "<Figure size 432x288 with 1 Axes>"
      ]
     },
     "metadata": {
      "needs_background": "light"
     },
     "output_type": "display_data"
    }
   ],
   "source": [
    "plt.plot(x, y2)\n",
    "plt.grid()"
   ]
  },
  {
   "cell_type": "code",
   "execution_count": 25,
   "id": "8714e088",
   "metadata": {},
   "outputs": [
    {
     "name": "stderr",
     "output_type": "stream",
     "text": [
      "/Users/webb/opt/anaconda3/envs/py37/lib/python3.7/site-packages/scipy/optimize/minpack.py:175: RuntimeWarning: The iteration is not making good progress, as measured by the \n",
      "  improvement from the last five Jacobian evaluations.\n",
      "  warnings.warn(msg, RuntimeWarning)\n"
     ]
    }
   ],
   "source": [
    "roots_func2 = opt.fsolve(func2, [-10, 20])"
   ]
  },
  {
   "cell_type": "code",
   "execution_count": 52,
   "id": "d84e7ac6",
   "metadata": {},
   "outputs": [],
   "source": [
    "roots_func2 = np.roots([1, 0, 1])"
   ]
  },
  {
   "cell_type": "code",
   "execution_count": 51,
   "id": "681cc356",
   "metadata": {},
   "outputs": [
    {
     "name": "stdout",
     "output_type": "stream",
     "text": [
      "[-0.+1.j  0.-1.j]\n"
     ]
    }
   ],
   "source": [
    "print(roots_func2) #these are not the roots, but the values of the last iteration."
   ]
  },
  {
   "cell_type": "markdown",
   "id": "0748b384",
   "metadata": {},
   "source": [
    "## 3. Newton-Rhapson method:"
   ]
  },
  {
   "cell_type": "code",
   "execution_count": 28,
   "id": "c289ea48",
   "metadata": {},
   "outputs": [],
   "source": [
    "func = lambda x: x**2 - 1\n",
    "\n",
    "func_prime = lambda x: 2*x"
   ]
  },
  {
   "cell_type": "code",
   "execution_count": 29,
   "id": "4c3a3832",
   "metadata": {},
   "outputs": [],
   "source": [
    "x_0 = 2.0\n",
    "\n",
    "x_1 = x_0 - (func(x_0))/(func_prime(x_0))"
   ]
  },
  {
   "cell_type": "code",
   "execution_count": 30,
   "id": "0bdf7e9f",
   "metadata": {},
   "outputs": [
    {
     "name": "stdout",
     "output_type": "stream",
     "text": [
      "1.25\n"
     ]
    }
   ],
   "source": [
    "print(x_1)"
   ]
  },
  {
   "cell_type": "code",
   "execution_count": 31,
   "id": "3c9756c5",
   "metadata": {},
   "outputs": [],
   "source": [
    "x_2 = x_1 - (func(x_1))/(func_prime(x_1))"
   ]
  },
  {
   "cell_type": "code",
   "execution_count": 32,
   "id": "a87d0802",
   "metadata": {},
   "outputs": [
    {
     "name": "stdout",
     "output_type": "stream",
     "text": [
      "1.025\n"
     ]
    }
   ],
   "source": [
    "print(x_2)"
   ]
  },
  {
   "cell_type": "code",
   "execution_count": 33,
   "id": "6afe71db",
   "metadata": {},
   "outputs": [],
   "source": [
    "x_3 = x_2 - (func(x_2))/(func_prime(x_2))"
   ]
  },
  {
   "cell_type": "code",
   "execution_count": 34,
   "id": "144dd93b",
   "metadata": {},
   "outputs": [
    {
     "name": "stdout",
     "output_type": "stream",
     "text": [
      "1.0003048780487804\n"
     ]
    }
   ],
   "source": [
    "print(x_3)"
   ]
  },
  {
   "cell_type": "markdown",
   "id": "e3cf3e30",
   "metadata": {},
   "source": [
    "#### Function:"
   ]
  },
  {
   "cell_type": "code",
   "execution_count": 38,
   "id": "a553ea96",
   "metadata": {},
   "outputs": [],
   "source": [
    "def newton_rhapson(func, func_prime, x_0, tolerance):\n",
    "    \n",
    "    if abs(func(x_0)) < tolerance:\n",
    "        return x_0\n",
    "    else:\n",
    "        return newton_rhapson(func, func_prime, x_0 - (func(x_0))/(func_prime(x_0)), tolerance)"
   ]
  },
  {
   "cell_type": "code",
   "execution_count": 46,
   "id": "d0c136ed",
   "metadata": {},
   "outputs": [],
   "source": [
    "x_00 = -10\n",
    "root_1 = newton_rhapson(func, func_prime, x_0, 1.e-15)\n",
    "root_2 = newton_rhapson(func, func_prime, x_00, 1.e-15)"
   ]
  },
  {
   "cell_type": "code",
   "execution_count": 47,
   "id": "40bf87c0",
   "metadata": {},
   "outputs": [
    {
     "name": "stdout",
     "output_type": "stream",
     "text": [
      "1.0 -1.0\n"
     ]
    }
   ],
   "source": [
    "print(root_1, root_2)"
   ]
  },
  {
   "cell_type": "markdown",
   "id": "afce2fec",
   "metadata": {},
   "source": [
    "## 4. Bisection method:"
   ]
  },
  {
   "cell_type": "code",
   "execution_count": 75,
   "id": "a99297a8",
   "metadata": {},
   "outputs": [],
   "source": [
    "# 1. Get mid point\n",
    "a = 0.\n",
    "b = 2.5\n",
    "tolerance = 1.e-7\n",
    "\n",
    "c = (a + b)/2\n",
    "\n",
    "# 2. Evaluate function in c\n",
    "y = func(c)"
   ]
  },
  {
   "cell_type": "code",
   "execution_count": 76,
   "id": "e140c252",
   "metadata": {},
   "outputs": [
    {
     "name": "stdout",
     "output_type": "stream",
     "text": [
      "1.25 0.5625\n"
     ]
    }
   ],
   "source": [
    "print(c, y)"
   ]
  },
  {
   "cell_type": "code",
   "execution_count": 77,
   "id": "882de789",
   "metadata": {},
   "outputs": [],
   "source": [
    "b1 = c\n",
    "\n",
    "c1 = (a + b1)/2\n",
    "\n",
    "y1 = func(c1)"
   ]
  },
  {
   "cell_type": "code",
   "execution_count": 78,
   "id": "b6c0eceb",
   "metadata": {},
   "outputs": [
    {
     "name": "stdout",
     "output_type": "stream",
     "text": [
      "0.625 -0.609375\n"
     ]
    }
   ],
   "source": [
    "print(c1, y1)"
   ]
  },
  {
   "cell_type": "code",
   "execution_count": 79,
   "id": "25f91fef",
   "metadata": {},
   "outputs": [],
   "source": [
    "a2 = c1\n",
    "b2 = c\n",
    "\n",
    "c2 = (a2 + b2)/2\n",
    "y2 = func(c2)"
   ]
  },
  {
   "cell_type": "code",
   "execution_count": 80,
   "id": "f956c2d4",
   "metadata": {},
   "outputs": [
    {
     "name": "stdout",
     "output_type": "stream",
     "text": [
      "0.9375 -0.12109375\n"
     ]
    }
   ],
   "source": [
    "print(c2, y2)"
   ]
  },
  {
   "cell_type": "code",
   "execution_count": 81,
   "id": "35f585a7",
   "metadata": {},
   "outputs": [
    {
     "name": "stdout",
     "output_type": "stream",
     "text": [
      "1.09375 0.1962890625\n"
     ]
    }
   ],
   "source": [
    "a3 = c2\n",
    "b3 = c\n",
    "\n",
    "c3 = (a3 + b3)/2\n",
    "y3 = func(c3)\n",
    "\n",
    "print(c3, y3)"
   ]
  },
  {
   "cell_type": "markdown",
   "id": "3f7a45f6",
   "metadata": {},
   "source": [
    "#### Function:"
   ]
  },
  {
   "cell_type": "code",
   "execution_count": 82,
   "id": "5f4a9b3f",
   "metadata": {},
   "outputs": [],
   "source": [
    "def bisection(func, a, b, tolerance):\n",
    "    c = (a + b)/2\n",
    "    \n",
    "    if np.abs(func(c)) < tolerance:\n",
    "        return c\n",
    "    \n",
    "    elif np.sign(func(a)) == np.sign(func(c)):\n",
    "        return bisection(func, c, b, tolerance)\n",
    "    \n",
    "    elif np.sign(func(b)) == np.sign(func(c)):  \n",
    "        return bisection(func, a, c, tolerance)        "
   ]
  },
  {
   "cell_type": "code",
   "execution_count": 83,
   "id": "fb878c02",
   "metadata": {},
   "outputs": [
    {
     "name": "stdout",
     "output_type": "stream",
     "text": [
      "1.0 -1.0\n"
     ]
    }
   ],
   "source": [
    "a_0 = 0\n",
    "b_0 = 2.5\n",
    "\n",
    "a_00 = -2.2\n",
    "b_00 = 0.1\n",
    "tolerance = 1.e-17\n",
    "\n",
    "root_1 = bisection(func, a_0, b_0, tolerance)\n",
    "root_2 = bisection(func, a_00, b_00, tolerance)\n",
    "print(root_1, root_2)"
   ]
  }
 ],
 "metadata": {
  "kernelspec": {
   "display_name": "Python 3",
   "language": "python",
   "name": "python3"
  },
  "language_info": {
   "codemirror_mode": {
    "name": "ipython",
    "version": 3
   },
   "file_extension": ".py",
   "mimetype": "text/x-python",
   "name": "python",
   "nbconvert_exporter": "python",
   "pygments_lexer": "ipython3",
   "version": "3.7.10"
  }
 },
 "nbformat": 4,
 "nbformat_minor": 5
}
