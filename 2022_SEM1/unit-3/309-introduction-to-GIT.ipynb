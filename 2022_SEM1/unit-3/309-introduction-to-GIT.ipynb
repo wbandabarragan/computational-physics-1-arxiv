{
 "cells": [
  {
   "cell_type": "markdown",
   "id": "48c86c04",
   "metadata": {},
   "source": [
    "# Introduction to using GIT\n",
    "\n",
    "Git is software for tracking changes in any set of files, usually used for coordinating work among programmers collaboratively developing source code during software development. Its goals include speed, data integrity, and support for distributed, non-linear workflows. \n",
    "\n",
    "Source: https://en.wikipedia.org/wiki/Git\n",
    "\n",
    "\n",
    "## Installation:\n",
    "\n",
    "- On Linux/macOSX:\n",
    "\n",
    "**conda install git**\n",
    "**pip install git**\n",
    "\n",
    "- On Windows:\n",
    "\n",
    "https://www.gitkraken.com/\n",
    "\n",
    "\n",
    "## Online repositories that use GIT:\n",
    "\n",
    "1. https://github.com/\n",
    "\n",
    "2. https://gitlab.com/\n",
    "\n",
    "3. https://bitbucket.org/\n",
    "\n",
    "They all work in very similar ways, I personally like the interface of GitHub."
   ]
  },
  {
   "cell_type": "markdown",
   "id": "1690ce96",
   "metadata": {},
   "source": [
    "## How to clone repositories?\n",
    " \n",
    "1. Go to: https://github.com/wbandabarragan/computational-physics-1\n",
    "\n",
    "\n",
    "2. Fork it into your local GitHub account.\n",
    "\n",
    "\n",
    "3. Open a terminal, create a new directory (with mkdir), then inside this directory, type:\n",
    "\n",
    "**git clone https://github.com/your_github/computational-physics-1 ./**\n",
    "\n",
    "\n",
    "4. All the material has been cloned into your own laptop."
   ]
  },
  {
   "cell_type": "markdown",
   "id": "4b3510cc",
   "metadata": {},
   "source": [
    "\n",
    "## How to update the repository in your laptop?\n",
    "\n",
    "**git pull**\n",
    "\n",
    "## How to update the remote GitHub repository?\n",
    "\n",
    "1. Add new/modified files:\n",
    "\n",
    "**git add .**\n",
    "\n",
    "\n",
    "2. Commit:\n",
    "\n",
    "**git commit -m “Comments”**\n",
    "\n",
    "\n",
    "3. Push the changes to the remote repository:\n",
    "\n",
    "**git push**\n",
    "\n",
    "\n",
    "4. All the online GitHUb material has been updated."
   ]
  }
 ],
 "metadata": {
  "kernelspec": {
   "display_name": "Python 3",
   "language": "python",
   "name": "python3"
  },
  "language_info": {
   "codemirror_mode": {
    "name": "ipython",
    "version": 3
   },
   "file_extension": ".py",
   "mimetype": "text/x-python",
   "name": "python",
   "nbconvert_exporter": "python",
   "pygments_lexer": "ipython3",
   "version": "3.7.10"
  }
 },
 "nbformat": 4,
 "nbformat_minor": 5
}
