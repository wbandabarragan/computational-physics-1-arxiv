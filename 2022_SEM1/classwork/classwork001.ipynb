{
 "cells": [
  {
   "cell_type": "markdown",
   "id": "aa268f46",
   "metadata": {},
   "source": [
    "# Classwork 1: Data analysis and visualisation"
   ]
  },
  {
   "cell_type": "markdown",
   "id": "b50caa6e",
   "metadata": {},
   "source": [
    "- When you finish, please send me the .ipynb file via email to wbanda@yachaytech.edu.ec.\n",
    "\n",
    "\n",
    "- You may work individually or in groups of maximum 2 people.\n",
    "\n",
    "\n",
    "- You can call your notebook with your surname/s, e.g. name.ipynb, and also include your name/s in the notebook.\n",
    "\n",
    "\n",
    "- Note that some data for the exercises are not given on purpose. Use online material to **investigate** what data you need to solve the problems.\n",
    "\n",
    "\n",
    "- Within a **single python notebook**, add the following:"
   ]
  },
  {
   "cell_type": "markdown",
   "id": "befda801",
   "metadata": {},
   "source": [
    "### Problem 1 (2 points):\n",
    "Consider the contour plot of pressure(n,T) discussed in class. Use Python to make a plot of the pressure surface in 3D."
   ]
  },
  {
   "cell_type": "markdown",
   "id": "844c49c1",
   "metadata": {},
   "source": [
    "### Problem 2 (3 points):\n",
    "Write a Python function to calculate the pressure of the plasma permeating the Solar corona. How does it compare to Earth's atmospheric pressure at the sea level? The number density of the Solar corona is $n=10^9\\,\\rm cm^{-3}$ and its temperature is $T=10^6\\,\\rm K$."
   ]
  },
  {
   "cell_type": "markdown",
   "id": "83cb60df",
   "metadata": {},
   "source": [
    "### Problem 3 (4 points):\n",
    "\n",
    "Write a Python function that (i) calculates the polytropic index of molecular hydrogen ($\\rm H_2$) and carbon-monoxide (CO) gas based on the number of degrees of freedom, and (ii) prints the result in a CSV file with three columns, the first one should have the molecule name, the second one the number of degrees of freedom, and the third one the polytropic index. Use scientific notation to format the output numbers."
   ]
  },
  {
   "cell_type": "markdown",
   "id": "0cf16d93",
   "metadata": {},
   "source": [
    "### Problem 4 (2 points):\n",
    "\n",
    "Write a Python function to calculate the mean particle mass (sometimes also called mean molecular weight) of air in our atmosphere (remember that Nytrogen and Oxygen are the most abundant elements). How does the value compare to that of atomic hydrogen?"
   ]
  },
  {
   "cell_type": "markdown",
   "id": "ddb2d75d",
   "metadata": {},
   "source": [
    "### Problem 5 (3 points):\n",
    "Write a Python function to calculate the speed of sound waves propagating through air in standard atmospheric conditions. Once calculated, add it to the phase diagram $T$ vs. $\\mu$ shown in class. "
   ]
  },
  {
   "cell_type": "markdown",
   "id": "7fac995c",
   "metadata": {},
   "source": [
    "### Problem 6 (3 points):\n",
    "Write a Python function to calculate the Reynolds number of the blood flow in the aorta. Hint: Use the Internet to get the parameters you need.|"
   ]
  },
  {
   "cell_type": "markdown",
   "id": "09d319eb",
   "metadata": {},
   "source": [
    "\n",
    "### Problem 7 (3 points):\n",
    "Considering the example of the swimming fish we saw in class, write a Python function to calculate the Reynolds numbers for different swimming speeds and make a plot of $R_{\\rm e}$ vs. speed. Indicate the laminar and turbulent regimes on the plot, and print the plot in PDF format. At which speed does the fish start generating a turbulent flow in sea water?"
   ]
  }
 ],
 "metadata": {
  "kernelspec": {
   "display_name": "Python 3",
   "language": "python",
   "name": "python3"
  },
  "language_info": {
   "codemirror_mode": {
    "name": "ipython",
    "version": 3
   },
   "file_extension": ".py",
   "mimetype": "text/x-python",
   "name": "python",
   "nbconvert_exporter": "python",
   "pygments_lexer": "ipython3",
   "version": "3.7.10"
  }
 },
 "nbformat": 4,
 "nbformat_minor": 5
}
