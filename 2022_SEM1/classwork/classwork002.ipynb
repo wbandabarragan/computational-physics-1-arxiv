{
 "cells": [
  {
   "cell_type": "markdown",
   "id": "aa268f46",
   "metadata": {},
   "source": [
    "# Classwork 2: Data I/O, regression, and fitting"
   ]
  },
  {
   "cell_type": "markdown",
   "id": "b50caa6e",
   "metadata": {},
   "source": [
    "- When you finish, please send via email to nardy.sallo@yachaytech.edu.ec and wbanda@yachaytech.edu.ec the following:\n",
    "\n",
    "       1. Your .ipynb file with the code.\n",
    "\n",
    "       2. The data.csv file that you collected.\n",
    "\n",
    "\n",
    "- You may work individually or in groups of maximum 2 people.\n",
    "\n",
    "\n",
    "- You can call your notebook with your surname/s, e.g. name.ipynb, and also include your name/s in the notebook.\n",
    "\n",
    "\n",
    "- Note that some data for the exercises are not given on purpose. Use online material to **investigate** any extra data that you need to solve the problems.\n",
    "\n",
    "\n",
    "- Within a **single python notebook**, add the following:"
   ]
  },
  {
   "cell_type": "markdown",
   "id": "befda801",
   "metadata": {},
   "source": [
    "## Problem  (20 points): The photoelectric effect\n",
    "\n",
    "Consider an experiment of the photoelectric effect. The experiment consists of setting up an electric circuit embedding plates of different metals. We illuminate the first plate with a beam of photons of certain wavelength, $\\lambda$, and as the photons interact with the metal plate, electrons are ejected from it. The electrons then reach the second plate and an electric current emerges. To prevent these electrons from reaching the second plate, we can increase the voltage until the electric current becomes zero in the circuit. The voltage value at which this happens is called \"stopping potential\", $V_0$, which is defined as the potential needed to stop the photo-electrons with the largest kinetic energy (so $K_{max}=e\\,V_0$) at a specific wavelength $\\lambda$.\n",
    "\n",
    "Report all the answers in SI units, and recall that the Planck constant is $h=6.626\\times 10^{-34}\\,\\rm J\\,s$, the speed of light is $c=3\\times 10^{8}\\,\\rm m\\,s^{-1}$, the electron mass is $m_e=9.11\\times 10^{-31}\\,\\rm kg$, and the electron charge in $e=1.6\\times 10^{-19}\\,\\rm c$.\n",
    "\n",
    "### **1. Experiment (4 points):**\n",
    "\n",
    "Carry out the experiment and collect $10$ data points for $2$ different metals using this applet:\n",
    "\n",
    "https://applets.kcvs.ca/photoelectricEffect/PhotoElectric.html\n",
    "\n",
    "To collect the data, choose a metal, fix a wavelength, and vary the voltage until the current becomes zero. When this happens, push \"record data points\". Then, vary the wavelength and repeat the process. When you have 10 data points for the first metal, choose another metal and repeat the experiment. At the end, you should have a data table with 20 data points, 10 for each metal. Export the CSV file with the data, place it into your working directory.\n",
    "\n",
    "\n",
    "### **2. Data I/O (4 points):**\n",
    "\n",
    "Using a Python notebook, open and read the CSV data file containing the data from the experiment, and make two high-quality labeled scattered plots, one for each metal, with the maximum kinetic energy ($K_{\\rm max}$) in the Y-axis and frequency on the X-axis. Note: use markers to display the experimental data.\n",
    "\n",
    "\n",
    "### **3. Regression and fitting (4 points):**\n",
    "\n",
    "(a) For each metal, define a good model to describe the data. Then, use Python functions to carry out a regression and find a funtion that fits the data. \n",
    "\n",
    "(b) Report the equations for each metal and make two high-quality labeled plots, one for each metal, containing the experimental data and the fitting function. Note: Use markers for the experimental data and lines for the fitting functions.\n",
    "\n",
    "(c) Then, make a new figure combining the data and fitting functions for both metals. Which metal has a higher cutoff frequency? Remember that the cutoff frequency is the critical frequency needed to remove electrons from the metal piece, below it we do not remove any.\n",
    "\n",
    "\n",
    "(d) Compare the values of the slopes of the fitted curves. What do you find? What does the slope of the curves represent?\n",
    "\n",
    "\n",
    "### **4. Calculations (4 points):**\n",
    "\n",
    "Using the fitting functions calculated in (3), carry out the following calculations in Python:\n",
    "\n",
    "a) Calculate the work function, $\\phi$, for each metal, and the relative errors with respect to the known values (use the Internet to research what these values are). Remember that the work function is the (threshold) energy needed to remove electrons from the metal piece.\n",
    "\n",
    "\n",
    "b) Calculate the cutoff wavelength, $\\lambda_{\\rm cutoff}$, for each metal. Remember that the cutoff wavelength is the critical wavelength needed to remove electrons from the metal piece, above which we do not remove any.\n",
    "\n",
    "\n",
    "c) Calculate the maximum speed of the electrons ejected from the metal pieces for two light beams of $\\lambda_1=300\\rm nm$ and $\\lambda_2=700\\rm nm$.\n",
    "\n",
    "\n",
    "d) Make a combined graph of $K_{\\rm max}$ versus $\\lambda$, for both metals, labeling the data points for both light beams."
   ]
  }
 ],
 "metadata": {
  "kernelspec": {
   "display_name": "Python 3",
   "language": "python",
   "name": "python3"
  },
  "language_info": {
   "codemirror_mode": {
    "name": "ipython",
    "version": 3
   },
   "file_extension": ".py",
   "mimetype": "text/x-python",
   "name": "python",
   "nbconvert_exporter": "python",
   "pygments_lexer": "ipython3",
   "version": "3.7.10"
  }
 },
 "nbformat": 4,
 "nbformat_minor": 5
}
