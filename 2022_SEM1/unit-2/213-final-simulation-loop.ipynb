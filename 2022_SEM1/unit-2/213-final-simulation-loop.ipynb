{
 "cells": [
  {
   "cell_type": "markdown",
   "id": "071b8901",
   "metadata": {},
   "source": [
    "# Loop over simulation files + Analysis"
   ]
  },
  {
   "cell_type": "code",
   "execution_count": 1,
   "id": "c60eba78",
   "metadata": {},
   "outputs": [],
   "source": [
    "import pyvista as pv\n",
    "\n",
    "import pandas as pd\n",
    "\n",
    "import numpy as np\n",
    "\n",
    "import os\n",
    "\n",
    "import matplotlib.pyplot as plt"
   ]
  },
  {
   "cell_type": "markdown",
   "id": "8d13abc8",
   "metadata": {},
   "source": [
    "## Read  Units (units.out)"
   ]
  },
  {
   "cell_type": "code",
   "execution_count": 2,
   "id": "b1d5b48b",
   "metadata": {},
   "outputs": [],
   "source": [
    "units_data = pd.read_csv(\"./TURB_DRIVE_SUP/units.out\")\n",
    "\n",
    "rho_00   = np.array(units_data.loc[units_data[\"variable\"] == \"rho_0\"][\"normalisation\"])\n",
    "vel_00   = np.array(units_data.loc[units_data[\"variable\"] == \"v_0\"][\"normalisation\"])\n",
    "len_00   = np.array(units_data.loc[units_data[\"variable\"] == \"L_0\"][\"normalisation\"])\n",
    "c_iso   = np.array(units_data.loc[units_data[\"variable\"] == \"c_iso\"][\"normalisation\"])\n",
    "\n",
    "tim_00 = (len_00/vel_00)\n",
    "bfi_00 = (np.sqrt(4*np.pi*rho_00*vel_00**2))\n"
   ]
  },
  {
   "cell_type": "markdown",
   "id": "19ad25dd",
   "metadata": {},
   "source": [
    "## Read  times (second column vtk.out)"
   ]
  },
  {
   "cell_type": "code",
   "execution_count": 6,
   "id": "82fea229",
   "metadata": {},
   "outputs": [
    {
     "name": "stdout",
     "output_type": "stream",
     "text": [
      "0      0.000000e+00\n",
      "1      5.614773e+10\n",
      "2      1.123438e+11\n",
      "3      1.828149e+11\n",
      "4      2.443480e+11\n",
      "           ...     \n",
      "96     5.920976e+12\n",
      "97     5.982550e+12\n",
      "98     6.044594e+12\n",
      "99     6.110076e+12\n",
      "100    6.172000e+12\n",
      "Name: 1, Length: 101, dtype: float64\n"
     ]
    }
   ],
   "source": [
    "time_data = pd.read_csv(\"./TURB_DRIVE_SUP/vtk.out\", sep='\\s+', header=None)\n",
    "\n",
    "time_code = time_data.iloc[:,1]\n",
    "\n",
    "time_cgs = time_code*tim_00\n",
    "\n",
    "print(time_cgs)"
   ]
  },
  {
   "cell_type": "code",
   "execution_count": 11,
   "id": "78224924",
   "metadata": {},
   "outputs": [
    {
     "name": "stdout",
     "output_type": "stream",
     "text": [
      "6172000000000.0\n"
     ]
    }
   ],
   "source": [
    "print(np.max(time_cgs))"
   ]
  },
  {
   "cell_type": "code",
   "execution_count": 12,
   "id": "5f57ffe0",
   "metadata": {},
   "outputs": [
    {
     "name": "stdout",
     "output_type": "stream",
     "text": [
      "Directory is being created.\n"
     ]
    }
   ],
   "source": [
    "if os.path.isdir(\"./TURB_DRIVE_SUP/Figures1\"):\n",
    "    print(\"Directory already exists.\")\n",
    "else:\n",
    "    print(\"Directory is being created.\")\n",
    "    os.mkdir(\"./TURB_DRIVE_SUP/Figures1\")"
   ]
  },
  {
   "cell_type": "code",
   "execution_count": 14,
   "id": "6f03518a",
   "metadata": {},
   "outputs": [
    {
     "name": "stdout",
     "output_type": "stream",
     "text": [
      "             time     Av. Dens.    Std. Dens.\n",
      "0    0.000000e+00  1.660000e-24  3.673420e-40\n",
      "1    5.614773e+10  1.660000e-24  4.354185e-27\n",
      "2    1.123438e+11  1.660000e-24  1.526532e-26\n",
      "3    1.828149e+11  1.660000e-24  3.950658e-26\n",
      "4    2.443480e+11  1.660000e-24  7.787190e-26\n",
      "..            ...           ...           ...\n",
      "96   5.920976e+12  1.660000e-24  1.634459e-24\n",
      "97   5.982550e+12  1.660000e-24  1.621632e-24\n",
      "98   6.044594e+12  1.660000e-24  1.609173e-24\n",
      "99   6.110076e+12  1.660000e-24  1.607816e-24\n",
      "100  6.172000e+12  1.660000e-24  1.617887e-24\n",
      "\n",
      "[101 rows x 3 columns]\n"
     ]
    }
   ],
   "source": [
    "### Create empty lists\n",
    "\n",
    "t_list = []\n",
    "\n",
    "av_list = []\n",
    "\n",
    "std_list = []\n",
    "\n",
    "rms_mach_list = []\n",
    "\n",
    "\n",
    "for i in range(0,101):\n",
    "    \n",
    "    filename = \"./TURB_DRIVE_SUP/data.0{:03d}.vtk\".format(i) \n",
    "    \n",
    "    #print(filename)\n",
    "    \n",
    "    # Opening the mesh\n",
    "    mesh = pv.read(filename)\n",
    "    \n",
    "    # Getting the data arrays\n",
    "    rho = pv.get_array(mesh, \"rho\", preference = 'cell') #density in code units\n",
    "    vx1 = pv.get_array(mesh, \"vx1\", preference = 'cell') #vx in code units\n",
    "    vx2 = pv.get_array(mesh, \"vx2\", preference = 'cell') #vy in code units    \n",
    "    \n",
    "    # Convert the arrays to 2D\n",
    "    rho_2D = rho.reshape(mesh.dimensions[0] - 1, mesh.dimensions[1] - 1)\n",
    "    vx1_2D = vx1.reshape(mesh.dimensions[0] - 1, mesh.dimensions[1] - 1)\n",
    "    vx2_2D = vx2.reshape(mesh.dimensions[0] - 1, mesh.dimensions[1] - 1)\n",
    "    \n",
    "    # Convert arrays to CGS units\n",
    "    rho_cgs2D = rho_2D*rho_00\n",
    "    vx1_cgs2D = vx1_2D*vel_00\n",
    "    vx2_cgs2D = vx2_2D*vel_00\n",
    "    \n",
    "    # Get i time\n",
    "    time_i = time_cgs[i]\n",
    "    \n",
    "    \n",
    "    # Diagnostics\n",
    "    av_density  = np.mean(rho_cgs2D)\n",
    "    std_density = np.std(rho_cgs2D)\n",
    "    \n",
    "    modulus_velocity = np.sqrt(vx1_cgs2D**2 + vx2_cgs2D**2)\n",
    "    rms_mach = np.mean(modulus_velocity)/c_iso\n",
    "    \n",
    "    #print(av_density, std_density)\n",
    "    \n",
    "    # Fill up our empy lists\n",
    "    \n",
    "    t_list.append(time_i)\n",
    "    av_list.append(av_density)\n",
    "    std_list.append(std_density)\n",
    "    rms_mach_list.append(rms_mach)\n",
    "    \n",
    "    # PLotting\n",
    "    plt.figure(figsize = (16,10))\n",
    "    \n",
    "    plt.plot(t_list, std_list)\n",
    "    \n",
    "    plt.xlim(0, np.max(time_cgs))\n",
    "    plt.ylim(1.e-26, 2.e-24)\n",
    "    plt.savefig(\"./TURB_DRIVE_SUP/Figures1/std_dens{:03d}.png\".format(i))\n",
    "    plt.close()\n",
    "    \n",
    "\n",
    "    plt.figure(figsize = (16,10))\n",
    "    \n",
    "    plt.plot(t_list, rms_mach_list)\n",
    "    \n",
    "    plt.xlim(0, np.max(time_cgs))\n",
    "    plt.ylim(0, 2)\n",
    "    plt.savefig(\"./TURB_DRIVE_SUP/Figures1/rms_mach{:03d}.png\".format(i))\n",
    "    plt.close()\n",
    "    \n",
    "# Outside the loop, we create a data frame:\n",
    "\n",
    "df = pd.DataFrame({'time': t_list, 'Av. Dens.': av_list, 'Std. Dens.': std_list})\n",
    "\n",
    "df.to_csv(\"datos1.csv\", sep=',', float_format='{:.2e}'.format)\n",
    "print(df)"
   ]
  },
  {
   "cell_type": "code",
   "execution_count": null,
   "id": "46876e28",
   "metadata": {},
   "outputs": [],
   "source": [
    "\n"
   ]
  }
 ],
 "metadata": {
  "kernelspec": {
   "display_name": "Python 3",
   "language": "python",
   "name": "python3"
  },
  "language_info": {
   "codemirror_mode": {
    "name": "ipython",
    "version": 3
   },
   "file_extension": ".py",
   "mimetype": "text/x-python",
   "name": "python",
   "nbconvert_exporter": "python",
   "pygments_lexer": "ipython3",
   "version": "3.7.10"
  }
 },
 "nbformat": 4,
 "nbformat_minor": 5
}
