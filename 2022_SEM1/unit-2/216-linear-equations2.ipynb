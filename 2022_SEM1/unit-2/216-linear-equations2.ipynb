{
 "cells": [
  {
   "cell_type": "markdown",
   "id": "b5fb15d8",
   "metadata": {},
   "source": [
    "# Linear equation systems #2\n",
    "\n",
    "Solve for x and y:\n",
    "\n",
    "$a_{11}x + a_{12}y = b_1$ \n",
    "\n",
    "$a_{21}x + a_{22}y = b_2$"
   ]
  },
  {
   "cell_type": "markdown",
   "id": "992c5fde",
   "metadata": {},
   "source": [
    "## Example:\n",
    "\n",
    "Solve:\n",
    "\n",
    "$4x + 5y = -2$\n",
    "\n",
    "$2x -3y = 1$ "
   ]
  },
  {
   "cell_type": "code",
   "execution_count": 1,
   "id": "e71a9cf5",
   "metadata": {},
   "outputs": [],
   "source": [
    "import matplotlib.pyplot as plt\n",
    "\n",
    "import numpy as np"
   ]
  },
  {
   "cell_type": "markdown",
   "id": "7617ae3a",
   "metadata": {},
   "source": [
    "### 1. Graphic solution:"
   ]
  },
  {
   "cell_type": "code",
   "execution_count": 2,
   "id": "600bdd0a",
   "metadata": {},
   "outputs": [],
   "source": [
    "x = np.arange(-5, 5, 0.01)\n"
   ]
  },
  {
   "cell_type": "code",
   "execution_count": 3,
   "id": "f500ac30",
   "metadata": {},
   "outputs": [],
   "source": [
    "y1 = (-4*x - 2)/5\n",
    "\n",
    "y2 = (2*x - 1)/3"
   ]
  },
  {
   "cell_type": "code",
   "execution_count": 4,
   "id": "670fdcce",
   "metadata": {},
   "outputs": [
    {
     "name": "stdout",
     "output_type": "stream",
     "text": [
      "-0.050000000000105516 -0.3599999999999156\n"
     ]
    }
   ],
   "source": [
    "idx = np.argwhere(np.diff(np.sign(y2 - y1))).flatten()\n",
    "print(float(x[idx]), float(y1[idx]))"
   ]
  },
  {
   "cell_type": "code",
   "execution_count": 5,
   "id": "61e537a4",
   "metadata": {},
   "outputs": [
    {
     "data": {
      "image/png": "[encoded data removed]",
      "text/plain": [
       "<Figure size 600x400 with 1 Axes>"
      ]
     },
     "metadata": {},
     "output_type": "display_data"
    }
   ],
   "source": [
    "fig, ax = plt.subplots(figsize=(6,4))\n",
    "ax.plot(x, y1)\n",
    "ax.plot(x, y2)\n",
    "\n",
    "ax.plot(x[idx], y1[idx], 'd', c = 'red')\n",
    "plt.show()"
   ]
  },
  {
   "cell_type": "markdown",
   "id": "f1b219b2",
   "metadata": {},
   "source": [
    "## 4. LU decomposition method:"
   ]
  },
  {
   "cell_type": "markdown",
   "id": "410798fa",
   "metadata": {},
   "source": [
    "## Example:\n",
    "\n",
    "Solve:\n",
    "\n",
    "$4x + 5y = -2$\n",
    "\n",
    "$2x -3y = 1$ "
   ]
  },
  {
   "cell_type": "code",
   "execution_count": 6,
   "id": "7c36858b",
   "metadata": {},
   "outputs": [
    {
     "name": "stdout",
     "output_type": "stream",
     "text": [
      "[[ 4  5]\n",
      " [ 2 -3]]\n"
     ]
    }
   ],
   "source": [
    "A = np.array([[4, 5], [2, -3]])\n",
    "\n",
    "print(A)"
   ]
  },
  {
   "cell_type": "code",
   "execution_count": 7,
   "id": "c2a478c0",
   "metadata": {},
   "outputs": [
    {
     "name": "stdout",
     "output_type": "stream",
     "text": [
      "[[-2]\n",
      " [ 1]]\n"
     ]
    }
   ],
   "source": [
    "b = np.array([[-2, 1]]).T\n",
    "\n",
    "print(b)"
   ]
  },
  {
   "cell_type": "markdown",
   "id": "5cc7c92a",
   "metadata": {},
   "source": [
    "### Use: https://docs.scipy.org/doc/scipy/reference/generated/scipy.linalg.lu.html"
   ]
  },
  {
   "cell_type": "code",
   "execution_count": 8,
   "id": "c7f6d0f8",
   "metadata": {},
   "outputs": [],
   "source": [
    "import scipy.linalg  "
   ]
  },
  {
   "cell_type": "code",
   "execution_count": 9,
   "id": "196ac025",
   "metadata": {},
   "outputs": [],
   "source": [
    "P, L, U = scipy.linalg.lu(A)"
   ]
  },
  {
   "cell_type": "code",
   "execution_count": 10,
   "id": "535ea4af",
   "metadata": {},
   "outputs": [
    {
     "name": "stdout",
     "output_type": "stream",
     "text": [
      "[[1. 0.]\n",
      " [0. 1.]]\n"
     ]
    }
   ],
   "source": [
    "print(P)"
   ]
  },
  {
   "cell_type": "code",
   "execution_count": 11,
   "id": "738f32b0",
   "metadata": {},
   "outputs": [
    {
     "name": "stdout",
     "output_type": "stream",
     "text": [
      "[[1.  0. ]\n",
      " [0.5 1. ]]\n"
     ]
    }
   ],
   "source": [
    "print(L)"
   ]
  },
  {
   "cell_type": "code",
   "execution_count": 12,
   "id": "b56211e4",
   "metadata": {},
   "outputs": [
    {
     "name": "stdout",
     "output_type": "stream",
     "text": [
      "[[ 4.   5. ]\n",
      " [ 0.  -5.5]]\n"
     ]
    }
   ],
   "source": [
    "print(U)"
   ]
  },
  {
   "cell_type": "code",
   "execution_count": 13,
   "id": "0a436938",
   "metadata": {},
   "outputs": [
    {
     "name": "stdout",
     "output_type": "stream",
     "text": [
      "[[ 4.  5.]\n",
      " [ 2. -3.]]\n"
     ]
    }
   ],
   "source": [
    "A1 = P @ L @ U\n",
    "\n",
    "print(A1)"
   ]
  },
  {
   "cell_type": "code",
   "execution_count": 14,
   "id": "43a44015",
   "metadata": {},
   "outputs": [
    {
     "name": "stdout",
     "output_type": "stream",
     "text": [
      "[[ 2 -3]\n",
      " [ 4  5]]\n"
     ]
    }
   ],
   "source": [
    "A2 = np.array([[2, -3], [4, 5]])\n",
    "\n",
    "print(A2)"
   ]
  },
  {
   "cell_type": "code",
   "execution_count": 15,
   "id": "2aa5ca8a",
   "metadata": {},
   "outputs": [],
   "source": [
    "P2, L2, U2 = scipy.linalg.lu(A2)"
   ]
  },
  {
   "cell_type": "code",
   "execution_count": 16,
   "id": "24c3e434",
   "metadata": {},
   "outputs": [
    {
     "name": "stdout",
     "output_type": "stream",
     "text": [
      "[[0. 1.]\n",
      " [1. 0.]]\n"
     ]
    }
   ],
   "source": [
    "print(P2)"
   ]
  },
  {
   "cell_type": "code",
   "execution_count": 17,
   "id": "ca88daf5",
   "metadata": {},
   "outputs": [
    {
     "name": "stdout",
     "output_type": "stream",
     "text": [
      "[[ 2. -3.]\n",
      " [ 4.  5.]]\n"
     ]
    }
   ],
   "source": [
    "A2 = P2 @L2 @ U2\n",
    "\n",
    "print(A2)"
   ]
  },
  {
   "cell_type": "code",
   "execution_count": 18,
   "id": "2c155f1f",
   "metadata": {},
   "outputs": [],
   "source": [
    "Linv = np.linalg.inv(L)\n",
    "\n",
    "Uinv = np.linalg.inv(U)"
   ]
  },
  {
   "cell_type": "code",
   "execution_count": 19,
   "id": "a9839108",
   "metadata": {},
   "outputs": [
    {
     "name": "stdout",
     "output_type": "stream",
     "text": [
      "[[ 1.   0. ]\n",
      " [-0.5  1. ]]\n"
     ]
    }
   ],
   "source": [
    "print(Linv)"
   ]
  },
  {
   "cell_type": "code",
   "execution_count": 20,
   "id": "bae78bd1",
   "metadata": {},
   "outputs": [
    {
     "name": "stdout",
     "output_type": "stream",
     "text": [
      "[[ 0.25        0.22727273]\n",
      " [-0.         -0.18181818]]\n"
     ]
    }
   ],
   "source": [
    "print(Uinv)"
   ]
  },
  {
   "cell_type": "code",
   "execution_count": 21,
   "id": "e04aabde",
   "metadata": {},
   "outputs": [
    {
     "name": "stdout",
     "output_type": "stream",
     "text": [
      "[[-2.]\n",
      " [ 2.]]\n"
     ]
    }
   ],
   "source": [
    "y = Linv @ b\n",
    "\n",
    "print(y)"
   ]
  },
  {
   "cell_type": "code",
   "execution_count": 22,
   "id": "ecd6c94e",
   "metadata": {},
   "outputs": [
    {
     "name": "stdout",
     "output_type": "stream",
     "text": [
      "[[-0.04545455]\n",
      " [-0.36363636]]\n"
     ]
    }
   ],
   "source": [
    "x_sln = Uinv @ y\n",
    "\n",
    "print(x_sln)"
   ]
  },
  {
   "cell_type": "markdown",
   "id": "36b8bf02",
   "metadata": {},
   "source": [
    "## Example:\n",
    "\n",
    "$4x + 3y + 2z = 25$\n",
    "\n",
    "$3x -5y + 2z = -4$\n",
    "\n",
    "$-2x + 2y + 3z = -10$"
   ]
  },
  {
   "cell_type": "code",
   "execution_count": 23,
   "id": "05f5d4df",
   "metadata": {},
   "outputs": [],
   "source": [
    "A = np.array([[4, 3, 2], [3, -5, 2], [-2, 2, 3]])"
   ]
  },
  {
   "cell_type": "code",
   "execution_count": 24,
   "id": "0a8a1d6d",
   "metadata": {},
   "outputs": [
    {
     "name": "stdout",
     "output_type": "stream",
     "text": [
      "[[ 25]\n",
      " [ -4]\n",
      " [-10]]\n"
     ]
    }
   ],
   "source": [
    "b = np.array([[25], [-4], [-10]])\n",
    "\n",
    "print(b)"
   ]
  },
  {
   "cell_type": "code",
   "execution_count": 25,
   "id": "ec26d0a9",
   "metadata": {},
   "outputs": [],
   "source": [
    "P, L, U = scipy.linalg.lu(A)"
   ]
  },
  {
   "cell_type": "code",
   "execution_count": 26,
   "id": "5a61fd68",
   "metadata": {},
   "outputs": [
    {
     "name": "stdout",
     "output_type": "stream",
     "text": [
      "[[1. 0. 0.]\n",
      " [0. 1. 0.]\n",
      " [0. 0. 1.]]\n"
     ]
    }
   ],
   "source": [
    "print(P)"
   ]
  },
  {
   "cell_type": "code",
   "execution_count": 27,
   "id": "60919397",
   "metadata": {},
   "outputs": [
    {
     "name": "stdout",
     "output_type": "stream",
     "text": [
      "[[ 1.          0.          0.        ]\n",
      " [ 0.75        1.          0.        ]\n",
      " [-0.5        -0.48275862  1.        ]]\n"
     ]
    }
   ],
   "source": [
    "print(L)"
   ]
  },
  {
   "cell_type": "code",
   "execution_count": 28,
   "id": "13c18c64",
   "metadata": {},
   "outputs": [
    {
     "name": "stdout",
     "output_type": "stream",
     "text": [
      "[[ 4.          3.          2.        ]\n",
      " [ 0.         -7.25        0.5       ]\n",
      " [ 0.          0.          4.24137931]]\n"
     ]
    }
   ],
   "source": [
    "print(U)"
   ]
  },
  {
   "cell_type": "code",
   "execution_count": 29,
   "id": "6c8728ea",
   "metadata": {},
   "outputs": [
    {
     "name": "stdout",
     "output_type": "stream",
     "text": [
      "[[ 1.          0.          0.        ]\n",
      " [-0.75        1.          0.        ]\n",
      " [ 0.13793103  0.48275862  1.        ]]\n",
      "[[ 0.25        0.10344828 -0.1300813 ]\n",
      " [-0.         -0.13793103  0.01626016]\n",
      " [ 0.          0.          0.23577236]]\n"
     ]
    }
   ],
   "source": [
    "Linv = np.linalg.inv(L)\n",
    "Uinv = np.linalg.inv(U)\n",
    "\n",
    "print(Linv)\n",
    "print(Uinv)"
   ]
  },
  {
   "cell_type": "code",
   "execution_count": 30,
   "id": "ad23d915",
   "metadata": {},
   "outputs": [
    {
     "name": "stdout",
     "output_type": "stream",
     "text": [
      "[[ 25.        ]\n",
      " [-22.75      ]\n",
      " [ -8.48275862]]\n"
     ]
    }
   ],
   "source": [
    "yy = Linv @ b\n",
    "\n",
    "print(yy)"
   ]
  },
  {
   "cell_type": "code",
   "execution_count": 31,
   "id": "d828e2d7",
   "metadata": {},
   "outputs": [
    {
     "name": "stdout",
     "output_type": "stream",
     "text": [
      "[[ 5.]\n",
      " [ 3.]\n",
      " [-2.]]\n"
     ]
    }
   ],
   "source": [
    "xx_sln = Uinv @ yy\n",
    "\n",
    "print(xx_sln)"
   ]
  },
  {
   "cell_type": "markdown",
   "id": "d7f57a5c",
   "metadata": {},
   "source": [
    "## 5. Gauss elimination method:\n",
    "\n",
    "\n",
    "Documentation: \n",
    "\n",
    "https://pythonnumericalmethods.berkeley.edu/notebooks/chapter14.04-Solutions-to-Systems-of-Linear-Equations.html\n",
    "\n",
    "\n",
    "Code reference:\n",
    "\n",
    "https://www.delftstack.com/howto/python/gaussian-elimination-using-pivoting/\n"
   ]
  },
  {
   "cell_type": "code",
   "execution_count": 32,
   "id": "61a29ad9",
   "metadata": {},
   "outputs": [
    {
     "name": "stdout",
     "output_type": "stream",
     "text": [
      "Solution by NumPy:\n",
      "[ 5.  3. -2.]\n"
     ]
    }
   ],
   "source": [
    "#from numpy import array, zeros, fabs, linalg\n",
    "\n",
    "a = np.array([[4, 3, 2], [3, -5, 2], [-2, 2, 3]], float)\n",
    "#the b matrix constant terms of the equations \n",
    "b = np.array([25, -4, -10], float)\n",
    "\n",
    "print(\"Solution by NumPy:\")\n",
    "print(np.linalg.solve(a, b))"
   ]
  },
  {
   "cell_type": "code",
   "execution_count": 33,
   "id": "d52af212",
   "metadata": {},
   "outputs": [],
   "source": [
    "from numpy import array, zeros, fabs, linalg"
   ]
  },
  {
   "cell_type": "code",
   "execution_count": 34,
   "id": "ed486152",
   "metadata": {},
   "outputs": [
    {
     "name": "stdout",
     "output_type": "stream",
     "text": [
      "The solution of the system is: [ 5.  3. -2.]\n"
     ]
    }
   ],
   "source": [
    "n = len(b)\n",
    "x = zeros(n, float)\n",
    "\n",
    "#first loop specifys the fixed row\n",
    "for k in range(n-1):\n",
    "    if fabs(a[k,k]) < 1.0e-12:\n",
    "        \n",
    "        for i in range(k+1, n):\n",
    "            if fabs(a[i,k]) > fabs(a[k,k]):\n",
    "                a[[k,i]] = a[[i,k]]\n",
    "                b[[k,i]] = b[[i,k]]\n",
    "                break\n",
    "\n",
    " #applies the elimination below the fixed row\n",
    "\n",
    "    for i in range(k+1,n):\n",
    "        if a[i,k] == 0:continue\n",
    "\n",
    "        factor = a[k,k]/a[i,k]\n",
    "        for j in range(k,n):\n",
    "            a[i,j] = a[k,j] - a[i,j]*factor\n",
    "            #we also calculate the b vector of each row\n",
    "        b[i] = b[k] - b[i]*factor\n",
    "#print(a)\n",
    "#print(b)\n",
    "\n",
    "\n",
    "x[n-1] = b[n-1] / a[n-1, n-1]\n",
    "for i in range(n-2, -1, -1):\n",
    "    sum_ax = 0\n",
    "  \n",
    "    for j in range(i+1, n):\n",
    "        sum_ax += a[i,j] * x[j]\n",
    "        \n",
    "    x[i] = (b[i] - sum_ax) / a[i,i]\n",
    "\n",
    "print(\"The solution of the system is:\", x)"
   ]
  },
  {
   "cell_type": "markdown",
   "id": "be6306fb",
   "metadata": {},
   "source": [
    "## 6. Gauss-Jordan Method:"
   ]
  },
  {
   "cell_type": "code",
   "execution_count": 35,
   "id": "ab2b9a9d",
   "metadata": {},
   "outputs": [],
   "source": [
    "def showMatrix():\n",
    "    print(\"\\n\")\n",
    "    for i in sd:\n",
    "        for j in i:\n",
    "            print(j, end=\"\\t\\t\")\n",
    "        print(\"\\n\")\n",
    "\n",
    "\n",
    "def getone(pp):\n",
    "    for i in range(len(sd[0])):\n",
    "        if sd[pp][pp] != 1:\n",
    "            q00 = sd[pp][pp]\n",
    "\n",
    "            for j in range(len(sd[0])):\n",
    "                sd[pp][j] = sd[pp][j] / q00\n",
    "\n",
    "\n",
    "def getzero(r, c):\n",
    "    for i in range(len(sd[0])):\n",
    "        if sd[r][c] != 0:\n",
    "            q04 = sd[r][c]\n",
    "    \n",
    "            for j in range(len(sd[0])):\n",
    "                sd[r][j] = sd[r][j] - ((q04) * sd[c][j])"
   ]
  },
  {
   "cell_type": "code",
   "execution_count": 36,
   "id": "ac02410d",
   "metadata": {},
   "outputs": [
    {
     "name": "stdout",
     "output_type": "stream",
     "text": [
      "\n",
      "\n",
      "4\t\t3\t\t2\t\t25\t\t\n",
      "\n",
      "3\t\t-5\t\t2\t\t-4\t\t\n",
      "\n",
      "-2\t\t2\t\t3\t\t-10\t\t\n",
      "\n"
     ]
    }
   ],
   "source": [
    "[[4, 3, 2], [3, -5, 2], [-2, 2, 3]]\n",
    "\n",
    "# 3 x 3\n",
    "sd = [\n",
    "    [4, 3, 2, 25],\n",
    "    [3, -5, 2, -4],\n",
    "    [-2, 2, 3, -10]\n",
    "]\n",
    "\n",
    "showMatrix()"
   ]
  },
  {
   "cell_type": "code",
   "execution_count": 37,
   "id": "3c746525",
   "metadata": {},
   "outputs": [
    {
     "name": "stdout",
     "output_type": "stream",
     "text": [
      "\n",
      "\n",
      "1.0\t\t0.0\t\t0.0\t\t5.0\t\t\n",
      "\n",
      "0.0\t\t1.0\t\t0.0\t\t3.0\t\t\n",
      "\n",
      "0.0\t\t0.0\t\t1.0\t\t-2.0\t\t\n",
      "\n"
     ]
    }
   ],
   "source": [
    "for i in range(len(sd)):\n",
    "    getone(i)\n",
    "\n",
    "    for j in range(len(sd)):\n",
    "        if i != j:\n",
    "            getzero(j, i)\n",
    "\n",
    "showMatrix()"
   ]
  },
  {
   "cell_type": "markdown",
   "id": "f56036c6",
   "metadata": {},
   "source": [
    "## 6. Gauss-Seidel Method\n",
    "\n",
    "The Gauss-Seidel Method is a specific iterative method, that is always using the latest estimated value for each elements in 𝑥. \n",
    "\n",
    "Documentation and code reference:\n",
    "\n",
    "https://pythonnumericalmethods.berkeley.edu/notebooks/chapter14.04-Solutions-to-Systems-of-Linear-Equations.html"
   ]
  },
  {
   "cell_type": "markdown",
   "id": "5186e8db",
   "metadata": {},
   "source": [
    "## Example:\n",
    "\n",
    "Solve:\n",
    "\n",
    "$8x+3y-3z=14$\n",
    "\n",
    "$-2x+8y+5z=5$\n",
    "\n",
    "$3x+5y+10z=-8$"
   ]
  },
  {
   "cell_type": "code",
   "execution_count": 38,
   "id": "b4311885",
   "metadata": {},
   "outputs": [
    {
     "name": "stdout",
     "output_type": "stream",
     "text": [
      "Solution by NumPy:\n",
      "[ 0.36012365  1.86553323 -1.84080371]\n"
     ]
    }
   ],
   "source": [
    "\n",
    "AA = np.array([[8, 3, -3], [-2, 8, 5], [3, 5, 10]], float)\n",
    "#the b matrix constant terms of the equations \n",
    "BB = np.array([14, 5, -8], float)\n",
    "\n",
    "\n",
    "sln = np.linalg.solve(AA, BB)\n",
    "print(\"Solution by NumPy:\")\n",
    "#print(np.linalg.solve(AA, BB))\n",
    "print(sln)"
   ]
  },
  {
   "cell_type": "code",
   "execution_count": 39,
   "id": "93938d89",
   "metadata": {},
   "outputs": [
    {
     "name": "stdout",
     "output_type": "stream",
     "text": [
      "matrix is diagonally dominant\n"
     ]
    }
   ],
   "source": [
    "a = [[8, 3, -3], [-2, -8, 5], [3, 5, 10]]\n",
    "\n",
    "# Find diagonal coefficients\n",
    "diag = np.diag(np.abs(a)) \n",
    "\n",
    "# Find row sum without diagonal\n",
    "off_diag = np.sum(np.abs(a), axis=1) - diag \n",
    "\n",
    "if np.all(diag > off_diag):\n",
    "    print('matrix is diagonally dominant')\n",
    "else:\n",
    "    print('NOT diagonally dominant')"
   ]
  },
  {
   "cell_type": "code",
   "execution_count": 40,
   "id": "bd6dc201",
   "metadata": {},
   "outputs": [
    {
     "name": "stdout",
     "output_type": "stream",
     "text": [
      "Iteration results\n",
      " k,    x1,     x2,     x3\n"
     ]
    }
   ],
   "source": [
    "x1 = 0\n",
    "x2 = 0\n",
    "x3 = 0\n",
    "\n",
    "epsilon = 0.000001\n",
    "converged = False\n",
    "\n",
    "x_old = np.array([x1, x2, x3]) # my guess\n",
    "\n",
    "print('Iteration results')\n",
    "print(' k,    x1,     x2,     x3')"
   ]
  },
  {
   "cell_type": "code",
   "execution_count": 41,
   "id": "9e5c60a1",
   "metadata": {},
   "outputs": [
    {
     "name": "stdout",
     "output_type": "stream",
     "text": [
      "1, 1.7500, 1.0625, -1.8562\n",
      "2, 0.6555, 1.9490, -1.9712\n",
      "3, 0.2799, 1.9270, -1.8475\n",
      "4, 0.3346, 1.8633, -1.8320\n",
      "5, 0.3642, 1.8611, -1.8398\n",
      "6, 0.3622, 1.8654, -1.8414\n",
      "7, 0.3600, 1.8658, -1.8409\n",
      "8, 0.3600, 1.8656, -1.8408\n",
      "9, 0.3601, 1.8655, -1.8408\n",
      "10, 0.3601, 1.8655, -1.8408\n",
      "11, 0.3601, 1.8655, -1.8408\n",
      "12, 0.3601, 1.8655, -1.8408\n",
      "13, 0.3601, 1.8655, -1.8408\n",
      "Converged!\n"
     ]
    }
   ],
   "source": [
    "for k in range(1, 50):\n",
    "    x1 = (14 - 3*x2 + 3*x3)/8\n",
    "    x2 = (5 + 2*x1 - 5*x3)/8\n",
    "    x3 = (-8 -3*x1 - 5*x2)/10\n",
    "    x = np.array([x1, x2, x3])\n",
    "    \n",
    "    # check if it is smaller than threshold\n",
    "    dx = np.sqrt(np.dot(x - x_old, x - x_old))\n",
    "    \n",
    "    print(\"%d, %.4f, %.4f, %.4f\"%(k, x1, x2, x3))\n",
    "    \n",
    "    \n",
    "    if dx < epsilon:\n",
    "        converged = True\n",
    "        print('Converged!')\n",
    "        break\n",
    "    \n",
    "        # assign the latest x value to the old value\n",
    "    x_old = x\n",
    "    \n",
    "if not converged:\n",
    "    print('Not converge, increase the # of iterations')"
   ]
  }
 ],
 "metadata": {
  "kernelspec": {
   "display_name": "Python 3",
   "language": "python",
   "name": "python3"
  },
  "language_info": {
   "codemirror_mode": {
    "name": "ipython",
    "version": 3
   },
   "file_extension": ".py",
   "mimetype": "text/x-python",
   "name": "python",
   "nbconvert_exporter": "python",
   "pygments_lexer": "ipython3",
   "version": "3.7.10"
  }
 },
 "nbformat": 4,
 "nbformat_minor": 5
}
