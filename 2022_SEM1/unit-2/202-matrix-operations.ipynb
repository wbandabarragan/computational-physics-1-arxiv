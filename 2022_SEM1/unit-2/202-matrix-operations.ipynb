{
 "cells": [
  {
   "cell_type": "markdown",
   "id": "432c4344",
   "metadata": {},
   "source": [
    "# Matrix algebra in Python"
   ]
  },
  {
   "cell_type": "markdown",
   "id": "0321a238",
   "metadata": {},
   "source": [
    "## 1. Numpy arrays\n",
    "\n",
    "We will use Numpy arrays."
   ]
  },
  {
   "cell_type": "code",
   "execution_count": 1,
   "id": "5cc0508f",
   "metadata": {},
   "outputs": [],
   "source": [
    "import numpy as np"
   ]
  },
  {
   "cell_type": "code",
   "execution_count": 2,
   "id": "1855573c",
   "metadata": {},
   "outputs": [
    {
     "name": "stdout",
     "output_type": "stream",
     "text": [
      "[-1, 5, -2, 3, 4, -9, 7, 6]\n",
      "<class 'list'>\n"
     ]
    }
   ],
   "source": [
    "# Create a list\n",
    "a = [-1,5,-2,3,4,-9,7,6]\n",
    "\n",
    "print(a)\n",
    "print(type(a))"
   ]
  },
  {
   "cell_type": "code",
   "execution_count": 3,
   "id": "8bfc9820",
   "metadata": {},
   "outputs": [
    {
     "name": "stdout",
     "output_type": "stream",
     "text": [
      "<class 'numpy.ndarray'>\n"
     ]
    }
   ],
   "source": [
    "# Into a numpy array\n",
    "\n",
    "A = np.array(a)\n",
    "\n",
    "print(type(A))"
   ]
  },
  {
   "cell_type": "code",
   "execution_count": 4,
   "id": "2d6de753",
   "metadata": {},
   "outputs": [
    {
     "name": "stdout",
     "output_type": "stream",
     "text": [
      "[-1  5 -2  3  4 -9  7  6]\n"
     ]
    }
   ],
   "source": [
    "print(A)"
   ]
  },
  {
   "cell_type": "markdown",
   "id": "ddcc4ec0",
   "metadata": {},
   "source": [
    "If we have Numpy arrays, we can check a lot of properties by calling **array.property**, which we cannot do on e.g. lists.\n",
    "\n",
    "### Check dimensions, shape, size:"
   ]
  },
  {
   "cell_type": "code",
   "execution_count": 5,
   "id": "c94c2d05",
   "metadata": {},
   "outputs": [
    {
     "ename": "AttributeError",
     "evalue": "'list' object has no attribute 'ndim'",
     "output_type": "error",
     "traceback": [
      "\u001b[0;31m---------------------------------------------------------------------------\u001b[0m",
      "\u001b[0;31mAttributeError\u001b[0m                            Traceback (most recent call last)",
      "\u001b[0;32m<ipython-input-5-1ea7350f3015>\u001b[0m in \u001b[0;36m<module>\u001b[0;34m\u001b[0m\n\u001b[0;32m----> 1\u001b[0;31m \u001b[0mprint\u001b[0m\u001b[0;34m(\u001b[0m\u001b[0ma\u001b[0m\u001b[0;34m.\u001b[0m\u001b[0mndim\u001b[0m\u001b[0;34m)\u001b[0m\u001b[0;34m\u001b[0m\u001b[0;34m\u001b[0m\u001b[0m\n\u001b[0m",
      "\u001b[0;31mAttributeError\u001b[0m: 'list' object has no attribute 'ndim'"
     ]
    }
   ],
   "source": [
    "print(a.ndim)"
   ]
  },
  {
   "cell_type": "code",
   "execution_count": 6,
   "id": "dbcf872f",
   "metadata": {},
   "outputs": [
    {
     "name": "stdout",
     "output_type": "stream",
     "text": [
      "1\n"
     ]
    }
   ],
   "source": [
    "print(A.ndim)"
   ]
  },
  {
   "cell_type": "code",
   "execution_count": 7,
   "id": "116fb1fa",
   "metadata": {},
   "outputs": [
    {
     "name": "stdout",
     "output_type": "stream",
     "text": [
      "(8,)\n"
     ]
    }
   ],
   "source": [
    "print(A.shape)"
   ]
  },
  {
   "cell_type": "code",
   "execution_count": 8,
   "id": "f58d462a",
   "metadata": {},
   "outputs": [
    {
     "name": "stdout",
     "output_type": "stream",
     "text": [
      "8\n"
     ]
    }
   ],
   "source": [
    "print(A.size)"
   ]
  },
  {
   "cell_type": "markdown",
   "id": "69815bc0",
   "metadata": {},
   "source": [
    "## 2. Matrices"
   ]
  },
  {
   "cell_type": "code",
   "execution_count": 9,
   "id": "18fb3e9b",
   "metadata": {},
   "outputs": [],
   "source": [
    "B = np.array([[1,2,3,0], [4,5,6,-1], [7,8,9,-2]])"
   ]
  },
  {
   "cell_type": "code",
   "execution_count": 10,
   "id": "c240156b",
   "metadata": {},
   "outputs": [
    {
     "name": "stdout",
     "output_type": "stream",
     "text": [
      "[[ 1  2  3  0]\n",
      " [ 4  5  6 -1]\n",
      " [ 7  8  9 -2]]\n",
      "<class 'numpy.ndarray'>\n"
     ]
    }
   ],
   "source": [
    "print(B)\n",
    "\n",
    "print(type(B))"
   ]
  },
  {
   "cell_type": "code",
   "execution_count": 11,
   "id": "c622c461",
   "metadata": {},
   "outputs": [
    {
     "name": "stdout",
     "output_type": "stream",
     "text": [
      "2\n",
      "(3, 4)\n",
      "12\n"
     ]
    }
   ],
   "source": [
    "print(B.ndim)\n",
    "\n",
    "print(B.shape)\n",
    "\n",
    "print(B.size)"
   ]
  },
  {
   "cell_type": "code",
   "execution_count": 12,
   "id": "8b3efdfe",
   "metadata": {},
   "outputs": [],
   "source": [
    "import matplotlib.pyplot as plt"
   ]
  },
  {
   "cell_type": "code",
   "execution_count": 13,
   "id": "e3265e09",
   "metadata": {},
   "outputs": [
    {
     "data": {
      "image/png": "[encoded data removed]",
      "text/plain": [
       "<Figure size 1000x600 with 1 Axes>"
      ]
     },
     "metadata": {},
     "output_type": "display_data"
    }
   ],
   "source": [
    "# Figure enviroment\n",
    "\n",
    "fig, ax = plt.subplots(figsize=(10,6))\n",
    "ax.imshow(B)\n",
    "plt.show()"
   ]
  },
  {
   "cell_type": "markdown",
   "id": "fce686e7",
   "metadata": {},
   "source": [
    "### Extracting columns:"
   ]
  },
  {
   "cell_type": "code",
   "execution_count": 14,
   "id": "a4092141",
   "metadata": {},
   "outputs": [
    {
     "name": "stdout",
     "output_type": "stream",
     "text": [
      "[[ 1  2  3  0]\n",
      " [ 4  5  6 -1]\n",
      " [ 7  8  9 -2]]\n"
     ]
    }
   ],
   "source": [
    "print(B)\n"
   ]
  },
  {
   "cell_type": "code",
   "execution_count": 15,
   "id": "08744a52",
   "metadata": {},
   "outputs": [
    {
     "name": "stdout",
     "output_type": "stream",
     "text": [
      "[1 4 7]\n",
      "<class 'numpy.ndarray'>\n",
      "1\n"
     ]
    }
   ],
   "source": [
    "col = B[:,0]\n",
    "print(col)\n",
    "print(type(col))\n",
    "print(col.ndim)"
   ]
  },
  {
   "cell_type": "markdown",
   "id": "b01e8008",
   "metadata": {},
   "source": [
    "### Important: Reshaping arrays into 2D (column) vectors"
   ]
  },
  {
   "cell_type": "code",
   "execution_count": 16,
   "id": "70b1dcac",
   "metadata": {},
   "outputs": [
    {
     "name": "stdout",
     "output_type": "stream",
     "text": [
      "[[1]\n",
      " [4]\n",
      " [7]]\n"
     ]
    }
   ],
   "source": [
    "col1 = np.array(col).reshape(3,1)\n",
    "print(col1)"
   ]
  },
  {
   "cell_type": "code",
   "execution_count": 17,
   "id": "3b345913",
   "metadata": {},
   "outputs": [
    {
     "name": "stdout",
     "output_type": "stream",
     "text": [
      "Dimensions: 1\n",
      "Shape: (3,)\n",
      "Size: 3\n"
     ]
    }
   ],
   "source": [
    "print('Dimensions:', col.ndim)\n",
    "print('Shape:', col.shape)\n",
    "print('Size:', col.size)"
   ]
  },
  {
   "cell_type": "code",
   "execution_count": 18,
   "id": "e761f07b",
   "metadata": {},
   "outputs": [
    {
     "name": "stdout",
     "output_type": "stream",
     "text": [
      "Dimensions: 2\n",
      "Shape: (3, 1)\n",
      "Size: 3\n"
     ]
    }
   ],
   "source": [
    "print('Dimensions:', col1.ndim)\n",
    "print('Shape:', col1.shape)\n",
    "print('Size:', col1.size)"
   ]
  },
  {
   "cell_type": "markdown",
   "id": "f520a3bc",
   "metadata": {},
   "source": [
    "#### Therefore, col and col1 are different types of objects with different dimensions, even though they contain the same data."
   ]
  },
  {
   "cell_type": "markdown",
   "id": "05646a69",
   "metadata": {},
   "source": [
    "### Extracting rows:"
   ]
  },
  {
   "cell_type": "code",
   "execution_count": 19,
   "id": "cf8139f3",
   "metadata": {},
   "outputs": [
    {
     "name": "stdout",
     "output_type": "stream",
     "text": [
      "[1 2 3 0]\n",
      "<class 'numpy.ndarray'>\n"
     ]
    }
   ],
   "source": [
    "row1 = B[0,:]\n",
    "\n",
    "print(row1)\n",
    "print(type(row1))"
   ]
  },
  {
   "cell_type": "markdown",
   "id": "a305bf10",
   "metadata": {},
   "source": [
    "## 3. Matrix operations\n",
    "\n",
    "+, -, /, * and ** are performed element-wise in NumPy arrays.\n",
    "\n",
    "Use @ for matrix multiplication"
   ]
  },
  {
   "cell_type": "code",
   "execution_count": 20,
   "id": "ba40f53c",
   "metadata": {},
   "outputs": [
    {
     "name": "stdout",
     "output_type": "stream",
     "text": [
      "(3, 2)\n",
      "[[1 2]\n",
      " [4 5]\n",
      " [7 8]]\n"
     ]
    }
   ],
   "source": [
    "C = np.array([[1,2], [4,5], [7,8]])\n",
    "\n",
    "print(C.shape)\n",
    "print(C)"
   ]
  },
  {
   "cell_type": "markdown",
   "id": "1318176b",
   "metadata": {},
   "source": [
    "#### Examples:"
   ]
  },
  {
   "cell_type": "code",
   "execution_count": 21,
   "id": "a79e413a",
   "metadata": {},
   "outputs": [
    {
     "name": "stdout",
     "output_type": "stream",
     "text": [
      "[[ 2  4]\n",
      " [ 8 10]\n",
      " [14 16]]\n"
     ]
    }
   ],
   "source": [
    "D = C + C\n",
    "\n",
    "print(D)"
   ]
  },
  {
   "cell_type": "code",
   "execution_count": 22,
   "id": "2ac483e8",
   "metadata": {},
   "outputs": [
    {
     "name": "stdout",
     "output_type": "stream",
     "text": [
      "[[0 0]\n",
      " [0 0]\n",
      " [0 0]]\n"
     ]
    }
   ],
   "source": [
    "D = C - C\n",
    "\n",
    "print(D)"
   ]
  },
  {
   "cell_type": "code",
   "execution_count": 23,
   "id": "690b4a34",
   "metadata": {},
   "outputs": [
    {
     "name": "stdout",
     "output_type": "stream",
     "text": [
      "[[ 1  4]\n",
      " [16 25]\n",
      " [49 64]]\n"
     ]
    }
   ],
   "source": [
    "D = C**2 # not equal to CxC, element by element operation.\n",
    "\n",
    "print(D)"
   ]
  },
  {
   "cell_type": "code",
   "execution_count": 24,
   "id": "07166608",
   "metadata": {},
   "outputs": [
    {
     "name": "stdout",
     "output_type": "stream",
     "text": [
      "[[ 1  4]\n",
      " [16 25]\n",
      " [49 64]]\n"
     ]
    }
   ],
   "source": [
    "D = C*C # not equal to CxC, element by element operation.\n",
    "\n",
    "print(D)"
   ]
  },
  {
   "cell_type": "markdown",
   "id": "32728d8b",
   "metadata": {},
   "source": [
    "### Multiplication of matrices (@ operator)"
   ]
  },
  {
   "cell_type": "code",
   "execution_count": 25,
   "id": "39dedddc",
   "metadata": {},
   "outputs": [
    {
     "ename": "ValueError",
     "evalue": "matmul: Input operand 1 has a mismatch in its core dimension 0, with gufunc signature (n?,k),(k,m?)->(n?,m?) (size 3 is different from 2)",
     "output_type": "error",
     "traceback": [
      "\u001b[0;31m---------------------------------------------------------------------------\u001b[0m",
      "\u001b[0;31mValueError\u001b[0m                                Traceback (most recent call last)",
      "\u001b[0;32m<ipython-input-25-949b80573e4c>\u001b[0m in \u001b[0;36m<module>\u001b[0;34m\u001b[0m\n\u001b[0;32m----> 1\u001b[0;31m \u001b[0mC\u001b[0m \u001b[0;34m@\u001b[0m \u001b[0mC\u001b[0m\u001b[0;34m\u001b[0m\u001b[0;34m\u001b[0m\u001b[0m\n\u001b[0m",
      "\u001b[0;31mValueError\u001b[0m: matmul: Input operand 1 has a mismatch in its core dimension 0, with gufunc signature (n?,k),(k,m?)->(n?,m?) (size 3 is different from 2)"
     ]
    }
   ],
   "source": [
    "C @ C "
   ]
  },
  {
   "cell_type": "code",
   "execution_count": 26,
   "id": "ab973d4d",
   "metadata": {},
   "outputs": [
    {
     "name": "stdout",
     "output_type": "stream",
     "text": [
      "[[ 1  1  0]\n",
      " [-2  5  7]]\n"
     ]
    }
   ],
   "source": [
    "E = np.array([[1,1,0], [-2,5,7]])\n",
    "\n",
    "print(E)"
   ]
  },
  {
   "cell_type": "code",
   "execution_count": 27,
   "id": "0e4d1e68",
   "metadata": {},
   "outputs": [
    {
     "data": {
      "text/plain": [
       "array([[-3, 11, 14],\n",
       "       [-6, 29, 35],\n",
       "       [-9, 47, 56]])"
      ]
     },
     "execution_count": 27,
     "metadata": {},
     "output_type": "execute_result"
    }
   ],
   "source": [
    "C @ E"
   ]
  },
  {
   "cell_type": "markdown",
   "id": "051b2f98",
   "metadata": {},
   "source": [
    "## 4. Identity, zeros, and ones matrices\n",
    "\n",
    "- We can use np.eye().\n",
    "\n",
    "\n",
    "- This returns a 2D array with ones on the the k-th diagonal and zeros elsewhere."
   ]
  },
  {
   "cell_type": "code",
   "execution_count": 28,
   "id": "96822d74",
   "metadata": {},
   "outputs": [
    {
     "name": "stdout",
     "output_type": "stream",
     "text": [
      "[[1. 0. 0.]\n",
      " [0. 1. 0.]\n",
      " [0. 0. 1.]]\n"
     ]
    }
   ],
   "source": [
    "K = np.identity(3) # gives you a square matrix\n",
    "\n",
    "print(K)"
   ]
  },
  {
   "cell_type": "code",
   "execution_count": 29,
   "id": "5a31b765",
   "metadata": {},
   "outputs": [
    {
     "name": "stdout",
     "output_type": "stream",
     "text": [
      "[[1. 0. 0.]\n",
      " [0. 1. 0.]\n",
      " [0. 0. 1.]]\n"
     ]
    }
   ],
   "source": [
    "K = np.eye(3)  # gives you any matrix shape with 1's in the kth diagnonal\n",
    "\n",
    "print(K)"
   ]
  },
  {
   "cell_type": "code",
   "execution_count": 30,
   "id": "45425f60",
   "metadata": {},
   "outputs": [
    {
     "name": "stdout",
     "output_type": "stream",
     "text": [
      "[[1. 0.]\n",
      " [0. 1.]\n",
      " [0. 0.]\n",
      " [0. 0.]]\n"
     ]
    }
   ],
   "source": [
    "K = np.eye(4,2)\n",
    "\n",
    "print(K)"
   ]
  },
  {
   "cell_type": "code",
   "execution_count": 31,
   "id": "64d48d8f",
   "metadata": {},
   "outputs": [
    {
     "name": "stdout",
     "output_type": "stream",
     "text": [
      "[0. 0. 0. 0.]\n"
     ]
    }
   ],
   "source": [
    "K = np.zeros(4) \n",
    "\n",
    "print(K)"
   ]
  },
  {
   "cell_type": "code",
   "execution_count": 32,
   "id": "097cb78c",
   "metadata": {},
   "outputs": [
    {
     "name": "stdout",
     "output_type": "stream",
     "text": [
      "[[0. 0. 0. 0.]\n",
      " [0. 0. 0. 0.]\n",
      " [0. 0. 0. 0.]\n",
      " [0. 0. 0. 0.]]\n"
     ]
    }
   ],
   "source": [
    "K = np.zeros((4,4)) \n",
    "\n",
    "print(K)"
   ]
  },
  {
   "cell_type": "code",
   "execution_count": 33,
   "id": "8bdc1365",
   "metadata": {},
   "outputs": [
    {
     "name": "stdout",
     "output_type": "stream",
     "text": [
      "[1. 1. 1. 1.]\n"
     ]
    }
   ],
   "source": [
    "K = np.ones(4) \n",
    "\n",
    "print(K)"
   ]
  },
  {
   "cell_type": "code",
   "execution_count": 34,
   "id": "93e173fe",
   "metadata": {},
   "outputs": [
    {
     "name": "stdout",
     "output_type": "stream",
     "text": [
      "[[1. 1. 1. 1.]\n",
      " [1. 1. 1. 1.]\n",
      " [1. 1. 1. 1.]\n",
      " [1. 1. 1. 1.]]\n"
     ]
    }
   ],
   "source": [
    "K = np.ones((4,4)) \n",
    "\n",
    "print(K)"
   ]
  },
  {
   "cell_type": "markdown",
   "id": "6686068e",
   "metadata": {},
   "source": [
    "### Example:\n",
    "\n",
    "$M=2\\,A + A\\,B - I$"
   ]
  },
  {
   "cell_type": "code",
   "execution_count": 35,
   "id": "58a9400f",
   "metadata": {},
   "outputs": [
    {
     "name": "stdout",
     "output_type": "stream",
     "text": [
      "[[ 4 -7]\n",
      " [ 2  5]]\n"
     ]
    }
   ],
   "source": [
    "A = np.array([[4,-7],[2,5]])\n",
    "print(A)"
   ]
  },
  {
   "cell_type": "code",
   "execution_count": 36,
   "id": "7ddfdbdb",
   "metadata": {},
   "outputs": [
    {
     "name": "stdout",
     "output_type": "stream",
     "text": [
      "[[ 1 -2]\n",
      " [ 5  8]]\n"
     ]
    }
   ],
   "source": [
    "B = np.array([[1,-2],[5,8]])\n",
    "print(B)"
   ]
  },
  {
   "cell_type": "code",
   "execution_count": 37,
   "id": "cba3d706",
   "metadata": {},
   "outputs": [
    {
     "name": "stdout",
     "output_type": "stream",
     "text": [
      "[[1. 0.]\n",
      " [0. 1.]]\n"
     ]
    }
   ],
   "source": [
    "I = np.identity(2)\n",
    "print(I)"
   ]
  },
  {
   "cell_type": "code",
   "execution_count": 38,
   "id": "34727b04",
   "metadata": {},
   "outputs": [],
   "source": [
    "M = 2*A + A @ B - I"
   ]
  },
  {
   "cell_type": "code",
   "execution_count": 39,
   "id": "6c393d2f",
   "metadata": {},
   "outputs": [
    {
     "name": "stdout",
     "output_type": "stream",
     "text": [
      "[[-24. -78.]\n",
      " [ 31.  45.]]\n"
     ]
    }
   ],
   "source": [
    "print(M)"
   ]
  },
  {
   "cell_type": "markdown",
   "id": "405c731d",
   "metadata": {},
   "source": [
    "### 5. Matrix Powers\n",
    "\n",
    "We must import the function **matrix_power** from the linear algebra package **numpy.linalg**.\n",
    "\n",
    "\n",
    "Documentation: https://numpy.org/doc/stable/reference/routines.linalg.html"
   ]
  },
  {
   "cell_type": "code",
   "execution_count": 40,
   "id": "a1d9c4ba",
   "metadata": {},
   "outputs": [],
   "source": [
    "from numpy.linalg import matrix_power as mpow\n",
    "\n"
   ]
  },
  {
   "cell_type": "code",
   "execution_count": 41,
   "id": "387bb23d",
   "metadata": {},
   "outputs": [
    {
     "name": "stdout",
     "output_type": "stream",
     "text": [
      "[[-1842. -1638.]\n",
      " [  651.  -393.]]\n"
     ]
    }
   ],
   "source": [
    "Msqr = mpow(M,2)\n",
    "\n",
    "print(Msqr)"
   ]
  },
  {
   "cell_type": "code",
   "execution_count": 42,
   "id": "7cd435ac",
   "metadata": {},
   "outputs": [
    {
     "name": "stdout",
     "output_type": "stream",
     "text": [
      "[[-1842. -1638.]\n",
      " [  651.  -393.]]\n"
     ]
    }
   ],
   "source": [
    "Mtwice = M @ M\n",
    "\n",
    "print(Mtwice)"
   ]
  },
  {
   "cell_type": "code",
   "execution_count": 43,
   "id": "cf6d8954",
   "metadata": {},
   "outputs": [
    {
     "name": "stdout",
     "output_type": "stream",
     "text": [
      "[[ 57649806. -16734978.]\n",
      " [  6651081.  72453825.]]\n"
     ]
    }
   ],
   "source": [
    "Msqr = mpow(M,5)\n",
    "\n",
    "print(Msqr)"
   ]
  },
  {
   "cell_type": "code",
   "execution_count": 44,
   "id": "59262ed2",
   "metadata": {},
   "outputs": [
    {
     "name": "stdout",
     "output_type": "stream",
     "text": [
      "[[ 57649806. -16734978.]\n",
      " [  6651081.  72453825.]]\n"
     ]
    }
   ],
   "source": [
    "M5 = M @ M @ M @ M @ M\n",
    "print(M5)\n"
   ]
  },
  {
   "cell_type": "markdown",
   "id": "2ea238bf",
   "metadata": {},
   "source": [
    "### 6. Transpose"
   ]
  },
  {
   "cell_type": "code",
   "execution_count": 45,
   "id": "39f191f9",
   "metadata": {},
   "outputs": [
    {
     "name": "stdout",
     "output_type": "stream",
     "text": [
      "[[-24. -78.]\n",
      " [ 31.  45.]]\n"
     ]
    }
   ],
   "source": [
    "print(M)"
   ]
  },
  {
   "cell_type": "code",
   "execution_count": 46,
   "id": "b00b1177",
   "metadata": {},
   "outputs": [
    {
     "name": "stdout",
     "output_type": "stream",
     "text": [
      "[[-24.  31.]\n",
      " [-78.  45.]]\n"
     ]
    }
   ],
   "source": [
    "M2 = M.transpose()\n",
    "print(M2)"
   ]
  },
  {
   "cell_type": "code",
   "execution_count": 47,
   "id": "4d3a9c4f",
   "metadata": {},
   "outputs": [
    {
     "name": "stdout",
     "output_type": "stream",
     "text": [
      "[[-24.  31.]\n",
      " [-78.  45.]]\n"
     ]
    }
   ],
   "source": [
    "M2 = M.T\n",
    "print(M2)"
   ]
  },
  {
   "cell_type": "code",
   "execution_count": 48,
   "id": "37182196",
   "metadata": {},
   "outputs": [
    {
     "name": "stdout",
     "output_type": "stream",
     "text": [
      "[[ 6660. -4254.]\n",
      " [-4254.  2986.]]\n"
     ]
    }
   ],
   "source": [
    "L = M @ M2\n",
    "\n",
    "print(L)"
   ]
  },
  {
   "cell_type": "markdown",
   "id": "9dce75c1",
   "metadata": {},
   "source": [
    "As expected we get a symmetric matrix."
   ]
  },
  {
   "cell_type": "markdown",
   "id": "93479be9",
   "metadata": {},
   "source": [
    "### 7. Inverse\n",
    "\n",
    "\n",
    "Given $\\rm A$ find $\\rm A^{-1}$"
   ]
  },
  {
   "cell_type": "code",
   "execution_count": 49,
   "id": "5d6007b3",
   "metadata": {},
   "outputs": [],
   "source": [
    "from numpy.linalg import inv"
   ]
  },
  {
   "cell_type": "code",
   "execution_count": 50,
   "id": "6fe46674",
   "metadata": {},
   "outputs": [
    {
     "name": "stdout",
     "output_type": "stream",
     "text": [
      "[[-1.  4.]\n",
      " [ 5.  9.]]\n"
     ]
    }
   ],
   "source": [
    "A = np.array([[-1.,4.],[5.,9.]])\n",
    "\n",
    "print(A)"
   ]
  },
  {
   "cell_type": "code",
   "execution_count": 51,
   "id": "ae5514bc",
   "metadata": {},
   "outputs": [
    {
     "name": "stdout",
     "output_type": "stream",
     "text": [
      "[[-0.31034483  0.13793103]\n",
      " [ 0.17241379  0.03448276]]\n"
     ]
    }
   ],
   "source": [
    "B = inv(A)\n",
    "\n",
    "print(B)"
   ]
  },
  {
   "cell_type": "code",
   "execution_count": 52,
   "id": "6d932b4f",
   "metadata": {},
   "outputs": [
    {
     "data": {
      "text/plain": [
       "array([[ 1.00000000e+00,  2.77555756e-17],\n",
       "       [-1.11022302e-16,  1.00000000e+00]])"
      ]
     },
     "execution_count": 52,
     "metadata": {},
     "output_type": "execute_result"
    }
   ],
   "source": [
    "A @ B # the result is I(nxn)"
   ]
  },
  {
   "cell_type": "markdown",
   "id": "b7768967",
   "metadata": {},
   "source": [
    "### 8. Trace\n",
    "\n",
    "The trace of a matrix $\\rm A$, $tr(\\rm A)$, is the sum of the elements on the main diagonal. "
   ]
  },
  {
   "cell_type": "code",
   "execution_count": 53,
   "id": "dc3bf961",
   "metadata": {},
   "outputs": [
    {
     "name": "stdout",
     "output_type": "stream",
     "text": [
      "8.0\n"
     ]
    }
   ],
   "source": [
    "print(np.trace(A))"
   ]
  },
  {
   "cell_type": "markdown",
   "id": "9f31d0b7",
   "metadata": {},
   "source": [
    "### 9. Determinant\n",
    "\n",
    "It is the scalar value calculated using a square matrix."
   ]
  },
  {
   "cell_type": "code",
   "execution_count": 54,
   "id": "fa762107",
   "metadata": {},
   "outputs": [
    {
     "name": "stdout",
     "output_type": "stream",
     "text": [
      "[[-1.  4.]\n",
      " [ 5.  9.]]\n"
     ]
    }
   ],
   "source": [
    "from numpy.linalg import det\n",
    "\n",
    "print(A)"
   ]
  },
  {
   "cell_type": "code",
   "execution_count": 55,
   "id": "5fd5a5c5",
   "metadata": {},
   "outputs": [
    {
     "name": "stdout",
     "output_type": "stream",
     "text": [
      "-28.99999999999999\n"
     ]
    }
   ],
   "source": [
    "print(det(A))"
   ]
  },
  {
   "cell_type": "markdown",
   "id": "be544b35",
   "metadata": {},
   "source": [
    "### 10. Order 1 Norm:"
   ]
  },
  {
   "cell_type": "code",
   "execution_count": 56,
   "id": "898ecbdd",
   "metadata": {},
   "outputs": [
    {
     "name": "stdout",
     "output_type": "stream",
     "text": [
      "[[-1.  4.]\n",
      " [ 5.  9.]]\n"
     ]
    }
   ],
   "source": [
    "from numpy.linalg import norm\n",
    "\n",
    "print(A)"
   ]
  },
  {
   "cell_type": "code",
   "execution_count": 57,
   "id": "54bf5fe2",
   "metadata": {},
   "outputs": [
    {
     "name": "stdout",
     "output_type": "stream",
     "text": [
      "13.0\n"
     ]
    }
   ],
   "source": [
    "print(norm(A,ord=1))"
   ]
  },
  {
   "cell_type": "markdown",
   "id": "f2a14410",
   "metadata": {},
   "source": [
    "### 11. Dot product"
   ]
  },
  {
   "cell_type": "code",
   "execution_count": 58,
   "id": "54abdd12",
   "metadata": {},
   "outputs": [
    {
     "name": "stdout",
     "output_type": "stream",
     "text": [
      "-12\n"
     ]
    }
   ],
   "source": [
    "A = np.dot(-3, 4)\n",
    "\n",
    "print(A)"
   ]
  },
  {
   "cell_type": "code",
   "execution_count": 59,
   "id": "c234fba5",
   "metadata": {},
   "outputs": [
    {
     "name": "stdout",
     "output_type": "stream",
     "text": [
      "(-30+0j)\n"
     ]
    }
   ],
   "source": [
    "A = np.dot([-1j, 4j], [-2j, 7j])\n",
    "\n",
    "print(A)"
   ]
  },
  {
   "cell_type": "code",
   "execution_count": 60,
   "id": "56617783",
   "metadata": {},
   "outputs": [
    {
     "name": "stdout",
     "output_type": "stream",
     "text": [
      "[[3 0]\n",
      " [0 2]]\n",
      "[[-4  1]\n",
      " [ 2  5]]\n"
     ]
    }
   ],
   "source": [
    "B = np.array([[3, 0], [0, 2]])\n",
    "\n",
    "C = np.array([[-4, 1], [2, 5]])\n",
    "\n",
    "print(B)\n",
    "\n",
    "print(C)"
   ]
  },
  {
   "cell_type": "code",
   "execution_count": 61,
   "id": "46702bd4",
   "metadata": {},
   "outputs": [
    {
     "name": "stdout",
     "output_type": "stream",
     "text": [
      "[[-12   3]\n",
      " [  4  10]]\n"
     ]
    }
   ],
   "source": [
    "D = np.dot(B, C)\n",
    "\n",
    "print(D)"
   ]
  },
  {
   "cell_type": "code",
   "execution_count": 62,
   "id": "fef78460",
   "metadata": {},
   "outputs": [
    {
     "name": "stdout",
     "output_type": "stream",
     "text": [
      "[[-12   3]\n",
      " [  4  10]]\n"
     ]
    }
   ],
   "source": [
    "print(B @ C)"
   ]
  },
  {
   "cell_type": "markdown",
   "id": "ed2e8d3f",
   "metadata": {},
   "source": [
    "# Important: System check"
   ]
  },
  {
   "cell_type": "code",
   "execution_count": 63,
   "id": "f1374001",
   "metadata": {},
   "outputs": [],
   "source": [
    "import sys"
   ]
  },
  {
   "cell_type": "markdown",
   "id": "ac34e8c9",
   "metadata": {},
   "source": [
    "## 1. Precision:"
   ]
  },
  {
   "cell_type": "code",
   "execution_count": 65,
   "id": "0c3a3f9b",
   "metadata": {},
   "outputs": [
    {
     "data": {
      "text/plain": [
       "sys.float_info(max=1.7976931348623157e+308, max_exp=1024, max_10_exp=308, min=2.2250738585072014e-308, min_exp=-1021, min_10_exp=-307, dig=15, mant_dig=53, epsilon=2.220446049250313e-16, radix=2, rounds=1)"
      ]
     },
     "execution_count": 65,
     "metadata": {},
     "output_type": "execute_result"
    }
   ],
   "source": [
    "sys.float_info"
   ]
  },
  {
   "cell_type": "markdown",
   "id": "fe1fa9cb",
   "metadata": {},
   "source": [
    "## 2. List of in-scope variables"
   ]
  },
  {
   "cell_type": "code",
   "execution_count": 66,
   "id": "5ef793c9",
   "metadata": {
    "scrolled": true
   },
   "outputs": [
    {
     "data": {
      "text/plain": [
       "['A',\n",
       " 'B',\n",
       " 'C',\n",
       " 'D',\n",
       " 'E',\n",
       " 'I',\n",
       " 'In',\n",
       " 'K',\n",
       " 'L',\n",
       " 'M',\n",
       " 'M2',\n",
       " 'M5',\n",
       " 'Msqr',\n",
       " 'Mtwice',\n",
       " 'Out',\n",
       " '_',\n",
       " '_27',\n",
       " '_52',\n",
       " '_64',\n",
       " '_65',\n",
       " '__',\n",
       " '___',\n",
       " '__builtin__',\n",
       " '__builtins__',\n",
       " '__doc__',\n",
       " '__loader__',\n",
       " '__name__',\n",
       " '__package__',\n",
       " '__spec__',\n",
       " '_dh',\n",
       " '_i',\n",
       " '_i1',\n",
       " '_i10',\n",
       " '_i11',\n",
       " '_i12',\n",
       " '_i13',\n",
       " '_i14',\n",
       " '_i15',\n",
       " '_i16',\n",
       " '_i17',\n",
       " '_i18',\n",
       " '_i19',\n",
       " '_i2',\n",
       " '_i20',\n",
       " '_i21',\n",
       " '_i22',\n",
       " '_i23',\n",
       " '_i24',\n",
       " '_i25',\n",
       " '_i26',\n",
       " '_i27',\n",
       " '_i28',\n",
       " '_i29',\n",
       " '_i3',\n",
       " '_i30',\n",
       " '_i31',\n",
       " '_i32',\n",
       " '_i33',\n",
       " '_i34',\n",
       " '_i35',\n",
       " '_i36',\n",
       " '_i37',\n",
       " '_i38',\n",
       " '_i39',\n",
       " '_i4',\n",
       " '_i40',\n",
       " '_i41',\n",
       " '_i42',\n",
       " '_i43',\n",
       " '_i44',\n",
       " '_i45',\n",
       " '_i46',\n",
       " '_i47',\n",
       " '_i48',\n",
       " '_i49',\n",
       " '_i5',\n",
       " '_i50',\n",
       " '_i51',\n",
       " '_i52',\n",
       " '_i53',\n",
       " '_i54',\n",
       " '_i55',\n",
       " '_i56',\n",
       " '_i57',\n",
       " '_i58',\n",
       " '_i59',\n",
       " '_i6',\n",
       " '_i60',\n",
       " '_i61',\n",
       " '_i62',\n",
       " '_i63',\n",
       " '_i64',\n",
       " '_i65',\n",
       " '_i66',\n",
       " '_i7',\n",
       " '_i8',\n",
       " '_i9',\n",
       " '_ih',\n",
       " '_ii',\n",
       " '_iii',\n",
       " '_oh',\n",
       " 'a',\n",
       " 'ax',\n",
       " 'col',\n",
       " 'col1',\n",
       " 'det',\n",
       " 'exit',\n",
       " 'fig',\n",
       " 'get_ipython',\n",
       " 'inv',\n",
       " 'mpow',\n",
       " 'norm',\n",
       " 'np',\n",
       " 'plt',\n",
       " 'quit',\n",
       " 'row1',\n",
       " 'sys']"
      ]
     },
     "execution_count": 66,
     "metadata": {},
     "output_type": "execute_result"
    }
   ],
   "source": [
    "dir()"
   ]
  },
  {
   "cell_type": "markdown",
   "id": "10f5b012",
   "metadata": {},
   "source": [
    "## 3. Dictionary of global variables"
   ]
  },
  {
   "cell_type": "code",
   "execution_count": 67,
   "id": "ef9487dd",
   "metadata": {},
   "outputs": [
    {
     "data": {
      "text/plain": [
       "{'__name__': '__main__',\n",
       " '__doc__': 'Automatically created module for IPython interactive environment',\n",
       " '__package__': None,\n",
       " '__loader__': None,\n",
       " '__spec__': None,\n",
       " '__builtin__': <module 'builtins' (built-in)>,\n",
       " '__builtins__': <module 'builtins' (built-in)>,\n",
       " '_ih': ['',\n",
       "  'import numpy as np',\n",
       "  '# Create a list\\na = [-1,5,-2,3,4,-9,7,6]\\n\\nprint(a)\\nprint(type(a))',\n",
       "  '# Into a numpy array\\n\\nA = np.array(a)\\n\\nprint(type(A))',\n",
       "  'print(A)',\n",
       "  'print(a.ndim)',\n",
       "  'print(A.ndim)',\n",
       "  'print(A.shape)',\n",
       "  'print(A.size)',\n",
       "  'B = np.array([[1,2,3,0], [4,5,6,-1], [7,8,9,-2]])',\n",
       "  'print(B)\\n\\nprint(type(B))',\n",
       "  'print(B.ndim)\\n\\nprint(B.shape)\\n\\nprint(B.size)',\n",
       "  'import matplotlib.pyplot as plt',\n",
       "  '# Figure enviroment\\n\\nfig, ax = plt.subplots(figsize=(10,6))\\nax.imshow(B)\\nplt.show()',\n",
       "  'print(B)',\n",
       "  'col = B[:,0]\\nprint(col)\\nprint(type(col))\\nprint(col.ndim)',\n",
       "  'col1 = np.array(col).reshape(3,1)\\nprint(col1)',\n",
       "  \"print('Dimensions:', col.ndim)\\nprint('Shape:', col.shape)\\nprint('Size:', col.size)\",\n",
       "  \"print('Dimensions:', col1.ndim)\\nprint('Shape:', col1.shape)\\nprint('Size:', col1.size)\",\n",
       "  'row1 = B[0,:]\\n\\nprint(row1)\\nprint(type(row1))',\n",
       "  'C = np.array([[1,2], [4,5], [7,8]])\\n\\nprint(C.shape)\\nprint(C)',\n",
       "  'D = C + C\\n\\nprint(D)',\n",
       "  'D = C - C\\n\\nprint(D)',\n",
       "  'D = C**2 # not equal to CxC, element by element operation.\\n\\nprint(D)',\n",
       "  'D = C*C # not equal to CxC, element by element operation.\\n\\nprint(D)',\n",
       "  'C @ C ',\n",
       "  'E = np.array([[1,1,0], [-2,5,7]])\\n\\nprint(E)',\n",
       "  'C @ E',\n",
       "  'K = np.identity(3) # gives you a square matrix\\n\\nprint(K)',\n",
       "  \"K = np.eye(3)  # gives you any matrix shape with 1's in the kth diagnonal\\n\\nprint(K)\",\n",
       "  'K = np.eye(4,2)\\n\\nprint(K)',\n",
       "  'K = np.zeros(4) \\n\\nprint(K)',\n",
       "  'K = np.zeros((4,4)) \\n\\nprint(K)',\n",
       "  'K = np.ones(4) \\n\\nprint(K)',\n",
       "  'K = np.ones((4,4)) \\n\\nprint(K)',\n",
       "  'A = np.array([[4,-7],[2,5]])\\nprint(A)',\n",
       "  'B = np.array([[1,-2],[5,8]])\\nprint(B)',\n",
       "  'I = np.identity(2)\\nprint(I)',\n",
       "  'M = 2*A + A @ B - I',\n",
       "  'print(M)',\n",
       "  'from numpy.linalg import matrix_power as mpow',\n",
       "  'Msqr = mpow(M,2)\\n\\nprint(Msqr)',\n",
       "  'Mtwice = M @ M\\n\\nprint(Mtwice)',\n",
       "  'Msqr = mpow(M,5)\\n\\nprint(Msqr)',\n",
       "  'M5 = M @ M @ M @ M @ M\\nprint(M5)',\n",
       "  'print(M)',\n",
       "  'M2 = M.transpose()\\nprint(M2)',\n",
       "  'M2 = M.T\\nprint(M2)',\n",
       "  'L = M @ M2\\n\\nprint(L)',\n",
       "  'from numpy.linalg import inv',\n",
       "  'A = np.array([[-1.,4.],[5.,9.]])\\n\\nprint(A)',\n",
       "  'B = inv(A)\\n\\nprint(B)',\n",
       "  'A @ B # the result is I(nxn)',\n",
       "  'print(np.trace(A))',\n",
       "  'from numpy.linalg import det\\n\\nprint(A)',\n",
       "  'print(det(A))',\n",
       "  'from numpy.linalg import norm\\n\\nprint(A)',\n",
       "  'print(norm(A,ord=1))',\n",
       "  'A = np.dot(-3, 4)\\n\\nprint(A)',\n",
       "  'A = np.dot([-1j, 4j], [-2j, 7j])\\n\\nprint(A)',\n",
       "  'B = np.array([[3, 0], [0, 2]])\\n\\nC = np.array([[-4, 1], [2, 5]])\\n\\nprint(B)\\n\\nprint(C)',\n",
       "  'D = np.dot(B, C)\\n\\nprint(D)',\n",
       "  'print(B @ C)',\n",
       "  'import sys',\n",
       "  'sys.float_info',\n",
       "  'sys.float_info',\n",
       "  'dir()',\n",
       "  'globals()'],\n",
       " '_oh': {27: array([[-3, 11, 14],\n",
       "         [-6, 29, 35],\n",
       "         [-9, 47, 56]]),\n",
       "  52: array([[ 1.00000000e+00,  2.77555756e-17],\n",
       "         [-1.11022302e-16,  1.00000000e+00]]),\n",
       "  64: sys.float_info(max=1.7976931348623157e+308, max_exp=1024, max_10_exp=308, min=2.2250738585072014e-308, min_exp=-1021, min_10_exp=-307, dig=15, mant_dig=53, epsilon=2.220446049250313e-16, radix=2, rounds=1),\n",
       "  65: sys.float_info(max=1.7976931348623157e+308, max_exp=1024, max_10_exp=308, min=2.2250738585072014e-308, min_exp=-1021, min_10_exp=-307, dig=15, mant_dig=53, epsilon=2.220446049250313e-16, radix=2, rounds=1),\n",
       "  66: ['A',\n",
       "   'B',\n",
       "   'C',\n",
       "   'D',\n",
       "   'E',\n",
       "   'I',\n",
       "   'In',\n",
       "   'K',\n",
       "   'L',\n",
       "   'M',\n",
       "   'M2',\n",
       "   'M5',\n",
       "   'Msqr',\n",
       "   'Mtwice',\n",
       "   'Out',\n",
       "   '_',\n",
       "   '_27',\n",
       "   '_52',\n",
       "   '_64',\n",
       "   '_65',\n",
       "   '__',\n",
       "   '___',\n",
       "   '__builtin__',\n",
       "   '__builtins__',\n",
       "   '__doc__',\n",
       "   '__loader__',\n",
       "   '__name__',\n",
       "   '__package__',\n",
       "   '__spec__',\n",
       "   '_dh',\n",
       "   '_i',\n",
       "   '_i1',\n",
       "   '_i10',\n",
       "   '_i11',\n",
       "   '_i12',\n",
       "   '_i13',\n",
       "   '_i14',\n",
       "   '_i15',\n",
       "   '_i16',\n",
       "   '_i17',\n",
       "   '_i18',\n",
       "   '_i19',\n",
       "   '_i2',\n",
       "   '_i20',\n",
       "   '_i21',\n",
       "   '_i22',\n",
       "   '_i23',\n",
       "   '_i24',\n",
       "   '_i25',\n",
       "   '_i26',\n",
       "   '_i27',\n",
       "   '_i28',\n",
       "   '_i29',\n",
       "   '_i3',\n",
       "   '_i30',\n",
       "   '_i31',\n",
       "   '_i32',\n",
       "   '_i33',\n",
       "   '_i34',\n",
       "   '_i35',\n",
       "   '_i36',\n",
       "   '_i37',\n",
       "   '_i38',\n",
       "   '_i39',\n",
       "   '_i4',\n",
       "   '_i40',\n",
       "   '_i41',\n",
       "   '_i42',\n",
       "   '_i43',\n",
       "   '_i44',\n",
       "   '_i45',\n",
       "   '_i46',\n",
       "   '_i47',\n",
       "   '_i48',\n",
       "   '_i49',\n",
       "   '_i5',\n",
       "   '_i50',\n",
       "   '_i51',\n",
       "   '_i52',\n",
       "   '_i53',\n",
       "   '_i54',\n",
       "   '_i55',\n",
       "   '_i56',\n",
       "   '_i57',\n",
       "   '_i58',\n",
       "   '_i59',\n",
       "   '_i6',\n",
       "   '_i60',\n",
       "   '_i61',\n",
       "   '_i62',\n",
       "   '_i63',\n",
       "   '_i64',\n",
       "   '_i65',\n",
       "   '_i66',\n",
       "   '_i7',\n",
       "   '_i8',\n",
       "   '_i9',\n",
       "   '_ih',\n",
       "   '_ii',\n",
       "   '_iii',\n",
       "   '_oh',\n",
       "   'a',\n",
       "   'ax',\n",
       "   'col',\n",
       "   'col1',\n",
       "   'det',\n",
       "   'exit',\n",
       "   'fig',\n",
       "   'get_ipython',\n",
       "   'inv',\n",
       "   'mpow',\n",
       "   'norm',\n",
       "   'np',\n",
       "   'plt',\n",
       "   'quit',\n",
       "   'row1',\n",
       "   'sys']},\n",
       " '_dh': ['/Users/webb/Dropbox/Yachay_Tech/Docencia/Fisica_Computacional/Lectures/git_repo/unit-2'],\n",
       " 'In': ['',\n",
       "  'import numpy as np',\n",
       "  '# Create a list\\na = [-1,5,-2,3,4,-9,7,6]\\n\\nprint(a)\\nprint(type(a))',\n",
       "  '# Into a numpy array\\n\\nA = np.array(a)\\n\\nprint(type(A))',\n",
       "  'print(A)',\n",
       "  'print(a.ndim)',\n",
       "  'print(A.ndim)',\n",
       "  'print(A.shape)',\n",
       "  'print(A.size)',\n",
       "  'B = np.array([[1,2,3,0], [4,5,6,-1], [7,8,9,-2]])',\n",
       "  'print(B)\\n\\nprint(type(B))',\n",
       "  'print(B.ndim)\\n\\nprint(B.shape)\\n\\nprint(B.size)',\n",
       "  'import matplotlib.pyplot as plt',\n",
       "  '# Figure enviroment\\n\\nfig, ax = plt.subplots(figsize=(10,6))\\nax.imshow(B)\\nplt.show()',\n",
       "  'print(B)',\n",
       "  'col = B[:,0]\\nprint(col)\\nprint(type(col))\\nprint(col.ndim)',\n",
       "  'col1 = np.array(col).reshape(3,1)\\nprint(col1)',\n",
       "  \"print('Dimensions:', col.ndim)\\nprint('Shape:', col.shape)\\nprint('Size:', col.size)\",\n",
       "  \"print('Dimensions:', col1.ndim)\\nprint('Shape:', col1.shape)\\nprint('Size:', col1.size)\",\n",
       "  'row1 = B[0,:]\\n\\nprint(row1)\\nprint(type(row1))',\n",
       "  'C = np.array([[1,2], [4,5], [7,8]])\\n\\nprint(C.shape)\\nprint(C)',\n",
       "  'D = C + C\\n\\nprint(D)',\n",
       "  'D = C - C\\n\\nprint(D)',\n",
       "  'D = C**2 # not equal to CxC, element by element operation.\\n\\nprint(D)',\n",
       "  'D = C*C # not equal to CxC, element by element operation.\\n\\nprint(D)',\n",
       "  'C @ C ',\n",
       "  'E = np.array([[1,1,0], [-2,5,7]])\\n\\nprint(E)',\n",
       "  'C @ E',\n",
       "  'K = np.identity(3) # gives you a square matrix\\n\\nprint(K)',\n",
       "  \"K = np.eye(3)  # gives you any matrix shape with 1's in the kth diagnonal\\n\\nprint(K)\",\n",
       "  'K = np.eye(4,2)\\n\\nprint(K)',\n",
       "  'K = np.zeros(4) \\n\\nprint(K)',\n",
       "  'K = np.zeros((4,4)) \\n\\nprint(K)',\n",
       "  'K = np.ones(4) \\n\\nprint(K)',\n",
       "  'K = np.ones((4,4)) \\n\\nprint(K)',\n",
       "  'A = np.array([[4,-7],[2,5]])\\nprint(A)',\n",
       "  'B = np.array([[1,-2],[5,8]])\\nprint(B)',\n",
       "  'I = np.identity(2)\\nprint(I)',\n",
       "  'M = 2*A + A @ B - I',\n",
       "  'print(M)',\n",
       "  'from numpy.linalg import matrix_power as mpow',\n",
       "  'Msqr = mpow(M,2)\\n\\nprint(Msqr)',\n",
       "  'Mtwice = M @ M\\n\\nprint(Mtwice)',\n",
       "  'Msqr = mpow(M,5)\\n\\nprint(Msqr)',\n",
       "  'M5 = M @ M @ M @ M @ M\\nprint(M5)',\n",
       "  'print(M)',\n",
       "  'M2 = M.transpose()\\nprint(M2)',\n",
       "  'M2 = M.T\\nprint(M2)',\n",
       "  'L = M @ M2\\n\\nprint(L)',\n",
       "  'from numpy.linalg import inv',\n",
       "  'A = np.array([[-1.,4.],[5.,9.]])\\n\\nprint(A)',\n",
       "  'B = inv(A)\\n\\nprint(B)',\n",
       "  'A @ B # the result is I(nxn)',\n",
       "  'print(np.trace(A))',\n",
       "  'from numpy.linalg import det\\n\\nprint(A)',\n",
       "  'print(det(A))',\n",
       "  'from numpy.linalg import norm\\n\\nprint(A)',\n",
       "  'print(norm(A,ord=1))',\n",
       "  'A = np.dot(-3, 4)\\n\\nprint(A)',\n",
       "  'A = np.dot([-1j, 4j], [-2j, 7j])\\n\\nprint(A)',\n",
       "  'B = np.array([[3, 0], [0, 2]])\\n\\nC = np.array([[-4, 1], [2, 5]])\\n\\nprint(B)\\n\\nprint(C)',\n",
       "  'D = np.dot(B, C)\\n\\nprint(D)',\n",
       "  'print(B @ C)',\n",
       "  'import sys',\n",
       "  'sys.float_info',\n",
       "  'sys.float_info',\n",
       "  'dir()',\n",
       "  'globals()'],\n",
       " 'Out': {27: array([[-3, 11, 14],\n",
       "         [-6, 29, 35],\n",
       "         [-9, 47, 56]]),\n",
       "  52: array([[ 1.00000000e+00,  2.77555756e-17],\n",
       "         [-1.11022302e-16,  1.00000000e+00]]),\n",
       "  64: sys.float_info(max=1.7976931348623157e+308, max_exp=1024, max_10_exp=308, min=2.2250738585072014e-308, min_exp=-1021, min_10_exp=-307, dig=15, mant_dig=53, epsilon=2.220446049250313e-16, radix=2, rounds=1),\n",
       "  65: sys.float_info(max=1.7976931348623157e+308, max_exp=1024, max_10_exp=308, min=2.2250738585072014e-308, min_exp=-1021, min_10_exp=-307, dig=15, mant_dig=53, epsilon=2.220446049250313e-16, radix=2, rounds=1),\n",
       "  66: ['A',\n",
       "   'B',\n",
       "   'C',\n",
       "   'D',\n",
       "   'E',\n",
       "   'I',\n",
       "   'In',\n",
       "   'K',\n",
       "   'L',\n",
       "   'M',\n",
       "   'M2',\n",
       "   'M5',\n",
       "   'Msqr',\n",
       "   'Mtwice',\n",
       "   'Out',\n",
       "   '_',\n",
       "   '_27',\n",
       "   '_52',\n",
       "   '_64',\n",
       "   '_65',\n",
       "   '__',\n",
       "   '___',\n",
       "   '__builtin__',\n",
       "   '__builtins__',\n",
       "   '__doc__',\n",
       "   '__loader__',\n",
       "   '__name__',\n",
       "   '__package__',\n",
       "   '__spec__',\n",
       "   '_dh',\n",
       "   '_i',\n",
       "   '_i1',\n",
       "   '_i10',\n",
       "   '_i11',\n",
       "   '_i12',\n",
       "   '_i13',\n",
       "   '_i14',\n",
       "   '_i15',\n",
       "   '_i16',\n",
       "   '_i17',\n",
       "   '_i18',\n",
       "   '_i19',\n",
       "   '_i2',\n",
       "   '_i20',\n",
       "   '_i21',\n",
       "   '_i22',\n",
       "   '_i23',\n",
       "   '_i24',\n",
       "   '_i25',\n",
       "   '_i26',\n",
       "   '_i27',\n",
       "   '_i28',\n",
       "   '_i29',\n",
       "   '_i3',\n",
       "   '_i30',\n",
       "   '_i31',\n",
       "   '_i32',\n",
       "   '_i33',\n",
       "   '_i34',\n",
       "   '_i35',\n",
       "   '_i36',\n",
       "   '_i37',\n",
       "   '_i38',\n",
       "   '_i39',\n",
       "   '_i4',\n",
       "   '_i40',\n",
       "   '_i41',\n",
       "   '_i42',\n",
       "   '_i43',\n",
       "   '_i44',\n",
       "   '_i45',\n",
       "   '_i46',\n",
       "   '_i47',\n",
       "   '_i48',\n",
       "   '_i49',\n",
       "   '_i5',\n",
       "   '_i50',\n",
       "   '_i51',\n",
       "   '_i52',\n",
       "   '_i53',\n",
       "   '_i54',\n",
       "   '_i55',\n",
       "   '_i56',\n",
       "   '_i57',\n",
       "   '_i58',\n",
       "   '_i59',\n",
       "   '_i6',\n",
       "   '_i60',\n",
       "   '_i61',\n",
       "   '_i62',\n",
       "   '_i63',\n",
       "   '_i64',\n",
       "   '_i65',\n",
       "   '_i66',\n",
       "   '_i7',\n",
       "   '_i8',\n",
       "   '_i9',\n",
       "   '_ih',\n",
       "   '_ii',\n",
       "   '_iii',\n",
       "   '_oh',\n",
       "   'a',\n",
       "   'ax',\n",
       "   'col',\n",
       "   'col1',\n",
       "   'det',\n",
       "   'exit',\n",
       "   'fig',\n",
       "   'get_ipython',\n",
       "   'inv',\n",
       "   'mpow',\n",
       "   'norm',\n",
       "   'np',\n",
       "   'plt',\n",
       "   'quit',\n",
       "   'row1',\n",
       "   'sys']},\n",
       " 'get_ipython': <bound method InteractiveShell.get_ipython of <ipykernel.zmqshell.ZMQInteractiveShell object at 0x104f44210>>,\n",
       " 'exit': <IPython.core.autocall.ZMQExitAutocall at 0x104f9b510>,\n",
       " 'quit': <IPython.core.autocall.ZMQExitAutocall at 0x104f9b510>,\n",
       " '_': ['A',\n",
       "  'B',\n",
       "  'C',\n",
       "  'D',\n",
       "  'E',\n",
       "  'I',\n",
       "  'In',\n",
       "  'K',\n",
       "  'L',\n",
       "  'M',\n",
       "  'M2',\n",
       "  'M5',\n",
       "  'Msqr',\n",
       "  'Mtwice',\n",
       "  'Out',\n",
       "  '_',\n",
       "  '_27',\n",
       "  '_52',\n",
       "  '_64',\n",
       "  '_65',\n",
       "  '__',\n",
       "  '___',\n",
       "  '__builtin__',\n",
       "  '__builtins__',\n",
       "  '__doc__',\n",
       "  '__loader__',\n",
       "  '__name__',\n",
       "  '__package__',\n",
       "  '__spec__',\n",
       "  '_dh',\n",
       "  '_i',\n",
       "  '_i1',\n",
       "  '_i10',\n",
       "  '_i11',\n",
       "  '_i12',\n",
       "  '_i13',\n",
       "  '_i14',\n",
       "  '_i15',\n",
       "  '_i16',\n",
       "  '_i17',\n",
       "  '_i18',\n",
       "  '_i19',\n",
       "  '_i2',\n",
       "  '_i20',\n",
       "  '_i21',\n",
       "  '_i22',\n",
       "  '_i23',\n",
       "  '_i24',\n",
       "  '_i25',\n",
       "  '_i26',\n",
       "  '_i27',\n",
       "  '_i28',\n",
       "  '_i29',\n",
       "  '_i3',\n",
       "  '_i30',\n",
       "  '_i31',\n",
       "  '_i32',\n",
       "  '_i33',\n",
       "  '_i34',\n",
       "  '_i35',\n",
       "  '_i36',\n",
       "  '_i37',\n",
       "  '_i38',\n",
       "  '_i39',\n",
       "  '_i4',\n",
       "  '_i40',\n",
       "  '_i41',\n",
       "  '_i42',\n",
       "  '_i43',\n",
       "  '_i44',\n",
       "  '_i45',\n",
       "  '_i46',\n",
       "  '_i47',\n",
       "  '_i48',\n",
       "  '_i49',\n",
       "  '_i5',\n",
       "  '_i50',\n",
       "  '_i51',\n",
       "  '_i52',\n",
       "  '_i53',\n",
       "  '_i54',\n",
       "  '_i55',\n",
       "  '_i56',\n",
       "  '_i57',\n",
       "  '_i58',\n",
       "  '_i59',\n",
       "  '_i6',\n",
       "  '_i60',\n",
       "  '_i61',\n",
       "  '_i62',\n",
       "  '_i63',\n",
       "  '_i64',\n",
       "  '_i65',\n",
       "  '_i66',\n",
       "  '_i7',\n",
       "  '_i8',\n",
       "  '_i9',\n",
       "  '_ih',\n",
       "  '_ii',\n",
       "  '_iii',\n",
       "  '_oh',\n",
       "  'a',\n",
       "  'ax',\n",
       "  'col',\n",
       "  'col1',\n",
       "  'det',\n",
       "  'exit',\n",
       "  'fig',\n",
       "  'get_ipython',\n",
       "  'inv',\n",
       "  'mpow',\n",
       "  'norm',\n",
       "  'np',\n",
       "  'plt',\n",
       "  'quit',\n",
       "  'row1',\n",
       "  'sys'],\n",
       " '__': sys.float_info(max=1.7976931348623157e+308, max_exp=1024, max_10_exp=308, min=2.2250738585072014e-308, min_exp=-1021, min_10_exp=-307, dig=15, mant_dig=53, epsilon=2.220446049250313e-16, radix=2, rounds=1),\n",
       " '___': sys.float_info(max=1.7976931348623157e+308, max_exp=1024, max_10_exp=308, min=2.2250738585072014e-308, min_exp=-1021, min_10_exp=-307, dig=15, mant_dig=53, epsilon=2.220446049250313e-16, radix=2, rounds=1),\n",
       " '_i': 'dir()',\n",
       " '_ii': 'sys.float_info',\n",
       " '_iii': 'sys.float_info',\n",
       " '_i1': 'import numpy as np',\n",
       " 'np': <module 'numpy' from '/Users/webb/opt/anaconda3/envs/py37/lib/python3.7/site-packages/numpy/__init__.py'>,\n",
       " '_i2': '# Create a list\\na = [-1,5,-2,3,4,-9,7,6]\\n\\nprint(a)\\nprint(type(a))',\n",
       " 'a': [-1, 5, -2, 3, 4, -9, 7, 6],\n",
       " '_i3': '# Into a numpy array\\n\\nA = np.array(a)\\n\\nprint(type(A))',\n",
       " 'A': (-30+0j),\n",
       " '_i4': 'print(A)',\n",
       " '_i5': 'print(a.ndim)',\n",
       " '_i6': 'print(A.ndim)',\n",
       " '_i7': 'print(A.shape)',\n",
       " '_i8': 'print(A.size)',\n",
       " '_i9': 'B = np.array([[1,2,3,0], [4,5,6,-1], [7,8,9,-2]])',\n",
       " 'B': array([[3, 0],\n",
       "        [0, 2]]),\n",
       " '_i10': 'print(B)\\n\\nprint(type(B))',\n",
       " '_i11': 'print(B.ndim)\\n\\nprint(B.shape)\\n\\nprint(B.size)',\n",
       " '_i12': 'import matplotlib.pyplot as plt',\n",
       " 'plt': <module 'matplotlib.pyplot' from '/Users/webb/opt/anaconda3/envs/py37/lib/python3.7/site-packages/matplotlib/pyplot.py'>,\n",
       " '_i13': '# Figure enviroment\\n\\nfig, ax = plt.subplots(figsize=(10,6))\\nax.imshow(B)\\nplt.show()',\n",
       " 'fig': <Figure size 1000x600 with 1 Axes>,\n",
       " 'ax': <AxesSubplot:>,\n",
       " '_i14': 'print(B)',\n",
       " '_i15': 'col = B[:,0]\\nprint(col)\\nprint(type(col))\\nprint(col.ndim)',\n",
       " 'col': array([1, 4, 7]),\n",
       " '_i16': 'col1 = np.array(col).reshape(3,1)\\nprint(col1)',\n",
       " 'col1': array([[1],\n",
       "        [4],\n",
       "        [7]]),\n",
       " '_i17': \"print('Dimensions:', col.ndim)\\nprint('Shape:', col.shape)\\nprint('Size:', col.size)\",\n",
       " '_i18': \"print('Dimensions:', col1.ndim)\\nprint('Shape:', col1.shape)\\nprint('Size:', col1.size)\",\n",
       " '_i19': 'row1 = B[0,:]\\n\\nprint(row1)\\nprint(type(row1))',\n",
       " 'row1': array([1, 2, 3, 0]),\n",
       " '_i20': 'C = np.array([[1,2], [4,5], [7,8]])\\n\\nprint(C.shape)\\nprint(C)',\n",
       " 'C': array([[-4,  1],\n",
       "        [ 2,  5]]),\n",
       " '_i21': 'D = C + C\\n\\nprint(D)',\n",
       " 'D': array([[-12,   3],\n",
       "        [  4,  10]]),\n",
       " '_i22': 'D = C - C\\n\\nprint(D)',\n",
       " '_i23': 'D = C**2 # not equal to CxC, element by element operation.\\n\\nprint(D)',\n",
       " '_i24': 'D = C*C # not equal to CxC, element by element operation.\\n\\nprint(D)',\n",
       " '_i25': 'C @ C ',\n",
       " '_i26': 'E = np.array([[1,1,0], [-2,5,7]])\\n\\nprint(E)',\n",
       " 'E': array([[ 1,  1,  0],\n",
       "        [-2,  5,  7]]),\n",
       " '_i27': 'C @ E',\n",
       " '_27': array([[-3, 11, 14],\n",
       "        [-6, 29, 35],\n",
       "        [-9, 47, 56]]),\n",
       " '_i28': 'K = np.identity(3) # gives you a square matrix\\n\\nprint(K)',\n",
       " 'K': array([[1., 1., 1., 1.],\n",
       "        [1., 1., 1., 1.],\n",
       "        [1., 1., 1., 1.],\n",
       "        [1., 1., 1., 1.]]),\n",
       " '_i29': \"K = np.eye(3)  # gives you any matrix shape with 1's in the kth diagnonal\\n\\nprint(K)\",\n",
       " '_i30': 'K = np.eye(4,2)\\n\\nprint(K)',\n",
       " '_i31': 'K = np.zeros(4) \\n\\nprint(K)',\n",
       " '_i32': 'K = np.zeros((4,4)) \\n\\nprint(K)',\n",
       " '_i33': 'K = np.ones(4) \\n\\nprint(K)',\n",
       " '_i34': 'K = np.ones((4,4)) \\n\\nprint(K)',\n",
       " '_i35': 'A = np.array([[4,-7],[2,5]])\\nprint(A)',\n",
       " '_i36': 'B = np.array([[1,-2],[5,8]])\\nprint(B)',\n",
       " '_i37': 'I = np.identity(2)\\nprint(I)',\n",
       " 'I': array([[1., 0.],\n",
       "        [0., 1.]]),\n",
       " '_i38': 'M = 2*A + A @ B - I',\n",
       " 'M': array([[-24., -78.],\n",
       "        [ 31.,  45.]]),\n",
       " '_i39': 'print(M)',\n",
       " '_i40': 'from numpy.linalg import matrix_power as mpow',\n",
       " 'mpow': <function numpy.linalg.matrix_power(a, n)>,\n",
       " '_i41': 'Msqr = mpow(M,2)\\n\\nprint(Msqr)',\n",
       " 'Msqr': array([[ 57649806., -16734978.],\n",
       "        [  6651081.,  72453825.]]),\n",
       " '_i42': 'Mtwice = M @ M\\n\\nprint(Mtwice)',\n",
       " 'Mtwice': array([[-1842., -1638.],\n",
       "        [  651.,  -393.]]),\n",
       " '_i43': 'Msqr = mpow(M,5)\\n\\nprint(Msqr)',\n",
       " '_i44': 'M5 = M @ M @ M @ M @ M\\nprint(M5)',\n",
       " 'M5': array([[ 57649806., -16734978.],\n",
       "        [  6651081.,  72453825.]]),\n",
       " '_i45': 'print(M)',\n",
       " '_i46': 'M2 = M.transpose()\\nprint(M2)',\n",
       " 'M2': array([[-24.,  31.],\n",
       "        [-78.,  45.]]),\n",
       " '_i47': 'M2 = M.T\\nprint(M2)',\n",
       " '_i48': 'L = M @ M2\\n\\nprint(L)',\n",
       " 'L': array([[ 6660., -4254.],\n",
       "        [-4254.,  2986.]]),\n",
       " '_i49': 'from numpy.linalg import inv',\n",
       " 'inv': <function numpy.linalg.inv(a)>,\n",
       " '_i50': 'A = np.array([[-1.,4.],[5.,9.]])\\n\\nprint(A)',\n",
       " '_i51': 'B = inv(A)\\n\\nprint(B)',\n",
       " '_i52': 'A @ B # the result is I(nxn)',\n",
       " '_52': array([[ 1.00000000e+00,  2.77555756e-17],\n",
       "        [-1.11022302e-16,  1.00000000e+00]]),\n",
       " '_i53': 'print(np.trace(A))',\n",
       " '_i54': 'from numpy.linalg import det\\n\\nprint(A)',\n",
       " 'det': <function numpy.linalg.det(a)>,\n",
       " '_i55': 'print(det(A))',\n",
       " '_i56': 'from numpy.linalg import norm\\n\\nprint(A)',\n",
       " 'norm': <function numpy.linalg.norm(x, ord=None, axis=None, keepdims=False)>,\n",
       " '_i57': 'print(norm(A,ord=1))',\n",
       " '_i58': 'A = np.dot(-3, 4)\\n\\nprint(A)',\n",
       " '_i59': 'A = np.dot([-1j, 4j], [-2j, 7j])\\n\\nprint(A)',\n",
       " '_i60': 'B = np.array([[3, 0], [0, 2]])\\n\\nC = np.array([[-4, 1], [2, 5]])\\n\\nprint(B)\\n\\nprint(C)',\n",
       " '_i61': 'D = np.dot(B, C)\\n\\nprint(D)',\n",
       " '_i62': 'print(B @ C)',\n",
       " '_i63': 'import sys',\n",
       " 'sys': <module 'sys' (built-in)>,\n",
       " '_i64': 'sys.float_info',\n",
       " '_64': sys.float_info(max=1.7976931348623157e+308, max_exp=1024, max_10_exp=308, min=2.2250738585072014e-308, min_exp=-1021, min_10_exp=-307, dig=15, mant_dig=53, epsilon=2.220446049250313e-16, radix=2, rounds=1),\n",
       " '_i65': 'sys.float_info',\n",
       " '_65': sys.float_info(max=1.7976931348623157e+308, max_exp=1024, max_10_exp=308, min=2.2250738585072014e-308, min_exp=-1021, min_10_exp=-307, dig=15, mant_dig=53, epsilon=2.220446049250313e-16, radix=2, rounds=1),\n",
       " '_i66': 'dir()',\n",
       " '_66': ['A',\n",
       "  'B',\n",
       "  'C',\n",
       "  'D',\n",
       "  'E',\n",
       "  'I',\n",
       "  'In',\n",
       "  'K',\n",
       "  'L',\n",
       "  'M',\n",
       "  'M2',\n",
       "  'M5',\n",
       "  'Msqr',\n",
       "  'Mtwice',\n",
       "  'Out',\n",
       "  '_',\n",
       "  '_27',\n",
       "  '_52',\n",
       "  '_64',\n",
       "  '_65',\n",
       "  '__',\n",
       "  '___',\n",
       "  '__builtin__',\n",
       "  '__builtins__',\n",
       "  '__doc__',\n",
       "  '__loader__',\n",
       "  '__name__',\n",
       "  '__package__',\n",
       "  '__spec__',\n",
       "  '_dh',\n",
       "  '_i',\n",
       "  '_i1',\n",
       "  '_i10',\n",
       "  '_i11',\n",
       "  '_i12',\n",
       "  '_i13',\n",
       "  '_i14',\n",
       "  '_i15',\n",
       "  '_i16',\n",
       "  '_i17',\n",
       "  '_i18',\n",
       "  '_i19',\n",
       "  '_i2',\n",
       "  '_i20',\n",
       "  '_i21',\n",
       "  '_i22',\n",
       "  '_i23',\n",
       "  '_i24',\n",
       "  '_i25',\n",
       "  '_i26',\n",
       "  '_i27',\n",
       "  '_i28',\n",
       "  '_i29',\n",
       "  '_i3',\n",
       "  '_i30',\n",
       "  '_i31',\n",
       "  '_i32',\n",
       "  '_i33',\n",
       "  '_i34',\n",
       "  '_i35',\n",
       "  '_i36',\n",
       "  '_i37',\n",
       "  '_i38',\n",
       "  '_i39',\n",
       "  '_i4',\n",
       "  '_i40',\n",
       "  '_i41',\n",
       "  '_i42',\n",
       "  '_i43',\n",
       "  '_i44',\n",
       "  '_i45',\n",
       "  '_i46',\n",
       "  '_i47',\n",
       "  '_i48',\n",
       "  '_i49',\n",
       "  '_i5',\n",
       "  '_i50',\n",
       "  '_i51',\n",
       "  '_i52',\n",
       "  '_i53',\n",
       "  '_i54',\n",
       "  '_i55',\n",
       "  '_i56',\n",
       "  '_i57',\n",
       "  '_i58',\n",
       "  '_i59',\n",
       "  '_i6',\n",
       "  '_i60',\n",
       "  '_i61',\n",
       "  '_i62',\n",
       "  '_i63',\n",
       "  '_i64',\n",
       "  '_i65',\n",
       "  '_i66',\n",
       "  '_i7',\n",
       "  '_i8',\n",
       "  '_i9',\n",
       "  '_ih',\n",
       "  '_ii',\n",
       "  '_iii',\n",
       "  '_oh',\n",
       "  'a',\n",
       "  'ax',\n",
       "  'col',\n",
       "  'col1',\n",
       "  'det',\n",
       "  'exit',\n",
       "  'fig',\n",
       "  'get_ipython',\n",
       "  'inv',\n",
       "  'mpow',\n",
       "  'norm',\n",
       "  'np',\n",
       "  'plt',\n",
       "  'quit',\n",
       "  'row1',\n",
       "  'sys'],\n",
       " '_i67': 'globals()'}"
      ]
     },
     "execution_count": 67,
     "metadata": {},
     "output_type": "execute_result"
    }
   ],
   "source": [
    "globals()"
   ]
  },
  {
   "cell_type": "markdown",
   "id": "41bc3447",
   "metadata": {},
   "source": [
    "## 4. Dictionary of local variables"
   ]
  },
  {
   "cell_type": "code",
   "execution_count": 68,
   "id": "103e0303",
   "metadata": {},
   "outputs": [
    {
     "data": {
      "text/plain": [
       "{'__name__': '__main__',\n",
       " '__doc__': 'Automatically created module for IPython interactive environment',\n",
       " '__package__': None,\n",
       " '__loader__': None,\n",
       " '__spec__': None,\n",
       " '__builtin__': <module 'builtins' (built-in)>,\n",
       " '__builtins__': <module 'builtins' (built-in)>,\n",
       " '_ih': ['',\n",
       "  'import numpy as np',\n",
       "  '# Create a list\\na = [-1,5,-2,3,4,-9,7,6]\\n\\nprint(a)\\nprint(type(a))',\n",
       "  '# Into a numpy array\\n\\nA = np.array(a)\\n\\nprint(type(A))',\n",
       "  'print(A)',\n",
       "  'print(a.ndim)',\n",
       "  'print(A.ndim)',\n",
       "  'print(A.shape)',\n",
       "  'print(A.size)',\n",
       "  'B = np.array([[1,2,3,0], [4,5,6,-1], [7,8,9,-2]])',\n",
       "  'print(B)\\n\\nprint(type(B))',\n",
       "  'print(B.ndim)\\n\\nprint(B.shape)\\n\\nprint(B.size)',\n",
       "  'import matplotlib.pyplot as plt',\n",
       "  '# Figure enviroment\\n\\nfig, ax = plt.subplots(figsize=(10,6))\\nax.imshow(B)\\nplt.show()',\n",
       "  'print(B)',\n",
       "  'col = B[:,0]\\nprint(col)\\nprint(type(col))\\nprint(col.ndim)',\n",
       "  'col1 = np.array(col).reshape(3,1)\\nprint(col1)',\n",
       "  \"print('Dimensions:', col.ndim)\\nprint('Shape:', col.shape)\\nprint('Size:', col.size)\",\n",
       "  \"print('Dimensions:', col1.ndim)\\nprint('Shape:', col1.shape)\\nprint('Size:', col1.size)\",\n",
       "  'row1 = B[0,:]\\n\\nprint(row1)\\nprint(type(row1))',\n",
       "  'C = np.array([[1,2], [4,5], [7,8]])\\n\\nprint(C.shape)\\nprint(C)',\n",
       "  'D = C + C\\n\\nprint(D)',\n",
       "  'D = C - C\\n\\nprint(D)',\n",
       "  'D = C**2 # not equal to CxC, element by element operation.\\n\\nprint(D)',\n",
       "  'D = C*C # not equal to CxC, element by element operation.\\n\\nprint(D)',\n",
       "  'C @ C ',\n",
       "  'E = np.array([[1,1,0], [-2,5,7]])\\n\\nprint(E)',\n",
       "  'C @ E',\n",
       "  'K = np.identity(3) # gives you a square matrix\\n\\nprint(K)',\n",
       "  \"K = np.eye(3)  # gives you any matrix shape with 1's in the kth diagnonal\\n\\nprint(K)\",\n",
       "  'K = np.eye(4,2)\\n\\nprint(K)',\n",
       "  'K = np.zeros(4) \\n\\nprint(K)',\n",
       "  'K = np.zeros((4,4)) \\n\\nprint(K)',\n",
       "  'K = np.ones(4) \\n\\nprint(K)',\n",
       "  'K = np.ones((4,4)) \\n\\nprint(K)',\n",
       "  'A = np.array([[4,-7],[2,5]])\\nprint(A)',\n",
       "  'B = np.array([[1,-2],[5,8]])\\nprint(B)',\n",
       "  'I = np.identity(2)\\nprint(I)',\n",
       "  'M = 2*A + A @ B - I',\n",
       "  'print(M)',\n",
       "  'from numpy.linalg import matrix_power as mpow',\n",
       "  'Msqr = mpow(M,2)\\n\\nprint(Msqr)',\n",
       "  'Mtwice = M @ M\\n\\nprint(Mtwice)',\n",
       "  'Msqr = mpow(M,5)\\n\\nprint(Msqr)',\n",
       "  'M5 = M @ M @ M @ M @ M\\nprint(M5)',\n",
       "  'print(M)',\n",
       "  'M2 = M.transpose()\\nprint(M2)',\n",
       "  'M2 = M.T\\nprint(M2)',\n",
       "  'L = M @ M2\\n\\nprint(L)',\n",
       "  'from numpy.linalg import inv',\n",
       "  'A = np.array([[-1.,4.],[5.,9.]])\\n\\nprint(A)',\n",
       "  'B = inv(A)\\n\\nprint(B)',\n",
       "  'A @ B # the result is I(nxn)',\n",
       "  'print(np.trace(A))',\n",
       "  'from numpy.linalg import det\\n\\nprint(A)',\n",
       "  'print(det(A))',\n",
       "  'from numpy.linalg import norm\\n\\nprint(A)',\n",
       "  'print(norm(A,ord=1))',\n",
       "  'A = np.dot(-3, 4)\\n\\nprint(A)',\n",
       "  'A = np.dot([-1j, 4j], [-2j, 7j])\\n\\nprint(A)',\n",
       "  'B = np.array([[3, 0], [0, 2]])\\n\\nC = np.array([[-4, 1], [2, 5]])\\n\\nprint(B)\\n\\nprint(C)',\n",
       "  'D = np.dot(B, C)\\n\\nprint(D)',\n",
       "  'print(B @ C)',\n",
       "  'import sys',\n",
       "  'sys.float_info',\n",
       "  'sys.float_info',\n",
       "  'dir()',\n",
       "  'globals()',\n",
       "  'locals()'],\n",
       " '_oh': {27: array([[-3, 11, 14],\n",
       "         [-6, 29, 35],\n",
       "         [-9, 47, 56]]),\n",
       "  52: array([[ 1.00000000e+00,  2.77555756e-17],\n",
       "         [-1.11022302e-16,  1.00000000e+00]]),\n",
       "  64: sys.float_info(max=1.7976931348623157e+308, max_exp=1024, max_10_exp=308, min=2.2250738585072014e-308, min_exp=-1021, min_10_exp=-307, dig=15, mant_dig=53, epsilon=2.220446049250313e-16, radix=2, rounds=1),\n",
       "  65: sys.float_info(max=1.7976931348623157e+308, max_exp=1024, max_10_exp=308, min=2.2250738585072014e-308, min_exp=-1021, min_10_exp=-307, dig=15, mant_dig=53, epsilon=2.220446049250313e-16, radix=2, rounds=1),\n",
       "  66: ['A',\n",
       "   'B',\n",
       "   'C',\n",
       "   'D',\n",
       "   'E',\n",
       "   'I',\n",
       "   'In',\n",
       "   'K',\n",
       "   'L',\n",
       "   'M',\n",
       "   'M2',\n",
       "   'M5',\n",
       "   'Msqr',\n",
       "   'Mtwice',\n",
       "   'Out',\n",
       "   '_',\n",
       "   '_27',\n",
       "   '_52',\n",
       "   '_64',\n",
       "   '_65',\n",
       "   '__',\n",
       "   '___',\n",
       "   '__builtin__',\n",
       "   '__builtins__',\n",
       "   '__doc__',\n",
       "   '__loader__',\n",
       "   '__name__',\n",
       "   '__package__',\n",
       "   '__spec__',\n",
       "   '_dh',\n",
       "   '_i',\n",
       "   '_i1',\n",
       "   '_i10',\n",
       "   '_i11',\n",
       "   '_i12',\n",
       "   '_i13',\n",
       "   '_i14',\n",
       "   '_i15',\n",
       "   '_i16',\n",
       "   '_i17',\n",
       "   '_i18',\n",
       "   '_i19',\n",
       "   '_i2',\n",
       "   '_i20',\n",
       "   '_i21',\n",
       "   '_i22',\n",
       "   '_i23',\n",
       "   '_i24',\n",
       "   '_i25',\n",
       "   '_i26',\n",
       "   '_i27',\n",
       "   '_i28',\n",
       "   '_i29',\n",
       "   '_i3',\n",
       "   '_i30',\n",
       "   '_i31',\n",
       "   '_i32',\n",
       "   '_i33',\n",
       "   '_i34',\n",
       "   '_i35',\n",
       "   '_i36',\n",
       "   '_i37',\n",
       "   '_i38',\n",
       "   '_i39',\n",
       "   '_i4',\n",
       "   '_i40',\n",
       "   '_i41',\n",
       "   '_i42',\n",
       "   '_i43',\n",
       "   '_i44',\n",
       "   '_i45',\n",
       "   '_i46',\n",
       "   '_i47',\n",
       "   '_i48',\n",
       "   '_i49',\n",
       "   '_i5',\n",
       "   '_i50',\n",
       "   '_i51',\n",
       "   '_i52',\n",
       "   '_i53',\n",
       "   '_i54',\n",
       "   '_i55',\n",
       "   '_i56',\n",
       "   '_i57',\n",
       "   '_i58',\n",
       "   '_i59',\n",
       "   '_i6',\n",
       "   '_i60',\n",
       "   '_i61',\n",
       "   '_i62',\n",
       "   '_i63',\n",
       "   '_i64',\n",
       "   '_i65',\n",
       "   '_i66',\n",
       "   '_i7',\n",
       "   '_i8',\n",
       "   '_i9',\n",
       "   '_ih',\n",
       "   '_ii',\n",
       "   '_iii',\n",
       "   '_oh',\n",
       "   'a',\n",
       "   'ax',\n",
       "   'col',\n",
       "   'col1',\n",
       "   'det',\n",
       "   'exit',\n",
       "   'fig',\n",
       "   'get_ipython',\n",
       "   'inv',\n",
       "   'mpow',\n",
       "   'norm',\n",
       "   'np',\n",
       "   'plt',\n",
       "   'quit',\n",
       "   'row1',\n",
       "   'sys'],\n",
       "  67: {...}},\n",
       " '_dh': ['/Users/webb/Dropbox/Yachay_Tech/Docencia/Fisica_Computacional/Lectures/git_repo/unit-2'],\n",
       " 'In': ['',\n",
       "  'import numpy as np',\n",
       "  '# Create a list\\na = [-1,5,-2,3,4,-9,7,6]\\n\\nprint(a)\\nprint(type(a))',\n",
       "  '# Into a numpy array\\n\\nA = np.array(a)\\n\\nprint(type(A))',\n",
       "  'print(A)',\n",
       "  'print(a.ndim)',\n",
       "  'print(A.ndim)',\n",
       "  'print(A.shape)',\n",
       "  'print(A.size)',\n",
       "  'B = np.array([[1,2,3,0], [4,5,6,-1], [7,8,9,-2]])',\n",
       "  'print(B)\\n\\nprint(type(B))',\n",
       "  'print(B.ndim)\\n\\nprint(B.shape)\\n\\nprint(B.size)',\n",
       "  'import matplotlib.pyplot as plt',\n",
       "  '# Figure enviroment\\n\\nfig, ax = plt.subplots(figsize=(10,6))\\nax.imshow(B)\\nplt.show()',\n",
       "  'print(B)',\n",
       "  'col = B[:,0]\\nprint(col)\\nprint(type(col))\\nprint(col.ndim)',\n",
       "  'col1 = np.array(col).reshape(3,1)\\nprint(col1)',\n",
       "  \"print('Dimensions:', col.ndim)\\nprint('Shape:', col.shape)\\nprint('Size:', col.size)\",\n",
       "  \"print('Dimensions:', col1.ndim)\\nprint('Shape:', col1.shape)\\nprint('Size:', col1.size)\",\n",
       "  'row1 = B[0,:]\\n\\nprint(row1)\\nprint(type(row1))',\n",
       "  'C = np.array([[1,2], [4,5], [7,8]])\\n\\nprint(C.shape)\\nprint(C)',\n",
       "  'D = C + C\\n\\nprint(D)',\n",
       "  'D = C - C\\n\\nprint(D)',\n",
       "  'D = C**2 # not equal to CxC, element by element operation.\\n\\nprint(D)',\n",
       "  'D = C*C # not equal to CxC, element by element operation.\\n\\nprint(D)',\n",
       "  'C @ C ',\n",
       "  'E = np.array([[1,1,0], [-2,5,7]])\\n\\nprint(E)',\n",
       "  'C @ E',\n",
       "  'K = np.identity(3) # gives you a square matrix\\n\\nprint(K)',\n",
       "  \"K = np.eye(3)  # gives you any matrix shape with 1's in the kth diagnonal\\n\\nprint(K)\",\n",
       "  'K = np.eye(4,2)\\n\\nprint(K)',\n",
       "  'K = np.zeros(4) \\n\\nprint(K)',\n",
       "  'K = np.zeros((4,4)) \\n\\nprint(K)',\n",
       "  'K = np.ones(4) \\n\\nprint(K)',\n",
       "  'K = np.ones((4,4)) \\n\\nprint(K)',\n",
       "  'A = np.array([[4,-7],[2,5]])\\nprint(A)',\n",
       "  'B = np.array([[1,-2],[5,8]])\\nprint(B)',\n",
       "  'I = np.identity(2)\\nprint(I)',\n",
       "  'M = 2*A + A @ B - I',\n",
       "  'print(M)',\n",
       "  'from numpy.linalg import matrix_power as mpow',\n",
       "  'Msqr = mpow(M,2)\\n\\nprint(Msqr)',\n",
       "  'Mtwice = M @ M\\n\\nprint(Mtwice)',\n",
       "  'Msqr = mpow(M,5)\\n\\nprint(Msqr)',\n",
       "  'M5 = M @ M @ M @ M @ M\\nprint(M5)',\n",
       "  'print(M)',\n",
       "  'M2 = M.transpose()\\nprint(M2)',\n",
       "  'M2 = M.T\\nprint(M2)',\n",
       "  'L = M @ M2\\n\\nprint(L)',\n",
       "  'from numpy.linalg import inv',\n",
       "  'A = np.array([[-1.,4.],[5.,9.]])\\n\\nprint(A)',\n",
       "  'B = inv(A)\\n\\nprint(B)',\n",
       "  'A @ B # the result is I(nxn)',\n",
       "  'print(np.trace(A))',\n",
       "  'from numpy.linalg import det\\n\\nprint(A)',\n",
       "  'print(det(A))',\n",
       "  'from numpy.linalg import norm\\n\\nprint(A)',\n",
       "  'print(norm(A,ord=1))',\n",
       "  'A = np.dot(-3, 4)\\n\\nprint(A)',\n",
       "  'A = np.dot([-1j, 4j], [-2j, 7j])\\n\\nprint(A)',\n",
       "  'B = np.array([[3, 0], [0, 2]])\\n\\nC = np.array([[-4, 1], [2, 5]])\\n\\nprint(B)\\n\\nprint(C)',\n",
       "  'D = np.dot(B, C)\\n\\nprint(D)',\n",
       "  'print(B @ C)',\n",
       "  'import sys',\n",
       "  'sys.float_info',\n",
       "  'sys.float_info',\n",
       "  'dir()',\n",
       "  'globals()',\n",
       "  'locals()'],\n",
       " 'Out': {27: array([[-3, 11, 14],\n",
       "         [-6, 29, 35],\n",
       "         [-9, 47, 56]]),\n",
       "  52: array([[ 1.00000000e+00,  2.77555756e-17],\n",
       "         [-1.11022302e-16,  1.00000000e+00]]),\n",
       "  64: sys.float_info(max=1.7976931348623157e+308, max_exp=1024, max_10_exp=308, min=2.2250738585072014e-308, min_exp=-1021, min_10_exp=-307, dig=15, mant_dig=53, epsilon=2.220446049250313e-16, radix=2, rounds=1),\n",
       "  65: sys.float_info(max=1.7976931348623157e+308, max_exp=1024, max_10_exp=308, min=2.2250738585072014e-308, min_exp=-1021, min_10_exp=-307, dig=15, mant_dig=53, epsilon=2.220446049250313e-16, radix=2, rounds=1),\n",
       "  66: ['A',\n",
       "   'B',\n",
       "   'C',\n",
       "   'D',\n",
       "   'E',\n",
       "   'I',\n",
       "   'In',\n",
       "   'K',\n",
       "   'L',\n",
       "   'M',\n",
       "   'M2',\n",
       "   'M5',\n",
       "   'Msqr',\n",
       "   'Mtwice',\n",
       "   'Out',\n",
       "   '_',\n",
       "   '_27',\n",
       "   '_52',\n",
       "   '_64',\n",
       "   '_65',\n",
       "   '__',\n",
       "   '___',\n",
       "   '__builtin__',\n",
       "   '__builtins__',\n",
       "   '__doc__',\n",
       "   '__loader__',\n",
       "   '__name__',\n",
       "   '__package__',\n",
       "   '__spec__',\n",
       "   '_dh',\n",
       "   '_i',\n",
       "   '_i1',\n",
       "   '_i10',\n",
       "   '_i11',\n",
       "   '_i12',\n",
       "   '_i13',\n",
       "   '_i14',\n",
       "   '_i15',\n",
       "   '_i16',\n",
       "   '_i17',\n",
       "   '_i18',\n",
       "   '_i19',\n",
       "   '_i2',\n",
       "   '_i20',\n",
       "   '_i21',\n",
       "   '_i22',\n",
       "   '_i23',\n",
       "   '_i24',\n",
       "   '_i25',\n",
       "   '_i26',\n",
       "   '_i27',\n",
       "   '_i28',\n",
       "   '_i29',\n",
       "   '_i3',\n",
       "   '_i30',\n",
       "   '_i31',\n",
       "   '_i32',\n",
       "   '_i33',\n",
       "   '_i34',\n",
       "   '_i35',\n",
       "   '_i36',\n",
       "   '_i37',\n",
       "   '_i38',\n",
       "   '_i39',\n",
       "   '_i4',\n",
       "   '_i40',\n",
       "   '_i41',\n",
       "   '_i42',\n",
       "   '_i43',\n",
       "   '_i44',\n",
       "   '_i45',\n",
       "   '_i46',\n",
       "   '_i47',\n",
       "   '_i48',\n",
       "   '_i49',\n",
       "   '_i5',\n",
       "   '_i50',\n",
       "   '_i51',\n",
       "   '_i52',\n",
       "   '_i53',\n",
       "   '_i54',\n",
       "   '_i55',\n",
       "   '_i56',\n",
       "   '_i57',\n",
       "   '_i58',\n",
       "   '_i59',\n",
       "   '_i6',\n",
       "   '_i60',\n",
       "   '_i61',\n",
       "   '_i62',\n",
       "   '_i63',\n",
       "   '_i64',\n",
       "   '_i65',\n",
       "   '_i66',\n",
       "   '_i7',\n",
       "   '_i8',\n",
       "   '_i9',\n",
       "   '_ih',\n",
       "   '_ii',\n",
       "   '_iii',\n",
       "   '_oh',\n",
       "   'a',\n",
       "   'ax',\n",
       "   'col',\n",
       "   'col1',\n",
       "   'det',\n",
       "   'exit',\n",
       "   'fig',\n",
       "   'get_ipython',\n",
       "   'inv',\n",
       "   'mpow',\n",
       "   'norm',\n",
       "   'np',\n",
       "   'plt',\n",
       "   'quit',\n",
       "   'row1',\n",
       "   'sys'],\n",
       "  67: {...}},\n",
       " 'get_ipython': <bound method InteractiveShell.get_ipython of <ipykernel.zmqshell.ZMQInteractiveShell object at 0x104f44210>>,\n",
       " 'exit': <IPython.core.autocall.ZMQExitAutocall at 0x104f9b510>,\n",
       " 'quit': <IPython.core.autocall.ZMQExitAutocall at 0x104f9b510>,\n",
       " '_': {...},\n",
       " '__': ['A',\n",
       "  'B',\n",
       "  'C',\n",
       "  'D',\n",
       "  'E',\n",
       "  'I',\n",
       "  'In',\n",
       "  'K',\n",
       "  'L',\n",
       "  'M',\n",
       "  'M2',\n",
       "  'M5',\n",
       "  'Msqr',\n",
       "  'Mtwice',\n",
       "  'Out',\n",
       "  '_',\n",
       "  '_27',\n",
       "  '_52',\n",
       "  '_64',\n",
       "  '_65',\n",
       "  '__',\n",
       "  '___',\n",
       "  '__builtin__',\n",
       "  '__builtins__',\n",
       "  '__doc__',\n",
       "  '__loader__',\n",
       "  '__name__',\n",
       "  '__package__',\n",
       "  '__spec__',\n",
       "  '_dh',\n",
       "  '_i',\n",
       "  '_i1',\n",
       "  '_i10',\n",
       "  '_i11',\n",
       "  '_i12',\n",
       "  '_i13',\n",
       "  '_i14',\n",
       "  '_i15',\n",
       "  '_i16',\n",
       "  '_i17',\n",
       "  '_i18',\n",
       "  '_i19',\n",
       "  '_i2',\n",
       "  '_i20',\n",
       "  '_i21',\n",
       "  '_i22',\n",
       "  '_i23',\n",
       "  '_i24',\n",
       "  '_i25',\n",
       "  '_i26',\n",
       "  '_i27',\n",
       "  '_i28',\n",
       "  '_i29',\n",
       "  '_i3',\n",
       "  '_i30',\n",
       "  '_i31',\n",
       "  '_i32',\n",
       "  '_i33',\n",
       "  '_i34',\n",
       "  '_i35',\n",
       "  '_i36',\n",
       "  '_i37',\n",
       "  '_i38',\n",
       "  '_i39',\n",
       "  '_i4',\n",
       "  '_i40',\n",
       "  '_i41',\n",
       "  '_i42',\n",
       "  '_i43',\n",
       "  '_i44',\n",
       "  '_i45',\n",
       "  '_i46',\n",
       "  '_i47',\n",
       "  '_i48',\n",
       "  '_i49',\n",
       "  '_i5',\n",
       "  '_i50',\n",
       "  '_i51',\n",
       "  '_i52',\n",
       "  '_i53',\n",
       "  '_i54',\n",
       "  '_i55',\n",
       "  '_i56',\n",
       "  '_i57',\n",
       "  '_i58',\n",
       "  '_i59',\n",
       "  '_i6',\n",
       "  '_i60',\n",
       "  '_i61',\n",
       "  '_i62',\n",
       "  '_i63',\n",
       "  '_i64',\n",
       "  '_i65',\n",
       "  '_i66',\n",
       "  '_i7',\n",
       "  '_i8',\n",
       "  '_i9',\n",
       "  '_ih',\n",
       "  '_ii',\n",
       "  '_iii',\n",
       "  '_oh',\n",
       "  'a',\n",
       "  'ax',\n",
       "  'col',\n",
       "  'col1',\n",
       "  'det',\n",
       "  'exit',\n",
       "  'fig',\n",
       "  'get_ipython',\n",
       "  'inv',\n",
       "  'mpow',\n",
       "  'norm',\n",
       "  'np',\n",
       "  'plt',\n",
       "  'quit',\n",
       "  'row1',\n",
       "  'sys'],\n",
       " '___': sys.float_info(max=1.7976931348623157e+308, max_exp=1024, max_10_exp=308, min=2.2250738585072014e-308, min_exp=-1021, min_10_exp=-307, dig=15, mant_dig=53, epsilon=2.220446049250313e-16, radix=2, rounds=1),\n",
       " '_i': 'globals()',\n",
       " '_ii': 'dir()',\n",
       " '_iii': 'sys.float_info',\n",
       " '_i1': 'import numpy as np',\n",
       " 'np': <module 'numpy' from '/Users/webb/opt/anaconda3/envs/py37/lib/python3.7/site-packages/numpy/__init__.py'>,\n",
       " '_i2': '# Create a list\\na = [-1,5,-2,3,4,-9,7,6]\\n\\nprint(a)\\nprint(type(a))',\n",
       " 'a': [-1, 5, -2, 3, 4, -9, 7, 6],\n",
       " '_i3': '# Into a numpy array\\n\\nA = np.array(a)\\n\\nprint(type(A))',\n",
       " 'A': (-30+0j),\n",
       " '_i4': 'print(A)',\n",
       " '_i5': 'print(a.ndim)',\n",
       " '_i6': 'print(A.ndim)',\n",
       " '_i7': 'print(A.shape)',\n",
       " '_i8': 'print(A.size)',\n",
       " '_i9': 'B = np.array([[1,2,3,0], [4,5,6,-1], [7,8,9,-2]])',\n",
       " 'B': array([[3, 0],\n",
       "        [0, 2]]),\n",
       " '_i10': 'print(B)\\n\\nprint(type(B))',\n",
       " '_i11': 'print(B.ndim)\\n\\nprint(B.shape)\\n\\nprint(B.size)',\n",
       " '_i12': 'import matplotlib.pyplot as plt',\n",
       " 'plt': <module 'matplotlib.pyplot' from '/Users/webb/opt/anaconda3/envs/py37/lib/python3.7/site-packages/matplotlib/pyplot.py'>,\n",
       " '_i13': '# Figure enviroment\\n\\nfig, ax = plt.subplots(figsize=(10,6))\\nax.imshow(B)\\nplt.show()',\n",
       " 'fig': <Figure size 1000x600 with 1 Axes>,\n",
       " 'ax': <AxesSubplot:>,\n",
       " '_i14': 'print(B)',\n",
       " '_i15': 'col = B[:,0]\\nprint(col)\\nprint(type(col))\\nprint(col.ndim)',\n",
       " 'col': array([1, 4, 7]),\n",
       " '_i16': 'col1 = np.array(col).reshape(3,1)\\nprint(col1)',\n",
       " 'col1': array([[1],\n",
       "        [4],\n",
       "        [7]]),\n",
       " '_i17': \"print('Dimensions:', col.ndim)\\nprint('Shape:', col.shape)\\nprint('Size:', col.size)\",\n",
       " '_i18': \"print('Dimensions:', col1.ndim)\\nprint('Shape:', col1.shape)\\nprint('Size:', col1.size)\",\n",
       " '_i19': 'row1 = B[0,:]\\n\\nprint(row1)\\nprint(type(row1))',\n",
       " 'row1': array([1, 2, 3, 0]),\n",
       " '_i20': 'C = np.array([[1,2], [4,5], [7,8]])\\n\\nprint(C.shape)\\nprint(C)',\n",
       " 'C': array([[-4,  1],\n",
       "        [ 2,  5]]),\n",
       " '_i21': 'D = C + C\\n\\nprint(D)',\n",
       " 'D': array([[-12,   3],\n",
       "        [  4,  10]]),\n",
       " '_i22': 'D = C - C\\n\\nprint(D)',\n",
       " '_i23': 'D = C**2 # not equal to CxC, element by element operation.\\n\\nprint(D)',\n",
       " '_i24': 'D = C*C # not equal to CxC, element by element operation.\\n\\nprint(D)',\n",
       " '_i25': 'C @ C ',\n",
       " '_i26': 'E = np.array([[1,1,0], [-2,5,7]])\\n\\nprint(E)',\n",
       " 'E': array([[ 1,  1,  0],\n",
       "        [-2,  5,  7]]),\n",
       " '_i27': 'C @ E',\n",
       " '_27': array([[-3, 11, 14],\n",
       "        [-6, 29, 35],\n",
       "        [-9, 47, 56]]),\n",
       " '_i28': 'K = np.identity(3) # gives you a square matrix\\n\\nprint(K)',\n",
       " 'K': array([[1., 1., 1., 1.],\n",
       "        [1., 1., 1., 1.],\n",
       "        [1., 1., 1., 1.],\n",
       "        [1., 1., 1., 1.]]),\n",
       " '_i29': \"K = np.eye(3)  # gives you any matrix shape with 1's in the kth diagnonal\\n\\nprint(K)\",\n",
       " '_i30': 'K = np.eye(4,2)\\n\\nprint(K)',\n",
       " '_i31': 'K = np.zeros(4) \\n\\nprint(K)',\n",
       " '_i32': 'K = np.zeros((4,4)) \\n\\nprint(K)',\n",
       " '_i33': 'K = np.ones(4) \\n\\nprint(K)',\n",
       " '_i34': 'K = np.ones((4,4)) \\n\\nprint(K)',\n",
       " '_i35': 'A = np.array([[4,-7],[2,5]])\\nprint(A)',\n",
       " '_i36': 'B = np.array([[1,-2],[5,8]])\\nprint(B)',\n",
       " '_i37': 'I = np.identity(2)\\nprint(I)',\n",
       " 'I': array([[1., 0.],\n",
       "        [0., 1.]]),\n",
       " '_i38': 'M = 2*A + A @ B - I',\n",
       " 'M': array([[-24., -78.],\n",
       "        [ 31.,  45.]]),\n",
       " '_i39': 'print(M)',\n",
       " '_i40': 'from numpy.linalg import matrix_power as mpow',\n",
       " 'mpow': <function numpy.linalg.matrix_power(a, n)>,\n",
       " '_i41': 'Msqr = mpow(M,2)\\n\\nprint(Msqr)',\n",
       " 'Msqr': array([[ 57649806., -16734978.],\n",
       "        [  6651081.,  72453825.]]),\n",
       " '_i42': 'Mtwice = M @ M\\n\\nprint(Mtwice)',\n",
       " 'Mtwice': array([[-1842., -1638.],\n",
       "        [  651.,  -393.]]),\n",
       " '_i43': 'Msqr = mpow(M,5)\\n\\nprint(Msqr)',\n",
       " '_i44': 'M5 = M @ M @ M @ M @ M\\nprint(M5)',\n",
       " 'M5': array([[ 57649806., -16734978.],\n",
       "        [  6651081.,  72453825.]]),\n",
       " '_i45': 'print(M)',\n",
       " '_i46': 'M2 = M.transpose()\\nprint(M2)',\n",
       " 'M2': array([[-24.,  31.],\n",
       "        [-78.,  45.]]),\n",
       " '_i47': 'M2 = M.T\\nprint(M2)',\n",
       " '_i48': 'L = M @ M2\\n\\nprint(L)',\n",
       " 'L': array([[ 6660., -4254.],\n",
       "        [-4254.,  2986.]]),\n",
       " '_i49': 'from numpy.linalg import inv',\n",
       " 'inv': <function numpy.linalg.inv(a)>,\n",
       " '_i50': 'A = np.array([[-1.,4.],[5.,9.]])\\n\\nprint(A)',\n",
       " '_i51': 'B = inv(A)\\n\\nprint(B)',\n",
       " '_i52': 'A @ B # the result is I(nxn)',\n",
       " '_52': array([[ 1.00000000e+00,  2.77555756e-17],\n",
       "        [-1.11022302e-16,  1.00000000e+00]]),\n",
       " '_i53': 'print(np.trace(A))',\n",
       " '_i54': 'from numpy.linalg import det\\n\\nprint(A)',\n",
       " 'det': <function numpy.linalg.det(a)>,\n",
       " '_i55': 'print(det(A))',\n",
       " '_i56': 'from numpy.linalg import norm\\n\\nprint(A)',\n",
       " 'norm': <function numpy.linalg.norm(x, ord=None, axis=None, keepdims=False)>,\n",
       " '_i57': 'print(norm(A,ord=1))',\n",
       " '_i58': 'A = np.dot(-3, 4)\\n\\nprint(A)',\n",
       " '_i59': 'A = np.dot([-1j, 4j], [-2j, 7j])\\n\\nprint(A)',\n",
       " '_i60': 'B = np.array([[3, 0], [0, 2]])\\n\\nC = np.array([[-4, 1], [2, 5]])\\n\\nprint(B)\\n\\nprint(C)',\n",
       " '_i61': 'D = np.dot(B, C)\\n\\nprint(D)',\n",
       " '_i62': 'print(B @ C)',\n",
       " '_i63': 'import sys',\n",
       " 'sys': <module 'sys' (built-in)>,\n",
       " '_i64': 'sys.float_info',\n",
       " '_64': sys.float_info(max=1.7976931348623157e+308, max_exp=1024, max_10_exp=308, min=2.2250738585072014e-308, min_exp=-1021, min_10_exp=-307, dig=15, mant_dig=53, epsilon=2.220446049250313e-16, radix=2, rounds=1),\n",
       " '_i65': 'sys.float_info',\n",
       " '_65': sys.float_info(max=1.7976931348623157e+308, max_exp=1024, max_10_exp=308, min=2.2250738585072014e-308, min_exp=-1021, min_10_exp=-307, dig=15, mant_dig=53, epsilon=2.220446049250313e-16, radix=2, rounds=1),\n",
       " '_i66': 'dir()',\n",
       " '_66': ['A',\n",
       "  'B',\n",
       "  'C',\n",
       "  'D',\n",
       "  'E',\n",
       "  'I',\n",
       "  'In',\n",
       "  'K',\n",
       "  'L',\n",
       "  'M',\n",
       "  'M2',\n",
       "  'M5',\n",
       "  'Msqr',\n",
       "  'Mtwice',\n",
       "  'Out',\n",
       "  '_',\n",
       "  '_27',\n",
       "  '_52',\n",
       "  '_64',\n",
       "  '_65',\n",
       "  '__',\n",
       "  '___',\n",
       "  '__builtin__',\n",
       "  '__builtins__',\n",
       "  '__doc__',\n",
       "  '__loader__',\n",
       "  '__name__',\n",
       "  '__package__',\n",
       "  '__spec__',\n",
       "  '_dh',\n",
       "  '_i',\n",
       "  '_i1',\n",
       "  '_i10',\n",
       "  '_i11',\n",
       "  '_i12',\n",
       "  '_i13',\n",
       "  '_i14',\n",
       "  '_i15',\n",
       "  '_i16',\n",
       "  '_i17',\n",
       "  '_i18',\n",
       "  '_i19',\n",
       "  '_i2',\n",
       "  '_i20',\n",
       "  '_i21',\n",
       "  '_i22',\n",
       "  '_i23',\n",
       "  '_i24',\n",
       "  '_i25',\n",
       "  '_i26',\n",
       "  '_i27',\n",
       "  '_i28',\n",
       "  '_i29',\n",
       "  '_i3',\n",
       "  '_i30',\n",
       "  '_i31',\n",
       "  '_i32',\n",
       "  '_i33',\n",
       "  '_i34',\n",
       "  '_i35',\n",
       "  '_i36',\n",
       "  '_i37',\n",
       "  '_i38',\n",
       "  '_i39',\n",
       "  '_i4',\n",
       "  '_i40',\n",
       "  '_i41',\n",
       "  '_i42',\n",
       "  '_i43',\n",
       "  '_i44',\n",
       "  '_i45',\n",
       "  '_i46',\n",
       "  '_i47',\n",
       "  '_i48',\n",
       "  '_i49',\n",
       "  '_i5',\n",
       "  '_i50',\n",
       "  '_i51',\n",
       "  '_i52',\n",
       "  '_i53',\n",
       "  '_i54',\n",
       "  '_i55',\n",
       "  '_i56',\n",
       "  '_i57',\n",
       "  '_i58',\n",
       "  '_i59',\n",
       "  '_i6',\n",
       "  '_i60',\n",
       "  '_i61',\n",
       "  '_i62',\n",
       "  '_i63',\n",
       "  '_i64',\n",
       "  '_i65',\n",
       "  '_i66',\n",
       "  '_i7',\n",
       "  '_i8',\n",
       "  '_i9',\n",
       "  '_ih',\n",
       "  '_ii',\n",
       "  '_iii',\n",
       "  '_oh',\n",
       "  'a',\n",
       "  'ax',\n",
       "  'col',\n",
       "  'col1',\n",
       "  'det',\n",
       "  'exit',\n",
       "  'fig',\n",
       "  'get_ipython',\n",
       "  'inv',\n",
       "  'mpow',\n",
       "  'norm',\n",
       "  'np',\n",
       "  'plt',\n",
       "  'quit',\n",
       "  'row1',\n",
       "  'sys'],\n",
       " '_i67': 'globals()',\n",
       " '_67': {...},\n",
       " '_i68': 'locals()'}"
      ]
     },
     "execution_count": 68,
     "metadata": {},
     "output_type": "execute_result"
    }
   ],
   "source": [
    "locals()"
   ]
  },
  {
   "cell_type": "markdown",
   "id": "19100420",
   "metadata": {},
   "source": [
    "## 5. Checking RAM usage"
   ]
  },
  {
   "cell_type": "code",
   "execution_count": 69,
   "id": "6d01ddff",
   "metadata": {},
   "outputs": [
    {
     "name": "stdout",
     "output_type": "stream",
     "text": [
      "Variable   Type           Data/Info\n",
      "-----------------------------------\n",
      "A          complex128     (-30+0j)\n",
      "B          ndarray        2x2: 4 elems, type `int64`, 32 bytes\n",
      "C          ndarray        2x2: 4 elems, type `int64`, 32 bytes\n",
      "D          ndarray        2x2: 4 elems, type `int64`, 32 bytes\n",
      "E          ndarray        2x3: 6 elems, type `int64`, 48 bytes\n",
      "I          ndarray        2x2: 4 elems, type `float64`, 32 bytes\n",
      "K          ndarray        4x4: 16 elems, type `float64`, 128 bytes\n",
      "L          ndarray        2x2: 4 elems, type `float64`, 32 bytes\n",
      "M          ndarray        2x2: 4 elems, type `float64`, 32 bytes\n",
      "M2         ndarray        2x2: 4 elems, type `float64`, 32 bytes\n",
      "M5         ndarray        2x2: 4 elems, type `float64`, 32 bytes\n",
      "Msqr       ndarray        2x2: 4 elems, type `float64`, 32 bytes\n",
      "Mtwice     ndarray        2x2: 4 elems, type `float64`, 32 bytes\n",
      "a          list           n=8\n",
      "ax         AxesSubplot    AxesSubplot(0.2045,0.11;0.616x0.77)\n",
      "col        ndarray        3: 3 elems, type `int64`, 24 bytes\n",
      "col1       ndarray        3x1: 3 elems, type `int64`, 24 bytes\n",
      "det        function       <function det at 0x105f33440>\n",
      "fig        Figure         Figure(1000x600)\n",
      "inv        function       <function inv at 0x105f31830>\n",
      "mpow       function       <function matrix_power at 0x105f31950>\n",
      "norm       function       <function norm at 0x105f33710>\n",
      "np         module         <module 'numpy' from '/Us<...>kages/numpy/__init__.py'>\n",
      "plt        module         <module 'matplotlib.pyplo<...>es/matplotlib/pyplot.py'>\n",
      "row1       ndarray        4: 4 elems, type `int64`, 32 bytes\n",
      "sys        module         <module 'sys' (built-in)>\n"
     ]
    }
   ],
   "source": [
    "%whos"
   ]
  },
  {
   "cell_type": "code",
   "execution_count": 70,
   "id": "cbc2175d",
   "metadata": {},
   "outputs": [],
   "source": [
    "del B"
   ]
  },
  {
   "cell_type": "code",
   "execution_count": 71,
   "id": "79a6e425",
   "metadata": {},
   "outputs": [
    {
     "name": "stdout",
     "output_type": "stream",
     "text": [
      "Variable   Type           Data/Info\n",
      "-----------------------------------\n",
      "A          complex128     (-30+0j)\n",
      "C          ndarray        2x2: 4 elems, type `int64`, 32 bytes\n",
      "D          ndarray        2x2: 4 elems, type `int64`, 32 bytes\n",
      "E          ndarray        2x3: 6 elems, type `int64`, 48 bytes\n",
      "I          ndarray        2x2: 4 elems, type `float64`, 32 bytes\n",
      "K          ndarray        4x4: 16 elems, type `float64`, 128 bytes\n",
      "L          ndarray        2x2: 4 elems, type `float64`, 32 bytes\n",
      "M          ndarray        2x2: 4 elems, type `float64`, 32 bytes\n",
      "M2         ndarray        2x2: 4 elems, type `float64`, 32 bytes\n",
      "M5         ndarray        2x2: 4 elems, type `float64`, 32 bytes\n",
      "Msqr       ndarray        2x2: 4 elems, type `float64`, 32 bytes\n",
      "Mtwice     ndarray        2x2: 4 elems, type `float64`, 32 bytes\n",
      "a          list           n=8\n",
      "ax         AxesSubplot    AxesSubplot(0.2045,0.11;0.616x0.77)\n",
      "col        ndarray        3: 3 elems, type `int64`, 24 bytes\n",
      "col1       ndarray        3x1: 3 elems, type `int64`, 24 bytes\n",
      "det        function       <function det at 0x105f33440>\n",
      "fig        Figure         Figure(1000x600)\n",
      "inv        function       <function inv at 0x105f31830>\n",
      "mpow       function       <function matrix_power at 0x105f31950>\n",
      "norm       function       <function norm at 0x105f33710>\n",
      "np         module         <module 'numpy' from '/Us<...>kages/numpy/__init__.py'>\n",
      "plt        module         <module 'matplotlib.pyplo<...>es/matplotlib/pyplot.py'>\n",
      "row1       ndarray        4: 4 elems, type `int64`, 32 bytes\n",
      "sys        module         <module 'sys' (built-in)>\n"
     ]
    }
   ],
   "source": [
    "%whos"
   ]
  },
  {
   "cell_type": "code",
   "execution_count": 72,
   "id": "ed21682b",
   "metadata": {},
   "outputs": [
    {
     "ename": "NameError",
     "evalue": "name 'B' is not defined",
     "output_type": "error",
     "traceback": [
      "\u001b[0;31m---------------------------------------------------------------------------\u001b[0m",
      "\u001b[0;31mNameError\u001b[0m                                 Traceback (most recent call last)",
      "\u001b[0;32m<ipython-input-72-915ca2a905f5>\u001b[0m in \u001b[0;36m<module>\u001b[0;34m\u001b[0m\n\u001b[0;32m----> 1\u001b[0;31m \u001b[0mprint\u001b[0m\u001b[0;34m(\u001b[0m\u001b[0mB\u001b[0m\u001b[0;34m)\u001b[0m\u001b[0;34m\u001b[0m\u001b[0;34m\u001b[0m\u001b[0m\n\u001b[0m",
      "\u001b[0;31mNameError\u001b[0m: name 'B' is not defined"
     ]
    }
   ],
   "source": [
    "print(B)"
   ]
  }
 ],
 "metadata": {
  "kernelspec": {
   "display_name": "Python 3",
   "language": "python",
   "name": "python3"
  },
  "language_info": {
   "codemirror_mode": {
    "name": "ipython",
    "version": 3
   },
   "file_extension": ".py",
   "mimetype": "text/x-python",
   "name": "python",
   "nbconvert_exporter": "python",
   "pygments_lexer": "ipython3",
   "version": "3.7.10"
  }
 },
 "nbformat": 4,
 "nbformat_minor": 5
}
