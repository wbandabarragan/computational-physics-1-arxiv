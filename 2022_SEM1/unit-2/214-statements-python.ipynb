{
 "cells": [
  {
   "cell_type": "markdown",
   "id": "68b00df6",
   "metadata": {},
   "source": [
    "# Statements in Python"
   ]
  },
  {
   "cell_type": "markdown",
   "id": "abe56738",
   "metadata": {},
   "source": [
    "## 1. If ... elif ... else statements\n",
    "\n",
    "**Syntax:**\n",
    "\n",
    "if ____:\n",
    "\n",
    "    indentation statement\n",
    "    \n",
    "elif ____:\n",
    "\n",
    "    indentation statement\n",
    "    \n",
    "else:\n",
    "\n",
    "    indentation statement"
   ]
  },
  {
   "cell_type": "markdown",
   "id": "df018c13",
   "metadata": {},
   "source": [
    "### Example:"
   ]
  },
  {
   "cell_type": "code",
   "execution_count": 3,
   "id": "7a46fe8d",
   "metadata": {},
   "outputs": [],
   "source": [
    "x = 50\n",
    "y = 60"
   ]
  },
  {
   "cell_type": "code",
   "execution_count": 4,
   "id": "aac8e3dc",
   "metadata": {},
   "outputs": [
    {
     "name": "stdout",
     "output_type": "stream",
     "text": [
      "y is greater than x\n"
     ]
    }
   ],
   "source": [
    "# If elif else statement:\n",
    "\n",
    "if y > x:\n",
    "    print(\"y is greater than x\")\n",
    "    \n",
    "elif y == x:\n",
    "    print(\"y and x are equal\")\n",
    "\n",
    "else:\n",
    "    print(\"x is greater than y\")"
   ]
  },
  {
   "cell_type": "markdown",
   "id": "a840efcc",
   "metadata": {},
   "source": [
    "## Short statements:"
   ]
  },
  {
   "cell_type": "code",
   "execution_count": 5,
   "id": "b9dd7147",
   "metadata": {},
   "outputs": [
    {
     "name": "stdout",
     "output_type": "stream",
     "text": [
      "y is greater than x\n"
     ]
    }
   ],
   "source": [
    "if y > x: print(\"y is greater than x\")"
   ]
  },
  {
   "cell_type": "code",
   "execution_count": 6,
   "id": "62ad4723",
   "metadata": {},
   "outputs": [
    {
     "name": "stdout",
     "output_type": "stream",
     "text": [
      "y is greater than x\n"
     ]
    }
   ],
   "source": [
    "print(\"y is greater than x\") if y > x else print(\"y is not greater than x\")"
   ]
  },
  {
   "cell_type": "markdown",
   "id": "f69a1b24",
   "metadata": {},
   "source": [
    "## and / or operators:\n",
    "\n",
    "The **and** keyword is a logical operator used to combine conditional statements.\n",
    "\n",
    "The **or** keyword is a logical operator used to combine conditional statements."
   ]
  },
  {
   "cell_type": "markdown",
   "id": "aafc7b9c",
   "metadata": {},
   "source": [
    "### Examples:"
   ]
  },
  {
   "cell_type": "code",
   "execution_count": 14,
   "id": "e3f0624d",
   "metadata": {},
   "outputs": [],
   "source": [
    "x = 1\n",
    "y = 4\n",
    "z = 10"
   ]
  },
  {
   "cell_type": "code",
   "execution_count": 15,
   "id": "bcb1a296",
   "metadata": {},
   "outputs": [
    {
     "name": "stdout",
     "output_type": "stream",
     "text": [
      "y is in between x and z in increasing order.\n"
     ]
    }
   ],
   "source": [
    "# Both conditions need to be satisfied:\n",
    "\n",
    "if x < y and y < z:\n",
    "    print(\"y is in between x and z in increasing order.\")\n",
    "else: \n",
    "    print(\"y is NOT in between x and z in increasing order.\")  "
   ]
  },
  {
   "cell_type": "code",
   "execution_count": 16,
   "id": "31b1a8fc",
   "metadata": {},
   "outputs": [
    {
     "name": "stdout",
     "output_type": "stream",
     "text": [
      "y could be in between x and z.\n"
     ]
    }
   ],
   "source": [
    "if x < y or y < z:\n",
    "    print(\"y could be in between x and z.\")"
   ]
  },
  {
   "cell_type": "markdown",
   "id": "6ce19ca9",
   "metadata": {},
   "source": [
    "## Binary numbers \n",
    "\n",
    "Binary numbers are base-2 numbers that only take values 0 and 1."
   ]
  },
  {
   "cell_type": "markdown",
   "id": "8286d07f",
   "metadata": {},
   "source": [
    "### Examples:"
   ]
  },
  {
   "cell_type": "code",
   "execution_count": 17,
   "id": "5bcc63a8",
   "metadata": {},
   "outputs": [
    {
     "name": "stdout",
     "output_type": "stream",
     "text": [
      "0\n"
     ]
    }
   ],
   "source": [
    "# Zero in binary:\n",
    "print(\"{0:b}\".format(0))"
   ]
  },
  {
   "cell_type": "code",
   "execution_count": 18,
   "id": "8978d718",
   "metadata": {},
   "outputs": [
    {
     "name": "stdout",
     "output_type": "stream",
     "text": [
      "1\n"
     ]
    }
   ],
   "source": [
    "# One in binary:\n",
    "\n",
    "print(\"{0:b}\".format(1))"
   ]
  },
  {
   "cell_type": "code",
   "execution_count": 19,
   "id": "55bcb5dd",
   "metadata": {},
   "outputs": [
    {
     "name": "stdout",
     "output_type": "stream",
     "text": [
      "1010\n"
     ]
    }
   ],
   "source": [
    "# Ten in binary:\n",
    "\n",
    "print(\"{0:b}\".format(10))"
   ]
  },
  {
   "cell_type": "code",
   "execution_count": 20,
   "id": "d0310be4",
   "metadata": {},
   "outputs": [
    {
     "name": "stdout",
     "output_type": "stream",
     "text": [
      "111\n"
     ]
    }
   ],
   "source": [
    "# Seven:\n",
    "\n",
    "print(\"{0:b}\".format(7))"
   ]
  },
  {
   "cell_type": "code",
   "execution_count": 21,
   "id": "7098350d",
   "metadata": {},
   "outputs": [
    {
     "name": "stdout",
     "output_type": "stream",
     "text": [
      "10001\n"
     ]
    }
   ],
   "source": [
    "# Seventeen:\n",
    "\n",
    "print(\"{0:b}\".format(17))"
   ]
  },
  {
   "cell_type": "markdown",
   "id": "e989168e",
   "metadata": {},
   "source": [
    "## The \"and\" and \"&\" operators\n",
    "\n",
    "**and** is a Logical **AND** that returns True if both the operands are true\n",
    "\n",
    "**&** is a bitwise operator in Python that acts on bits and performs bit by bit operation."
   ]
  },
  {
   "cell_type": "code",
   "execution_count": 22,
   "id": "83a997b3",
   "metadata": {},
   "outputs": [],
   "source": [
    "x = 7\n",
    "y = 17"
   ]
  },
  {
   "cell_type": "code",
   "execution_count": 23,
   "id": "4729b10b",
   "metadata": {},
   "outputs": [
    {
     "name": "stdout",
     "output_type": "stream",
     "text": [
      "17\n"
     ]
    }
   ],
   "source": [
    "print(x and y)"
   ]
  },
  {
   "cell_type": "code",
   "execution_count": 24,
   "id": "906a52bf",
   "metadata": {},
   "outputs": [
    {
     "name": "stdout",
     "output_type": "stream",
     "text": [
      "7\n"
     ]
    }
   ],
   "source": [
    "print(y and x)"
   ]
  },
  {
   "cell_type": "code",
   "execution_count": 25,
   "id": "82fb9492",
   "metadata": {},
   "outputs": [
    {
     "name": "stdout",
     "output_type": "stream",
     "text": [
      "7 is 111\n",
      "17 is 10001\n"
     ]
    }
   ],
   "source": [
    "print(\"7 is {0:b}\".format(7))\n",
    "print(\"17 is {0:b}\".format(17))"
   ]
  },
  {
   "cell_type": "code",
   "execution_count": 26,
   "id": "309ce232",
   "metadata": {},
   "outputs": [
    {
     "name": "stdout",
     "output_type": "stream",
     "text": [
      "1\n"
     ]
    }
   ],
   "source": [
    "print(x & y)"
   ]
  },
  {
   "cell_type": "code",
   "execution_count": 27,
   "id": "b23cea40",
   "metadata": {},
   "outputs": [
    {
     "name": "stdout",
     "output_type": "stream",
     "text": [
      "1\n"
     ]
    }
   ],
   "source": [
    "print(y & x)"
   ]
  },
  {
   "cell_type": "code",
   "execution_count": 28,
   "id": "4eb32b3e",
   "metadata": {},
   "outputs": [],
   "source": [
    "x = 7\n",
    "y = 107"
   ]
  },
  {
   "cell_type": "code",
   "execution_count": 29,
   "id": "a26cd169",
   "metadata": {},
   "outputs": [
    {
     "name": "stdout",
     "output_type": "stream",
     "text": [
      "7 is 111\n",
      "107 is 1101011\n"
     ]
    }
   ],
   "source": [
    "print(\"7 is {0:b}\".format(x))\n",
    "print(\"107 is {0:b}\".format(y))"
   ]
  },
  {
   "cell_type": "code",
   "execution_count": 30,
   "id": "2a77348c",
   "metadata": {},
   "outputs": [
    {
     "name": "stdout",
     "output_type": "stream",
     "text": [
      "3\n"
     ]
    }
   ],
   "source": [
    "print(x & y)"
   ]
  },
  {
   "cell_type": "code",
   "execution_count": 32,
   "id": "5a64735e",
   "metadata": {},
   "outputs": [
    {
     "name": "stdout",
     "output_type": "stream",
     "text": [
      "107\n"
     ]
    }
   ],
   "source": [
    "print(x and y)"
   ]
  },
  {
   "cell_type": "code",
   "execution_count": 31,
   "id": "f0f29a96",
   "metadata": {},
   "outputs": [
    {
     "name": "stdout",
     "output_type": "stream",
     "text": [
      "3 is 11\n"
     ]
    }
   ],
   "source": [
    "print(\"3 is {0:b}\".format(3))"
   ]
  },
  {
   "cell_type": "markdown",
   "id": "747b418e",
   "metadata": {},
   "source": [
    "## The \"or\" and \"|\" operators\n",
    "\n",
    "**or** is a Logical **OR** that returns True if one the operands is true\n",
    "\n",
    "**|** is a bitwise operator in Python that acts on bits and performs bit by bit operation."
   ]
  },
  {
   "cell_type": "code",
   "execution_count": 40,
   "id": "3e0a03d3",
   "metadata": {},
   "outputs": [],
   "source": [
    "x = []\n",
    "y = \"Hola\""
   ]
  },
  {
   "cell_type": "code",
   "execution_count": 41,
   "id": "6626731d",
   "metadata": {},
   "outputs": [
    {
     "name": "stdout",
     "output_type": "stream",
     "text": [
      "Hola\n"
     ]
    }
   ],
   "source": [
    "print(x or y)"
   ]
  },
  {
   "cell_type": "code",
   "execution_count": 42,
   "id": "1c622cbb",
   "metadata": {},
   "outputs": [],
   "source": [
    "x = 7\n",
    "y = 107"
   ]
  },
  {
   "cell_type": "code",
   "execution_count": 43,
   "id": "ac6eb726",
   "metadata": {},
   "outputs": [
    {
     "name": "stdout",
     "output_type": "stream",
     "text": [
      "111\n"
     ]
    }
   ],
   "source": [
    "print(x | y)"
   ]
  },
  {
   "cell_type": "code",
   "execution_count": 44,
   "id": "f5901ca3",
   "metadata": {},
   "outputs": [
    {
     "name": "stdout",
     "output_type": "stream",
     "text": [
      "7 is 111\n",
      "107 is 1101011\n"
     ]
    }
   ],
   "source": [
    "print(\"7 is {0:b}\".format(x))\n",
    "print(\"107 is {0:b}\".format(y))"
   ]
  },
  {
   "cell_type": "code",
   "execution_count": 45,
   "id": "5df0cbe7",
   "metadata": {},
   "outputs": [
    {
     "name": "stdout",
     "output_type": "stream",
     "text": [
      "111 is 1101111\n"
     ]
    }
   ],
   "source": [
    "print(\"111 is {0:b}\".format(111))"
   ]
  },
  {
   "cell_type": "markdown",
   "id": "be7a335b",
   "metadata": {},
   "source": [
    "## Bitwise NOT operator:\n",
    "\n",
    "**~** Returns one’s complement of the number."
   ]
  },
  {
   "cell_type": "code",
   "execution_count": 46,
   "id": "ce0b6018",
   "metadata": {},
   "outputs": [],
   "source": [
    "z = 7"
   ]
  },
  {
   "cell_type": "code",
   "execution_count": 47,
   "id": "6e7cf2af",
   "metadata": {},
   "outputs": [
    {
     "name": "stdout",
     "output_type": "stream",
     "text": [
      "7 is 111\n"
     ]
    }
   ],
   "source": [
    "print(\"7 is {0:b}\".format(z))"
   ]
  },
  {
   "cell_type": "code",
   "execution_count": 48,
   "id": "4ebfc7a5",
   "metadata": {},
   "outputs": [
    {
     "name": "stdout",
     "output_type": "stream",
     "text": [
      "-8\n"
     ]
    }
   ],
   "source": [
    "z1 = ~z\n",
    "\n",
    "print(z1)"
   ]
  },
  {
   "cell_type": "code",
   "execution_count": 49,
   "id": "8ee1db0c",
   "metadata": {},
   "outputs": [
    {
     "name": "stdout",
     "output_type": "stream",
     "text": [
      "-8 is -1000\n"
     ]
    }
   ],
   "source": [
    "print(\"-8 is {0:b}\".format(-8))"
   ]
  },
  {
   "cell_type": "code",
   "execution_count": 51,
   "id": "77829360",
   "metadata": {},
   "outputs": [],
   "source": [
    "### chisq(a,b)\n",
    "\n",
    "## scipy.optimise()"
   ]
  },
  {
   "cell_type": "markdown",
   "id": "c2cbf6b9",
   "metadata": {},
   "source": [
    "## Bitwise xor (^) operator:\n",
    "\n",
    "**^** returns 1 if one of the bits is 1 and the other is 0, otherwise returns false."
   ]
  },
  {
   "cell_type": "code",
   "execution_count": 1,
   "id": "46e2fd71",
   "metadata": {},
   "outputs": [],
   "source": [
    "x = 7\n",
    "y = 107"
   ]
  },
  {
   "cell_type": "code",
   "execution_count": 2,
   "id": "73feedc1",
   "metadata": {},
   "outputs": [
    {
     "name": "stdout",
     "output_type": "stream",
     "text": [
      "x is 111\n",
      "y is 1101011\n"
     ]
    }
   ],
   "source": [
    "print(\"x is {0:b}\".format(x))\n",
    "print(\"y is {0:b}\".format(y))"
   ]
  },
  {
   "cell_type": "code",
   "execution_count": 4,
   "id": "b68ddbe4",
   "metadata": {},
   "outputs": [
    {
     "name": "stdout",
     "output_type": "stream",
     "text": [
      "108\n"
     ]
    }
   ],
   "source": [
    "print(x^y)"
   ]
  },
  {
   "cell_type": "code",
   "execution_count": 5,
   "id": "07e7a074",
   "metadata": {},
   "outputs": [
    {
     "name": "stdout",
     "output_type": "stream",
     "text": [
      "108 is 1101100\n"
     ]
    }
   ],
   "source": [
    "print(\"108 is {0:b}\".format(108))"
   ]
  },
  {
   "cell_type": "markdown",
   "id": "c2bb4949",
   "metadata": {},
   "source": [
    "## Shift Operators (>> right, << left):\n",
    "\n",
    "These operators are used to shift the bits of a number left or right thereby multiplying or dividing the number by two respectively. They can be used when we have to multiply or divide a number by two. "
   ]
  },
  {
   "cell_type": "code",
   "execution_count": 6,
   "id": "a8e546f3",
   "metadata": {},
   "outputs": [],
   "source": [
    "x = 10"
   ]
  },
  {
   "cell_type": "code",
   "execution_count": 7,
   "id": "2034a36f",
   "metadata": {},
   "outputs": [
    {
     "name": "stdout",
     "output_type": "stream",
     "text": [
      "5.0\n"
     ]
    }
   ],
   "source": [
    "y = x/2\n",
    "print(y)"
   ]
  },
  {
   "cell_type": "code",
   "execution_count": 8,
   "id": "158d2835",
   "metadata": {},
   "outputs": [
    {
     "name": "stdout",
     "output_type": "stream",
     "text": [
      "x is 1010\n"
     ]
    }
   ],
   "source": [
    "print(\"x is {0:b}\".format(x))"
   ]
  },
  {
   "cell_type": "code",
   "execution_count": 9,
   "id": "fc311c76",
   "metadata": {},
   "outputs": [
    {
     "name": "stdout",
     "output_type": "stream",
     "text": [
      "5\n"
     ]
    }
   ],
   "source": [
    "xp1 = x >> 1\n",
    "print(xp1)"
   ]
  },
  {
   "cell_type": "code",
   "execution_count": 10,
   "id": "b15c8179",
   "metadata": {},
   "outputs": [
    {
     "name": "stdout",
     "output_type": "stream",
     "text": [
      "xp1 is 101\n"
     ]
    }
   ],
   "source": [
    "print(\"xp1 is {0:b}\".format(xp1))"
   ]
  },
  {
   "cell_type": "code",
   "execution_count": 11,
   "id": "9a13731d",
   "metadata": {},
   "outputs": [
    {
     "name": "stdout",
     "output_type": "stream",
     "text": [
      "20\n"
     ]
    }
   ],
   "source": [
    "xm1 = x << 1\n",
    "\n",
    "print(xm1)"
   ]
  },
  {
   "cell_type": "code",
   "execution_count": 12,
   "id": "d07410c8",
   "metadata": {},
   "outputs": [
    {
     "name": "stdout",
     "output_type": "stream",
     "text": [
      "xm1 is 10100\n"
     ]
    }
   ],
   "source": [
    "print(\"xm1 is {0:b}\".format(xm1))"
   ]
  },
  {
   "cell_type": "markdown",
   "id": "e5cf8fde",
   "metadata": {},
   "source": [
    "## 2. While loops:\n",
    "\n",
    "**Syntax:**\n",
    "\n",
    "while (condition):\n",
    "\n",
    "    statements"
   ]
  },
  {
   "cell_type": "markdown",
   "id": "88a23fce",
   "metadata": {},
   "source": [
    "### Examples:"
   ]
  },
  {
   "cell_type": "code",
   "execution_count": 13,
   "id": "1887fb0a",
   "metadata": {},
   "outputs": [
    {
     "name": "stdout",
     "output_type": "stream",
     "text": [
      "1\n",
      "2\n",
      "3\n",
      "4\n",
      "5\n",
      "6\n",
      "7\n",
      "8\n",
      "9\n",
      "10\n"
     ]
    }
   ],
   "source": [
    "i = 1\n",
    "\n",
    "while i <= 10:\n",
    "    print(i)\n",
    "    i += 1"
   ]
  },
  {
   "cell_type": "code",
   "execution_count": 14,
   "id": "ea56edd9",
   "metadata": {},
   "outputs": [
    {
     "name": "stdout",
     "output_type": "stream",
     "text": [
      "5\n",
      "6\n",
      "7\n",
      "8\n",
      "9\n",
      "10\n"
     ]
    }
   ],
   "source": [
    "j = 5\n",
    "\n",
    "while j <= 10:\n",
    "    print(j)\n",
    "    j += 1"
   ]
  },
  {
   "cell_type": "markdown",
   "id": "4aa3f174",
   "metadata": {},
   "source": [
    "## The break Statement\n",
    "\n",
    "It is used to stop the loop even if the while condition is true:"
   ]
  },
  {
   "cell_type": "code",
   "execution_count": 15,
   "id": "d6a1d7fd",
   "metadata": {},
   "outputs": [
    {
     "name": "stdout",
     "output_type": "stream",
     "text": [
      "1\n",
      "2\n",
      "3\n",
      "4\n",
      "5\n"
     ]
    }
   ],
   "source": [
    "i = 1\n",
    "\n",
    "while i <= 10:\n",
    "    print(i)\n",
    "    if i == 5:\n",
    "        break\n",
    "    i += 1"
   ]
  },
  {
   "cell_type": "markdown",
   "id": "752254d0",
   "metadata": {},
   "source": [
    "## The continue Statement\n",
    "\n",
    "It breaks the current iteration and then continues with the next:"
   ]
  },
  {
   "cell_type": "code",
   "execution_count": 16,
   "id": "41bb76c7",
   "metadata": {},
   "outputs": [
    {
     "name": "stdout",
     "output_type": "stream",
     "text": [
      "1\n",
      "2\n",
      "3\n",
      "4\n",
      "6\n",
      "7\n",
      "8\n",
      "9\n",
      "10\n",
      "11\n"
     ]
    }
   ],
   "source": [
    "i = 0\n",
    "\n",
    "while i <= 10:\n",
    "    i += 1    \n",
    "    if i == 5:\n",
    "        continue\n",
    "    print(i)"
   ]
  },
  {
   "cell_type": "markdown",
   "id": "853fd119",
   "metadata": {},
   "source": [
    "## The else Statement\n",
    "\n",
    "It is used to run a block of code once when the condition is no longer true:"
   ]
  },
  {
   "cell_type": "code",
   "execution_count": 17,
   "id": "b8bc1a8a",
   "metadata": {},
   "outputs": [
    {
     "name": "stdout",
     "output_type": "stream",
     "text": [
      "1\n",
      "2\n",
      "3\n",
      "4\n",
      "5\n",
      "6\n",
      "7\n",
      "8\n",
      "9\n",
      "10\n",
      "i is no longer less or equal than 10\n"
     ]
    }
   ],
   "source": [
    "i = 1\n",
    "\n",
    "while i <= 10:\n",
    "    print(i)\n",
    "    i += 1\n",
    "else:\n",
    "    print(\"i is no longer less or equal than 10\")"
   ]
  },
  {
   "cell_type": "markdown",
   "id": "8abb5d50",
   "metadata": {},
   "source": [
    "## 3. For Loops:\n",
    "\n",
    "A **for loop** is used for iterating over a sequence:\n",
    "\n",
    "- a list\n",
    "\n",
    "- a tuple\n",
    "\n",
    "- a dictionary, etc."
   ]
  },
  {
   "cell_type": "markdown",
   "id": "8616baa0",
   "metadata": {},
   "source": [
    "### Example:"
   ]
  },
  {
   "cell_type": "code",
   "execution_count": 19,
   "id": "3c4c2aac",
   "metadata": {},
   "outputs": [
    {
     "data": {
      "text/plain": [
       "list"
      ]
     },
     "execution_count": 19,
     "metadata": {},
     "output_type": "execute_result"
    }
   ],
   "source": [
    "physics_list = [\"mechanics\", \"electromagnetism\", \"relativity\"]\n",
    "\n",
    "type(physics_list)"
   ]
  },
  {
   "cell_type": "code",
   "execution_count": 20,
   "id": "4fee7171",
   "metadata": {},
   "outputs": [
    {
     "name": "stdout",
     "output_type": "stream",
     "text": [
      "mechanics\n",
      "electromagnetism\n",
      "relativity\n"
     ]
    }
   ],
   "source": [
    "for x in physics_list:\n",
    "    print(x)"
   ]
  },
  {
   "cell_type": "code",
   "execution_count": 21,
   "id": "2a574d2d",
   "metadata": {},
   "outputs": [
    {
     "data": {
      "text/plain": [
       "list"
      ]
     },
     "execution_count": 21,
     "metadata": {},
     "output_type": "execute_result"
    }
   ],
   "source": [
    "numbers_list = [1, 2, 3]\n",
    "\n",
    "type(numbers_list)"
   ]
  },
  {
   "cell_type": "code",
   "execution_count": 22,
   "id": "21cb1e39",
   "metadata": {},
   "outputs": [
    {
     "name": "stdout",
     "output_type": "stream",
     "text": [
      "1\n",
      "2\n",
      "3\n"
     ]
    }
   ],
   "source": [
    "for j in numbers_list:\n",
    "    print(j)"
   ]
  },
  {
   "cell_type": "code",
   "execution_count": 23,
   "id": "6a11bf20",
   "metadata": {},
   "outputs": [],
   "source": [
    "import numpy as np"
   ]
  },
  {
   "cell_type": "code",
   "execution_count": 24,
   "id": "a3c7a275",
   "metadata": {},
   "outputs": [],
   "source": [
    "numbers_array = np.array([1, 2, 3])"
   ]
  },
  {
   "cell_type": "code",
   "execution_count": 25,
   "id": "8dad6945",
   "metadata": {},
   "outputs": [
    {
     "name": "stdout",
     "output_type": "stream",
     "text": [
      "1\n",
      "2\n",
      "3\n"
     ]
    }
   ],
   "source": [
    "for j in numbers_array:\n",
    "    print(j)"
   ]
  },
  {
   "cell_type": "markdown",
   "id": "67f1c14a",
   "metadata": {},
   "source": [
    "## The break Statement\n",
    "\n",
    "It is used to stop the loop before it has looped through all the items:"
   ]
  },
  {
   "cell_type": "code",
   "execution_count": 26,
   "id": "f2d86053",
   "metadata": {},
   "outputs": [
    {
     "name": "stdout",
     "output_type": "stream",
     "text": [
      "mechanics\n",
      "electromagnetism\n"
     ]
    }
   ],
   "source": [
    "for x in physics_list:\n",
    "    print(x)\n",
    "    if x == \"electromagnetism\":\n",
    "        break"
   ]
  },
  {
   "cell_type": "code",
   "execution_count": 27,
   "id": "30cedc37",
   "metadata": {},
   "outputs": [
    {
     "name": "stdout",
     "output_type": "stream",
     "text": [
      "mechanics\n"
     ]
    }
   ],
   "source": [
    "for x in physics_list:\n",
    "    if x == \"electromagnetism\":\n",
    "        break\n",
    "    print(x)"
   ]
  },
  {
   "cell_type": "markdown",
   "id": "4af77062",
   "metadata": {},
   "source": [
    "## The continue Statement\n",
    "\n",
    "It is used to stop the current iteration of the loop, and continue with the next:"
   ]
  },
  {
   "cell_type": "code",
   "execution_count": 28,
   "id": "9cbc0556",
   "metadata": {},
   "outputs": [
    {
     "name": "stdout",
     "output_type": "stream",
     "text": [
      "mechanics\n",
      "relativity\n"
     ]
    }
   ],
   "source": [
    "for x in physics_list:\n",
    "    if x == \"electromagnetism\":\n",
    "        continue\n",
    "    print(x)"
   ]
  },
  {
   "cell_type": "markdown",
   "id": "ab4ba49c",
   "metadata": {},
   "source": [
    "## The range() Function\n",
    "\n",
    "To loop through a set of code a specified number of times, we can use the range() function.\n",
    "\n",
    "\n",
    "- The range() function returns a sequence of numbers, starting from 0 by default, and increments by 1 (by default), and ends at a specified number."
   ]
  },
  {
   "cell_type": "code",
   "execution_count": 29,
   "id": "7b54a6a5",
   "metadata": {},
   "outputs": [
    {
     "name": "stdout",
     "output_type": "stream",
     "text": [
      "0\n",
      "1\n",
      "2\n",
      "3\n",
      "4\n",
      "5\n",
      "6\n",
      "7\n",
      "8\n",
      "9\n"
     ]
    }
   ],
   "source": [
    "for x in range(10):\n",
    "    print(x)"
   ]
  },
  {
   "cell_type": "code",
   "execution_count": 30,
   "id": "358492f7",
   "metadata": {},
   "outputs": [
    {
     "name": "stdout",
     "output_type": "stream",
     "text": [
      "1\n",
      "2\n",
      "3\n",
      "4\n",
      "5\n"
     ]
    }
   ],
   "source": [
    "for x in range(1, 6):\n",
    "    print(x)"
   ]
  },
  {
   "cell_type": "code",
   "execution_count": 31,
   "id": "12aa13e3",
   "metadata": {},
   "outputs": [
    {
     "name": "stdout",
     "output_type": "stream",
     "text": [
      "0\n",
      "1\n",
      "2\n",
      "3\n",
      "4\n",
      "5\n",
      "6\n",
      "7\n",
      "8\n",
      "9\n",
      "Loop finished!\n"
     ]
    }
   ],
   "source": [
    "for x in range(10):\n",
    "    print(x)\n",
    "else:\n",
    "    print(\"Loop finished!\")"
   ]
  },
  {
   "cell_type": "markdown",
   "id": "8b7b57b0",
   "metadata": {},
   "source": [
    "## The pass Statement\n",
    "\n",
    "For loops cannot be empty, but if you for some reason have a for loop with no content, put in the pass statement to avoid getting an error."
   ]
  },
  {
   "cell_type": "code",
   "execution_count": 34,
   "id": "bc2f6e8c",
   "metadata": {},
   "outputs": [],
   "source": [
    "for x in range(0,5):\n",
    "    pass"
   ]
  },
  {
   "cell_type": "markdown",
   "id": "3b089b09",
   "metadata": {},
   "source": [
    "## Nested FOR loops:\n",
    "\n",
    "#### Warning: They can make your code very slow"
   ]
  },
  {
   "cell_type": "code",
   "execution_count": 35,
   "id": "50b8ec72",
   "metadata": {},
   "outputs": [
    {
     "name": "stdout",
     "output_type": "stream",
     "text": [
      "mechanics 1\n",
      "mechanics 2\n",
      "mechanics 3\n",
      "electromagnetism 1\n",
      "electromagnetism 2\n",
      "electromagnetism 3\n",
      "relativity 1\n",
      "relativity 2\n",
      "relativity 3\n"
     ]
    }
   ],
   "source": [
    "for x in physics_list:\n",
    "    for y in numbers_list:\n",
    "        print(x, y)"
   ]
  },
  {
   "cell_type": "markdown",
   "id": "1bc12f64",
   "metadata": {},
   "source": [
    "# 4. Python Lambda function\n",
    "\n",
    "\n",
    "- A lambda function is a small anonymous function.\n",
    "\n",
    "\n",
    "- A lambda function can take any number of arguments, but can only have one expression.\n",
    "\n",
    "\n",
    "**Syntax:**\n",
    "\n",
    "lambda arguments : expression"
   ]
  },
  {
   "cell_type": "code",
   "execution_count": 36,
   "id": "44e8b4d7",
   "metadata": {},
   "outputs": [],
   "source": [
    "y = lambda x : x + 2"
   ]
  },
  {
   "cell_type": "code",
   "execution_count": 37,
   "id": "1a13647b",
   "metadata": {},
   "outputs": [
    {
     "name": "stdout",
     "output_type": "stream",
     "text": [
      "<class 'function'>\n"
     ]
    }
   ],
   "source": [
    "print(type(y))"
   ]
  },
  {
   "cell_type": "code",
   "execution_count": 38,
   "id": "a6da4521",
   "metadata": {},
   "outputs": [
    {
     "name": "stdout",
     "output_type": "stream",
     "text": [
      "<function <lambda> at 0x112193d40>\n"
     ]
    }
   ],
   "source": [
    "print(y)"
   ]
  },
  {
   "cell_type": "code",
   "execution_count": 40,
   "id": "385203c8",
   "metadata": {},
   "outputs": [
    {
     "name": "stdout",
     "output_type": "stream",
     "text": [
      "10\n"
     ]
    }
   ],
   "source": [
    "print(y(8))"
   ]
  },
  {
   "cell_type": "code",
   "execution_count": 41,
   "id": "e0bff5b5",
   "metadata": {},
   "outputs": [],
   "source": [
    "y1 = lambda a, b, c : a + b*c"
   ]
  },
  {
   "cell_type": "code",
   "execution_count": 42,
   "id": "ece25350",
   "metadata": {},
   "outputs": [
    {
     "name": "stdout",
     "output_type": "stream",
     "text": [
      "7\n"
     ]
    }
   ],
   "source": [
    "print(y1(1, 2, 3))"
   ]
  },
  {
   "cell_type": "markdown",
   "id": "7a57a80e",
   "metadata": {},
   "source": [
    "### Practical usage:"
   ]
  },
  {
   "cell_type": "code",
   "execution_count": 43,
   "id": "ac5718f5",
   "metadata": {},
   "outputs": [],
   "source": [
    "def func(x):\n",
    "    return lambda a : a * x"
   ]
  },
  {
   "cell_type": "code",
   "execution_count": 44,
   "id": "2b88e252",
   "metadata": {},
   "outputs": [],
   "source": [
    "y = func(3)"
   ]
  },
  {
   "cell_type": "code",
   "execution_count": 45,
   "id": "86a8ad09",
   "metadata": {},
   "outputs": [
    {
     "name": "stdout",
     "output_type": "stream",
     "text": [
      "<class 'function'>\n"
     ]
    }
   ],
   "source": [
    "print(type(y))"
   ]
  },
  {
   "cell_type": "code",
   "execution_count": 46,
   "id": "421651a5",
   "metadata": {},
   "outputs": [
    {
     "name": "stdout",
     "output_type": "stream",
     "text": [
      "33\n"
     ]
    }
   ],
   "source": [
    "print(y(11))"
   ]
  },
  {
   "cell_type": "markdown",
   "id": "3ae123a8",
   "metadata": {},
   "source": [
    "## 5. Booleans\n",
    "\n",
    "The bool() function allows you to evaluate any value, and give you True or False in return.\n",
    "\n",
    "\n",
    "## Most Values are True:\n",
    "\n",
    "Almost any value is evaluated to True if it has some sort of content.\n",
    "\n",
    "Any string is True, except empty strings.\n",
    "\n",
    "Any number is True, except 0.\n",
    "\n",
    "Any list, tuple, set, and dictionary are True, except empty ones."
   ]
  },
  {
   "cell_type": "code",
   "execution_count": 48,
   "id": "cdcb6677",
   "metadata": {},
   "outputs": [
    {
     "name": "stdout",
     "output_type": "stream",
     "text": [
      "True\n",
      "False\n"
     ]
    }
   ],
   "source": [
    "x = \"Hola\"\n",
    "y = {}\n",
    "\n",
    "print(bool(x))\n",
    "print(bool(y))"
   ]
  },
  {
   "cell_type": "code",
   "execution_count": 49,
   "id": "efcb68c1",
   "metadata": {},
   "outputs": [
    {
     "name": "stdout",
     "output_type": "stream",
     "text": [
      "False\n",
      "False\n",
      "False\n",
      "False\n",
      "False\n",
      "False\n",
      "False\n"
     ]
    }
   ],
   "source": [
    "print(bool(False))\n",
    "print(bool(None))\n",
    "print(bool(0))\n",
    "print(bool(\"\"))\n",
    "print(bool(()))\n",
    "print(bool([]))\n",
    "print(bool({}))"
   ]
  },
  {
   "cell_type": "markdown",
   "id": "32eea72f",
   "metadata": {},
   "source": [
    "### Examples with functions:"
   ]
  },
  {
   "cell_type": "code",
   "execution_count": 50,
   "id": "93f431fa",
   "metadata": {},
   "outputs": [
    {
     "name": "stdout",
     "output_type": "stream",
     "text": [
      "False\n"
     ]
    }
   ],
   "source": [
    "def func1():\n",
    "    return False\n",
    "\n",
    "print(func1())"
   ]
  },
  {
   "cell_type": "code",
   "execution_count": 51,
   "id": "016a5090",
   "metadata": {},
   "outputs": [
    {
     "name": "stdout",
     "output_type": "stream",
     "text": [
      "NO!\n"
     ]
    }
   ],
   "source": [
    "if func1():\n",
    "    print(\"YES!\")\n",
    "else:\n",
    "    print(\"NO!\")"
   ]
  },
  {
   "cell_type": "markdown",
   "id": "c0bab98b",
   "metadata": {},
   "source": [
    "## 6. IS instances:\n",
    "\n",
    "Python also has built-in functions that return a boolean value:\n",
    "\n",
    "### Example: isinstance() function\n",
    "\n",
    "This can be used to determine if an object is of a certain data type:"
   ]
  },
  {
   "cell_type": "code",
   "execution_count": 54,
   "id": "0e17c845",
   "metadata": {},
   "outputs": [],
   "source": [
    "x = 200."
   ]
  },
  {
   "cell_type": "code",
   "execution_count": 55,
   "id": "c9d51e59",
   "metadata": {},
   "outputs": [
    {
     "name": "stdout",
     "output_type": "stream",
     "text": [
      "False\n"
     ]
    }
   ],
   "source": [
    "print(isinstance(x, int))"
   ]
  }
 ],
 "metadata": {
  "kernelspec": {
   "display_name": "Python 3",
   "language": "python",
   "name": "python3"
  },
  "language_info": {
   "codemirror_mode": {
    "name": "ipython",
    "version": 3
   },
   "file_extension": ".py",
   "mimetype": "text/x-python",
   "name": "python",
   "nbconvert_exporter": "python",
   "pygments_lexer": "ipython3",
   "version": "3.7.10"
  }
 },
 "nbformat": 4,
 "nbformat_minor": 5
}
