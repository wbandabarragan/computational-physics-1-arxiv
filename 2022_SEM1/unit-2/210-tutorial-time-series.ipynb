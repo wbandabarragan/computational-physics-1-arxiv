{
 "cells": [
  {
   "cell_type": "markdown",
   "id": "1c259342",
   "metadata": {},
   "source": [
    "# Exercise: time series\n",
    "\n",
    "- We will analyse data taken from the World Meteorological Organisation (WMO).\n",
    "\n",
    "https://worldweather.wmo.int/en/dataguide.html\n",
    "\n",
    "- Temperature (max, min), rainy days, rainfall for 12 months.\n",
    "\n",
    "Guayaquil: https://worldweather.wmo.int/en/json/2048_en.json\n",
    "\n",
    "- Python has an in-built function to read json files."
   ]
  },
  {
   "cell_type": "markdown",
   "id": "5071aa82",
   "metadata": {},
   "source": [
    "### Let's try to find correlations"
   ]
  },
  {
   "cell_type": "code",
   "execution_count": 8,
   "id": "9dd702d3",
   "metadata": {},
   "outputs": [],
   "source": [
    "import numpy as np\n",
    "\n",
    "import matplotlib.pyplot as plt\n",
    "\n",
    "import json"
   ]
  },
  {
   "cell_type": "markdown",
   "id": "959c5491",
   "metadata": {},
   "source": [
    "### Open file"
   ]
  },
  {
   "cell_type": "code",
   "execution_count": 9,
   "id": "5cbd2dc0",
   "metadata": {},
   "outputs": [],
   "source": [
    "f = open(\"2048_en.json\", \"r\")"
   ]
  },
  {
   "cell_type": "code",
   "execution_count": 10,
   "id": "4248185c",
   "metadata": {},
   "outputs": [
    {
     "data": {
      "text/plain": [
       "_io.TextIOWrapper"
      ]
     },
     "execution_count": 10,
     "metadata": {},
     "output_type": "execute_result"
    }
   ],
   "source": [
    "type(f)"
   ]
  },
  {
   "cell_type": "markdown",
   "id": "504b888b",
   "metadata": {},
   "source": [
    "Documentation: https://www.geeksforgeeks.org/json-loads-in-python/#:~:text=json.-,loads(),JSON%20data%20into%20Python%20Dictionary."
   ]
  },
  {
   "cell_type": "code",
   "execution_count": 11,
   "id": "f6902510",
   "metadata": {},
   "outputs": [],
   "source": [
    "data = json.loads(f.read())"
   ]
  },
  {
   "cell_type": "code",
   "execution_count": 12,
   "id": "8bcbe3ab",
   "metadata": {},
   "outputs": [
    {
     "data": {
      "text/plain": [
       "dict"
      ]
     },
     "execution_count": 12,
     "metadata": {},
     "output_type": "execute_result"
    }
   ],
   "source": [
    "type(data)"
   ]
  },
  {
   "cell_type": "code",
   "execution_count": 13,
   "id": "7b32652d",
   "metadata": {},
   "outputs": [
    {
     "name": "stdout",
     "output_type": "stream",
     "text": [
      "{'city': {'lang': 'en', 'cityName': 'Guayaquil', 'cityLatitude': '-2.153333000', 'cityLongitude': '-79.883333000', 'cityId': 2048, 'isCapital': False, 'stationName': 'Guayaquil', 'tourismURL': '', 'tourismBoardName': '', 'isDep': False, 'timeZone': '-0500', 'isDST': 'N', 'member': {'memId': 137, 'memName': 'Ecuador', 'shortMemName': '', 'url': 'www.inamhi.gob.ec', 'orgName': 'INSTITUTO NACIONAL DE METEOROLOGIA E HIDROLOGIA', 'logo': 'ecuador_logo.png', 'ra': 3}, 'forecast': {'issueDate': '2022-06-29 15:09:00', 'timeZone': 'Local', 'forecastDay': [{'forecastDate': '2022-06-30', 'wxdesc': '', 'weather': 'Partly Cloudy', 'minTemp': '21', 'maxTemp': '29', 'minTempF': '70', 'maxTempF': '84', 'weatherIcon': 2202}, {'forecastDate': '2022-07-01', 'wxdesc': '', 'weather': 'Partly Cloudy', 'minTemp': '22', 'maxTemp': '29', 'minTempF': '72', 'maxTempF': '84', 'weatherIcon': 2202}, {'forecastDate': '2022-07-02', 'wxdesc': '', 'weather': 'Partly Cloudy', 'minTemp': '22', 'maxTemp': '30', 'minTempF': '72', 'maxTempF': '86', 'weatherIcon': 2202}]}, 'climate': {'raintype': 'Rainfall', 'raindef': '', 'rainunit': 'mm', 'datab': 1981, 'datae': 2010, 'tempb': '', 'tempe': '', 'rdayb': '', 'rdaye': '', 'rainfallb': '', 'rainfalle': '', 'climatefromclino': '', 'climateMonth': [{'month': 1, 'maxTemp': '31.2', 'minTemp': '23.0', 'meanTemp': None, 'maxTempF': '88.2', 'minTempF': '73.4', 'meanTempF': None, 'raindays': '19', 'rainfall': '200.7', 'climateFromMemDate': '2015-07-13'}, {'month': 2, 'maxTemp': '31.2', 'minTemp': '23.4', 'meanTemp': None, 'maxTempF': '88.2', 'minTempF': '74.1', 'meanTempF': None, 'raindays': '22', 'rainfall': '332.0', 'climateFromMemDate': '2015-07-13'}, {'month': 3, 'maxTemp': '32.2', 'minTemp': '23.7', 'meanTemp': None, 'maxTempF': '90.0', 'minTempF': '74.7', 'meanTempF': None, 'raindays': '21', 'rainfall': '315.7', 'climateFromMemDate': '2015-07-13'}, {'month': 4, 'maxTemp': '32.0', 'minTemp': '23.5', 'meanTemp': None, 'maxTempF': '89.6', 'minTempF': '74.3', 'meanTempF': None, 'raindays': '17', 'rainfall': '207.2', 'climateFromMemDate': '2015-07-13'}, {'month': 5, 'maxTemp': '31.2', 'minTemp': '22.6', 'meanTemp': None, 'maxTempF': '88.2', 'minTempF': '72.7', 'meanTempF': None, 'raindays': '10', 'rainfall': '62.6', 'climateFromMemDate': '2015-07-13'}, {'month': 6, 'maxTemp': '29.8', 'minTemp': '21.5', 'meanTemp': None, 'maxTempF': '85.6', 'minTempF': '70.7', 'meanTempF': None, 'raindays': '5', 'rainfall': '34.0', 'climateFromMemDate': '2015-07-13'}, {'month': 7, 'maxTemp': '29.1', 'minTemp': '20.8', 'meanTemp': None, 'maxTempF': '84.4', 'minTempF': '69.4', 'meanTempF': None, 'raindays': '3', 'rainfall': '15.6', 'climateFromMemDate': '2015-07-13'}, {'month': 8, 'maxTemp': '29.7', 'minTemp': '20.7', 'meanTemp': None, 'maxTempF': '85.5', 'minTempF': '69.3', 'meanTempF': None, 'raindays': '2', 'rainfall': '1.2', 'climateFromMemDate': '2015-07-13'}, {'month': 9, 'maxTemp': '30.5', 'minTemp': '20.5', 'meanTemp': None, 'maxTempF': '86.9', 'minTempF': '68.9', 'meanTempF': None, 'raindays': '2', 'rainfall': '1.5', 'climateFromMemDate': '2015-07-13'}, {'month': 10, 'maxTemp': '30.2', 'minTemp': '20.9', 'meanTemp': None, 'maxTempF': '86.4', 'minTempF': '69.6', 'meanTempF': None, 'raindays': '3', 'rainfall': '5.6', 'climateFromMemDate': '2015-07-13'}, {'month': 11, 'maxTemp': '31.1', 'minTemp': '21.3', 'meanTemp': None, 'maxTempF': '88.0', 'minTempF': '70.3', 'meanTempF': None, 'raindays': '4', 'rainfall': '29.1', 'climateFromMemDate': '2015-07-13'}, {'month': 12, 'maxTemp': '31.8', 'minTemp': '22.4', 'meanTemp': None, 'maxTempF': '89.2', 'minTempF': '72.3', 'meanTempF': None, 'raindays': '9', 'rainfall': '68.0', 'climateFromMemDate': '2015-07-13'}]}}}\n"
     ]
    }
   ],
   "source": [
    "print(data)"
   ]
  },
  {
   "cell_type": "markdown",
   "id": "15efdd01",
   "metadata": {},
   "source": [
    "## JSON scheme\n",
    "\n",
    "https://worldweather.wmo.int/en/json/WWIS_json_schema_v2.json"
   ]
  },
  {
   "cell_type": "markdown",
   "id": "db31c565",
   "metadata": {},
   "source": [
    "## Getting data by nesting"
   ]
  },
  {
   "cell_type": "code",
   "execution_count": 14,
   "id": "91e30642",
   "metadata": {},
   "outputs": [
    {
     "name": "stdout",
     "output_type": "stream",
     "text": [
      "{'month': 12, 'maxTemp': '31.8', 'minTemp': '22.4', 'meanTemp': None, 'maxTempF': '89.2', 'minTempF': '72.3', 'meanTempF': None, 'raindays': '9', 'rainfall': '68.0', 'climateFromMemDate': '2015-07-13'}\n"
     ]
    }
   ],
   "source": [
    "print(data[\"city\"][\"climate\"][\"climateMonth\"][11])"
   ]
  },
  {
   "cell_type": "code",
   "execution_count": 15,
   "id": "1e0981ca",
   "metadata": {},
   "outputs": [
    {
     "name": "stdout",
     "output_type": "stream",
     "text": [
      "12\n"
     ]
    }
   ],
   "source": [
    "print(len(data[\"city\"][\"climate\"][\"climateMonth\"]))"
   ]
  },
  {
   "cell_type": "markdown",
   "id": "bc3e3e5d",
   "metadata": {},
   "source": [
    "## Accessing data"
   ]
  },
  {
   "cell_type": "code",
   "execution_count": 16,
   "id": "9e8d1a57",
   "metadata": {},
   "outputs": [
    {
     "name": "stdout",
     "output_type": "stream",
     "text": [
      "[1, 2, 3, 4, 5, 6, 7, 8, 9, 10, 11, 12]\n",
      "[23.0, 23.4, 23.7, 23.5, 22.6, 21.5, 20.8, 20.7, 20.5, 20.9, 21.3, 22.4]\n",
      "[31.2, 31.2, 32.2, 32.0, 31.2, 29.8, 29.1, 29.7, 30.5, 30.2, 31.1, 31.8]\n",
      "[ 1  2  3  4  5  6  7  8  9 10 11 12]\n",
      "[23.  23.4 23.7 23.5 22.6 21.5 20.8 20.7 20.5 20.9 21.3 22.4]\n",
      "[31.2 31.2 32.2 32.  31.2 29.8 29.1 29.7 30.5 30.2 31.1 31.8]\n",
      "[200.7 332.  315.7 207.2  62.6  34.   15.6   1.2   1.5   5.6  29.1  68. ]\n"
     ]
    }
   ],
   "source": [
    "month = []\n",
    "minTemp = []\n",
    "maxTemp = []\n",
    "rainfall = []\n",
    "\n",
    "for i in range (len(data[\"city\"][\"climate\"][\"climateMonth\"])):\n",
    "    \n",
    "    month.append(data[\"city\"][\"climate\"][\"climateMonth\"][i][\"month\"])\n",
    "    minTemp.append(float(data[\"city\"][\"climate\"][\"climateMonth\"][i][\"minTemp\"])) # Don't forget to convert to floats\n",
    "    maxTemp.append(float(data[\"city\"][\"climate\"][\"climateMonth\"][i][\"maxTemp\"])) # Don't forget to convert to floats \n",
    "    rainfall.append(float(data[\"city\"][\"climate\"][\"climateMonth\"][i][\"rainfall\"])) # Don't forget to convert to floats \n",
    "    \n",
    "print(month)\n",
    "print(minTemp)\n",
    "print(maxTemp)\n",
    "    \n",
    "month_array = np.array(month)\n",
    "minTemp_array = np.array(minTemp)\n",
    "maxTemp_array = np.array(maxTemp)\n",
    "rainfall_array = np.array(rainfall)\n",
    "\n",
    "print(month_array )\n",
    "print(minTemp_array)\n",
    "print(maxTemp_array)\n",
    "print(rainfall_array)"
   ]
  },
  {
   "cell_type": "code",
   "execution_count": 17,
   "id": "ac68ad9e",
   "metadata": {},
   "outputs": [
    {
     "data": {
      "text/plain": [
       "<matplotlib.legend.Legend at 0x118781810>"
      ]
     },
     "execution_count": 17,
     "metadata": {},
     "output_type": "execute_result"
    },
    {
     "data": {
      "image/png": "[encoded data removed]",
      "text/plain": [
       "<Figure size 432x288 with 1 Axes>"
      ]
     },
     "metadata": {
      "needs_background": "light"
     },
     "output_type": "display_data"
    }
   ],
   "source": [
    "%matplotlib inline\n",
    "# And now we plot\n",
    "fig, ax = plt.subplots()\n",
    "\n",
    "ax.plot(month_array, minTemp_array, color = 'blue', marker = 'd', linestyle = \"-.\", label=\"MinTemp\") \n",
    "\n",
    "ax.plot(month_array, maxTemp_array, color = 'red', marker = 'd', linestyle = \"--\", label=\"MaxTemp\") \n",
    "\n",
    "ax.set_xlabel('Month')\n",
    "\n",
    "ax.set_ylabel('Temperature (C)')\n",
    "\n",
    "ax.legend()"
   ]
  },
  {
   "cell_type": "markdown",
   "id": "45033c87",
   "metadata": {},
   "source": [
    "## Correlations:"
   ]
  },
  {
   "cell_type": "code",
   "execution_count": 40,
   "id": "8a67f30b",
   "metadata": {},
   "outputs": [
    {
     "data": {
      "text/plain": [
       "Text(0, 0.5, 'Max Temperature (C)')"
      ]
     },
     "execution_count": 40,
     "metadata": {},
     "output_type": "execute_result"
    },
    {
     "data": {
      "image/png": "[encoded data removed]",
      "text/plain": [
       "<Figure size 432x288 with 1 Axes>"
      ]
     },
     "metadata": {
      "needs_background": "light"
     },
     "output_type": "display_data"
    }
   ],
   "source": [
    "fig, ax = plt.subplots()\n",
    "\n",
    "ax.plot(minTemp_array, maxTemp_array, color = 'green', marker = 'd', linestyle = \" \") \n",
    "\n",
    "\n",
    "ax.set_xlabel('Min Temperature (C)')\n",
    "\n",
    "ax.set_ylabel('Max Temperature (C)')\n",
    "\n",
    "#ax.legend()"
   ]
  },
  {
   "cell_type": "markdown",
   "id": "b6b4e65a",
   "metadata": {},
   "source": [
    "## Linear correlation?"
   ]
  },
  {
   "cell_type": "code",
   "execution_count": 18,
   "id": "df71a8fa",
   "metadata": {},
   "outputs": [],
   "source": [
    "from scipy.stats import spearmanr, pearsonr"
   ]
  },
  {
   "cell_type": "code",
   "execution_count": 19,
   "id": "17cf4db5",
   "metadata": {},
   "outputs": [
    {
     "name": "stdout",
     "output_type": "stream",
     "text": [
      "Pearson r coefficients: (0.8221119065384215, 0.0010320142931964271)\n"
     ]
    }
   ],
   "source": [
    "p1 = pearsonr(minTemp_array, maxTemp_array)\n",
    "\n",
    "print('Pearson r coefficients:', p1)"
   ]
  },
  {
   "cell_type": "markdown",
   "id": "050244a7",
   "metadata": {},
   "source": [
    "## Monotonic correlation?"
   ]
  },
  {
   "cell_type": "code",
   "execution_count": 20,
   "id": "9993949f",
   "metadata": {},
   "outputs": [
    {
     "name": "stdout",
     "output_type": "stream",
     "text": [
      "Spearman values: SpearmanrResult(correlation=0.8450913782447986, pvalue=0.0005383655078230389)\n"
     ]
    }
   ],
   "source": [
    "p2 = spearmanr(minTemp_array, maxTemp_array)\n",
    "\n",
    "print('Spearman values:', p2)"
   ]
  },
  {
   "cell_type": "markdown",
   "id": "2344a90a",
   "metadata": {},
   "source": [
    "## Regression:"
   ]
  },
  {
   "cell_type": "code",
   "execution_count": 21,
   "id": "537a145d",
   "metadata": {},
   "outputs": [
    {
     "name": "stdout",
     "output_type": "stream",
     "text": [
      "slope = 0.6673984632272234  intercept= 16.13388218075374\n"
     ]
    }
   ],
   "source": [
    "# Get coefficients\n",
    "\n",
    "a, b = np.polyfit(minTemp_array, maxTemp_array, 1)\n",
    "\n",
    "# Print to check\n",
    "print('slope =', a, ' intercept=', b)"
   ]
  },
  {
   "cell_type": "code",
   "execution_count": 26,
   "id": "c38aaea0",
   "metadata": {},
   "outputs": [],
   "source": [
    "# Get fitting function\n",
    "\n",
    "fit_maxTemp_array = a*minTemp_array + b"
   ]
  },
  {
   "cell_type": "code",
   "execution_count": 30,
   "id": "fbd24e85",
   "metadata": {},
   "outputs": [
    {
     "data": {
      "text/plain": [
       "Text(0, 0.5, 'Max Temperature (C)')"
      ]
     },
     "execution_count": 30,
     "metadata": {},
     "output_type": "execute_result"
    },
    {
     "data": {
      "image/png": "[encoded data removed]",
      "text/plain": [
       "<Figure size 432x288 with 1 Axes>"
      ]
     },
     "metadata": {
      "needs_background": "light"
     },
     "output_type": "display_data"
    }
   ],
   "source": [
    "fig, ax = plt.subplots()\n",
    "\n",
    "\n",
    "ax.plot(minTemp_array, maxTemp_array, color = 'green', marker = 'd', linestyle = \" \") \n",
    "ax.plot(minTemp_array, fit_maxTemp_array, color = 'blue', linestyle = \"-.\") \n",
    "\n",
    "ax.set_xlabel('Min Temperature (C)')\n",
    "\n",
    "ax.set_ylabel('Max Temperature (C)')\n"
   ]
  },
  {
   "cell_type": "code",
   "execution_count": 31,
   "id": "24521462",
   "metadata": {},
   "outputs": [
    {
     "data": {
      "text/plain": [
       "Text(0, 0.5, 'Max Temperature (C)')"
      ]
     },
     "execution_count": 31,
     "metadata": {},
     "output_type": "execute_result"
    },
    {
     "data": {
      "image/png": "[encoded data removed]",
      "text/plain": [
       "<Figure size 432x288 with 1 Axes>"
      ]
     },
     "metadata": {
      "needs_background": "light"
     },
     "output_type": "display_data"
    }
   ],
   "source": [
    "fig, ax = plt.subplots()\n",
    "\n",
    "\n",
    "ax.plot(minTemp_array, maxTemp_array, color = 'green', marker = 'd', linestyle = \" \") \n",
    "ax.plot(sorted(minTemp_array), sorted(fit_maxTemp_array), color = 'blue', linestyle = \"-.\") \n",
    "\n",
    "ax.set_xlabel('Min Temperature (C)')\n",
    "\n",
    "ax.set_ylabel('Max Temperature (C)')"
   ]
  },
  {
   "cell_type": "markdown",
   "id": "ce97bbc0",
   "metadata": {},
   "source": [
    "### Rainfall:"
   ]
  },
  {
   "cell_type": "code",
   "execution_count": 32,
   "id": "71a5f265",
   "metadata": {},
   "outputs": [
    {
     "data": {
      "text/plain": [
       "<matplotlib.legend.Legend at 0x11c113ad0>"
      ]
     },
     "execution_count": 32,
     "metadata": {},
     "output_type": "execute_result"
    },
    {
     "data": {
      "image/png": "[encoded data removed]",
      "text/plain": [
       "<Figure size 432x288 with 1 Axes>"
      ]
     },
     "metadata": {
      "needs_background": "light"
     },
     "output_type": "display_data"
    }
   ],
   "source": [
    "%matplotlib inline\n",
    "# And now we plot\n",
    "fig, ax = plt.subplots()\n",
    "\n",
    "ax.plot(month_array, rainfall_array, color = 'magenta', marker = 'd', linestyle = \"-\", label=\"Rainfall\") \n",
    "\n",
    "ax.set_xlabel('Month')\n",
    "\n",
    "ax.set_ylabel('Rainfall (mm)')\n",
    "\n",
    "ax.legend()"
   ]
  },
  {
   "cell_type": "code",
   "execution_count": 33,
   "id": "f7fe8eb5",
   "metadata": {},
   "outputs": [
    {
     "data": {
      "text/plain": [
       "<matplotlib.legend.Legend at 0x11c21f610>"
      ]
     },
     "execution_count": 33,
     "metadata": {},
     "output_type": "execute_result"
    },
    {
     "data": {
      "image/png": "[encoded data removed]",
      "text/plain": [
       "<Figure size 432x288 with 1 Axes>"
      ]
     },
     "metadata": {
      "needs_background": "light"
     },
     "output_type": "display_data"
    }
   ],
   "source": [
    "%matplotlib inline\n",
    "# And now we plot\n",
    "fig, ax = plt.subplots()\n",
    "\n",
    "ax.plot(month_array, minTemp_array, color = 'blue', marker = 'd', linestyle = \"-.\", label=\"MinTemp\") \n",
    "\n",
    "#ax.plot(month_array, maxTemp_array, color = 'red', marker = 'd', linestyle = \"--\", label=\"MaxTemp\") \n",
    "\n",
    "ax.set_xlabel('Month')\n",
    "\n",
    "ax.set_ylabel('Temperature (C)')\n",
    "\n",
    "ax.legend()"
   ]
  },
  {
   "cell_type": "code",
   "execution_count": 34,
   "id": "1263a9b2",
   "metadata": {},
   "outputs": [
    {
     "data": {
      "text/plain": [
       "Text(0, 0.5, 'Rainfall (mm)')"
      ]
     },
     "execution_count": 34,
     "metadata": {},
     "output_type": "execute_result"
    },
    {
     "data": {
      "image/png": "[encoded data removed]",
      "text/plain": [
       "<Figure size 432x288 with 1 Axes>"
      ]
     },
     "metadata": {
      "needs_background": "light"
     },
     "output_type": "display_data"
    }
   ],
   "source": [
    "fig, ax = plt.subplots()\n",
    "\n",
    "ax.plot(minTemp_array, rainfall_array, color = 'black', marker = '+', linestyle = \" \") \n",
    "\n",
    "\n",
    "ax.set_xlabel('Min Temperature (C)')\n",
    "\n",
    "ax.set_ylabel('Rainfall (mm)')\n",
    "\n",
    "#ax.legend()"
   ]
  },
  {
   "cell_type": "code",
   "execution_count": 36,
   "id": "256c591f",
   "metadata": {},
   "outputs": [
    {
     "name": "stdout",
     "output_type": "stream",
     "text": [
      "Pearson r coefficients: (0.9019955331899421, 6.028212398711959e-05)\n"
     ]
    }
   ],
   "source": [
    "p3 = pearsonr(minTemp_array, rainfall_array)\n",
    "\n",
    "print('Pearson r coefficients:', p3)"
   ]
  },
  {
   "cell_type": "code",
   "execution_count": 37,
   "id": "578f821e",
   "metadata": {},
   "outputs": [
    {
     "name": "stdout",
     "output_type": "stream",
     "text": [
      "Spearman values: SpearmanrResult(correlation=0.9580419580419581, pvalue=9.5435818268384e-07)\n"
     ]
    }
   ],
   "source": [
    "p4 = spearmanr(minTemp_array, rainfall_array)\n",
    "\n",
    "print('Spearman values:', p4)"
   ]
  },
  {
   "cell_type": "code",
   "execution_count": 38,
   "id": "ca6e40e4",
   "metadata": {},
   "outputs": [],
   "source": [
    "from scipy.optimize import curve_fit"
   ]
  },
  {
   "cell_type": "code",
   "execution_count": 39,
   "id": "2bac1a59",
   "metadata": {},
   "outputs": [],
   "source": [
    "#define a function to fit to the data\n",
    "\n",
    "def func(x, a, b):\n",
    "    return a * x + b\n"
   ]
  },
  {
   "cell_type": "code",
   "execution_count": 41,
   "id": "3dd86d19",
   "metadata": {},
   "outputs": [
    {
     "name": "stdout",
     "output_type": "stream",
     "text": [
      "[   92.82483987 -1938.36709891] [[  197.41264618 -4348.01353093]\n",
      " [-4348.01353093 96027.26893973]]\n"
     ]
    }
   ],
   "source": [
    "coef, cova = curve_fit(func, minTemp_array, rainfall_array)\n",
    "\n",
    "print(coef, cova)"
   ]
  },
  {
   "cell_type": "code",
   "execution_count": 42,
   "id": "5337b1f4",
   "metadata": {},
   "outputs": [
    {
     "name": "stdout",
     "output_type": "stream",
     "text": [
      "y = 92.82484 * x + -1938.36710\n"
     ]
    }
   ],
   "source": [
    "print('y = %.5f * x + %.5f' % (coef[0], coef[1]))"
   ]
  },
  {
   "cell_type": "code",
   "execution_count": 43,
   "id": "662d99d5",
   "metadata": {},
   "outputs": [],
   "source": [
    "fit_rainfall_array = coef[0]*minTemp_array + coef[1]"
   ]
  },
  {
   "cell_type": "code",
   "execution_count": 45,
   "id": "3dbfe754",
   "metadata": {},
   "outputs": [
    {
     "data": {
      "text/plain": [
       "Text(0, 0.5, 'Rainfall (mm)')"
      ]
     },
     "execution_count": 45,
     "metadata": {},
     "output_type": "execute_result"
    },
    {
     "data": {
      "image/png": "[encoded data removed]",
      "text/plain": [
       "<Figure size 432x288 with 1 Axes>"
      ]
     },
     "metadata": {
      "needs_background": "light"
     },
     "output_type": "display_data"
    }
   ],
   "source": [
    "fig, ax = plt.subplots()\n",
    "\n",
    "ax.plot(minTemp_array, rainfall_array, color = 'black', marker = '+', linestyle = \" \") \n",
    "\n",
    "ax.plot(sorted(minTemp_array), sorted(fit_rainfall_array), color = 'magenta', linestyle = \"-\") \n",
    "\n",
    "ax.set_xlabel('Min Temperature (C)')\n",
    "\n",
    "ax.set_ylabel('Rainfall (mm)')"
   ]
  },
  {
   "cell_type": "code",
   "execution_count": 46,
   "id": "47363a9d",
   "metadata": {},
   "outputs": [],
   "source": [
    "#define a function to fit to the data\n",
    "\n",
    "def func1(x, a, b, c):\n",
    "    return a * x**2 + b * x + c"
   ]
  },
  {
   "cell_type": "code",
   "execution_count": 48,
   "id": "b70f2eb9",
   "metadata": {},
   "outputs": [
    {
     "name": "stdout",
     "output_type": "stream",
     "text": [
      "[   43.34599918 -1822.05077796 19152.01012686] [[ 2.03938312e+02 -9.00928640e+03  9.92279891e+04]\n",
      " [-9.00928640e+03  3.98107377e+05 -4.38593528e+06]\n",
      " [ 9.92279891e+04 -4.38593528e+06  4.83329802e+07]]\n"
     ]
    }
   ],
   "source": [
    "coef2, cova2 = curve_fit(func1, minTemp_array, rainfall_array)\n",
    "\n",
    "print(coef2, cova2)"
   ]
  },
  {
   "cell_type": "code",
   "execution_count": 51,
   "id": "411a2b06",
   "metadata": {},
   "outputs": [],
   "source": [
    "fit_rainfall_array2 = coef2[0]*minTemp_array**2 + coef2[1]*minTemp_array + coef2[2]\n"
   ]
  },
  {
   "cell_type": "code",
   "execution_count": 53,
   "id": "148d2e94",
   "metadata": {},
   "outputs": [
    {
     "data": {
      "text/plain": [
       "Text(0, 0.5, 'Rainfall (mm)')"
      ]
     },
     "execution_count": 53,
     "metadata": {},
     "output_type": "execute_result"
    },
    {
     "data": {
      "image/png": "[encoded data removed]",
      "text/plain": [
       "<Figure size 432x288 with 1 Axes>"
      ]
     },
     "metadata": {
      "needs_background": "light"
     },
     "output_type": "display_data"
    }
   ],
   "source": [
    "fig, ax = plt.subplots()\n",
    "\n",
    "ax.plot(minTemp_array, rainfall_array, color = 'black', marker = '+', linestyle = \" \") \n",
    "ax.plot(sorted(np.array(minTemp_array)), sorted(fit_rainfall_array2), color = 'red', linestyle = \"-\") \n",
    "ax.plot(sorted(minTemp_array), sorted(fit_rainfall_array), color = 'magenta', linestyle = \"-\") \n",
    "\n",
    "ax.set_xlabel('Min Temperature (C)')\n",
    "\n",
    "ax.set_ylabel('Rainfall (mm)')"
   ]
  },
  {
   "cell_type": "code",
   "execution_count": null,
   "id": "65929f37",
   "metadata": {},
   "outputs": [],
   "source": []
  }
 ],
 "metadata": {
  "kernelspec": {
   "display_name": "Python 3",
   "language": "python",
   "name": "python3"
  },
  "language_info": {
   "codemirror_mode": {
    "name": "ipython",
    "version": 3
   },
   "file_extension": ".py",
   "mimetype": "text/x-python",
   "name": "python",
   "nbconvert_exporter": "python",
   "pygments_lexer": "ipython3",
   "version": "3.7.10"
  }
 },
 "nbformat": 4,
 "nbformat_minor": 5
}
