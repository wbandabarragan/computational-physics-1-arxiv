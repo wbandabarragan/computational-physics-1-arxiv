{
 "cells": [
  {
   "cell_type": "markdown",
   "id": "aa268f46",
   "metadata": {},
   "source": [
    "# Homework 1"
   ]
  },
  {
   "cell_type": "markdown",
   "id": "250b1189",
   "metadata": {},
   "source": [
    "- **Subject:** Computational Physics I\n",
    "- **Deadline:** Wednesday 1 June 2022 (until 4pm)\n",
    "- **Credits:** 20 points\n",
    "- **Number of problems:** 4\n",
    "- **Type of evaluation:** Formative Evaluation"
   ]
  },
  {
   "cell_type": "markdown",
   "id": "b50caa6e",
   "metadata": {},
   "source": [
    "Please complete the following problems by **4pm Wednesday 1 June 2022**.\n",
    "\n",
    "- You can work individually or in groups of maximum 2 people.\n",
    "\n",
    "\n",
    "- Please include your names in the notebook, and name it using your surname/s, e.g. **hw1_surname1_surname2.ipynb** if you work in pairs, or **hw1_surname.ipynb** if you work individually.\n",
    "\n",
    "\n",
    "- Please send **a single python notebook** with your solutions. Submission only via email to wbanda@yachaytech.edu.ec\n",
    "\n",
    "\n",
    "- Make sure you email me the correct file as **late assignments won't be accepted.**"
   ]
  },
  {
   "cell_type": "markdown",
   "id": "1598d843",
   "metadata": {},
   "source": [
    "## Name/s:\n",
    "\n",
    "## Score:"
   ]
  },
  {
   "cell_type": "markdown",
   "id": "befda801",
   "metadata": {},
   "source": [
    "### 1. (5 points) Log-normal distributions (numpy and matplotlib)\n",
    "\n",
    "Log-normal distributions are important in physics, e.g. they characterise the density fields, $\\rho$, of supersonically-turbulent flows. A log-normal distribution can generally be defined by two variables, $\\bar\\mu$ and $\\sigma$, which represent the mean and standard deviation of the underlying normal distribution.\n",
    "\n",
    "(a) Write the probability density function of a log-normal density distribution in terms of $\\bar\\mu$ and $\\sigma$ and the log-normally distributed variable $\\rho$.\n",
    "\n",
    "(b) Define two Python variables for $\\bar\\mu=10$ and $\\sigma=50$.\n",
    "\n",
    "(c) Next, define a 1D vector for the log-normally distributed variable $\\rho$.\n",
    "\n",
    "(d) Make a plot of the probability density function of $\\rho$ for $\\bar\\mu=10$ and $\\sigma=50$.\n",
    "\n",
    "(e) Using Numpy functions, generate $n=10000$ log-normally distributed random numbers with $\\bar\\mu=10$ and $\\sigma=50$.\n",
    "\n",
    "(f) Make a histogram of the log-normally distributed numbers produced in (e).\n",
    "\n",
    "(g) Make a new plot overplotting the analytical function produced in (d) and the histogram produced in (f).\n",
    "\n",
    "(h) Do these plots coincide? If not, what is missing or can be modified? If needed, modify the code above so that they show better agreement."
   ]
  },
  {
   "cell_type": "markdown",
   "id": "a60ea4c8",
   "metadata": {},
   "source": [
    "### 2. (5 points) Logarithmic spiral (numpy and matplotlib)\n",
    "\n",
    "Consider the parametric equations describing a curve called logarithmic spiral:\n",
    "\n",
    "$x(t)=\\alpha\\,e^{\\,\\beta\\,t}\\,\\cos(t)$\n",
    "\n",
    "$y(t)=\\alpha\\,e^{\\,\\beta\\,t}\\,\\sin(t)$\n",
    "\n",
    "where $\\alpha$ and $\\beta$ are constants.\n",
    "\n",
    "(a) Define a Python function that returns $x$ and $y$. The function should have two arguments $\\alpha$ and $\\beta$.\n",
    "\n",
    "(b) Call the function you defined above for $\\alpha=5$ and $\\beta=0.2$, and make a plot of the resulting logarithmic spiral.\n",
    "\n",
    "(c) Make a new plot with 4 subplots, each having the same $\\alpha=5$, but different $\\beta_1=0.05$, $\\beta_2=0.1$, $\\beta_3=0.4$, and $\\beta_4=0.7$.\n",
    "\n",
    "(d) Based on the results above, what does the parameter $\\beta$ control?"
   ]
  },
  {
   "cell_type": "markdown",
   "id": "e3e9aed4",
   "metadata": {},
   "source": [
    "### 3. (5 points)  Data Input, analysis, and plotting (several libraries)\n",
    "\n",
    "Consider a wind-tunnel simulation containing a spherical gas cloud with initial mass, $m_0=61.18026\\,\\rm g$. The cloud is embedded in a constant velocity vector field and can be tracked with three pigments. Pigment 1 traces the core of the cloud, pigment 2 the envelope of the cloud, and pigment 3 the more exterior shell.\n",
    "\n",
    "We carry out the simulation and extract some data on how much these pigments mixed in a data table (see file **simulation_data_hw1.txt**) with 4 columns (time, mixedmass1, mixedmass2, mixedmass3), where the first column indicates the time in units of $\\rm s$ and the last three columns provide the mass of mixed pigment gas, $m_{\\rm mix}$, in units of $\\rm g$.\n",
    "\n",
    "(a) Create a Python function to read in the simulation data and return four vector arrays containing: time, mixedmass1, mixedmass2, and mixedmass3.\n",
    "\n",
    "\n",
    "(b) Make a single plot of $m_{\\rm mix}$ versus time of all three pigments. Which part of the cloud mixed the most?\n",
    "\n",
    "\n",
    "(c) Write a Python function that calculates the mixing fractions, $f_{\\rm mix}$, for each pigment, according to the following definition:\n",
    "\n",
    "$f_{\\rm mix}=\\frac{m_{\\rm mix}}{m_0}$\n",
    "\n",
    "The mixing fractions then represent the fraction of initial cloud mass that mixed in different layers.\n",
    "\n",
    "\n",
    "(d) Make a single plot containing $f_{\\rm mix}$ of all three pigments versus time.\n",
    "\n",
    "**Data file:**\n",
    "https://github.com/wbandabarragan/computational-physics-1/blob/main/homework/simulation_data_hw1.txt"
   ]
  },
  {
   "cell_type": "markdown",
   "id": "7bd66974",
   "metadata": {},
   "source": [
    "### 4. (5 points) Data Output, analysis, and plotting (several libraries)\n",
    "\n",
    "Consider the same simulation data as for problem 3.\n",
    "\n",
    "(a) Now, we are interested in studying the total mass of cloud gas that mixed. Create a Python function that calculates the total mass of mixed gas in the cloud, i.e.:\n",
    "\n",
    "$m_{\\rm mix,total}=\\sum_i m_{\\rm mix,i}$, where $i\\equiv$ pigment 1,2,3\n",
    "\n",
    "\n",
    "(b) Create a function to calculate the total mixing fraction.\n",
    "\n",
    "$f_{\\rm mix,total}=\\frac{m_{\\rm mix,total}}{m_0}$\n",
    "\n",
    "\n",
    "(c) Write a Python function that prints three vectors as columns into a file called **total_mixing.csv**. This data file should contain a header, the time as the first column, $m_{\\rm mix,total}$ as the second column, and $f_{\\rm mix,total}$ as the third column.\n",
    "\n",
    "\n",
    "(d) Make a single plot that include $f_{\\rm mix,total}$ and $f_{\\rm mix}$ of all three pigments versus time."
   ]
  }
 ],
 "metadata": {
  "kernelspec": {
   "display_name": "Python 3",
   "language": "python",
   "name": "python3"
  },
  "language_info": {
   "codemirror_mode": {
    "name": "ipython",
    "version": 3
   },
   "file_extension": ".py",
   "mimetype": "text/x-python",
   "name": "python",
   "nbconvert_exporter": "python",
   "pygments_lexer": "ipython3",
   "version": "3.7.10"
  }
 },
 "nbformat": 4,
 "nbformat_minor": 5
}
