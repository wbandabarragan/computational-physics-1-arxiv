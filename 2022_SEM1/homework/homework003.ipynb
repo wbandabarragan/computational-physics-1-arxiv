{
 "cells": [
  {
   "cell_type": "markdown",
   "id": "f0ca101d",
   "metadata": {},
   "source": [
    "# Homework 3"
   ]
  },
  {
   "cell_type": "markdown",
   "id": "d32b5cc5",
   "metadata": {},
   "source": [
    "- **Subject:** Computational Physics I\n",
    "- **Deadline:** Wednesday 10 August 2022 (by the end of the day)\n",
    "- **Credits:** 20 points\n",
    "- **Number of problems:** 4\n",
    "- **Type of evaluation:** Formative Evaluation"
   ]
  },
  {
   "cell_type": "markdown",
   "id": "77632c19",
   "metadata": {},
   "source": [
    "Please complete the following problems by the end of the day on **Wednesday 10th August 2022**.\n",
    "\n",
    "- You can work individually or in groups of maximum 2 people.\n",
    "\n",
    "\n",
    "- Please include your names in the notebook, and name it using your surname/s, e.g. **hw3_surname1_surname2.ipynb** if you work in pairs, or **hw3_surname.ipynb** if you work individually.\n",
    "\n",
    "\n",
    "- Please send **a single python notebook** with your solutions.\n",
    "\n",
    "\n",
    "- Submission only via email to these email addresses: **wbanda@yachaytech.edu.ec** and **nardy.sallo@yachaytech.edu.ec**\n",
    "\n",
    "\n",
    "- Make sure you email the correct file as **late assignments won't be accepted.**"
   ]
  },
  {
   "cell_type": "markdown",
   "id": "ef30a5eb",
   "metadata": {},
   "source": [
    "# General statement: shock-cloud interaction\n",
    "\n",
    "Shock waves are flow discontinuities that arise in supersonic gases when the local flow speed exceeds the sound speed of the gas. When shocks interact with gas clouds, they can accelerate them and disrupt them.\n",
    "\n",
    "Here, we numerically study one of such interactions where a shock wave propagates across a 2D computational domain (along the Y-axis from the bottom to the top), interacting with a cylindrical cloud in slab geometry. In the simulation, the cloud gas is tracked with a pigment.\n",
    "\n",
    "The flow is adiabatic (the polytropic index is $\\gamma=\\frac{5}{3}$), the gas is ionised (the mean particle mass is $\\mu = 0.6$), and the gas is also magnetised (the magnetic field is initially perpendicular to the flow, so it is oriented along the X-axis).\n",
    "\n",
    "The shock-cloud numerical simulation produces $61$ VTK files stored in:\n",
    "\n",
    "- the **MHD-shock-cloud** folder: \n",
    "\n",
    "https://github.com/wbandabarragan/computational-physics-1/blob/main/homework/MHD-shock-cloud.zip\n",
    "\n",
    "jointly with:\n",
    "\n",
    "- a **units.out** file that contains the CGS normalisation values.\n",
    "- a **vtk.out** file whose second column contains the times in code units.\n",
    "- a **grid.out** file that contains information on the grid structure.\n",
    "\n",
    "You can use VisIt to inspect the data."
   ]
  },
  {
   "cell_type": "markdown",
   "id": "93dbae5e",
   "metadata": {},
   "source": [
    "## 1. (5 points) 2D data I/O and visualisation\n",
    "\n",
    "Create a set of Python functions that:\n",
    "\n",
    "(a) opens the **units.out** file, stores the normalisation values for length, velocity, density, pressure, magnetic field and time into callable objects, and then returns them.\n",
    "\n",
    "**Note:**\n",
    "\n",
    "The normalisation values for thermal pressure ($p_0=\\rho_0\\,v_0^2$), magnetic field ($B_0=\\sqrt{4\\,\\pi\\,\\rho_0\\,v_0^2}$), and time ($t_0=\\frac{L_0}{v_0}$) can be derived from the length, velocity, and density values.\n",
    "\n",
    "(b) opens the **VTK** file # 30, reads the data arrays, and returns the 2D, CGS-normalised arrays for:\n",
    "\n",
    "- density (rho)\n",
    "- thermal pressure (prs)\n",
    "- pigment (tr1)\n",
    "- velocity_x (vx1)\n",
    "- velocity_y (vx2)\n",
    "- magnetic_field_x (Bx1)\n",
    "- magnetic_field_y (Bx2)\n",
    "\n",
    "**Note:**\n",
    "\n",
    "The pigment tr1 does not need to be normalised as it is just a dimensionless colour.\n",
    "\n",
    "\n",
    "**Hint:**\n",
    "\n",
    "Use the normalisation values returned by the function from part **(a)** to convert fron code units to CGS units.\n",
    "\n",
    "(c) reads the 2D arrays returned by the function above, interpolates them into a CGS-normalised meshgrid created with the mesh information stored in the VTK files, and exports 4 figures containing maps of:\n",
    "\n",
    "- density\n",
    "- thermal pressure\n",
    "- velocity\n",
    "- magnetic field\n",
    "\n",
    "**Note:**\n",
    "\n",
    "Choose different perceptually-uniform colour schemes for each of the above quantities."
   ]
  },
  {
   "cell_type": "markdown",
   "id": "07c8e3ce",
   "metadata": {},
   "source": [
    "## 2. (5 points) Image analysis: isolating features\n",
    "\n",
    "For the same VTK file (# 30), create a set of Python functions that:\n",
    "\n",
    "(a) Isolate the cloud gas based on the following algorithm:\n",
    "\n",
    "- Read the 2D density and pigment arrays.\n",
    "\n",
    "- Isolate the densities of grid cells that contain only pigment values tr1 > 0.1 (you can use conditionals to get the cell indices first).\n",
    "\n",
    "(b) Make a map of the resulting density of cloud gas only.\n",
    "\n",
    "(c) Isolate candidate shocked cells based on the following algorithm:\n",
    "\n",
    "- Read the 2D velocity vector field.\n",
    "\n",
    "- Compute the divergence of the velocity field and isolate the cells where there are convergent flows (i.e. where $\\vec\\nabla\\cdot \\vec v <0$). Cells with convergent flows are candidate shocked cells.\n",
    "\n",
    "(d) Make a binary map of the resulting candidate shock cells. Can you find the main shock on this map? Label it on the map.\n"
   ]
  },
  {
   "cell_type": "markdown",
   "id": "b43ab26d",
   "metadata": {},
   "source": [
    "## 3. (5 points) Python loops: full data analysis\n",
    "\n",
    "Create a set of Python functions that:\n",
    "\n",
    "(a) Read the second column of the **vtk.out** file into a time array, normalises these times using the normalisation time computed in problem 1, and then returns a CGS-normalised time array.\n",
    "\n",
    "\n",
    "(b) Loop over all the simulation VTK files (0 to 60), calls all the functions written for problems 1 and 2, and then...\n",
    "\n",
    "... prints the resulting maps into two folders called:\n",
    "\n",
    "1. \"maps\", which should contain the figures for density, thermal pressure, velocity, and magnetic field for all the times (add a CGS time-stamp to each map).\n",
    "\n",
    "2. \"features\", which should contain the figures for cloud density and candidate shocked cells for all the times (add a CGS time-stamp to each map).\n",
    "\n",
    "**Note:** Fix the min/max values of the colourbars, so that maps at different times can be compared with one another."
   ]
  },
  {
   "cell_type": "markdown",
   "id": "d35acf02",
   "metadata": {},
   "source": [
    "## 4. (5 points) Array operations and time evolution\n",
    "\n",
    "Create a set of Python functions that:\n",
    "\n",
    "(a) Loop over all the simulation VTK files ($0$ to $60$), computes the following quantities for each time:\n",
    "\n",
    "- the average temperature (tem)\n",
    "- position of the centre of mass of the cloud (cms)\n",
    "- the average size of the cloud along X (clx)\n",
    "- the average size of the cloud along Y (cly)\n",
    "\n",
    "and returns a CSV file with $5$ columns, time on the first column, and the above quantities in the next ones.\n",
    "\n",
    "**Hints:**\n",
    "- Use the equation of state of ideal gases to calculate the temperature.\n",
    "\n",
    "- The average cloud sizes along X and Y can be estimated from the moment of inertia of the cloud (e.g. you can assume the cloud becomes an ellipsoid). These sizes tell us how elongated the cloud becomes.\n",
    "\n",
    "(b) Make and return figures of each of the above quantities versus time.\n",
    "\n",
    "(c) Return movies showing the time evolution of the magnetic field, the cloud density maps, and the position of the centre of mass of the cloud. Use a marker to indicate this position on the density maps.\n",
    "\n",
    "Interpret the results and briefly comment on the following:\n",
    "\n",
    "(d) Does the cloud accelerate?\n",
    "\n",
    "(e) What happens to the magnetic field as time progresses?"
   ]
  }
 ],
 "metadata": {
  "kernelspec": {
   "display_name": "Python 3",
   "language": "python",
   "name": "python3"
  },
  "language_info": {
   "codemirror_mode": {
    "name": "ipython",
    "version": 3
   },
   "file_extension": ".py",
   "mimetype": "text/x-python",
   "name": "python",
   "nbconvert_exporter": "python",
   "pygments_lexer": "ipython3",
   "version": "3.7.10"
  }
 },
 "nbformat": 4,
 "nbformat_minor": 5
}
