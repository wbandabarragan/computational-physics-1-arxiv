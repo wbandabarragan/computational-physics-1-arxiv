{
 "cells": [
  {
   "cell_type": "markdown",
   "id": "1a6d18b3",
   "metadata": {},
   "source": [
    "# Data types and Python objects"
   ]
  },
  {
   "cell_type": "markdown",
   "id": "70d29e07",
   "metadata": {},
   "source": [
    "# A) Data types:"
   ]
  },
  {
   "cell_type": "markdown",
   "id": "9c90350d",
   "metadata": {},
   "source": [
    "### Integers (int)"
   ]
  },
  {
   "cell_type": "code",
   "execution_count": 1,
   "id": "dcde4b18",
   "metadata": {},
   "outputs": [
    {
     "name": "stdout",
     "output_type": "stream",
     "text": [
      "<class 'int'>\n",
      "<class 'int'>\n"
     ]
    }
   ],
   "source": [
    "x = 1\n",
    "y = 4\n",
    "\n",
    "print(type(x))\n",
    "print(type(y))"
   ]
  },
  {
   "cell_type": "markdown",
   "id": "679c4c6d",
   "metadata": {},
   "source": [
    "### Integer operations"
   ]
  },
  {
   "cell_type": "code",
   "execution_count": 2,
   "id": "d0b6a12b",
   "metadata": {},
   "outputs": [
    {
     "name": "stdout",
     "output_type": "stream",
     "text": [
      "5 <class 'int'>\n",
      "-3 <class 'int'>\n",
      "4 <class 'int'>\n",
      "0.25 <class 'float'>\n",
      "0.2 <class 'float'>\n"
     ]
    }
   ],
   "source": [
    "print(x + y, type(x + y))\n",
    "print(x - y, type(x - y))\n",
    "print(x * y, type(x * y))\n",
    "print(x / y, type(x / y))\n",
    "print(x / (x + y), type(x / (x + y)))\n",
    "\n",
    "# Note that the first three output numbers are still integers, while the latter three are floats."
   ]
  },
  {
   "cell_type": "markdown",
   "id": "ecb15e3e",
   "metadata": {},
   "source": [
    "### Floating-point numbers (floats)\n"
   ]
  },
  {
   "cell_type": "code",
   "execution_count": 3,
   "id": "451a3729",
   "metadata": {},
   "outputs": [
    {
     "name": "stdout",
     "output_type": "stream",
     "text": [
      "<class 'float'>\n",
      "<class 'float'>\n",
      "<class 'float'>\n"
     ]
    }
   ],
   "source": [
    "import numpy as np\n",
    "x = 1.\n",
    "y = 4.\n",
    "z = np.pi\n",
    "\n",
    "print(type(x))\n",
    "print(type(y))\n",
    "print(type(z))"
   ]
  },
  {
   "cell_type": "markdown",
   "id": "6d27f27d",
   "metadata": {},
   "source": [
    "### Floating-point operations"
   ]
  },
  {
   "cell_type": "code",
   "execution_count": 4,
   "id": "e7fa0fb6",
   "metadata": {},
   "outputs": [
    {
     "name": "stdout",
     "output_type": "stream",
     "text": [
      "5.0 <class 'float'>\n",
      "-3.0 <class 'float'>\n",
      "4.0 <class 'float'>\n",
      "0.25 <class 'float'>\n",
      "0.2 <class 'float'>\n"
     ]
    }
   ],
   "source": [
    "# All the operations return floating point numbers.\n",
    "# If you are doing mathematical operations, it is generally advisable to use floats\n",
    "\n",
    "print(x + y, type(x + y))\n",
    "print(x - y, type(x - y))\n",
    "print(x * y, type(x * y))\n",
    "print(x / y, type(x / y))\n",
    "print(x / (x + y), type(x / (x + y)))"
   ]
  },
  {
   "cell_type": "markdown",
   "id": "d9445c98",
   "metadata": {},
   "source": [
    "### Strings (str)"
   ]
  },
  {
   "cell_type": "code",
   "execution_count": 5,
   "id": "74f582b4",
   "metadata": {},
   "outputs": [
    {
     "name": "stdout",
     "output_type": "stream",
     "text": [
      "<class 'str'>\n",
      "<class 'str'>\n",
      "<class 'str'>\n"
     ]
    }
   ],
   "source": [
    "x = '1.'\n",
    "y = '4.'\n",
    "z = 'np.pi'\n",
    "\n",
    "print(type(x))\n",
    "print(type(y))\n",
    "print(type(z))"
   ]
  },
  {
   "cell_type": "code",
   "execution_count": 6,
   "id": "f788eb36",
   "metadata": {},
   "outputs": [
    {
     "name": "stdout",
     "output_type": "stream",
     "text": [
      "1.np.pi\n"
     ]
    }
   ],
   "source": [
    "print(x + z) # This concatanates strings"
   ]
  },
  {
   "cell_type": "markdown",
   "id": "ee5e5e08",
   "metadata": {},
   "source": [
    "Sometimes is it advisable to delete the variables if you are re-using them for different data formats."
   ]
  },
  {
   "cell_type": "code",
   "execution_count": 7,
   "id": "68d3d29f",
   "metadata": {},
   "outputs": [],
   "source": [
    "del x\n",
    "del y\n",
    "del z"
   ]
  },
  {
   "cell_type": "markdown",
   "id": "6ab6402c",
   "metadata": {},
   "source": [
    "## Complex numbers\n",
    "\n",
    "\"j\" can be used as \"i\" to define complex numbers."
   ]
  },
  {
   "cell_type": "code",
   "execution_count": 8,
   "id": "b8bad734",
   "metadata": {},
   "outputs": [
    {
     "name": "stdout",
     "output_type": "stream",
     "text": [
      "(-2+4j)\n"
     ]
    }
   ],
   "source": [
    "z = -2 + 4j\n",
    "\n",
    "print(z)"
   ]
  },
  {
   "cell_type": "markdown",
   "id": "f9098c08",
   "metadata": {},
   "source": [
    "### Conjugate\n",
    "\n",
    "- You can use np.conj()\n",
    "\n",
    "\n",
    "- See the documentation here:\n",
    "https://numpy.org/doc/stable/reference/generated/numpy.conj.html"
   ]
  },
  {
   "cell_type": "code",
   "execution_count": 9,
   "id": "62b10a50",
   "metadata": {},
   "outputs": [
    {
     "name": "stdout",
     "output_type": "stream",
     "text": [
      "(-2-4j)\n"
     ]
    }
   ],
   "source": [
    "zc = np.conj(z)\n",
    "\n",
    "print(zc)"
   ]
  },
  {
   "cell_type": "markdown",
   "id": "3e16450b",
   "metadata": {},
   "source": [
    "### Norm"
   ]
  },
  {
   "cell_type": "code",
   "execution_count": 10,
   "id": "daee0227",
   "metadata": {},
   "outputs": [
    {
     "name": "stdout",
     "output_type": "stream",
     "text": [
      "4.47213595499958 , which is the same as: 4.47213595499958\n"
     ]
    }
   ],
   "source": [
    "normz = np.abs(z)\n",
    "\n",
    "print(normz, ', which is the same as:', np.sqrt(z.real**2 + z.imag**2))\n",
    "\n",
    "# Note that you can access the real and imaginary parts of a number with z.real and z.imag."
   ]
  },
  {
   "cell_type": "markdown",
   "id": "bff88a2e",
   "metadata": {},
   "source": [
    "## Second manner\n",
    "\n",
    "You can also use the complex() function."
   ]
  },
  {
   "cell_type": "code",
   "execution_count": 11,
   "id": "44430a1e",
   "metadata": {},
   "outputs": [
    {
     "name": "stdout",
     "output_type": "stream",
     "text": [
      "(-2+4j)\n"
     ]
    }
   ],
   "source": [
    "z2 = complex(-2,4)\n",
    "\n",
    "print(z2)"
   ]
  },
  {
   "cell_type": "code",
   "execution_count": 12,
   "id": "20875ba9",
   "metadata": {},
   "outputs": [
    {
     "name": "stdout",
     "output_type": "stream",
     "text": [
      "4.47213595499958\n"
     ]
    }
   ],
   "source": [
    "normz2 = np.abs(z2)\n",
    "\n",
    "print(normz2)"
   ]
  },
  {
   "cell_type": "markdown",
   "id": "90db5796",
   "metadata": {},
   "source": [
    "# B) Python Objects"
   ]
  },
  {
   "cell_type": "markdown",
   "id": "628394a8",
   "metadata": {},
   "source": [
    "## Tuples\n",
    "\n",
    "- A tuple is an ordered set of objects that cannot be manually changed.\n",
    "\n",
    "\n",
    "- The objects inside a tuple can have different data formats.\n",
    "\n",
    "\n",
    "- Tuples are explicitly defined with **( )**\n"
   ]
  },
  {
   "cell_type": "code",
   "execution_count": 13,
   "id": "3719ad30",
   "metadata": {},
   "outputs": [
    {
     "name": "stdout",
     "output_type": "stream",
     "text": [
      "('hola', 0, 1.0, 2) <class 'tuple'>\n"
     ]
    }
   ],
   "source": [
    "# Example 1\n",
    "\n",
    "tuple_1 = ('hola', 0, 1., 2)\n",
    "\n",
    "print(tuple_1, type(tuple_1))"
   ]
  },
  {
   "cell_type": "markdown",
   "id": "7d0e3797",
   "metadata": {},
   "source": [
    "We can also print individual elements in the tuple:"
   ]
  },
  {
   "cell_type": "code",
   "execution_count": 14,
   "id": "af429446",
   "metadata": {},
   "outputs": [
    {
     "name": "stdout",
     "output_type": "stream",
     "text": [
      "hola\n",
      "('hola', 1.0)\n"
     ]
    }
   ],
   "source": [
    "print(tuple_1[0]) # First element\n",
    "\n",
    "print(tuple_1[::2]) # Jumping one element"
   ]
  },
  {
   "cell_type": "markdown",
   "id": "0946b413",
   "metadata": {},
   "source": [
    "Can we alter an element in the tuple?\n",
    "\n",
    "Answer: No, we get an error."
   ]
  },
  {
   "cell_type": "code",
   "execution_count": 15,
   "id": "718af1cd",
   "metadata": {},
   "outputs": [],
   "source": [
    "#tuple[0] = 4.0 # Uncomment to see the error"
   ]
  },
  {
   "cell_type": "markdown",
   "id": "d317a1f6",
   "metadata": {},
   "source": [
    "## Lists\n",
    "\n",
    "- A list of is an ordered set of objects that can be manually changed.\n",
    "\n",
    "\n",
    "- The objects can have different data types.\n",
    "\n",
    "\n",
    "- Lists are explicitly defined with **[ ]**."
   ]
  },
  {
   "cell_type": "code",
   "execution_count": 16,
   "id": "71888d39",
   "metadata": {},
   "outputs": [
    {
     "name": "stdout",
     "output_type": "stream",
     "text": [
      "['hola', 1, 2.0, 3]\n"
     ]
    }
   ],
   "source": [
    "list_1 = ['hola', 1, 2., 3]\n",
    "\n",
    "print(list_1)"
   ]
  },
  {
   "cell_type": "markdown",
   "id": "aa572dbb",
   "metadata": {},
   "source": [
    "### Accessing objects in a list"
   ]
  },
  {
   "cell_type": "code",
   "execution_count": 17,
   "id": "6d8c0c43",
   "metadata": {},
   "outputs": [
    {
     "name": "stdout",
     "output_type": "stream",
     "text": [
      "hola <class 'str'>\n",
      "1 <class 'int'>\n",
      "2.0 <class 'float'>\n",
      "3 <class 'int'>\n"
     ]
    }
   ],
   "source": [
    "A0 = list_1[0]\n",
    "A1 = list_1[1]\n",
    "A2 = list_1[2]\n",
    "A3 = list_1[3]\n",
    "\n",
    "print(A0, type(A0))\n",
    "print(A1, type(A1))\n",
    "print(A2, type(A2))\n",
    "print(A3, type(A3))"
   ]
  },
  {
   "cell_type": "markdown",
   "id": "daf71888",
   "metadata": {},
   "source": [
    "### Using a for loop"
   ]
  },
  {
   "cell_type": "code",
   "execution_count": 18,
   "id": "6eddfc4c",
   "metadata": {},
   "outputs": [
    {
     "name": "stdout",
     "output_type": "stream",
     "text": [
      "hola <class 'str'>\n",
      "1 <class 'int'>\n",
      "2.0 <class 'float'>\n",
      "3 <class 'int'>\n"
     ]
    }
   ],
   "source": [
    "for i in list_1:\n",
    "    print(i, type(i))"
   ]
  },
  {
   "cell_type": "markdown",
   "id": "e32a0920",
   "metadata": {},
   "source": [
    "### Example: List"
   ]
  },
  {
   "cell_type": "code",
   "execution_count": 19,
   "id": "7c51187c",
   "metadata": {},
   "outputs": [],
   "source": [
    "list_2 = [0,1,2,3,4,5,6,7,8,9]"
   ]
  },
  {
   "cell_type": "markdown",
   "id": "5f0e8d59",
   "metadata": {},
   "source": [
    "We can select elements with [m, n]."
   ]
  },
  {
   "cell_type": "code",
   "execution_count": 20,
   "id": "c1a31381",
   "metadata": {},
   "outputs": [
    {
     "name": "stdout",
     "output_type": "stream",
     "text": [
      "[2, 3] <class 'list'>\n"
     ]
    }
   ],
   "source": [
    "A24 = list_2[2:4] # to n-1\n",
    "\n",
    "print(A24, type(A24))"
   ]
  },
  {
   "cell_type": "markdown",
   "id": "6b0f85e2",
   "metadata": {},
   "source": [
    "Also, we can use : to select all elements, e.g up to certain element position [:,n] or from certain element position [m:]."
   ]
  },
  {
   "cell_type": "code",
   "execution_count": 21,
   "id": "409c0acf",
   "metadata": {},
   "outputs": [
    {
     "name": "stdout",
     "output_type": "stream",
     "text": [
      "[0, 1, 2, 3, 4]\n",
      "[5, 6, 7, 8, 9]\n"
     ]
    }
   ],
   "source": [
    "print(list_2[:5])\n",
    "print(list_2[5:])"
   ]
  },
  {
   "cell_type": "markdown",
   "id": "82274728",
   "metadata": {},
   "source": [
    "- The length of a list can be returned with len()\n",
    "\n",
    "\n",
    "- Similarly, the minimum number or maximum numbers in the list can be obtained with min() and max()."
   ]
  },
  {
   "cell_type": "code",
   "execution_count": 22,
   "id": "60b9cb10",
   "metadata": {},
   "outputs": [
    {
     "name": "stdout",
     "output_type": "stream",
     "text": [
      "10\n",
      "0\n",
      "9\n"
     ]
    }
   ],
   "source": [
    "print(len(list_2))\n",
    "\n",
    "print(min(list_2))\n",
    "\n",
    "print(max(list_2))"
   ]
  },
  {
   "cell_type": "markdown",
   "id": "97cb40b8",
   "metadata": {},
   "source": [
    "Individual elements can be obtained with [::n], where n tells how many positions we jump"
   ]
  },
  {
   "cell_type": "code",
   "execution_count": 23,
   "id": "c12f9dd7",
   "metadata": {},
   "outputs": [
    {
     "name": "stdout",
     "output_type": "stream",
     "text": [
      "[0, 2, 4, 6, 8]\n"
     ]
    }
   ],
   "source": [
    "print(list_2[::2])"
   ]
  },
  {
   "cell_type": "markdown",
   "id": "3a16d0d9",
   "metadata": {},
   "source": [
    "We can print the last and second last elements:"
   ]
  },
  {
   "cell_type": "code",
   "execution_count": 24,
   "id": "1da618d2",
   "metadata": {},
   "outputs": [
    {
     "name": "stdout",
     "output_type": "stream",
     "text": [
      "9\n"
     ]
    }
   ],
   "source": [
    "print(list_2[-1])"
   ]
  },
  {
   "cell_type": "code",
   "execution_count": 25,
   "id": "166d554a",
   "metadata": {},
   "outputs": [
    {
     "name": "stdout",
     "output_type": "stream",
     "text": [
      "8\n"
     ]
    }
   ],
   "source": [
    "print(list_2[-2])"
   ]
  },
  {
   "cell_type": "markdown",
   "id": "8cf2af1c",
   "metadata": {},
   "source": [
    "Or, all the elements except the first and last on the list:"
   ]
  },
  {
   "cell_type": "code",
   "execution_count": 26,
   "id": "61f6a2e5",
   "metadata": {},
   "outputs": [
    {
     "name": "stdout",
     "output_type": "stream",
     "text": [
      "[1, 2, 3, 4, 5, 6, 7, 8]\n"
     ]
    }
   ],
   "source": [
    "print(list_2[1:-1])"
   ]
  },
  {
   "cell_type": "markdown",
   "id": "220a9af2",
   "metadata": {},
   "source": [
    "And, we can also alter the list by changing certain elements:"
   ]
  },
  {
   "cell_type": "code",
   "execution_count": 27,
   "id": "4e0145de",
   "metadata": {},
   "outputs": [
    {
     "name": "stdout",
     "output_type": "stream",
     "text": [
      "[15, 1, 2, 3, 4, 5, 6, 7, 8, 9]\n"
     ]
    }
   ],
   "source": [
    "list_2[0]=15\n",
    "print(list_2)"
   ]
  },
  {
   "cell_type": "markdown",
   "id": "400619de",
   "metadata": {},
   "source": [
    "### Lists can also be concatenated with +\n",
    "\n",
    "Be careful, because the + operation concatenates lists. \n",
    "\n",
    "It does not add numbers in the lists.\n",
    "\n",
    "If you want to do operations, use arrays."
   ]
  },
  {
   "cell_type": "code",
   "execution_count": 28,
   "id": "28ebb886",
   "metadata": {},
   "outputs": [],
   "source": [
    "list_3 = list_1 + list_2"
   ]
  },
  {
   "cell_type": "code",
   "execution_count": 29,
   "id": "2dd29dd4",
   "metadata": {},
   "outputs": [
    {
     "name": "stdout",
     "output_type": "stream",
     "text": [
      "['hola', 1, 2.0, 3, 15, 1, 2, 3, 4, 5, 6, 7, 8, 9, 100]\n"
     ]
    }
   ],
   "source": [
    "list_3.append(100)\n",
    "\n",
    "print(list_3)"
   ]
  },
  {
   "cell_type": "markdown",
   "id": "dc0ce550",
   "metadata": {},
   "source": [
    "### Delete elements from a list"
   ]
  },
  {
   "cell_type": "code",
   "execution_count": 30,
   "id": "d89c4578",
   "metadata": {},
   "outputs": [
    {
     "name": "stdout",
     "output_type": "stream",
     "text": [
      "[1, 2.0, 3, 15, 1, 2, 3, 4, 5, 6, 7, 8, 9, 100]\n"
     ]
    }
   ],
   "source": [
    "del list_3[0]\n",
    "\n",
    "print(list_3)"
   ]
  },
  {
   "cell_type": "markdown",
   "id": "caf320f3",
   "metadata": {},
   "source": [
    "### Nested lists\n",
    "\n",
    "A list can contain sub-lists as elements."
   ]
  },
  {
   "cell_type": "code",
   "execution_count": 31,
   "id": "bf271d73",
   "metadata": {},
   "outputs": [
    {
     "name": "stdout",
     "output_type": "stream",
     "text": [
      "[[1, 2, 3, 4], [5, 6, 7, 8, 9]]\n",
      "[1, 2, 3, 4] len = 4\n",
      "[5, 6, 7, 8, 9] len = 5\n"
     ]
    }
   ],
   "source": [
    "list_nest = [[1,2,3,4],[5,6,7,8,9]]\n",
    "\n",
    "print(list_nest)\n",
    "\n",
    "print(list_nest[0], 'len =', len(list_nest[0]))\n",
    "print(list_nest[1], 'len =', len(list_nest[1]))"
   ]
  },
  {
   "cell_type": "markdown",
   "id": "0482a581",
   "metadata": {},
   "source": [
    "### Accessing nested elements within a list"
   ]
  },
  {
   "cell_type": "code",
   "execution_count": 32,
   "id": "4d25484e",
   "metadata": {},
   "outputs": [
    {
     "name": "stdout",
     "output_type": "stream",
     "text": [
      "1 type = <class 'int'>\n",
      "5 type = <class 'int'>\n"
     ]
    }
   ],
   "source": [
    "print(list_nest[0][0], 'type =', type(list_nest[0][0])) # First element of first sublist\n",
    "\n",
    "print(list_nest[1][0], 'type =', type(list_nest[1][0])) # First element of second sublist"
   ]
  },
  {
   "cell_type": "code",
   "execution_count": 33,
   "id": "6eab25ac",
   "metadata": {},
   "outputs": [
    {
     "name": "stdout",
     "output_type": "stream",
     "text": [
      "[1, 2, 3, 4] type = <class 'int'>\n",
      "9 type = <class 'int'>\n"
     ]
    }
   ],
   "source": [
    "print(list_nest[0][:], 'type =', type(list_nest[0][0]))\n",
    "print(list_nest[1][-1], 'type =', type(list_nest[0][0]))"
   ]
  },
  {
   "cell_type": "markdown",
   "id": "4c44c926",
   "metadata": {},
   "source": [
    "## (Numpy) Arrays\n",
    "\n",
    "\n",
    "- They are very useful when carrying out mathematical operations.\n",
    "\n",
    "\n",
    "- Numpy needs to be called. remeber that lists are the native Python objects.\n",
    "\n",
    "\n",
    "- np.array() converts Python objects into arrays"
   ]
  },
  {
   "cell_type": "code",
   "execution_count": 34,
   "id": "53d64f46",
   "metadata": {},
   "outputs": [
    {
     "name": "stdout",
     "output_type": "stream",
     "text": [
      "[ 10.  20.  50. 100.  80.  65.] <class 'numpy.ndarray'>\n",
      "[ 10.  20.  50. 100.  80.  65.] <class 'numpy.ndarray'>\n"
     ]
    }
   ],
   "source": [
    "# Let's convert a tuple into an array:\n",
    "A = np.array((10., 20., 50., 100., 80., 65.))\n",
    "\n",
    "\n",
    "# Let's convert a list into an array:\n",
    "B = np.array([10., 20., 50., 100., 80., 65.])\n",
    "\n",
    "print(A, type(A))\n",
    "print(B, type(B))\n",
    "\n",
    "# As you can see, both return the same array"
   ]
  },
  {
   "cell_type": "markdown",
   "id": "4827c999",
   "metadata": {},
   "source": [
    "## Dictionaries\n",
    "\n",
    "- They are objects that can contain sub-objects of different types.\n",
    "\n",
    "\n",
    "- A \"key\" is used to identify each sub-object."
   ]
  },
  {
   "cell_type": "markdown",
   "id": "2e98e1c2",
   "metadata": {},
   "source": [
    "### Example 1:"
   ]
  },
  {
   "cell_type": "code",
   "execution_count": 35,
   "id": "9cd9ec4d",
   "metadata": {},
   "outputs": [
    {
     "name": "stdout",
     "output_type": "stream",
     "text": [
      "{'variable x': 1, 'variable y': 2} <class 'dict'>\n"
     ]
    }
   ],
   "source": [
    "dictionary_1 = {'variable x': 1,'variable y': 2}\n",
    "\n",
    "print(dictionary_1, type(dictionary_1))"
   ]
  },
  {
   "cell_type": "markdown",
   "id": "49274c03",
   "metadata": {},
   "source": [
    "Let us call individual objects:"
   ]
  },
  {
   "cell_type": "code",
   "execution_count": 36,
   "id": "fddf5079",
   "metadata": {},
   "outputs": [
    {
     "data": {
      "text/plain": [
       "1"
      ]
     },
     "execution_count": 36,
     "metadata": {},
     "output_type": "execute_result"
    }
   ],
   "source": [
    "dictionary_1['variable x']"
   ]
  },
  {
   "cell_type": "code",
   "execution_count": 37,
   "id": "a8099f8e",
   "metadata": {},
   "outputs": [
    {
     "data": {
      "text/plain": [
       "2"
      ]
     },
     "execution_count": 37,
     "metadata": {},
     "output_type": "execute_result"
    }
   ],
   "source": [
    "dictionary_1['variable y']"
   ]
  },
  {
   "cell_type": "markdown",
   "id": "578de741",
   "metadata": {},
   "source": [
    "### Defining dictionaries"
   ]
  },
  {
   "cell_type": "markdown",
   "id": "45332e2c",
   "metadata": {},
   "source": [
    "### Example 2:"
   ]
  },
  {
   "cell_type": "code",
   "execution_count": 38,
   "id": "4745a49f",
   "metadata": {},
   "outputs": [
    {
     "name": "stdout",
     "output_type": "stream",
     "text": [
      "{'temperature': [10, 40, 50, 60], 'pressure': (1, 1.6, 3, 4)}\n"
     ]
    }
   ],
   "source": [
    "# Create an empty dictionary:\n",
    "\n",
    "dictionary_2={ }\n",
    "\n",
    "# Fill in the empty dictionary with two objects:\n",
    "\n",
    "dictionary_2['temperature'] = [10, 40, 50, 60]   # The 1st object is a list\n",
    "dictionary_2['pressure'] = (1, 1.6, 3, 4)   # The 2nd object is a tuple\n",
    "\n",
    "print(dictionary_2)"
   ]
  },
  {
   "cell_type": "code",
   "execution_count": 39,
   "id": "bd1d72c6",
   "metadata": {},
   "outputs": [
    {
     "name": "stdout",
     "output_type": "stream",
     "text": [
      "[10, 40, 50, 60] <class 'list'>\n"
     ]
    }
   ],
   "source": [
    "print(dictionary_2['temperature'], type(dictionary_2['temperature']))"
   ]
  },
  {
   "cell_type": "code",
   "execution_count": 40,
   "id": "496a9d25",
   "metadata": {},
   "outputs": [
    {
     "name": "stdout",
     "output_type": "stream",
     "text": [
      "(1, 1.6, 3, 4) <class 'tuple'>\n"
     ]
    }
   ],
   "source": [
    "print(dictionary_2['pressure'], type(dictionary_2['pressure']))"
   ]
  },
  {
   "cell_type": "markdown",
   "id": "5ad883c1",
   "metadata": {},
   "source": [
    "The function **keys()** can be used to see which keys are defined within a dictionary:"
   ]
  },
  {
   "cell_type": "code",
   "execution_count": 41,
   "id": "012230bd",
   "metadata": {},
   "outputs": [
    {
     "data": {
      "text/plain": [
       "dict_keys(['temperature', 'pressure'])"
      ]
     },
     "execution_count": 41,
     "metadata": {},
     "output_type": "execute_result"
    }
   ],
   "source": [
    "dictionary_2.keys()"
   ]
  },
  {
   "cell_type": "markdown",
   "id": "0b0b6bba",
   "metadata": {},
   "source": [
    "### Example 3:"
   ]
  },
  {
   "cell_type": "code",
   "execution_count": 42,
   "id": "2d19ddff",
   "metadata": {},
   "outputs": [
    {
     "name": "stdout",
     "output_type": "stream",
     "text": [
      "{'temperature': [10, 40, 50, 60], 'pressure': (1, 1.6, 3, 4), 'density': array([0.2, 0.4, 0.1, 0.3])}\n"
     ]
    }
   ],
   "source": [
    "dictionary_3={}\n",
    "\n",
    "dictionary_3['temperature'] = [10, 40, 50, 60]  # This is a list\n",
    "dictionary_3['pressure'] = (1, 1.6, 3, 4)  # This is a tuple\n",
    "dictionary_3['density'] = np.array((0.2, 0.4, 0.1, 0.3)) # This is an array\n",
    "\n",
    "print(dictionary_3)"
   ]
  },
  {
   "cell_type": "code",
   "execution_count": 43,
   "id": "bceea56b",
   "metadata": {},
   "outputs": [
    {
     "name": "stdout",
     "output_type": "stream",
     "text": [
      "[10, 40, 50, 60] <class 'list'>\n",
      "(1, 1.6, 3, 4) <class 'tuple'>\n",
      "[0.2 0.4 0.1 0.3] <class 'numpy.ndarray'>\n"
     ]
    }
   ],
   "source": [
    "print(dictionary_3['temperature'], type(dictionary_3['temperature']))\n",
    "print(dictionary_3['pressure'], type(dictionary_3['pressure']))\n",
    "print(dictionary_3['density'], type(dictionary_3['density']))"
   ]
  }
 ],
 "metadata": {
  "kernelspec": {
   "display_name": "Python 3",
   "language": "python",
   "name": "python3"
  },
  "language_info": {
   "codemirror_mode": {
    "name": "ipython",
    "version": 3
   },
   "file_extension": ".py",
   "mimetype": "text/x-python",
   "name": "python",
   "nbconvert_exporter": "python",
   "pygments_lexer": "ipython3",
   "version": "3.7.10"
  }
 },
 "nbformat": 4,
 "nbformat_minor": 5
}
