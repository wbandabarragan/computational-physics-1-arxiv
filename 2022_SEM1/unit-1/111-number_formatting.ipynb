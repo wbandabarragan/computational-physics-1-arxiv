{
 "cells": [
  {
   "cell_type": "markdown",
   "id": "221e4fc5",
   "metadata": {},
   "source": [
    "# Number Formatting \n",
    "\n",
    "## UC 1. Data analysis and visualisation\n"
   ]
  },
  {
   "cell_type": "markdown",
   "id": "a816ded7",
   "metadata": {},
   "source": [
    "- This is useful for data output.\n",
    "\n",
    "\n",
    "- It is good to have a standard way of writing data into files, e.g. with scientific notation and/or with a predefined number of significant figures.\n"
   ]
  },
  {
   "cell_type": "code",
   "execution_count": 1,
   "id": "26e979cf",
   "metadata": {},
   "outputs": [],
   "source": [
    "# Import most-used libraries\n",
    "import numpy as np\n",
    "import matplotlib.pyplot as plt"
   ]
  },
  {
   "cell_type": "markdown",
   "id": "117beb34",
   "metadata": {},
   "source": [
    "## Standard syntax\n",
    "\n",
    "print(\"FORMAT\".format(NUMBER))"
   ]
  },
  {
   "cell_type": "markdown",
   "id": "fe818fa0",
   "metadata": {},
   "source": [
    "### 1. Format float 2 decimal places"
   ]
  },
  {
   "cell_type": "code",
   "execution_count": 2,
   "id": "e92fcfeb",
   "metadata": {},
   "outputs": [
    {
     "name": "stdout",
     "output_type": "stream",
     "text": [
      "3.14\n"
     ]
    }
   ],
   "source": [
    "print(\"{:.2f}\".format(np.pi))"
   ]
  },
  {
   "cell_type": "markdown",
   "id": "6fb27de0",
   "metadata": {},
   "source": [
    "### 2. Format float 2 decimal places with signs"
   ]
  },
  {
   "cell_type": "code",
   "execution_count": 3,
   "id": "29c91e49",
   "metadata": {},
   "outputs": [
    {
     "name": "stdout",
     "output_type": "stream",
     "text": [
      "+3.14\n",
      "-3.14\n"
     ]
    }
   ],
   "source": [
    "print(\"{:+.2f}\".format(np.pi))\n",
    "\n",
    "print(\"{:+.2f}\".format(-np.pi))"
   ]
  },
  {
   "cell_type": "markdown",
   "id": "3edb2140",
   "metadata": {},
   "source": [
    "### 3. Format float with no decimal places"
   ]
  },
  {
   "cell_type": "code",
   "execution_count": 4,
   "id": "d87970be",
   "metadata": {},
   "outputs": [
    {
     "name": "stdout",
     "output_type": "stream",
     "text": [
      "3\n"
     ]
    }
   ],
   "source": [
    "print(\"{:.0f}\".format(np.pi))"
   ]
  },
  {
   "cell_type": "markdown",
   "id": "0fd867d7",
   "metadata": {},
   "source": [
    "### 4. Exponent notation (scientific notation)"
   ]
  },
  {
   "cell_type": "code",
   "execution_count": 5,
   "id": "b1efd250",
   "metadata": {},
   "outputs": [
    {
     "name": "stdout",
     "output_type": "stream",
     "text": [
      "3.14e+00\n"
     ]
    }
   ],
   "source": [
    "print(\"{:.2e}\".format(np.pi))\n",
    "\n",
    "# .1e = scientific notation with 1 decimal point (standard form)\n",
    "\n",
    "# .2f = 2 decimal places\n",
    "\n",
    "# .3g = 3 significant figures\n",
    "\n",
    "# .4% = percentage with 4 decimal places"
   ]
  },
  {
   "cell_type": "markdown",
   "id": "bfb05926",
   "metadata": {},
   "source": [
    "### 5. Specify number of significant figures"
   ]
  },
  {
   "cell_type": "code",
   "execution_count": 6,
   "id": "6bd7d95b",
   "metadata": {},
   "outputs": [
    {
     "name": "stdout",
     "output_type": "stream",
     "text": [
      "3.1\n"
     ]
    }
   ],
   "source": [
    "print(\"{:.2g}\".format(np.pi))"
   ]
  },
  {
   "cell_type": "markdown",
   "id": "9f4f3561",
   "metadata": {},
   "source": [
    "### 6. Write percentages:"
   ]
  },
  {
   "cell_type": "code",
   "execution_count": 7,
   "id": "57ddd4ad",
   "metadata": {},
   "outputs": [
    {
     "name": "stdout",
     "output_type": "stream",
     "text": [
      "100.00%\n"
     ]
    }
   ],
   "source": [
    "print(\"{:.2%}\".format(1)) # Note that it multiplies numbers by 100"
   ]
  },
  {
   "cell_type": "markdown",
   "id": "5fd98d0b",
   "metadata": {},
   "source": [
    "### 7. Putting zeroes onto the left hand side of an integer"
   ]
  },
  {
   "cell_type": "code",
   "execution_count": 8,
   "id": "8352832d",
   "metadata": {},
   "outputs": [
    {
     "name": "stdout",
     "output_type": "stream",
     "text": [
      "005\n"
     ]
    }
   ],
   "source": [
    "print(\"{:03d}\".format(5)) # Needs to be an integer"
   ]
  }
 ],
 "metadata": {
  "kernelspec": {
   "display_name": "Python 3",
   "language": "python",
   "name": "python3"
  },
  "language_info": {
   "codemirror_mode": {
    "name": "ipython",
    "version": 3
   },
   "file_extension": ".py",
   "mimetype": "text/x-python",
   "name": "python",
   "nbconvert_exporter": "python",
   "pygments_lexer": "ipython3",
   "version": "3.7.10"
  }
 },
 "nbformat": 4,
 "nbformat_minor": 5
}
