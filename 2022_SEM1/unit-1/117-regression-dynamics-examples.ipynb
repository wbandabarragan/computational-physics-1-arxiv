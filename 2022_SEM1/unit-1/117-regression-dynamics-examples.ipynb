{
 "cells": [
  {
   "cell_type": "markdown",
   "id": "3fa441f7",
   "metadata": {},
   "source": [
    "# Exercises on dynamics\n",
    "\n",
    "# 1. Free-fall experiment:\n",
    "\n",
    "We wish to measure the acceleration of gravity based on data from a free-fall experiment in which we drop an object and measure the time it takes for it to reach different distanteces. The object starts from rest."
   ]
  },
  {
   "cell_type": "code",
   "execution_count": 1,
   "id": "a3a0c607",
   "metadata": {},
   "outputs": [],
   "source": [
    "import numpy as np\n",
    "import matplotlib.pyplot as plt\n",
    "import pandas as pd"
   ]
  },
  {
   "cell_type": "code",
   "execution_count": 2,
   "id": "775737fa",
   "metadata": {},
   "outputs": [],
   "source": [
    "data_1 = pd.read_csv('data_freefall.csv')\n",
    "\n",
    "time = data_1['Time (s)']\n",
    "position = data_1[\"Position (m)\"]"
   ]
  },
  {
   "cell_type": "code",
   "execution_count": 3,
   "id": "ae12f543",
   "metadata": {},
   "outputs": [
    {
     "data": {
      "text/html": [
       "<div>\n",
       "<style scoped>\n",
       "    .dataframe tbody tr th:only-of-type {\n",
       "        vertical-align: middle;\n",
       "    }\n",
       "\n",
       "    .dataframe tbody tr th {\n",
       "        vertical-align: top;\n",
       "    }\n",
       "\n",
       "    .dataframe thead th {\n",
       "        text-align: right;\n",
       "    }\n",
       "</style>\n",
       "<table border=\"1\" class=\"dataframe\">\n",
       "  <thead>\n",
       "    <tr style=\"text-align: right;\">\n",
       "      <th></th>\n",
       "      <th>Time (s)</th>\n",
       "      <th>Position (m)</th>\n",
       "    </tr>\n",
       "  </thead>\n",
       "  <tbody>\n",
       "    <tr>\n",
       "      <th>0</th>\n",
       "      <td>0.0</td>\n",
       "      <td>0.0</td>\n",
       "    </tr>\n",
       "    <tr>\n",
       "      <th>1</th>\n",
       "      <td>0.5</td>\n",
       "      <td>2.0</td>\n",
       "    </tr>\n",
       "    <tr>\n",
       "      <th>2</th>\n",
       "      <td>1.0</td>\n",
       "      <td>5.2</td>\n",
       "    </tr>\n",
       "    <tr>\n",
       "      <th>3</th>\n",
       "      <td>1.5</td>\n",
       "      <td>9.8</td>\n",
       "    </tr>\n",
       "    <tr>\n",
       "      <th>4</th>\n",
       "      <td>2.0</td>\n",
       "      <td>19.7</td>\n",
       "    </tr>\n",
       "    <tr>\n",
       "      <th>5</th>\n",
       "      <td>2.5</td>\n",
       "      <td>31.2</td>\n",
       "    </tr>\n",
       "    <tr>\n",
       "      <th>6</th>\n",
       "      <td>3.0</td>\n",
       "      <td>44.4</td>\n",
       "    </tr>\n",
       "    <tr>\n",
       "      <th>7</th>\n",
       "      <td>3.5</td>\n",
       "      <td>57.8</td>\n",
       "    </tr>\n",
       "    <tr>\n",
       "      <th>8</th>\n",
       "      <td>4.0</td>\n",
       "      <td>80.8</td>\n",
       "    </tr>\n",
       "    <tr>\n",
       "      <th>9</th>\n",
       "      <td>4.5</td>\n",
       "      <td>100.4</td>\n",
       "    </tr>\n",
       "    <tr>\n",
       "      <th>10</th>\n",
       "      <td>5.0</td>\n",
       "      <td>121.1</td>\n",
       "    </tr>\n",
       "  </tbody>\n",
       "</table>\n",
       "</div>"
      ],
      "text/plain": [
       "    Time (s)  Position (m)\n",
       "0        0.0           0.0\n",
       "1        0.5           2.0\n",
       "2        1.0           5.2\n",
       "3        1.5           9.8\n",
       "4        2.0          19.7\n",
       "5        2.5          31.2\n",
       "6        3.0          44.4\n",
       "7        3.5          57.8\n",
       "8        4.0          80.8\n",
       "9        4.5         100.4\n",
       "10       5.0         121.1"
      ]
     },
     "execution_count": 3,
     "metadata": {},
     "output_type": "execute_result"
    }
   ],
   "source": [
    "data_1"
   ]
  },
  {
   "cell_type": "code",
   "execution_count": 4,
   "id": "97f01abe",
   "metadata": {
    "scrolled": true
   },
   "outputs": [
    {
     "data": {
      "image/png": "[encoded data removed]",
      "text/plain": [
       "<Figure size 432x288 with 1 Axes>"
      ]
     },
     "metadata": {
      "needs_background": "light"
     },
     "output_type": "display_data"
    }
   ],
   "source": [
    "%matplotlib inline\n",
    "\n",
    "# And now we plot\n",
    "fig, ax = plt.subplots()\n",
    "\n",
    "ax.plot(time, position, marker='d', linestyle=\" \", label=\"Free fall experiment\")\n",
    "ax.set_xlabel('time (s)')\n",
    "ax.set_ylabel('position (m)')\n",
    "ax.legend()\n",
    "plt.show()"
   ]
  },
  {
   "cell_type": "code",
   "execution_count": 5,
   "id": "494f22c8",
   "metadata": {},
   "outputs": [
    {
     "name": "stdout",
     "output_type": "stream",
     "text": [
      "Pearson r coefficients: (0.9626893939403707, 2.076326993227384e-06)\n",
      "Spearman values: SpearmanrResult(correlation=1.0, pvalue=0.0)\n"
     ]
    }
   ],
   "source": [
    "# calculate Pearson's r correlation coeficient\n",
    "from scipy.stats import spearmanr, pearsonr\n",
    "\n",
    "p1 = pearsonr(time, position)\n",
    "\n",
    "print('Pearson r coefficients:', p1)\n",
    "\n",
    "# calculate Spearman's r correlation coeficient\n",
    "\n",
    "p = spearmanr(time, position)\n",
    "\n",
    "print('Spearman values:', p)"
   ]
  },
  {
   "cell_type": "code",
   "execution_count": 6,
   "id": "593bb8ec",
   "metadata": {},
   "outputs": [
    {
     "name": "stdout",
     "output_type": "stream",
     "text": [
      "factor or y^2 = 4.8969696969697  factor of y= -0.0012121212121286383  constant factor= 0.10000000000000825\n"
     ]
    }
   ],
   "source": [
    "# Get coefficients\n",
    "\n",
    "a, b, c = np.polyfit(time, position, 2)\n",
    "\n",
    "# Print to check\n",
    "print('factor or y^2 =', a, ' factor of y=', b, ' constant factor=', c)\n",
    "\n",
    "# Get fitting function\n",
    "fit_position = a*time**2 + b*time +c"
   ]
  },
  {
   "cell_type": "code",
   "execution_count": 7,
   "id": "61aff411",
   "metadata": {},
   "outputs": [
    {
     "data": {
      "image/png": "[encoded data removed]",
      "text/plain": [
       "<Figure size 432x288 with 1 Axes>"
      ]
     },
     "metadata": {
      "needs_background": "light"
     },
     "output_type": "display_data"
    }
   ],
   "source": [
    "# And now we plot\n",
    "fig, ax = plt.subplots()\n",
    "\n",
    "ax.plot(time, position, marker='d', linestyle=\" \", label=\"Free fall experiment\")\n",
    "ax.plot(time, fit_position, linestyle=\"-.\", label=\"fit\")\n",
    "ax.set_xlabel('time (s)')\n",
    "ax.set_ylabel('position (m)')\n",
    "ax.legend()\n",
    "plt.show()"
   ]
  },
  {
   "cell_type": "markdown",
   "id": "deb0b6da",
   "metadata": {},
   "source": [
    "### Calculate the acceleration of gravity"
   ]
  },
  {
   "cell_type": "code",
   "execution_count": 8,
   "id": "0f5fe0b3",
   "metadata": {},
   "outputs": [
    {
     "name": "stdout",
     "output_type": "stream",
     "text": [
      "g =  9.7939393939394 m/s\n"
     ]
    }
   ],
   "source": [
    "grav = 2*a\n",
    "\n",
    "print(\"g = \", grav, \"m/s\")"
   ]
  },
  {
   "cell_type": "code",
   "execution_count": 9,
   "id": "ce258715",
   "metadata": {},
   "outputs": [
    {
     "name": "stdout",
     "output_type": "stream",
     "text": [
      "[4.90275925] [[0.00105229]]\n",
      "y = 4.90276 * t^2\n"
     ]
    }
   ],
   "source": [
    "from scipy.optimize import curve_fit\n",
    "\n",
    "#define a function to fit to the data\n",
    "def func(x, a):\n",
    "    return a * x**2 \n",
    "\n",
    "coef, cova = curve_fit(func, time, position)\n",
    "\n",
    "print(coef, cova)\n",
    "\n",
    "print('y = %.5f * t^2' % (coef[0]))"
   ]
  },
  {
   "cell_type": "code",
   "execution_count": 10,
   "id": "02bfa134",
   "metadata": {},
   "outputs": [
    {
     "name": "stdout",
     "output_type": "stream",
     "text": [
      "g =  9.805518493681415 m/s\n"
     ]
    }
   ],
   "source": [
    "grav2 = 2*coef[0]\n",
    "\n",
    "print(\"g = \", grav2, \"m/s\")"
   ]
  },
  {
   "cell_type": "markdown",
   "id": "8b693c64",
   "metadata": {},
   "source": [
    "## Linearisation\n",
    "\n",
    "$y = a\\,t^2$\n",
    "\n",
    "$y = a\\,\\tau$"
   ]
  },
  {
   "cell_type": "code",
   "execution_count": 11,
   "id": "9c2147e7",
   "metadata": {},
   "outputs": [
    {
     "data": {
      "image/png": "[encoded data removed]",
      "text/plain": [
       "<Figure size 432x288 with 1 Axes>"
      ]
     },
     "metadata": {
      "needs_background": "light"
     },
     "output_type": "display_data"
    }
   ],
   "source": [
    "# And now we plot\n",
    "fig, ax = plt.subplots()\n",
    "\n",
    "ax.plot(time*time, position, marker='d', linestyle=\" \", label=\"Free fall experiment\")\n",
    "ax.set_xlabel('time*time (s^2)')\n",
    "ax.set_ylabel('position (m)')\n",
    "ax.legend()\n",
    "plt.show()"
   ]
  },
  {
   "cell_type": "code",
   "execution_count": 12,
   "id": "dc611f21",
   "metadata": {},
   "outputs": [
    {
     "name": "stdout",
     "output_type": "stream",
     "text": [
      "slope = 4.896744813627932  intercept= 0.09893742621015894\n"
     ]
    }
   ],
   "source": [
    "# Get coefficients\n",
    "\n",
    "time_sqr = time*time\n",
    "\n",
    "a, b = np.polyfit(time_sqr, position, 1)\n",
    "\n",
    "# Print to check\n",
    "print('slope =', a, ' intercept=', b)\n",
    "\n",
    "# Get fitting function\n",
    "fit_position = a*time_sqr + b"
   ]
  },
  {
   "cell_type": "code",
   "execution_count": 13,
   "id": "0eaa822c",
   "metadata": {},
   "outputs": [
    {
     "name": "stdout",
     "output_type": "stream",
     "text": [
      "g =  9.793489627255864 m/s\n"
     ]
    }
   ],
   "source": [
    "grav3 = 2*a\n",
    "\n",
    "print(\"g = \", grav3, \"m/s\")"
   ]
  },
  {
   "cell_type": "code",
   "execution_count": 14,
   "id": "3cc820a0",
   "metadata": {},
   "outputs": [
    {
     "name": "stdout",
     "output_type": "stream",
     "text": [
      "[4.90275925] [[0.00105229]]\n",
      "y = 4.90276 * t^2\n"
     ]
    }
   ],
   "source": [
    "#define a function to fit to the data\n",
    "def func2(x, a):\n",
    "    return a * x \n",
    "\n",
    "coef2, cova2 = curve_fit(func2, time_sqr, position)\n",
    "\n",
    "print(coef2, cova2)\n",
    "\n",
    "print('y = %.5f * t^2' % (coef2[0]))"
   ]
  },
  {
   "cell_type": "code",
   "execution_count": 15,
   "id": "558a9942",
   "metadata": {},
   "outputs": [
    {
     "name": "stdout",
     "output_type": "stream",
     "text": [
      "g =  9.805518493681415 m/s\n"
     ]
    }
   ],
   "source": [
    "grav4 = 2*(coef2[0])\n",
    "\n",
    "print(\"g = \", grav4, \"m/s\")"
   ]
  },
  {
   "cell_type": "markdown",
   "id": "7c3004ca",
   "metadata": {},
   "source": [
    "# 2. Pendulum experiment"
   ]
  },
  {
   "cell_type": "markdown",
   "id": "79fae315",
   "metadata": {},
   "source": [
    "See a interesting applet here:\n",
    "\n",
    "https://phet.colorado.edu/sims/html/pendulum-lab/latest/pendulum-lab_en.html"
   ]
  },
  {
   "cell_type": "code",
   "execution_count": 16,
   "id": "51937dcc",
   "metadata": {},
   "outputs": [
    {
     "name": "stdout",
     "output_type": "stream",
     "text": [
      "   Length(m)  Period1(s)  Period2(s)  Period3(s)  Period4(s)  Period5(s)\n",
      "0        0.1        0.53        0.52        0.60        0.65        0.59\n",
      "1        0.2        0.92        0.91        0.93        0.92        0.89\n",
      "2        0.3        1.17        1.14        1.15        1.16        1.18\n",
      "3        0.4        1.27        1.30        1.31        1.27        1.29\n",
      "4        0.5        1.37        1.36        1.40        1.41        1.42\n",
      "5        0.6        1.52        1.55        1.56        1.54        1.53\n",
      "6        0.7        1.66        1.61        1.69        1.67        1.65\n",
      "7        0.8        1.81        1.79        1.82        1.83        1.83\n",
      "8        0.9        1.94        1.90        1.92        1.92        1.93\n",
      "9        1.0        1.99        1.98        2.04        1.95        1.96\n"
     ]
    },
    {
     "data": {
      "text/plain": [
       "pandas.core.series.Series"
      ]
     },
     "execution_count": 16,
     "metadata": {},
     "output_type": "execute_result"
    }
   ],
   "source": [
    "data_2 = pd.read_csv('data_pendulum.csv')\n",
    "\n",
    "print(data_2)\n",
    "length = data_2['Length(m)']\n",
    "period1 = data_2[\"Period1(s)\"]\n",
    "\n",
    "type(data_2['Length(m)'])"
   ]
  },
  {
   "cell_type": "code",
   "execution_count": 17,
   "id": "5fb26847",
   "metadata": {},
   "outputs": [
    {
     "data": {
      "image/png": "[encoded data removed]",
      "text/plain": [
       "<Figure size 432x288 with 1 Axes>"
      ]
     },
     "metadata": {
      "needs_background": "light"
     },
     "output_type": "display_data"
    }
   ],
   "source": [
    "# And now we plot\n",
    "fig, ax = plt.subplots()\n",
    "\n",
    "ax.plot(length, period1, marker='d', linestyle=\" \", label=\"Free fall experiment\")\n",
    "ax.set_xlabel('length (m)')\n",
    "ax.set_ylabel('period (s)')\n",
    "ax.legend()\n",
    "plt.show()"
   ]
  },
  {
   "cell_type": "code",
   "execution_count": 18,
   "id": "d9772b75",
   "metadata": {},
   "outputs": [
    {
     "name": "stdout",
     "output_type": "stream",
     "text": [
      "Pearson r coefficients: (0.9790030321565106, 8.291239008601242e-07)\n",
      "Spearman values: SpearmanrResult(correlation=0.9999999999999999, pvalue=6.646897422032013e-64)\n"
     ]
    }
   ],
   "source": [
    "# calculate Pearson's r correlation coeficient\n",
    "from scipy.stats import spearmanr, pearsonr\n",
    "\n",
    "p1 = pearsonr(length, period1)\n",
    "\n",
    "print('Pearson r coefficients:', p1)\n",
    "\n",
    "# calculate Spearman's r correlation coeficient\n",
    "\n",
    "p = spearmanr(length, period1)\n",
    "\n",
    "print('Spearman values:', p)"
   ]
  },
  {
   "cell_type": "code",
   "execution_count": 19,
   "id": "143a35c6",
   "metadata": {},
   "outputs": [
    {
     "name": "stdout",
     "output_type": "stream",
     "text": [
      "[2.0013507] [[0.00044595]]\n",
      "T = 2.00135 * (l)^0.5\n"
     ]
    }
   ],
   "source": [
    "#define a function to fit to the data\n",
    "def func3(x, a):\n",
    "    return a * np.sqrt(x)\n",
    "\n",
    "coef3, cova3 = curve_fit(func3, length, period1)\n",
    "\n",
    "print(coef3, cova3)\n",
    "\n",
    "print('T = %.5f * (l)^0.5' % (coef3[0]))"
   ]
  },
  {
   "cell_type": "code",
   "execution_count": 20,
   "id": "1946d6d9",
   "metadata": {},
   "outputs": [
    {
     "name": "stdout",
     "output_type": "stream",
     "text": [
      "g =  9.856287062748404 m/s\n"
     ]
    }
   ],
   "source": [
    "grav5 = 4*(np.pi**2)/(coef3[0]**2)\n",
    "\n",
    "print(\"g = \", grav5, \"m/s\")"
   ]
  },
  {
   "cell_type": "markdown",
   "id": "db3772ab",
   "metadata": {},
   "source": [
    "### Linearising"
   ]
  },
  {
   "cell_type": "markdown",
   "id": "5a724a34",
   "metadata": {},
   "source": [
    "$T = 2\\,\\pi\\,\\sqrt{\\frac{l}{g}}$\n",
    "\n",
    "$\\Rightarrow T^2 = \\frac{4\\,\\pi^2}{g}\\,l$"
   ]
  },
  {
   "cell_type": "code",
   "execution_count": 21,
   "id": "3ecc6a4c",
   "metadata": {},
   "outputs": [
    {
     "data": {
      "image/png": "[encoded data removed]",
      "text/plain": [
       "<Figure size 432x288 with 1 Axes>"
      ]
     },
     "metadata": {
      "needs_background": "light"
     },
     "output_type": "display_data"
    }
   ],
   "source": [
    "# And now we plot\n",
    "fig, ax = plt.subplots()\n",
    "\n",
    "ax.plot(length, period1*period1, marker='d', linestyle=\" \", label=\"Free fall experiment\")\n",
    "ax.set_xlabel('length (m)')\n",
    "ax.set_ylabel('period (s)')\n",
    "ax.legend()\n",
    "plt.show()"
   ]
  },
  {
   "cell_type": "code",
   "execution_count": 22,
   "id": "7154966d",
   "metadata": {},
   "outputs": [
    {
     "name": "stdout",
     "output_type": "stream",
     "text": [
      "[4.01948831] [[0.00044595]]\n",
      "T^2 = 4.01949 * l\n"
     ]
    }
   ],
   "source": [
    "#define a function to fit to the data\n",
    "def func4(x, a):\n",
    "    return a * x \n",
    "\n",
    "coef4, cova4 = curve_fit(func4, length, period1*period1)\n",
    "\n",
    "print(coef4, cova3)\n",
    "\n",
    "print('T^2 = %.5f * l' % (coef4[0]))"
   ]
  },
  {
   "cell_type": "code",
   "execution_count": 23,
   "id": "dd4bfc44",
   "metadata": {},
   "outputs": [
    {
     "name": "stdout",
     "output_type": "stream",
     "text": [
      "g =  9.821752059549915 m/s\n"
     ]
    }
   ],
   "source": [
    "grav6 = 4*(np.pi**2)/(coef4[0])\n",
    "\n",
    "print(\"g = \", grav6, \"m/s\")"
   ]
  },
  {
   "cell_type": "markdown",
   "id": "db2db252",
   "metadata": {},
   "source": [
    "## Regression using the averages:"
   ]
  },
  {
   "cell_type": "code",
   "execution_count": 24,
   "id": "9fcc00d9",
   "metadata": {},
   "outputs": [],
   "source": [
    "period2 = data_2[\"Period2(s)\"]\n",
    "period3 = data_2[\"Period3(s)\"]\n",
    "period4 = data_2[\"Period4(s)\"]\n",
    "period5 = data_2[\"Period5(s)\"]"
   ]
  },
  {
   "cell_type": "code",
   "execution_count": 25,
   "id": "5ea92d38",
   "metadata": {},
   "outputs": [
    {
     "data": {
      "text/plain": [
       "Period1(s)    0.53\n",
       "Period2(s)    0.52\n",
       "Period3(s)    0.60\n",
       "Period4(s)    0.65\n",
       "Period5(s)    0.59\n",
       "Name: 0, dtype: float64"
      ]
     },
     "execution_count": 25,
     "metadata": {},
     "output_type": "execute_result"
    }
   ],
   "source": [
    "data_2.iloc[0][1:]"
   ]
  },
  {
   "cell_type": "code",
   "execution_count": 26,
   "id": "e12ed300",
   "metadata": {},
   "outputs": [
    {
     "name": "stdout",
     "output_type": "stream",
     "text": [
      "[0.578, 0.914, 1.1599999999999997, 1.288, 1.3920000000000001, 1.5400000000000003, 1.656, 1.816, 1.922, 1.984]\n",
      "   Length(m)  Period1(s)  Period2(s)  Period3(s)  Period4(s)  Period5(s)  \\\n",
      "0        0.1        0.53        0.52        0.60        0.65        0.59   \n",
      "1        0.2        0.92        0.91        0.93        0.92        0.89   \n",
      "2        0.3        1.17        1.14        1.15        1.16        1.18   \n",
      "3        0.4        1.27        1.30        1.31        1.27        1.29   \n",
      "4        0.5        1.37        1.36        1.40        1.41        1.42   \n",
      "5        0.6        1.52        1.55        1.56        1.54        1.53   \n",
      "6        0.7        1.66        1.61        1.69        1.67        1.65   \n",
      "7        0.8        1.81        1.79        1.82        1.83        1.83   \n",
      "8        0.9        1.94        1.90        1.92        1.92        1.93   \n",
      "9        1.0        1.99        1.98        2.04        1.95        1.96   \n",
      "\n",
      "   PeriodMean(s)  PeriodStd(s)  \n",
      "0          0.578      0.047917  \n",
      "1          0.914      0.013565  \n",
      "2          1.160      0.014142  \n",
      "3          1.288      0.016000  \n",
      "4          1.392      0.023152  \n",
      "5          1.540      0.014142  \n",
      "6          1.656      0.026533  \n",
      "7          1.816      0.014967  \n",
      "8          1.922      0.013266  \n",
      "9          1.984      0.031369  \n"
     ]
    }
   ],
   "source": [
    "mean_period = []\n",
    "std_period = []\n",
    "\n",
    "for i in range(len(data_2[\"Period2(s)\"])):\n",
    "    mean_period.append(np.mean(data_2.iloc[i][1:]))\n",
    "    std_period.append(np.std(data_2.iloc[i][1:]))\n",
    "    \n",
    "print(mean_period)\n",
    "    \n",
    "data_2[\"PeriodMean(s)\"] = mean_period\n",
    "data_2[\"PeriodStd(s)\"] = std_period\n",
    "\n",
    "print(data_2)"
   ]
  },
  {
   "cell_type": "code",
   "execution_count": 27,
   "id": "11a7f35d",
   "metadata": {},
   "outputs": [],
   "source": [
    "data_2.to_csv(\"data_pendulum_new.csv\", sep=',', float_format='{:.2e}'.format)"
   ]
  },
  {
   "cell_type": "code",
   "execution_count": 28,
   "id": "3c2da0d1",
   "metadata": {},
   "outputs": [
    {
     "name": "stdout",
     "output_type": "stream",
     "text": [
      "   Unnamed: 0  Length(m)  Period1(s)  Period2(s)  Period3(s)  Period4(s)  \\\n",
      "0           0        0.1        0.53        0.52        0.60        0.65   \n",
      "1           1        0.2        0.92        0.91        0.93        0.92   \n",
      "2           2        0.3        1.17        1.14        1.15        1.16   \n",
      "3           3        0.4        1.27        1.30        1.31        1.27   \n",
      "4           4        0.5        1.37        1.36        1.40        1.41   \n",
      "5           5        0.6        1.52        1.55        1.56        1.54   \n",
      "6           6        0.7        1.66        1.61        1.69        1.67   \n",
      "7           7        0.8        1.81        1.79        1.82        1.83   \n",
      "8           8        0.9        1.94        1.90        1.92        1.92   \n",
      "9           9        1.0        1.99        1.98        2.04        1.95   \n",
      "\n",
      "   Period5(s)  PeriodMean(s)  PeriodStd(s)  \n",
      "0        0.59          0.578        0.0479  \n",
      "1        0.89          0.914        0.0136  \n",
      "2        1.18          1.160        0.0141  \n",
      "3        1.29          1.290        0.0160  \n",
      "4        1.42          1.390        0.0232  \n",
      "5        1.53          1.540        0.0141  \n",
      "6        1.65          1.660        0.0265  \n",
      "7        1.83          1.820        0.0150  \n",
      "8        1.93          1.920        0.0133  \n",
      "9        1.96          1.980        0.0314  \n"
     ]
    }
   ],
   "source": [
    "data_3 = pd.read_csv('data_pendulum_new.csv')\n",
    "\n",
    "print(data_3)\n",
    "length = data_3['Length(m)']\n",
    "p_mean = data_3[\"PeriodMean(s)\"]\n",
    "p_stde = data_3[\"PeriodStd(s)\"]"
   ]
  },
  {
   "cell_type": "code",
   "execution_count": 29,
   "id": "01e70c45",
   "metadata": {},
   "outputs": [
    {
     "data": {
      "image/png": "[encoded data removed]",
      "text/plain": [
       "<Figure size 432x288 with 1 Axes>"
      ]
     },
     "metadata": {
      "needs_background": "light"
     },
     "output_type": "display_data"
    }
   ],
   "source": [
    "# And now we plot\n",
    "fig, ax = plt.subplots()\n",
    "\n",
    "ax.plot(length, p_mean, linestyle=\"-.\", label=\"Free fall experiment\")\n",
    "ax.errorbar(length, p_mean, yerr = 3*p_stde, linestyle='')\n",
    "ax.set_xlabel('length (m)')\n",
    "ax.set_ylabel('period (s)')\n",
    "#ax.legend()\n",
    "plt.show()"
   ]
  },
  {
   "cell_type": "code",
   "execution_count": 30,
   "id": "00add9bd",
   "metadata": {},
   "outputs": [
    {
     "name": "stdout",
     "output_type": "stream",
     "text": [
      "[2.00667292] [[0.00021477]]\n",
      "T = 2.00667 * (l)^0.5\n"
     ]
    }
   ],
   "source": [
    "coef5, cova5 = curve_fit(func3, length, p_mean)\n",
    "\n",
    "print(coef5, cova5)\n",
    "\n",
    "print('T = %.5f * (l)^0.5' % (coef5[0]))"
   ]
  },
  {
   "cell_type": "code",
   "execution_count": 31,
   "id": "26692cd3",
   "metadata": {},
   "outputs": [
    {
     "name": "stdout",
     "output_type": "stream",
     "text": [
      "g =  9.80407350237291 m/s\n"
     ]
    }
   ],
   "source": [
    "grav7 = 4*(np.pi**2)/(coef5[0]**2)\n",
    "\n",
    "print(\"g = \", grav7, \"m/s\")"
   ]
  }
 ],
 "metadata": {
  "kernelspec": {
   "display_name": "Python 3",
   "language": "python",
   "name": "python3"
  },
  "language_info": {
   "codemirror_mode": {
    "name": "ipython",
    "version": 3
   },
   "file_extension": ".py",
   "mimetype": "text/x-python",
   "name": "python",
   "nbconvert_exporter": "python",
   "pygments_lexer": "ipython3",
   "version": "3.7.10"
  }
 },
 "nbformat": 4,
 "nbformat_minor": 5
}
