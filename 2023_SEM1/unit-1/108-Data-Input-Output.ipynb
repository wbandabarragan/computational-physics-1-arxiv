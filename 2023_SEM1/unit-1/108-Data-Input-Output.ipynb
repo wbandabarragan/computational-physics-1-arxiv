{
 "cells": [
  {
   "cell_type": "markdown",
   "id": "fcc46578",
   "metadata": {},
   "source": [
    "# Data Input/Output:\n",
    "\n",
    "## Number Formatting\n",
    "\n",
    "- This is useful for data output.\n",
    "\n",
    "- It is good to have a standard way of writing data into files, e.g. with scientific notation and/or with a predefined number of significant figures."
   ]
  },
  {
   "cell_type": "code",
   "execution_count": 1,
   "id": "25a2aa70",
   "metadata": {},
   "outputs": [],
   "source": [
    "# Import most-used libraries\n",
    "import numpy as np\n",
    "import matplotlib.pyplot as plt"
   ]
  },
  {
   "cell_type": "markdown",
   "id": "da4fae79",
   "metadata": {},
   "source": [
    "### Standard syntax:\n",
    "\n",
    "\n",
    "print(\"FORMAT\".format(NUMBER))\n",
    "\n",
    "### 1. Format float 2 decimal places"
   ]
  },
  {
   "cell_type": "code",
   "execution_count": 2,
   "id": "77191c13",
   "metadata": {},
   "outputs": [
    {
     "name": "stdout",
     "output_type": "stream",
     "text": [
      "3.14\n"
     ]
    }
   ],
   "source": [
    "print(\"{:.2f}\".format(np.pi))"
   ]
  },
  {
   "cell_type": "markdown",
   "id": "b543a67a",
   "metadata": {},
   "source": [
    "### 2. Format float 3 decimal places with signs"
   ]
  },
  {
   "cell_type": "code",
   "execution_count": 3,
   "id": "58cdced7",
   "metadata": {},
   "outputs": [
    {
     "name": "stdout",
     "output_type": "stream",
     "text": [
      "+3.142\n",
      "-3.142\n"
     ]
    }
   ],
   "source": [
    "print(\"{:+.3f}\".format(np.pi))\n",
    "\n",
    "print(\"{:+.3f}\".format(-np.pi))"
   ]
  },
  {
   "cell_type": "markdown",
   "id": "e8a3b7e5",
   "metadata": {},
   "source": [
    "### 3. Format float with no decimal places"
   ]
  },
  {
   "cell_type": "code",
   "execution_count": 4,
   "id": "591a4c0f",
   "metadata": {},
   "outputs": [
    {
     "name": "stdout",
     "output_type": "stream",
     "text": [
      "3\n"
     ]
    }
   ],
   "source": [
    "print(\"{:.0f}\".format(np.pi))"
   ]
  },
  {
   "cell_type": "markdown",
   "id": "ec5ce2a0",
   "metadata": {},
   "source": [
    "### 4. Exponent notation (scientific notation)\n",
    "\n",
    ".1e = scientific notation with 1 decimal point (standard form)\n",
    "\n",
    ".2f = 2 decimal places"
   ]
  },
  {
   "cell_type": "code",
   "execution_count": 5,
   "id": "257524e0",
   "metadata": {},
   "outputs": [
    {
     "name": "stdout",
     "output_type": "stream",
     "text": [
      "3.1416e+00\n"
     ]
    }
   ],
   "source": [
    "print(\"{:.4e}\".format(np.pi))"
   ]
  },
  {
   "cell_type": "markdown",
   "id": "5e62bcb6",
   "metadata": {},
   "source": [
    "### 5. Specify number of significant figures\n",
    "\n",
    ".3g = 3 significant figures"
   ]
  },
  {
   "cell_type": "code",
   "execution_count": 6,
   "id": "fdfa3788",
   "metadata": {},
   "outputs": [
    {
     "name": "stdout",
     "output_type": "stream",
     "text": [
      "3.14\n"
     ]
    }
   ],
   "source": [
    "print(\"{:.3g}\".format(np.pi))"
   ]
  },
  {
   "cell_type": "markdown",
   "id": "0cc47093",
   "metadata": {},
   "source": [
    "### 6. Write percentages:\n",
    "\n",
    ".4% = percentage with 4 decimal places"
   ]
  },
  {
   "cell_type": "code",
   "execution_count": 7,
   "id": "12bf0b88",
   "metadata": {},
   "outputs": [
    {
     "name": "stdout",
     "output_type": "stream",
     "text": [
      "50.0000%\n"
     ]
    }
   ],
   "source": [
    "# Note that it multiplies numbers by 100\n",
    "\n",
    "print(\"{:.4%}\".format(0.5)) "
   ]
  },
  {
   "cell_type": "markdown",
   "id": "7803a5b6",
   "metadata": {},
   "source": [
    "### 7. Putting zeroes onto the left hand side of an integer"
   ]
  },
  {
   "cell_type": "code",
   "execution_count": 8,
   "id": "f72288ba",
   "metadata": {},
   "outputs": [
    {
     "name": "stdout",
     "output_type": "stream",
     "text": [
      "001\n",
      "010\n",
      "100\n"
     ]
    }
   ],
   "source": [
    "print(\"{:03d}\".format(1)) # Needs to be an integer\n",
    "print(\"{:03d}\".format(10)) # Needs to be an integer\n",
    "print(\"{:03d}\".format(100)) # Needs to be an integer"
   ]
  },
  {
   "cell_type": "markdown",
   "id": "32028fd8",
   "metadata": {},
   "source": [
    "## Data I/O:\n",
    "\n",
    "### Python Native Function (open function)\n",
    "\n",
    "- Reading or writing files is handled natively in python.\n",
    "\n",
    "- You can use the built-in open() function to open a file.\n",
    "\n",
    "- When you use the open function, it returns something called a file object. File objects contain methods and attributes that can be used to collect information about the file you opened. They can also be used to manipulate said file.\n",
    "\n",
    "- For example, the mode attribute of a file object tells you which mode a file was opened in. And the name attribute tells you the name of the file that the file object has opened.\n",
    "\n",
    "### How do we call the open function?\n",
    "\n",
    "The syntax to open a file object in Python is the following:\n",
    "\n",
    "file_object = open(“filename”, “mode”)\n",
    "\n",
    "- file_object is the variable to add the file object.\n",
    "\n",
    "- mode tells the interpreter and developer which way the file will be used.\n",
    "\n",
    "Including a mode argument is optional because a default value of ‘r’ will be assumed if it is omitted. The ‘r’ value stands for read mode, which is just one of many. The modes are:\n",
    "\n",
    "- ‘r’ -> Read mode which is used when the file is only being read\n",
    "- ‘w’ –> Write mode which is used to edit and write new information to the file (any existing files with the same name will be erased when this mode is activated)\n",
    "- ‘a’ –> Appending mode, which is used to add new data to the end of the file; that is new information is automatically amended to the end\n",
    "- ‘r+’ –> Special read and write mode, which is used to handle both actions when working with a file"
   ]
  },
  {
   "cell_type": "code",
   "execution_count": 9,
   "id": "d0e72e3f",
   "metadata": {},
   "outputs": [
    {
     "name": "stdout",
     "output_type": "stream",
     "text": [
      "101-Introduction-GoogleColab.ipynb 108-Data-Input-Output.ipynb\r\n",
      "102-Introduction-Anaconda.md       brachistochrone.jpeg\r\n",
      "103-Computer-Science.pdf           file_1.txt\r\n",
      "104-Python-Basics-Review.ipynb     file_2.txt\r\n",
      "105-Numpy-Arrays.ipynb             file_3.txt\r\n",
      "106-Plotting-in-Python.ipynb       file_4.txt\r\n",
      "107-Python-Functions.ipynb         problem-101.ipynb\r\n"
     ]
    }
   ],
   "source": [
    "!ls"
   ]
  },
  {
   "cell_type": "markdown",
   "id": "01e3f326",
   "metadata": {},
   "source": [
    "## Reading text files:"
   ]
  },
  {
   "cell_type": "code",
   "execution_count": 10,
   "id": "be717c27",
   "metadata": {},
   "outputs": [
    {
     "name": "stdout",
     "output_type": "stream",
     "text": [
      "<_io.TextIOWrapper name='file_1.txt' mode='r' encoding='UTF-8'>\n",
      "Computational Physics 1\n",
      "4 May 2023\n",
      "W.E.B.B.\n",
      "\n"
     ]
    }
   ],
   "source": [
    "# To read text files, we need a file object\n",
    "file_1 = open(\"file_1.txt\", \"r\")\n",
    "\n",
    "print(file_1)\n",
    "\n",
    "# To see the contents\n",
    "print(file_1.read())\n",
    "\n",
    "# Close it\n",
    "file_1.close()"
   ]
  },
  {
   "cell_type": "code",
   "execution_count": 11,
   "id": "02c2cbe0",
   "metadata": {},
   "outputs": [
    {
     "name": "stdout",
     "output_type": "stream",
     "text": [
      "Compu\n"
     ]
    }
   ],
   "source": [
    "# Reading some characters in text files\n",
    "\n",
    "file_1 = open(\"file_1.txt\", \"r\")\n",
    "\n",
    "# To read 5 characters\n",
    "print(file_1.read(5))\n",
    "\n",
    "file_1.close()"
   ]
  },
  {
   "cell_type": "code",
   "execution_count": 12,
   "id": "843970b7",
   "metadata": {},
   "outputs": [
    {
     "name": "stdout",
     "output_type": "stream",
     "text": [
      "['Computational Physics 1\\n', '4 May 2023\\n', 'W.E.B.B.\\n']\n"
     ]
    }
   ],
   "source": [
    "# Reading some characters in text files\n",
    "\n",
    "file_1 = open(\"file_1.txt\", \"r\")\n",
    "\n",
    "# To read line by line\n",
    "print(file_1.readlines())\n",
    "\n",
    "file_1.close()"
   ]
  },
  {
   "cell_type": "code",
   "execution_count": 13,
   "id": "db2a5d1c",
   "metadata": {},
   "outputs": [
    {
     "name": "stdout",
     "output_type": "stream",
     "text": [
      "<class 'list'>\n",
      "3\n",
      "['Computational Physics 1\\n', '4 May 2023\\n', 'W.E.B.B.\\n']\n",
      "Computational Physics 1\n",
      "\n",
      "4 May 2023\n",
      "\n",
      "W.E.B.B.\n",
      "\n"
     ]
    }
   ],
   "source": [
    "# Reading some characters in text files\n",
    "\n",
    "file_1 = open(\"file_1.txt\", \"r\")\n",
    "\n",
    "# To read line by line and we put everything into a line object\n",
    "lines = file_1.readlines()\n",
    "\n",
    "print(type(lines))\n",
    "print(len(lines))\n",
    "print(lines)\n",
    "\n",
    "# Indexing:\n",
    "print(lines[0])\n",
    "print(lines[1])\n",
    "print(lines[2])\n",
    "\n",
    "file_1.close()"
   ]
  },
  {
   "cell_type": "markdown",
   "id": "4306b977",
   "metadata": {},
   "source": [
    "You can do the same in a more memory efficient and fast manner using a **for** loop.\n",
    "\n",
    "The general syntax of a for loop is:\n",
    "\n",
    "**for** index **in** object:</br>\n",
    "(tab/indentation) instructions to be executed within a loop"
   ]
  },
  {
   "cell_type": "code",
   "execution_count": 14,
   "id": "ef9e6c69",
   "metadata": {},
   "outputs": [
    {
     "name": "stdout",
     "output_type": "stream",
     "text": [
      "Computational Physics 1\n",
      "\n",
      "4 May 2023\n",
      "\n",
      "W.E.B.B.\n",
      "\n"
     ]
    }
   ],
   "source": [
    "# Reading some characters in text files\n",
    "\n",
    "file_1 = open(\"file_1.txt\", \"r\")\n",
    "\n",
    "for i in file_1: # i is our index\n",
    "    print(i)\n",
    "\n",
    "file_1.close()"
   ]
  },
  {
   "cell_type": "markdown",
   "id": "dcedb49c",
   "metadata": {},
   "source": [
    "### Writing into files\n",
    "\n",
    "Now that we know how to open text files and read the information, let's see how to write into files.\n",
    "\n",
    "The function .write() can be invoked."
   ]
  },
  {
   "cell_type": "code",
   "execution_count": 15,
   "id": "c95ee107",
   "metadata": {},
   "outputs": [],
   "source": [
    "# Let's open a new file and write into it\n",
    "\n",
    "file_2 = open(\"file_2.txt\", \"w\")\n",
    "\n",
    "file_2.write(\"This is a new text file.\\n\")\n",
    "\n",
    "file_2.close()"
   ]
  },
  {
   "cell_type": "code",
   "execution_count": 16,
   "id": "b05a6395",
   "metadata": {},
   "outputs": [
    {
     "name": "stdout",
     "output_type": "stream",
     "text": [
      "101-Introduction-GoogleColab.ipynb 108-Data-Input-Output.ipynb\r\n",
      "102-Introduction-Anaconda.md       brachistochrone.jpeg\r\n",
      "103-Computer-Science.pdf           file_1.txt\r\n",
      "104-Python-Basics-Review.ipynb     file_2.txt\r\n",
      "105-Numpy-Arrays.ipynb             file_3.txt\r\n",
      "106-Plotting-in-Python.ipynb       file_4.txt\r\n",
      "107-Python-Functions.ipynb         problem-101.ipynb\r\n"
     ]
    }
   ],
   "source": [
    "!ls"
   ]
  },
  {
   "cell_type": "markdown",
   "id": "bb364dc7",
   "metadata": {},
   "source": [
    "We can check this in a Linux shell using the terminal:<br>\n",
    "\n",
    "~~~~html\n",
    "$ cat file_2.txt\n",
    "~~~~"
   ]
  },
  {
   "cell_type": "code",
   "execution_count": 17,
   "id": "4830fd6d",
   "metadata": {},
   "outputs": [
    {
     "name": "stdout",
     "output_type": "stream",
     "text": [
      "This is a new text file.\r\n"
     ]
    }
   ],
   "source": [
    "!cat file_2.txt"
   ]
  },
  {
   "cell_type": "markdown",
   "id": "a8a096b1",
   "metadata": {},
   "source": [
    "And there is a second way to do the same, using **print()**."
   ]
  },
  {
   "cell_type": "code",
   "execution_count": 18,
   "id": "be0f565c",
   "metadata": {},
   "outputs": [],
   "source": [
    "print('This is my new file written with print().\\n', file = open(\"file_3.txt\", \"w\"))"
   ]
  },
  {
   "cell_type": "code",
   "execution_count": 19,
   "id": "48eaaa6e",
   "metadata": {},
   "outputs": [
    {
     "name": "stdout",
     "output_type": "stream",
     "text": [
      "This is my new file written with print().\r\n",
      "\r\n"
     ]
    }
   ],
   "source": [
    "!cat file_3.txt"
   ]
  },
  {
   "cell_type": "markdown",
   "id": "cc2377e4",
   "metadata": {},
   "source": [
    "### Writing some numbers (data) in a table format"
   ]
  },
  {
   "cell_type": "code",
   "execution_count": 20,
   "id": "69b46879",
   "metadata": {},
   "outputs": [
    {
     "name": "stdout",
     "output_type": "stream",
     "text": [
      "(10,) (10,) (10,)\n"
     ]
    }
   ],
   "source": [
    "# Generate some sample data\n",
    "\n",
    "data_1 = np.arange(0., 10., 1.)\n",
    "data_2 = np.arange(10., 20., 1.)\n",
    "data_3 = np.arange(20., 30., 1.)\n",
    "\n",
    "print(data_1.shape, data_2.shape, data_3.shape)\n",
    "\n",
    "# Now let's write these vectors as columns into a data file\n",
    "file = open(\"file_4.txt\", \"w\")\n",
    "\n",
    "# Write vectors as columns\n",
    "for i in range(len(data_1)):\n",
    "    print(data_1[i], data_2[i], data_3[i], file = open(\"file_4.txt\", \"a\"))\n",
    "\n",
    "file.close()"
   ]
  },
  {
   "cell_type": "code",
   "execution_count": 21,
   "id": "878d7a7d",
   "metadata": {},
   "outputs": [
    {
     "name": "stdout",
     "output_type": "stream",
     "text": [
      "0.0 10.0 20.0\r\n",
      "1.0 11.0 21.0\r\n",
      "2.0 12.0 22.0\r\n",
      "3.0 13.0 23.0\r\n",
      "4.0 14.0 24.0\r\n",
      "5.0 15.0 25.0\r\n",
      "6.0 16.0 26.0\r\n",
      "7.0 17.0 27.0\r\n",
      "8.0 18.0 28.0\r\n",
      "9.0 19.0 29.0\r\n"
     ]
    }
   ],
   "source": [
    "!cat file_4.txt"
   ]
  },
  {
   "cell_type": "markdown",
   "id": "88879ef9",
   "metadata": {},
   "source": [
    "### 4. Writing CSV files\n",
    "\n",
    "**CSV** stands for comma-separated values."
   ]
  },
  {
   "cell_type": "code",
   "execution_count": 25,
   "id": "83869ba5",
   "metadata": {},
   "outputs": [],
   "source": [
    "# Open a new file using open()\n",
    "\n",
    "file_5 = open(\"file_5.csv\", \"w\")\n",
    "\n",
    "# Write a header\n",
    "file_5.write(\"vector_ones, vector_tens, vector_twenties\\n\")\n",
    "\n",
    "# Write the data in columns\n",
    "for i in range(len(data_1)):\n",
    "    file_5.write(str(data_1[i]) + \", \" + str(data_2[i]) + \", \" + str(data_3[i]) + \"\\n\")\n",
    "    \n",
    "file_5.close()\n",
    "     "
   ]
  },
  {
   "cell_type": "code",
   "execution_count": 26,
   "id": "2c241019",
   "metadata": {},
   "outputs": [
    {
     "name": "stdout",
     "output_type": "stream",
     "text": [
      "101-Introduction-GoogleColab.ipynb brachistochrone.jpeg\r\n",
      "102-Introduction-Anaconda.md       file_1.txt\r\n",
      "103-Computer-Science.pdf           file_2.txt\r\n",
      "104-Python-Basics-Review.ipynb     file_3.txt\r\n",
      "105-Numpy-Arrays.ipynb             file_4.txt\r\n",
      "106-Plotting-in-Python.ipynb       file_5.csv\r\n",
      "107-Python-Functions.ipynb         problem-101.ipynb\r\n",
      "108-Data-Input-Output.ipynb\r\n"
     ]
    }
   ],
   "source": [
    "#Check using Linux commands\n",
    "!ls"
   ]
  },
  {
   "cell_type": "code",
   "execution_count": 29,
   "id": "17d6b215",
   "metadata": {},
   "outputs": [
    {
     "name": "stdout",
     "output_type": "stream",
     "text": [
      "vector_ones, vector_tens, vector_twenties\n",
      "\n",
      "0.0, 10.0, 20.0\n",
      "\n",
      "1.0, 11.0, 21.0\n",
      "\n",
      "2.0, 12.0, 22.0\n",
      "\n",
      "3.0, 13.0, 23.0\n",
      "\n",
      "4.0, 14.0, 24.0\n",
      "\n",
      "5.0, 15.0, 25.0\n",
      "\n",
      "6.0, 16.0, 26.0\n",
      "\n",
      "7.0, 17.0, 27.0\n",
      "\n",
      "8.0, 18.0, 28.0\n",
      "\n",
      "9.0, 19.0, 29.0\n",
      "\n"
     ]
    }
   ],
   "source": [
    "# Open the file and print the contents\n",
    "\n",
    "file = open(\"file_5.csv\", \"r\")\n",
    "\n",
    "for j in file:\n",
    "    print(j)\n",
    "\n",
    "file.close()"
   ]
  },
  {
   "cell_type": "markdown",
   "id": "710f23ab",
   "metadata": {},
   "source": [
    "Another way to read **CSV** files is:"
   ]
  },
  {
   "cell_type": "code",
   "execution_count": 30,
   "id": "14a36339",
   "metadata": {},
   "outputs": [
    {
     "name": "stdout",
     "output_type": "stream",
     "text": [
      "['vector_ones,', 'vector_tens,', 'vector_twenties']\n",
      "['0.0,', '10.0,', '20.0']\n",
      "['1.0,', '11.0,', '21.0']\n",
      "['2.0,', '12.0,', '22.0']\n",
      "['3.0,', '13.0,', '23.0']\n",
      "['4.0,', '14.0,', '24.0']\n",
      "['5.0,', '15.0,', '25.0']\n",
      "['6.0,', '16.0,', '26.0']\n",
      "['7.0,', '17.0,', '27.0']\n",
      "['8.0,', '18.0,', '28.0']\n",
      "['9.0,', '19.0,', '29.0']\n"
     ]
    }
   ],
   "source": [
    "# 2nd way\n",
    "\n",
    "file = open(\"file_5.csv\", \"r\")\n",
    "\n",
    "data = file.readlines()\n",
    "\n",
    "for j in data:\n",
    "    numbers = j.split()\n",
    "    print(numbers)\n",
    "    \n",
    "file.close()"
   ]
  },
  {
   "cell_type": "code",
   "execution_count": 40,
   "id": "5cee0360",
   "metadata": {},
   "outputs": [
    {
     "name": "stdout",
     "output_type": "stream",
     "text": [
      "['9.0,', '19.0,', '29.0']\n"
     ]
    }
   ],
   "source": [
    "print(numbers)"
   ]
  },
  {
   "cell_type": "markdown",
   "id": "29171639",
   "metadata": {},
   "source": [
    "### Example:"
   ]
  },
  {
   "cell_type": "code",
   "execution_count": 54,
   "id": "3e0509e4",
   "metadata": {},
   "outputs": [
    {
     "name": "stdout",
     "output_type": "stream",
     "text": [
      "['0.0', '10.0', '20.0\\n']\n",
      "['1.0', '11.0', '21.0\\n']\n",
      "['2.0', '12.0', '22.0\\n']\n",
      "['3.0', '13.0', '23.0\\n']\n",
      "['4.0', '14.0', '24.0\\n']\n",
      "['5.0', '15.0', '25.0\\n']\n",
      "['6.0', '16.0', '26.0\\n']\n",
      "['7.0', '17.0', '27.0\\n']\n",
      "['8.0', '18.0', '28.0\\n']\n",
      "['9.0', '19.0', '29.0\\n']\n"
     ]
    }
   ],
   "source": [
    "# Define empty lists\n",
    "ones = []\n",
    "tens = []\n",
    "twenties = []\n",
    "\n",
    "# Open file for reading\n",
    "file = open(\"file_5.csv\", \"r\")\n",
    "data = file.readlines()\n",
    "\n",
    "# Loop to gather the data\n",
    "\n",
    "for j in data[1:]: # this avoids the header\n",
    "    numbers = j.split(\", \") # reads the \",\" as a string\n",
    "    print(numbers)\n",
    "    # Strings to Floats\n",
    "    ones.append(float(numbers[0]))\n",
    "    tens.append(float(numbers[1]))\n",
    "    twenties.append(float(numbers[2]))\n",
    "\n",
    "file.close()\n"
   ]
  },
  {
   "cell_type": "code",
   "execution_count": 45,
   "id": "59cb58c3",
   "metadata": {},
   "outputs": [
    {
     "name": "stdout",
     "output_type": "stream",
     "text": [
      "['0', '10', '20']\n",
      "['1', '11', '21']\n",
      "['2', '12', '22']\n",
      "['3', '13', '23']\n",
      "['4', '14', '24']\n",
      "['5', '15', '25']\n",
      "['6', '16', '26']\n",
      "['7', '17', '27']\n",
      "['8', '18', '28']\n",
      "['9', '19', '29']\n"
     ]
    }
   ],
   "source": [
    "# Define empty lists\n",
    "ones = []\n",
    "tens = []\n",
    "twenties = []\n",
    "\n",
    "# Open file for reading\n",
    "file = open(\"textfile4.txt\", \"r\")\n",
    "data = file.readlines()\n",
    "\n",
    "# Loop to gather the data\n",
    "\n",
    "for j in data:\n",
    "    numbers = j.split()\n",
    "    print(numbers)\n",
    "    # Strings to Floats\n",
    "    ones.append(float(numbers[0]))\n",
    "    tens.append(float(numbers[1]))\n",
    "    twenties.append(float(numbers[2]))\n",
    "\n",
    "file.close()\n",
    "\n"
   ]
  },
  {
   "cell_type": "code",
   "execution_count": 52,
   "id": "5bbdc139",
   "metadata": {},
   "outputs": [
    {
     "name": "stdout",
     "output_type": "stream",
     "text": [
      "[0. 1. 2. 3. 4. 5. 6. 7. 8. 9.]\n",
      "[10. 11. 12. 13. 14. 15. 16. 17. 18. 19.]\n",
      "[20. 21. 22. 23. 24. 25. 26. 27. 28. 29.]\n"
     ]
    }
   ],
   "source": [
    "# Convert lists to arrays\n",
    "\n",
    "ones_arr = np.array(ones)\n",
    "tens_arr = np.array(tens)\n",
    "twenties_arr = np.array(twenties)\n",
    "\n",
    "# Check the properies of the arrays\n",
    "print(ones_arr)\n",
    "print(tens_arr)\n",
    "print(twenties_arr)"
   ]
  },
  {
   "cell_type": "code",
   "execution_count": 53,
   "id": "5d47dd95",
   "metadata": {},
   "outputs": [
    {
     "data": {
      "image/png": "[encoded data removed]",
      "text/plain": [
       "<Figure size 640x480 with 1 Axes>"
      ]
     },
     "metadata": {},
     "output_type": "display_data"
    }
   ],
   "source": [
    "# Plotting\n",
    "\n",
    "plt.figure()\n",
    "\n",
    "plt.plot(ones_arr, twenties_arr)\n",
    "\n",
    "plt.show()"
   ]
  },
  {
   "cell_type": "markdown",
   "id": "1d047493",
   "metadata": {},
   "source": [
    "### Using pandas to open, read, and write files\n",
    "\n",
    "- Pandas is a library that provides some functions to open data files and read the data they contain into structures called \"data frames\" (sometimes called simply df).\n",
    "\n",
    "\n",
    "- This library facilitates opening/reading files and provides an alternative to the more manual method we saw earlier.\n",
    "\n",
    "\n",
    "- It also provides functions to create your own data frames.\n",
    "\n",
    "\n",
    "- Data frames are structures that look like tables in a spreadsheet. They contain 'keys', which can be called in case you want to access, e.g. a specific column of the table.\n",
    "\n",
    "\n",
    "- Since pandas is not a native library of Python, we first need to import it if we want to use it."
   ]
  },
  {
   "cell_type": "code",
   "execution_count": 55,
   "id": "f62b6fd7",
   "metadata": {},
   "outputs": [],
   "source": [
    "# Importing pandas\n",
    "\n",
    "import pandas as pd"
   ]
  }
 ],
 "metadata": {
  "kernelspec": {
   "display_name": "Python 3 (ipykernel)",
   "language": "python",
   "name": "python3"
  },
  "language_info": {
   "codemirror_mode": {
    "name": "ipython",
    "version": 3
   },
   "file_extension": ".py",
   "mimetype": "text/x-python",
   "name": "python",
   "nbconvert_exporter": "python",
   "pygments_lexer": "ipython3",
   "version": "3.7.16"
  }
 },
 "nbformat": 4,
 "nbformat_minor": 5
}
