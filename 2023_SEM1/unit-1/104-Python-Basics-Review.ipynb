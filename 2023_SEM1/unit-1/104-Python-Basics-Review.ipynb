{
  "nbformat": 4,
  "nbformat_minor": 0,
  "metadata": {
    "colab": {
      "provenance": [],
      "authorship_tag": "ABX9TyO0T/Smo0bc2s2Wr/TXEDCN",
      "include_colab_link": true
    },
    "kernelspec": {
      "name": "python3",
      "display_name": "Python 3"
    },
    "language_info": {
      "name": "python"
    }
  },
  "cells": [
    {
      "cell_type": "markdown",
      "metadata": {
        "id": "view-in-github",
        "colab_type": "text"
      },
      "source": [
        "<a href=\"https://colab.research.google.com/github/wbandabarragan/computational-physics-1/blob/main/unit-1/104-python-basics-review.ipynb\" target=\"_parent\"><img src=\"https://colab.research.google.com/assets/colab-badge.svg\" alt=\"Open In Colab\"/></a>"
      ]
    },
    {
      "cell_type": "markdown",
      "source": [
        "# Basic Operations with Python\n",
        "\n",
        "Python can be used as a scientific calculator.\n",
        "\n",
        "This only requires lauching an interpreter and using the correct syntax to carry out mathematical operations.\n",
        "\n",
        "## 1. Math operations:"
      ],
      "metadata": {
        "id": "-ikQUYqdrCKY"
      }
    },
    {
      "cell_type": "code",
      "execution_count": 1,
      "metadata": {
        "colab": {
          "base_uri": "https://localhost:8080/"
        },
        "id": "hWEfDJGXq81n",
        "outputId": "32abdbee-664e-42a9-bd24-8a7061a52391"
      },
      "outputs": [
        {
          "output_type": "execute_result",
          "data": {
            "text/plain": [
              "4"
            ]
          },
          "metadata": {},
          "execution_count": 1
        }
      ],
      "source": [
        "# Addition\n",
        "\n",
        "1 + 3 "
      ]
    },
    {
      "cell_type": "code",
      "source": [
        "# Multiplication/Division\n",
        "\n",
        "(2 * 10)/(5)"
      ],
      "metadata": {
        "colab": {
          "base_uri": "https://localhost:8080/"
        },
        "id": "CpGYG6P7rGFM",
        "outputId": "ab930de2-7c05-4db3-8852-c3363233ecd3"
      },
      "execution_count": 2,
      "outputs": [
        {
          "output_type": "execute_result",
          "data": {
            "text/plain": [
              "4.0"
            ]
          },
          "metadata": {},
          "execution_count": 2
        }
      ]
    },
    {
      "cell_type": "code",
      "source": [
        "_*7"
      ],
      "metadata": {
        "colab": {
          "base_uri": "https://localhost:8080/"
        },
        "id": "1_n2x8FKrUyf",
        "outputId": "1f61b2a9-3f54-4267-a49f-3f24e348bb29"
      },
      "execution_count": 3,
      "outputs": [
        {
          "output_type": "execute_result",
          "data": {
            "text/plain": [
              "28.0"
            ]
          },
          "metadata": {},
          "execution_count": 3
        }
      ]
    },
    {
      "cell_type": "markdown",
      "source": [
        "# 2. The math library:"
      ],
      "metadata": {
        "id": "IUKzAM_XrkGL"
      }
    },
    {
      "cell_type": "code",
      "source": [
        "import math"
      ],
      "metadata": {
        "id": "CwkZrpucrgRF"
      },
      "execution_count": 4,
      "outputs": []
    },
    {
      "cell_type": "code",
      "source": [
        "math.cos(0)"
      ],
      "metadata": {
        "colab": {
          "base_uri": "https://localhost:8080/"
        },
        "id": "flEvprGUrxQd",
        "outputId": "e7d4b0b5-7278-40b7-8b63-614b37afc6ba"
      },
      "execution_count": 5,
      "outputs": [
        {
          "output_type": "execute_result",
          "data": {
            "text/plain": [
              "1.0"
            ]
          },
          "metadata": {},
          "execution_count": 5
        }
      ]
    },
    {
      "cell_type": "code",
      "source": [
        "math.sqrt(4)"
      ],
      "metadata": {
        "colab": {
          "base_uri": "https://localhost:8080/"
        },
        "id": "0pk3dgLosWie",
        "outputId": "bb2a87c0-4db9-41f5-cd51-e397bd9fc256"
      },
      "execution_count": 6,
      "outputs": [
        {
          "output_type": "execute_result",
          "data": {
            "text/plain": [
              "2.0"
            ]
          },
          "metadata": {},
          "execution_count": 6
        }
      ]
    },
    {
      "cell_type": "code",
      "source": [
        "math.exp(2)"
      ],
      "metadata": {
        "colab": {
          "base_uri": "https://localhost:8080/"
        },
        "id": "hCQyYEnTsaY0",
        "outputId": "08a665d8-212f-42f3-d607-6909f5e17fbe"
      },
      "execution_count": 7,
      "outputs": [
        {
          "output_type": "execute_result",
          "data": {
            "text/plain": [
              "7.38905609893065"
            ]
          },
          "metadata": {},
          "execution_count": 7
        }
      ]
    },
    {
      "cell_type": "code",
      "source": [
        "math.exp(math.log(10))"
      ],
      "metadata": {
        "colab": {
          "base_uri": "https://localhost:8080/"
        },
        "id": "rHyHMGWPsdmV",
        "outputId": "c9407f46-6855-4044-b54b-f1006891bebe"
      },
      "execution_count": 8,
      "outputs": [
        {
          "output_type": "execute_result",
          "data": {
            "text/plain": [
              "10.000000000000002"
            ]
          },
          "metadata": {},
          "execution_count": 8
        }
      ]
    },
    {
      "cell_type": "code",
      "source": [
        "math.factorial(3)"
      ],
      "metadata": {
        "colab": {
          "base_uri": "https://localhost:8080/"
        },
        "id": "DI2HAIykskJ8",
        "outputId": "d69590a4-dd28-46c7-c6b5-21a5608d5c8b"
      },
      "execution_count": 9,
      "outputs": [
        {
          "output_type": "execute_result",
          "data": {
            "text/plain": [
              "6"
            ]
          },
          "metadata": {},
          "execution_count": 9
        }
      ]
    },
    {
      "cell_type": "code",
      "source": [
        "math.comb?"
      ],
      "metadata": {
        "id": "hSRcAA3Gtm5M"
      },
      "execution_count": 10,
      "outputs": []
    },
    {
      "cell_type": "code",
      "source": [
        "1/0"
      ],
      "metadata": {
        "colab": {
          "base_uri": "https://localhost:8080/",
          "height": 166
        },
        "id": "myDkCxq-tsuo",
        "outputId": "a351e5e0-03e4-41b6-be55-1e5b0a30463e"
      },
      "execution_count": 11,
      "outputs": [
        {
          "output_type": "error",
          "ename": "ZeroDivisionError",
          "evalue": "ignored",
          "traceback": [
            "\u001b[0;31m---------------------------------------------------------------------------\u001b[0m",
            "\u001b[0;31mZeroDivisionError\u001b[0m                         Traceback (most recent call last)",
            "\u001b[0;32m<ipython-input-11-9e1622b385b6>\u001b[0m in \u001b[0;36m<cell line: 1>\u001b[0;34m()\u001b[0m\n\u001b[0;32m----> 1\u001b[0;31m \u001b[0;36m1\u001b[0m\u001b[0;34m/\u001b[0m\u001b[0;36m0\u001b[0m\u001b[0;34m\u001b[0m\u001b[0;34m\u001b[0m\u001b[0m\n\u001b[0m",
            "\u001b[0;31mZeroDivisionError\u001b[0m: division by zero"
          ]
        }
      ]
    },
    {
      "cell_type": "code",
      "source": [
        "1/math.inf"
      ],
      "metadata": {
        "colab": {
          "base_uri": "https://localhost:8080/"
        },
        "id": "QrrAzwCLu045",
        "outputId": "541d95a5-87ee-4e35-c2be-2d60c95a2445"
      },
      "execution_count": 12,
      "outputs": [
        {
          "output_type": "execute_result",
          "data": {
            "text/plain": [
              "0.0"
            ]
          },
          "metadata": {},
          "execution_count": 12
        }
      ]
    },
    {
      "cell_type": "code",
      "source": [
        "math.inf * 3"
      ],
      "metadata": {
        "colab": {
          "base_uri": "https://localhost:8080/"
        },
        "id": "CDzlAqfyvStL",
        "outputId": "7000a622-079c-4c5e-d3db-4f7eebe4d747"
      },
      "execution_count": 13,
      "outputs": [
        {
          "output_type": "execute_result",
          "data": {
            "text/plain": [
              "inf"
            ]
          },
          "metadata": {},
          "execution_count": 13
        }
      ]
    },
    {
      "cell_type": "code",
      "source": [
        "math.inf/math.inf"
      ],
      "metadata": {
        "colab": {
          "base_uri": "https://localhost:8080/"
        },
        "id": "YUvt44D9vXbn",
        "outputId": "c1f969e0-aa52-4abe-f181-54474109e7ee"
      },
      "execution_count": 14,
      "outputs": [
        {
          "output_type": "execute_result",
          "data": {
            "text/plain": [
              "nan"
            ]
          },
          "metadata": {},
          "execution_count": 14
        }
      ]
    },
    {
      "cell_type": "markdown",
      "source": [
        "## 3. Complex numbers"
      ],
      "metadata": {
        "id": "oOSExEi8v2yg"
      }
    },
    {
      "cell_type": "code",
      "source": [
        "complex(3,4)"
      ],
      "metadata": {
        "colab": {
          "base_uri": "https://localhost:8080/"
        },
        "id": "qph4Ji4Pvd9H",
        "outputId": "43a9a54c-8390-4dfc-9da3-d90efa1a49fc"
      },
      "execution_count": 15,
      "outputs": [
        {
          "output_type": "execute_result",
          "data": {
            "text/plain": [
              "(3+4j)"
            ]
          },
          "metadata": {},
          "execution_count": 15
        }
      ]
    },
    {
      "cell_type": "code",
      "source": [
        "-1 + 2j"
      ],
      "metadata": {
        "colab": {
          "base_uri": "https://localhost:8080/"
        },
        "id": "DZkFo3xvv6zD",
        "outputId": "db548719-96cb-43c8-8fba-265194890d4c"
      },
      "execution_count": 16,
      "outputs": [
        {
          "output_type": "execute_result",
          "data": {
            "text/plain": [
              "(-1+2j)"
            ]
          },
          "metadata": {},
          "execution_count": 16
        }
      ]
    },
    {
      "cell_type": "markdown",
      "source": [
        "## 4. Data types:\n",
        "\n",
        "int: integers\n",
        "\n",
        "float: floating point numbers\n",
        "\n",
        "complex: complex numbers\n",
        "\n",
        "\n",
        "The command type() allows to check which type you are dealing with."
      ],
      "metadata": {
        "id": "2JjdWGaSykzU"
      }
    },
    {
      "cell_type": "code",
      "source": [
        "type(12)"
      ],
      "metadata": {
        "colab": {
          "base_uri": "https://localhost:8080/"
        },
        "id": "kC59CFzbwtoH",
        "outputId": "6e457b97-89de-44c1-d580-0ce12d725954"
      },
      "execution_count": 17,
      "outputs": [
        {
          "output_type": "execute_result",
          "data": {
            "text/plain": [
              "int"
            ]
          },
          "metadata": {},
          "execution_count": 17
        }
      ]
    },
    {
      "cell_type": "code",
      "source": [
        "type(12.)"
      ],
      "metadata": {
        "colab": {
          "base_uri": "https://localhost:8080/"
        },
        "id": "W5ojmo9bzVuE",
        "outputId": "61f9cf77-1a94-442f-c5ec-2aaf9a21a306"
      },
      "execution_count": 18,
      "outputs": [
        {
          "output_type": "execute_result",
          "data": {
            "text/plain": [
              "float"
            ]
          },
          "metadata": {},
          "execution_count": 18
        }
      ]
    },
    {
      "cell_type": "code",
      "source": [
        "type(3+4j)"
      ],
      "metadata": {
        "colab": {
          "base_uri": "https://localhost:8080/"
        },
        "id": "lywa_NTCzZXd",
        "outputId": "38e69dee-5f63-430e-df53-20af8ab7494e"
      },
      "execution_count": 19,
      "outputs": [
        {
          "output_type": "execute_result",
          "data": {
            "text/plain": [
              "complex"
            ]
          },
          "metadata": {},
          "execution_count": 19
        }
      ]
    },
    {
      "cell_type": "code",
      "source": [],
      "metadata": {
        "id": "3a_QQqPszjsz"
      },
      "execution_count": 19,
      "outputs": []
    },
    {
      "cell_type": "markdown",
      "source": [
        "## 5. Logical operators:\n",
        "\n",
        "They are very helpful when dealing with conditionals:"
      ],
      "metadata": {
        "id": "5Wy1N0Bwzrif"
      }
    },
    {
      "cell_type": "code",
      "source": [
        "# Compare two numbers\n",
        "\n",
        "2 == 3"
      ],
      "metadata": {
        "colab": {
          "base_uri": "https://localhost:8080/"
        },
        "id": "ShMhsQuQzuW7",
        "outputId": "3f1b581d-6037-4129-fc36-5716034cbfb9"
      },
      "execution_count": 20,
      "outputs": [
        {
          "output_type": "execute_result",
          "data": {
            "text/plain": [
              "False"
            ]
          },
          "metadata": {},
          "execution_count": 20
        }
      ]
    },
    {
      "cell_type": "code",
      "source": [
        "2 < 3"
      ],
      "metadata": {
        "colab": {
          "base_uri": "https://localhost:8080/"
        },
        "id": "BPjs-NLq0Pck",
        "outputId": "d59e979e-e1ce-42fd-b6e0-9bb22e38ea52"
      },
      "execution_count": 21,
      "outputs": [
        {
          "output_type": "execute_result",
          "data": {
            "text/plain": [
              "True"
            ]
          },
          "metadata": {},
          "execution_count": 21
        }
      ]
    },
    {
      "cell_type": "code",
      "source": [
        "# And, Not, Or\n",
        "\n",
        "(2 and not 2) and (2 and 2)"
      ],
      "metadata": {
        "colab": {
          "base_uri": "https://localhost:8080/"
        },
        "id": "_jlnwAGW0Vka",
        "outputId": "74146c2c-33b9-4ab9-9bd5-48b642c051bd"
      },
      "execution_count": 22,
      "outputs": [
        {
          "output_type": "execute_result",
          "data": {
            "text/plain": [
              "False"
            ]
          },
          "metadata": {},
          "execution_count": 22
        }
      ]
    },
    {
      "cell_type": "code",
      "source": [
        "(4 > 3) + (2 > 1)"
      ],
      "metadata": {
        "colab": {
          "base_uri": "https://localhost:8080/"
        },
        "id": "bPazq1-L0tJG",
        "outputId": "b18bdcc3-6669-4ec4-b360-db4008b1c3a2"
      },
      "execution_count": 23,
      "outputs": [
        {
          "output_type": "execute_result",
          "data": {
            "text/plain": [
              "2"
            ]
          },
          "metadata": {},
          "execution_count": 23
        }
      ]
    },
    {
      "cell_type": "markdown",
      "source": [
        "## 6. Variables:\n",
        "\n",
        "= This is called assignment operator!"
      ],
      "metadata": {
        "id": "V89EIaRw1O2D"
      }
    },
    {
      "cell_type": "code",
      "source": [
        "# Define variables\n",
        "\n",
        "a = 3\n",
        "b = 3."
      ],
      "metadata": {
        "id": "KCIYqy8u1D_5"
      },
      "execution_count": 24,
      "outputs": []
    },
    {
      "cell_type": "code",
      "source": [
        "print(type(a))\n",
        "print(type(b))"
      ],
      "metadata": {
        "colab": {
          "base_uri": "https://localhost:8080/"
        },
        "id": "n15jtHF-2LGp",
        "outputId": "901bdde3-0376-4414-f947-26ca460024f2"
      },
      "execution_count": 25,
      "outputs": [
        {
          "output_type": "stream",
          "name": "stdout",
          "text": [
            "<class 'int'>\n",
            "<class 'float'>\n"
          ]
        }
      ]
    },
    {
      "cell_type": "code",
      "source": [
        "# Operations with variables\n",
        "\n",
        "c = b*2.\n",
        "\n",
        "print(c)"
      ],
      "metadata": {
        "colab": {
          "base_uri": "https://localhost:8080/"
        },
        "id": "f8Rh-nsw2Mjp",
        "outputId": "8769d5e2-90c7-4435-9f44-94625a12be82"
      },
      "execution_count": 26,
      "outputs": [
        {
          "output_type": "stream",
          "name": "stdout",
          "text": [
            "6.0\n"
          ]
        }
      ]
    },
    {
      "cell_type": "code",
      "source": [
        "%whos"
      ],
      "metadata": {
        "colab": {
          "base_uri": "https://localhost:8080/"
        },
        "id": "isaVa5Lr2pFo",
        "outputId": "cfbbea78-08ea-4da4-fa81-cc4df9f55cab"
      },
      "execution_count": 27,
      "outputs": [
        {
          "output_type": "stream",
          "name": "stdout",
          "text": [
            "Variable   Type      Data/Info\n",
            "------------------------------\n",
            "a          int       3\n",
            "b          float     3.0\n",
            "c          float     6.0\n",
            "math       module    <module 'math' (built-in)>\n"
          ]
        }
      ]
    },
    {
      "cell_type": "code",
      "source": [
        "# Another operation for a\n",
        "\n",
        "a = b+1."
      ],
      "metadata": {
        "id": "rFSz4dEo24ZS"
      },
      "execution_count": 28,
      "outputs": []
    },
    {
      "cell_type": "code",
      "source": [
        "%whos"
      ],
      "metadata": {
        "colab": {
          "base_uri": "https://localhost:8080/"
        },
        "id": "gDPdVJ323Ss3",
        "outputId": "6a1d9902-c9a1-4db6-c374-7b2c73f73796"
      },
      "execution_count": 29,
      "outputs": [
        {
          "output_type": "stream",
          "name": "stdout",
          "text": [
            "Variable   Type      Data/Info\n",
            "------------------------------\n",
            "a          float     4.0\n",
            "b          float     3.0\n",
            "c          float     6.0\n",
            "math       module    <module 'math' (built-in)>\n"
          ]
        }
      ]
    },
    {
      "cell_type": "code",
      "source": [
        "t = 0.\n",
        "\n",
        "print(t)"
      ],
      "metadata": {
        "colab": {
          "base_uri": "https://localhost:8080/"
        },
        "id": "jTxznvyu3TxL",
        "outputId": "b38f4465-7016-4da4-a507-566ec7227f1e"
      },
      "execution_count": 30,
      "outputs": [
        {
          "output_type": "stream",
          "name": "stdout",
          "text": [
            "0.0\n"
          ]
        }
      ]
    },
    {
      "cell_type": "code",
      "source": [
        "t = t + 1.\n",
        "\n",
        "print(t)"
      ],
      "metadata": {
        "colab": {
          "base_uri": "https://localhost:8080/"
        },
        "id": "EYDfREuh3v92",
        "outputId": "47259cb3-cf08-48fc-b8e7-2461cc434b68"
      },
      "execution_count": 31,
      "outputs": [
        {
          "output_type": "stream",
          "name": "stdout",
          "text": [
            "1.0\n"
          ]
        }
      ]
    },
    {
      "cell_type": "markdown",
      "source": [
        "## 7. Data structures:\n",
        "\n",
        "- Strings: characters -> text\n",
        "\n",
        "- Lists: native to python\n",
        "\n",
        "- Tuples: Sets of data\n",
        "\n",
        "- Sets, Dictionaries.\n",
        "\n",
        "- Arrays (Numpy)"
      ],
      "metadata": {
        "id": "3vHbXEro4URY"
      }
    },
    {
      "cell_type": "markdown",
      "source": [
        "7.1 Strings:"
      ],
      "metadata": {
        "id": "rIo6Hrgr5IYL"
      }
    },
    {
      "cell_type": "code",
      "source": [
        "# Examples \n",
        "\n",
        "d = \"file\"\n",
        "\n",
        "print(type(d))\n",
        "\n",
        "print(len(d))"
      ],
      "metadata": {
        "colab": {
          "base_uri": "https://localhost:8080/"
        },
        "id": "Gj4UWgaU3yRs",
        "outputId": "93519b7e-28f0-4958-d51a-2329d27f9776"
      },
      "execution_count": 32,
      "outputs": [
        {
          "output_type": "stream",
          "name": "stdout",
          "text": [
            "<class 'str'>\n",
            "4\n"
          ]
        }
      ]
    },
    {
      "cell_type": "code",
      "source": [
        "# Empty string\n",
        "\n",
        "e = \" \"\n",
        "\n",
        "print(type(e), len(e))"
      ],
      "metadata": {
        "colab": {
          "base_uri": "https://localhost:8080/"
        },
        "id": "ywivlErX5VHY",
        "outputId": "45f83192-3827-4f86-8995-57ccaad4c987"
      },
      "execution_count": 33,
      "outputs": [
        {
          "output_type": "stream",
          "name": "stdout",
          "text": [
            "<class 'str'> 1\n"
          ]
        }
      ]
    },
    {
      "cell_type": "code",
      "source": [
        "# Access specific character\n",
        "\n",
        "f = \"file001\""
      ],
      "metadata": {
        "id": "RRtG216l5wCx"
      },
      "execution_count": 34,
      "outputs": []
    },
    {
      "cell_type": "code",
      "source": [
        "# Python indexes from 0, and the [] are used for indexing.\n",
        "print(f[6])\n",
        "print(f[4:7])"
      ],
      "metadata": {
        "colab": {
          "base_uri": "https://localhost:8080/"
        },
        "id": "NFJsAnYz59yj",
        "outputId": "d1cffb98-a829-43ba-e9fd-5f6091ad027b"
      },
      "execution_count": 35,
      "outputs": [
        {
          "output_type": "stream",
          "name": "stdout",
          "text": [
            "1\n",
            "001\n"
          ]
        }
      ]
    },
    {
      "cell_type": "code",
      "source": [
        "print(f.count(\"0\"))\n",
        "print(f.replace(\"00\", \"01\"))"
      ],
      "metadata": {
        "colab": {
          "base_uri": "https://localhost:8080/"
        },
        "id": "dLhreapv6BcL",
        "outputId": "93bcced4-99b0-4175-c83b-efb56cef5df6"
      },
      "execution_count": 36,
      "outputs": [
        {
          "output_type": "stream",
          "name": "stdout",
          "text": [
            "2\n",
            "file011\n"
          ]
        }
      ]
    },
    {
      "cell_type": "markdown",
      "source": [
        "## 7.2 Lists:\n",
        "\n",
        "To define lists we use []."
      ],
      "metadata": {
        "id": "z939pa9e6zXA"
      }
    },
    {
      "cell_type": "code",
      "source": [
        "list_1 = [4,7,9]\n",
        "\n",
        "print(type(list_1))"
      ],
      "metadata": {
        "colab": {
          "base_uri": "https://localhost:8080/"
        },
        "id": "2pjMPhoE6jIV",
        "outputId": "0d699d12-ae8a-4afa-aa71-c0cb7f34df70"
      },
      "execution_count": 37,
      "outputs": [
        {
          "output_type": "stream",
          "name": "stdout",
          "text": [
            "<class 'list'>\n"
          ]
        }
      ]
    },
    {
      "cell_type": "code",
      "source": [
        "list_2 = [\"Hola\",7,9]\n",
        "\n",
        "print(list_2)\n",
        "print(type(list_2))"
      ],
      "metadata": {
        "colab": {
          "base_uri": "https://localhost:8080/"
        },
        "id": "xKy1uBwX7C2r",
        "outputId": "8ee8932b-76ff-4c10-c894-9227cabd9dbf"
      },
      "execution_count": 38,
      "outputs": [
        {
          "output_type": "stream",
          "name": "stdout",
          "text": [
            "['Hola', 7, 9]\n",
            "<class 'list'>\n"
          ]
        }
      ]
    },
    {
      "cell_type": "code",
      "source": [
        "# Indexing\n",
        "\n",
        "print(list_2[0])\n",
        "print(list_2[2])\n",
        "print(list_2[-2])"
      ],
      "metadata": {
        "colab": {
          "base_uri": "https://localhost:8080/"
        },
        "id": "EPgm1eFl7HdG",
        "outputId": "3d803d11-0734-4df3-f150-a3b1e69092ba"
      },
      "execution_count": 39,
      "outputs": [
        {
          "output_type": "stream",
          "name": "stdout",
          "text": [
            "Hola\n",
            "9\n",
            "7\n"
          ]
        }
      ]
    },
    {
      "cell_type": "code",
      "source": [
        "# length of the list\n",
        "\n",
        "len(list_2)\n",
        "\n"
      ],
      "metadata": {
        "colab": {
          "base_uri": "https://localhost:8080/"
        },
        "id": "wWQzohqS7atG",
        "outputId": "82508b8b-ff1e-47f8-a973-526326515554"
      },
      "execution_count": 40,
      "outputs": [
        {
          "output_type": "execute_result",
          "data": {
            "text/plain": [
              "3"
            ]
          },
          "metadata": {},
          "execution_count": 40
        }
      ]
    },
    {
      "cell_type": "code",
      "source": [
        "# Concatenate lists\n",
        "\n",
        "list_3 = list_1 + list_2\n",
        "\n",
        "print(list_3)"
      ],
      "metadata": {
        "colab": {
          "base_uri": "https://localhost:8080/"
        },
        "id": "nxMpgerS79MR",
        "outputId": "0604593a-1cd4-42df-f62c-06b79da02bbf"
      },
      "execution_count": 41,
      "outputs": [
        {
          "output_type": "stream",
          "name": "stdout",
          "text": [
            "[4, 7, 9, 'Hola', 7, 9]\n"
          ]
        }
      ]
    },
    {
      "cell_type": "code",
      "source": [
        "# Empty list\n",
        "\n",
        "m = []\n",
        "\n",
        "print(m)\n",
        "\n",
        "m.append(1)\n",
        "\n",
        "print(m)"
      ],
      "metadata": {
        "colab": {
          "base_uri": "https://localhost:8080/"
        },
        "id": "y3yz_nw_8Hgr",
        "outputId": "0014d812-048a-4521-ff72-07403070974e"
      },
      "execution_count": 42,
      "outputs": [
        {
          "output_type": "stream",
          "name": "stdout",
          "text": [
            "[]\n",
            "[1]\n"
          ]
        }
      ]
    },
    {
      "cell_type": "code",
      "source": [
        "m.append(2)\n",
        "\n",
        "print(m)"
      ],
      "metadata": {
        "colab": {
          "base_uri": "https://localhost:8080/"
        },
        "id": "HKXoS2Eg8hm_",
        "outputId": "88ada5b8-4f01-41ab-a40a-3671ae5c0ef7"
      },
      "execution_count": 43,
      "outputs": [
        {
          "output_type": "stream",
          "name": "stdout",
          "text": [
            "[1, 2]\n"
          ]
        }
      ]
    },
    {
      "cell_type": "code",
      "source": [
        "# String to list\n",
        "\n",
        "d_list = list(d)\n",
        "\n",
        "print(d_list)"
      ],
      "metadata": {
        "colab": {
          "base_uri": "https://localhost:8080/"
        },
        "id": "BValGRq08n1e",
        "outputId": "82f67a5d-64b4-4e77-d0f1-ec7c7a927aea"
      },
      "execution_count": 44,
      "outputs": [
        {
          "output_type": "stream",
          "name": "stdout",
          "text": [
            "['f', 'i', 'l', 'e']\n"
          ]
        }
      ]
    },
    {
      "cell_type": "markdown",
      "source": [
        "## 7.3 Tuples:\n",
        "\n",
        "To define lists we use ()."
      ],
      "metadata": {
        "id": "OUqQZQnna1SP"
      }
    },
    {
      "cell_type": "code",
      "source": [
        "# Define a tuple\n",
        "\n",
        "tuple_1 = (100, 200, 300)\n",
        "\n",
        "print(type(tuple_1))"
      ],
      "metadata": {
        "id": "dMYSaKSK8zab",
        "colab": {
          "base_uri": "https://localhost:8080/"
        },
        "outputId": "8595b3a8-9c11-41bd-a286-3782d4c0b500"
      },
      "execution_count": 45,
      "outputs": [
        {
          "output_type": "stream",
          "name": "stdout",
          "text": [
            "<class 'tuple'>\n"
          ]
        }
      ]
    },
    {
      "cell_type": "code",
      "source": [
        "# Use indexing\n",
        "\n",
        "print(tuple_1[0:2])"
      ],
      "metadata": {
        "colab": {
          "base_uri": "https://localhost:8080/"
        },
        "id": "AuGSmeJebYbt",
        "outputId": "41471729-26a2-4653-929e-c0e8ed45e803"
      },
      "execution_count": 47,
      "outputs": [
        {
          "output_type": "stream",
          "name": "stdout",
          "text": [
            "(100, 200)\n"
          ]
        }
      ]
    },
    {
      "cell_type": "code",
      "source": [
        "print(len(tuple_1))"
      ],
      "metadata": {
        "colab": {
          "base_uri": "https://localhost:8080/"
        },
        "id": "QPWbuDYBblZH",
        "outputId": "6d7a8921-e0b3-4f2e-b8f1-a81b4b3b38ff"
      },
      "execution_count": 48,
      "outputs": [
        {
          "output_type": "stream",
          "name": "stdout",
          "text": [
            "3\n"
          ]
        }
      ]
    },
    {
      "cell_type": "code",
      "source": [
        "print(tuple_1.count(100))"
      ],
      "metadata": {
        "colab": {
          "base_uri": "https://localhost:8080/"
        },
        "id": "e_tS7JUKb2xV",
        "outputId": "72658870-de28-4ec9-f933-bda9609a6cad"
      },
      "execution_count": 49,
      "outputs": [
        {
          "output_type": "stream",
          "name": "stdout",
          "text": [
            "1\n"
          ]
        }
      ]
    },
    {
      "cell_type": "code",
      "source": [
        "# Differences between tuples and lists\n",
        "\n",
        "list_1 = [100, 200, 300]\n",
        "\n",
        "# Change an element within the list\n",
        "\n",
        "list_1[2] = 500\n",
        "\n",
        "print(list_1)\n",
        "\n",
        "# Can we do the same with tuples? NO.\n",
        "\n",
        "#tuple_1[2] = 500 # This gives us an error\n",
        "# TypeError: 'tuple' object does not support item assignment\n"
      ],
      "metadata": {
        "colab": {
          "base_uri": "https://localhost:8080/"
        },
        "id": "CeIPW-4JdPuL",
        "outputId": "e39b555e-0a6a-499a-b3f7-97b11d95f274"
      },
      "execution_count": 53,
      "outputs": [
        {
          "output_type": "stream",
          "name": "stdout",
          "text": [
            "[100, 200, 500]\n"
          ]
        }
      ]
    },
    {
      "cell_type": "code",
      "source": [
        "# Tuples can receive objects via unpacking\n",
        "# Let's get the elements from list_1\n",
        "\n",
        "print(list_1)\n",
        "\n",
        "x, y, z = list_1\n",
        "\n",
        "print(x, y, z)"
      ],
      "metadata": {
        "colab": {
          "base_uri": "https://localhost:8080/"
        },
        "id": "3jrhu1TmdeZt",
        "outputId": "d580de66-e628-44ad-b8ed-8731b68f9773"
      },
      "execution_count": 55,
      "outputs": [
        {
          "output_type": "stream",
          "name": "stdout",
          "text": [
            "[100, 200, 500]\n",
            "100 200 500\n"
          ]
        }
      ]
    },
    {
      "cell_type": "code",
      "source": [
        "# Parethesis are not strictly needed to generate tuples\n",
        "# But they are desired highly\n",
        "\n",
        "tuple_2 = 7,8,9\n",
        "\n",
        "print(type(tuple_2))"
      ],
      "metadata": {
        "colab": {
          "base_uri": "https://localhost:8080/"
        },
        "id": "TGkJzzhZeL20",
        "outputId": "eefbcd1f-fe19-4f99-a7a8-38156a0aca04"
      },
      "execution_count": 57,
      "outputs": [
        {
          "output_type": "stream",
          "name": "stdout",
          "text": [
            "<class 'tuple'>\n"
          ]
        }
      ]
    },
    {
      "cell_type": "markdown",
      "source": [
        "7.4 Sets:\n",
        "To define lists we use {} (curly brackets). Allow for some basic operations:\n",
        "\n",
        "- Unions\n",
        "- Intersections\n",
        "- Differences"
      ],
      "metadata": {
        "id": "6PZYN1-oe8dX"
      }
    },
    {
      "cell_type": "code",
      "source": [
        "{1, 1, 2, 3, 4, 4, 5, 6, 6, 7, 7, 7}"
      ],
      "metadata": {
        "colab": {
          "base_uri": "https://localhost:8080/"
        },
        "id": "H35LACozes_Y",
        "outputId": "f05ff380-28f8-4c1b-c3d3-56bc2fa9ae33"
      },
      "execution_count": 58,
      "outputs": [
        {
          "output_type": "execute_result",
          "data": {
            "text/plain": [
              "{1, 2, 3, 4, 5, 6, 7}"
            ]
          },
          "metadata": {},
          "execution_count": 58
        }
      ]
    },
    {
      "cell_type": "code",
      "source": [
        "print(type({1, 1, 2, 3, 4, 4, 5, 6, 6, 7, 7, 7}))"
      ],
      "metadata": {
        "colab": {
          "base_uri": "https://localhost:8080/"
        },
        "id": "ABOVkbYEfYI0",
        "outputId": "ea6141c1-8933-4861-b55a-e6ffdd70e57f"
      },
      "execution_count": 59,
      "outputs": [
        {
          "output_type": "stream",
          "name": "stdout",
          "text": [
            "<class 'set'>\n"
          ]
        }
      ]
    },
    {
      "cell_type": "code",
      "source": [
        "# Operations via set():\n",
        "\n",
        "# The unique elements can be found like this:\n",
        "\n",
        "set_1 = set([1, 1, 2, 3, 4, 4, 5, 6, 6, 7, 7, 7])\n",
        "\n",
        "print(set_1)\n"
      ],
      "metadata": {
        "colab": {
          "base_uri": "https://localhost:8080/"
        },
        "id": "lyUOhd3dfd8o",
        "outputId": "c37ae3aa-3abf-4fa3-9a9b-dfec493185c0"
      },
      "execution_count": 63,
      "outputs": [
        {
          "output_type": "stream",
          "name": "stdout",
          "text": [
            "{1, 2, 3, 4, 5, 6, 7}\n"
          ]
        }
      ]
    },
    {
      "cell_type": "code",
      "source": [
        "# This is for tuples\n",
        "\n",
        "set_2 = set((1, 1, 2, 3, 4, 4, 5, 6, 6, 7, 7, 7))\n",
        "\n",
        "print(set_2)"
      ],
      "metadata": {
        "colab": {
          "base_uri": "https://localhost:8080/"
        },
        "id": "PhKGYd8SfpcQ",
        "outputId": "cd959ba0-f455-4ee9-a090-ba4a5e62c372"
      },
      "execution_count": 65,
      "outputs": [
        {
          "output_type": "stream",
          "name": "stdout",
          "text": [
            "{1, 2, 3, 4, 5, 6, 7}\n"
          ]
        }
      ]
    },
    {
      "cell_type": "code",
      "source": [
        "# For strings:\n",
        "\n",
        "set_3 = set(\"Yachay\")\n",
        "\n",
        "print(set_3)"
      ],
      "metadata": {
        "colab": {
          "base_uri": "https://localhost:8080/"
        },
        "id": "mpNl1ZZuf-Yy",
        "outputId": "71b57ed5-b635-4250-de8d-162d54c340f8"
      },
      "execution_count": 66,
      "outputs": [
        {
          "output_type": "stream",
          "name": "stdout",
          "text": [
            "{'a', 'c', 'Y', 'y', 'h'}\n"
          ]
        }
      ]
    },
    {
      "cell_type": "code",
      "source": [
        "# Define a new set\n",
        "set_4 = set((5,6,7, 8, 9, 10))\n",
        "\n",
        "print(set_4)"
      ],
      "metadata": {
        "colab": {
          "base_uri": "https://localhost:8080/"
        },
        "id": "fyCB8zSdgOYO",
        "outputId": "00969987-8c33-4ba7-bcdc-de578d0622e3"
      },
      "execution_count": 69,
      "outputs": [
        {
          "output_type": "stream",
          "name": "stdout",
          "text": [
            "{5, 6, 7, 8, 9, 10}\n"
          ]
        }
      ]
    },
    {
      "cell_type": "code",
      "source": [
        "# Union operation\n",
        "\n",
        "set_2.union(set_4)\n"
      ],
      "metadata": {
        "colab": {
          "base_uri": "https://localhost:8080/"
        },
        "id": "jI5vSJPOghfO",
        "outputId": "66e4d643-7483-4be2-8de1-eb00a6beb4bb"
      },
      "execution_count": 70,
      "outputs": [
        {
          "output_type": "execute_result",
          "data": {
            "text/plain": [
              "{1, 2, 3, 4, 5, 6, 7, 8, 9, 10}"
            ]
          },
          "metadata": {},
          "execution_count": 70
        }
      ]
    },
    {
      "cell_type": "code",
      "source": [
        "# Intersection;\n",
        "\n",
        "set_2.intersection(set_4)"
      ],
      "metadata": {
        "colab": {
          "base_uri": "https://localhost:8080/"
        },
        "id": "l8rj77MygxT_",
        "outputId": "3493d73e-e3c6-4748-a197-85c4452cc87b"
      },
      "execution_count": 71,
      "outputs": [
        {
          "output_type": "execute_result",
          "data": {
            "text/plain": [
              "{5, 6, 7}"
            ]
          },
          "metadata": {},
          "execution_count": 71
        }
      ]
    },
    {
      "cell_type": "markdown",
      "source": [
        "7.5 Dictionaries: To define dictionaries we also use {} (curly brackets), but need to define \"keys\" to individual elements. Allow for some basic operations:"
      ],
      "metadata": {
        "id": "WQtGjBXChIOs"
      }
    },
    {
      "cell_type": "code",
      "source": [
        "# Define a dictionary:\n",
        "\n",
        "dict_1 = {\"CP1\": 7 , \"QM1\": 6 , \"ED1\": 6, \"GR\": 9}\n",
        "\n",
        "print(type(dict_1))"
      ],
      "metadata": {
        "colab": {
          "base_uri": "https://localhost:8080/"
        },
        "id": "Pd-vEs_Qg7tI",
        "outputId": "8c719d41-ae41-475e-c91c-f09beccd7e19"
      },
      "execution_count": 72,
      "outputs": [
        {
          "output_type": "stream",
          "name": "stdout",
          "text": [
            "<class 'dict'>\n"
          ]
        }
      ]
    },
    {
      "cell_type": "code",
      "source": [
        "# Indexing works with the keys:\n",
        "\n",
        "print(dict_1[\"QM1\"])"
      ],
      "metadata": {
        "colab": {
          "base_uri": "https://localhost:8080/"
        },
        "id": "wPH-grysiBi5",
        "outputId": "be058597-5421-48e5-ae49-0a9b6047c2e4"
      },
      "execution_count": 73,
      "outputs": [
        {
          "output_type": "stream",
          "name": "stdout",
          "text": [
            "6\n"
          ]
        }
      ]
    },
    {
      "cell_type": "code",
      "source": [
        "# Print out the keys available\n",
        "\n",
        "dict_1.keys()"
      ],
      "metadata": {
        "colab": {
          "base_uri": "https://localhost:8080/"
        },
        "id": "Ahb3c_qGiZFX",
        "outputId": "fe89e6ab-84a2-4ffc-982e-1d492f71b966"
      },
      "execution_count": 75,
      "outputs": [
        {
          "output_type": "execute_result",
          "data": {
            "text/plain": [
              "dict_keys(['CP1', 'QM1', 'ED1', 'GR'])"
            ]
          },
          "metadata": {},
          "execution_count": 75
        }
      ]
    },
    {
      "cell_type": "code",
      "source": [
        "# Print the length of the dictionary\n",
        "\n",
        "print(len(dict_1))"
      ],
      "metadata": {
        "colab": {
          "base_uri": "https://localhost:8080/"
        },
        "id": "kUo6u6bPi6Oo",
        "outputId": "32446f5a-edb1-4dd2-f29c-fa48c7f90e7d"
      },
      "execution_count": 76,
      "outputs": [
        {
          "output_type": "stream",
          "name": "stdout",
          "text": [
            "4\n"
          ]
        }
      ]
    },
    {
      "cell_type": "code",
      "source": [
        "# Empty dictionaries:\n",
        "\n",
        "universities_dict = {}"
      ],
      "metadata": {
        "id": "mfv4cf-bjB35"
      },
      "execution_count": 77,
      "outputs": []
    },
    {
      "cell_type": "code",
      "source": [
        "# Fill up the dictionary:\n",
        "\n",
        "universities_dict[\"Yachay\"] = \"Imbabura\"\n",
        "\n",
        "print(universities_dict)"
      ],
      "metadata": {
        "colab": {
          "base_uri": "https://localhost:8080/"
        },
        "id": "BQUSnonOjXDL",
        "outputId": "bf245b42-e913-4423-9b35-8281ba87a5b8"
      },
      "execution_count": 79,
      "outputs": [
        {
          "output_type": "stream",
          "name": "stdout",
          "text": [
            "{'Yachay': 'Imbabura'}\n"
          ]
        }
      ]
    },
    {
      "cell_type": "code",
      "source": [
        "universities_dict[\"EPN\"] = \"Pichincha\"\n",
        "\n",
        "print(universities_dict)"
      ],
      "metadata": {
        "colab": {
          "base_uri": "https://localhost:8080/"
        },
        "id": "hH_neuemji8t",
        "outputId": "3ea97fab-4b49-424c-aa09-bd7a9afc3c2e"
      },
      "execution_count": 81,
      "outputs": [
        {
          "output_type": "stream",
          "name": "stdout",
          "text": [
            "{'Yachay': 'Imbabura', 'EPN': 'Pichincha'}\n"
          ]
        }
      ]
    },
    {
      "cell_type": "code",
      "source": [
        "universities_dict[\"Espol\"] = \"Guayas\"\n",
        "\n",
        "print(universities_dict)"
      ],
      "metadata": {
        "colab": {
          "base_uri": "https://localhost:8080/"
        },
        "id": "RoprmhQYjqLQ",
        "outputId": "ca40afed-809c-447c-9abc-1639f2b69d86"
      },
      "execution_count": 82,
      "outputs": [
        {
          "output_type": "stream",
          "name": "stdout",
          "text": [
            "{'Yachay': 'Imbabura', 'EPN': 'Pichincha', 'Espol': 'Guayas'}\n"
          ]
        }
      ]
    },
    {
      "cell_type": "code",
      "source": [
        "universities_dict[\"Ecuador code\"] = 593\n",
        "\n",
        "print(universities_dict)"
      ],
      "metadata": {
        "colab": {
          "base_uri": "https://localhost:8080/"
        },
        "id": "PfdzhiuujuFC",
        "outputId": "9d9d696c-bb42-445d-b1db-16797fc95ed8"
      },
      "execution_count": 83,
      "outputs": [
        {
          "output_type": "stream",
          "name": "stdout",
          "text": [
            "{'Yachay': 'Imbabura', 'EPN': 'Pichincha', 'Espol': 'Guayas', 'Ecuador code': 593}\n"
          ]
        }
      ]
    },
    {
      "cell_type": "code",
      "source": [
        "# Adding multiple elements in one go:\n",
        "# https://www.programiz.com/python-programming/methods/dictionary/update\n",
        "universities_dict.update({\"UTA\": \"Tungurahua\", \"ESPOCH\": \"Chimborazo\"})"
      ],
      "metadata": {
        "id": "xE0tgqwyj4Nh"
      },
      "execution_count": 87,
      "outputs": []
    },
    {
      "cell_type": "code",
      "source": [
        "print(universities_dict)"
      ],
      "metadata": {
        "colab": {
          "base_uri": "https://localhost:8080/"
        },
        "id": "fk9Xi5hqk7Za",
        "outputId": "1568f208-a0c1-49cc-d703-e62212ea29c4"
      },
      "execution_count": 86,
      "outputs": [
        {
          "output_type": "stream",
          "name": "stdout",
          "text": [
            "{'Yachay': 'Imbabura', 'EPN': 'Pichincha', 'Espol': 'Guayas', 'Ecuador code': 593, 'UTA': 'Tungurahua', 'ESPOCH': 'Chimborazo'}\n"
          ]
        }
      ]
    },
    {
      "cell_type": "code",
      "source": [
        "# Remove elements from dictionary via del()\n",
        "\n",
        "del universities_dict[\"Ecuador code\"]"
      ],
      "metadata": {
        "id": "HBqtDXgAlBE7"
      },
      "execution_count": 88,
      "outputs": []
    },
    {
      "cell_type": "code",
      "source": [
        "print(universities_dict)"
      ],
      "metadata": {
        "colab": {
          "base_uri": "https://localhost:8080/"
        },
        "id": "5ppLZXNll0t8",
        "outputId": "23524515-0d11-4479-c33b-f82a42acad26"
      },
      "execution_count": 89,
      "outputs": [
        {
          "output_type": "stream",
          "name": "stdout",
          "text": [
            "{'Yachay': 'Imbabura', 'EPN': 'Pichincha', 'Espol': 'Guayas', 'UTA': 'Tungurahua', 'ESPOCH': 'Chimborazo'}\n"
          ]
        }
      ]
    },
    {
      "cell_type": "code",
      "source": [
        "%whos"
      ],
      "metadata": {
        "colab": {
          "base_uri": "https://localhost:8080/"
        },
        "id": "Pq8Gupbzl2sI",
        "outputId": "cf7d70d6-260e-4263-8d3e-020a4a687816"
      },
      "execution_count": 90,
      "outputs": [
        {
          "output_type": "stream",
          "name": "stdout",
          "text": [
            "Variable            Type      Data/Info\n",
            "---------------------------------------\n",
            "a                   float     4.0\n",
            "b                   float     3.0\n",
            "c                   float     6.0\n",
            "d                   str       file\n",
            "d_list              list      n=4\n",
            "dict_1              dict      n=4\n",
            "e                   str        \n",
            "f                   str       file001\n",
            "list_1              list      n=3\n",
            "list_2              list      n=3\n",
            "list_3              list      n=6\n",
            "m                   list      n=2\n",
            "math                module    <module 'math' (built-in)>\n",
            "set_1               set       {1, 2, 3, 4, 5, 6, 7}\n",
            "set_2               set       {1, 2, 3, 4, 5, 6, 7}\n",
            "set_3               set       {'a', 'c', 'Y', 'y', 'h'}\n",
            "set_4               set       {5, 6, 7, 8, 9, 10}\n",
            "t                   float     1.0\n",
            "tuple_1             tuple     n=3\n",
            "tuple_2             tuple     n=3\n",
            "universities_dict   dict      n=5\n",
            "x                   int       100\n",
            "y                   int       200\n",
            "z                   int       500\n"
          ]
        }
      ]
    },
    {
      "cell_type": "code",
      "source": [
        "print(x)"
      ],
      "metadata": {
        "colab": {
          "base_uri": "https://localhost:8080/"
        },
        "id": "V709eeIxl6xj",
        "outputId": "5011b2c4-c912-4712-aea3-f5a4e6a6c056"
      },
      "execution_count": 91,
      "outputs": [
        {
          "output_type": "stream",
          "name": "stdout",
          "text": [
            "100\n"
          ]
        }
      ]
    },
    {
      "cell_type": "code",
      "source": [
        "del x"
      ],
      "metadata": {
        "id": "tpWZge_GmInf"
      },
      "execution_count": 92,
      "outputs": []
    },
    {
      "cell_type": "code",
      "source": [
        "print(x)"
      ],
      "metadata": {
        "colab": {
          "base_uri": "https://localhost:8080/",
          "height": 166
        },
        "id": "RjC2x8fNmJ3W",
        "outputId": "b14aa0e8-0249-4d2e-aebe-b0fd4ac6f866"
      },
      "execution_count": 93,
      "outputs": [
        {
          "output_type": "error",
          "ename": "NameError",
          "evalue": "ignored",
          "traceback": [
            "\u001b[0;31m---------------------------------------------------------------------------\u001b[0m",
            "\u001b[0;31mNameError\u001b[0m                                 Traceback (most recent call last)",
            "\u001b[0;32m<ipython-input-93-fc17d851ef81>\u001b[0m in \u001b[0;36m<cell line: 1>\u001b[0;34m()\u001b[0m\n\u001b[0;32m----> 1\u001b[0;31m \u001b[0mprint\u001b[0m\u001b[0;34m(\u001b[0m\u001b[0mx\u001b[0m\u001b[0;34m)\u001b[0m\u001b[0;34m\u001b[0m\u001b[0;34m\u001b[0m\u001b[0m\n\u001b[0m",
            "\u001b[0;31mNameError\u001b[0m: name 'x' is not defined"
          ]
        }
      ]
    },
    {
      "cell_type": "code",
      "source": [
        "%whos"
      ],
      "metadata": {
        "colab": {
          "base_uri": "https://localhost:8080/"
        },
        "id": "AJAJ98brmKvs",
        "outputId": "543c442c-de9f-4d61-e3cb-5533a14ca34d"
      },
      "execution_count": 94,
      "outputs": [
        {
          "output_type": "stream",
          "name": "stdout",
          "text": [
            "Variable            Type      Data/Info\n",
            "---------------------------------------\n",
            "a                   float     4.0\n",
            "b                   float     3.0\n",
            "c                   float     6.0\n",
            "d                   str       file\n",
            "d_list              list      n=4\n",
            "dict_1              dict      n=4\n",
            "e                   str        \n",
            "f                   str       file001\n",
            "list_1              list      n=3\n",
            "list_2              list      n=3\n",
            "list_3              list      n=6\n",
            "m                   list      n=2\n",
            "math                module    <module 'math' (built-in)>\n",
            "set_1               set       {1, 2, 3, 4, 5, 6, 7}\n",
            "set_2               set       {1, 2, 3, 4, 5, 6, 7}\n",
            "set_3               set       {'a', 'c', 'Y', 'y', 'h'}\n",
            "set_4               set       {5, 6, 7, 8, 9, 10}\n",
            "t                   float     1.0\n",
            "tuple_1             tuple     n=3\n",
            "tuple_2             tuple     n=3\n",
            "universities_dict   dict      n=5\n",
            "y                   int       200\n",
            "z                   int       500\n"
          ]
        }
      ]
    },
    {
      "cell_type": "code",
      "source": [],
      "metadata": {
        "id": "0Kmyoa-jmbqv"
      },
      "execution_count": null,
      "outputs": []
    }
  ]
}