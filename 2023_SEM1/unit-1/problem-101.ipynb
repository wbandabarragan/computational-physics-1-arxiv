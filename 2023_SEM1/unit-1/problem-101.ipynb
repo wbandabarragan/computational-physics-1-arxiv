{
  "nbformat": 4,
  "nbformat_minor": 0,
  "metadata": {
    "colab": {
      "provenance": [],
      "authorship_tag": "ABX9TyMQr85ODRsPBFmRg6QBlY57",
      "include_colab_link": true
    },
    "kernelspec": {
      "name": "python3",
      "display_name": "Python 3"
    },
    "language_info": {
      "name": "python"
    }
  },
  "cells": [
    {
      "cell_type": "markdown",
      "metadata": {
        "id": "view-in-github",
        "colab_type": "text"
      },
      "source": [
        "<a href=\"https://colab.research.google.com/github/wbandabarragan/computational-physics-1/blob/main/unit-1/problem-101.ipynb\" target=\"_parent\"><img src=\"https://colab.research.google.com/assets/colab-badge.svg\" alt=\"Open In Colab\"/></a>"
      ]
    },
    {
      "cell_type": "markdown",
      "source": [
        "# The Brachistochrone curve:\n",
        "\n",
        "The Brachistochrone curve describes the trajectory of a particle that falls under the action of gravity employing minimal time. Finding the solutions, thus, requires minimising the time function, which we need to find first.\n",
        "\n",
        "\n",
        "So, let's sketch the problem.\n",
        "\n",
        "Here we have a particle at rest in point 0, that then moves to point B via points A and P employing minimal time.\n",
        "\n",
        "\n",
        "The particle at point P at any time, $t$, has a speed, $v(t)=\\frac{ds}{dt}$, where $ds$ is the path differential, i.e., $ds^2=dx^2+dy^2$.\n",
        "\n",
        "If we use $y$ as the independent variable of the system, $x=x(y)$, so $dx = x'\\,dy$, where $x'=\\frac{dx}{dy}$. Therefore, we can re-write the above equation as:\n",
        "$ds^2=(1+x'^2)\\,dy^2$ (eq. 1).\n",
        "\n",
        "This is going to be useful later on. Now let's look at the physics of the problem.\n",
        "\n",
        "## Energy conservation:\n",
        "\n",
        "Considering points O and P, we see that in point O we don't have mechanical energy, $E$, while in point P have both kinetic energy, $K_p$, and potential energy, $U_p$, then:\n",
        "\n",
        "$\\Delta E_{OP} = E_P- E_O =0$\n",
        "\n",
        "\n",
        "$\\Rightarrow \\frac{1}{2}mv^2-mgy=0$\n",
        "\n",
        "$\\Rightarrow v = \\frac{ds}{dt}=\\sqrt{2gy}$ (eq. 2)\n",
        "\n",
        "Solving for $dt$:\n",
        "\n",
        "$\\Rightarrow dt = \\frac{ds}{v}$\n",
        "\n",
        "$\\Rightarrow \\int dt = \\int{\\frac{ds}{v}}$ (eq. 3)\n",
        "\n",
        "Substituting eqs. 1 and 2 in eq. 3:\n",
        "\n",
        "\n",
        "$\\Rightarrow \\int dt = \\int{{\\frac{\\sqrt{x'^2+1}}{\\sqrt{2gy}}}dy} = \\frac{1}{\\sqrt{2g}}\\int{{\\frac{\\sqrt{x'^2+1}}{\\sqrt{y}}}dy}$\n",
        "\n",
        "\n",
        "This is the integral whose minimum we want to find.\n",
        "\n",
        "Fortunately, we recognise that that the argument of the integral on the RHS has the form:\n",
        "\n",
        "$f(x,x',y)=\\frac{\\sqrt{x'^2+1}}{\\sqrt{y}}$ (eq. 4)\n",
        "\n",
        "So, we can use the Euler-Lagrange equation from Calculus of Variations to find the minimum. Remember that this eq. allows us to find stationary points and that differentiable functionals, like this one, are stationary at local extrema.\n",
        "\n",
        "The Euler-Lagrange equation for this case reads:\n",
        "\n",
        "$\\frac{\\partial f}{\\partial x}=\\frac{d}{dy}\\frac{\\partial f}{\\partial x'}$ (eq. 5)\n",
        "\n",
        "Calculating the derivatives for eq. 4, we find:\n",
        "\n",
        "$\\frac{\\partial f}{\\partial x}=0$, and\n",
        "\n",
        "$\\frac{\\partial f}{\\partial x'}=\\frac{1}{\\sqrt{y}}(x'^2+1)^{-\\frac{1}{2}}(x')$\n",
        "\n",
        "\n",
        "Thus, eq. 5 implies:\n",
        "\n",
        "$\\frac{1}{\\sqrt{y}}(x'^2+1)^{-\\frac{1}{2}}(x') = constant$\n",
        "\n",
        "For convenience, we write:\n",
        "\n",
        "$\\frac{x'^2}{y\\,(x'^2+1)} = \\frac{1}{2\\alpha}$, where $\\alpha$ is a constant.\n",
        "\n",
        "\n",
        "Solving for $x'$:\n",
        "\n",
        "\n",
        "$\\Rightarrow x'=\\sqrt{\\frac{y}{2\\alpha - y}}$\n",
        "\n",
        "$\\Rightarrow dx=\\int{\\sqrt{\\frac{y}{2\\alpha - y}}dy}$\n",
        "\n",
        "We can readily solve this by changing variables from $y$ to $\\theta$, and we find the Brachistochrone parametric solutions:\n",
        "\n",
        "$x = \\alpha \\left(\\theta-\\sin(\\theta)\\right)$\n",
        "\n",
        "\n",
        "$y = \\alpha \\left(1-\\cos(\\theta)\\right)$\n",
        "\n",
        "Note that these solutions correspond to those of a cycloid curve."
      ],
      "metadata": {
        "id": "fc-nmttyxcY2"
      }
    },
    {
      "cell_type": "code",
      "source": [
        "# Importing libraries\n",
        "import numpy as np\n",
        "import matplotlib.pyplot as plt"
      ],
      "metadata": {
        "id": "ZOxKVZaG4ru1"
      },
      "execution_count": null,
      "outputs": []
    },
    {
      "cell_type": "code",
      "execution_count": null,
      "metadata": {
        "id": "UJi48w7BxXm-"
      },
      "outputs": [],
      "source": [
        "# Define a function to help us with plotting\n",
        "\n",
        "def cycloid(alpha):\n",
        "  \"\"\"\n",
        "  Cycloid depends on 2 parameters: alpha, and theta\n",
        "  Alpha will be an argument of the function\n",
        "  \"\"\"\n",
        "\n",
        "  # Indentation\n",
        "  # For parametric eqs, it is recommended to add lists\n",
        "  x = []\n",
        "  y = []\n",
        "\n",
        "  # And now we are going to append values by looping over theta\n",
        "  for theta in np.linspace(0, 10*np.pi, 200):\n",
        "\n",
        "    x.append(alpha*(theta - np.sin(theta)))\n",
        "    y.append(alpha*(1. - np.cos(theta)))\n",
        "\n",
        "  # Objects returned by the function\n",
        "  x = np.array(x)\n",
        "  y = np.array(y)\n",
        "\n",
        "  return x, y"
      ]
    },
    {
      "cell_type": "code",
      "source": [
        "# Plotting\n",
        "# Define our alpha value\n",
        "alpha_test = 3.\n",
        "\n",
        "# Call the function\n",
        "x_test, y_test = cycloid(alpha_test)\n",
        "\n",
        "# Let's proceed with plotting\n",
        "# Open env.\n",
        "plt.figure(figsize=(4,3))\n",
        "\n",
        "# Plot\n",
        "plt.plot(x_test, y_test, color = \"blue\", linestyle = \"-\", label = r\"$(x,y)$\")\n",
        "\n",
        "# Title with latex syntax\n",
        "plt.title(\"Cycloid\")\n",
        "\n",
        "# Axes titles\n",
        "plt.xlabel(r\"$x$\")\n",
        "plt.ylabel(r\"$y$\")\n",
        "\n",
        "# Legend is added with loc for location\n",
        "plt.legend(loc=3)\n",
        "\n",
        "# Invert y axis\n",
        "plt.gca().invert_yaxis()\n",
        "\n",
        "# Axes limits\n",
        "plt.xlim(0,6*np.pi)\n",
        "\n",
        "# Show/Save\n",
        "plt.show()"
      ],
      "metadata": {
        "colab": {
          "base_uri": "https://localhost:8080/",
          "height": 333
        },
        "id": "Dmcv1VzH4Usk",
        "outputId": "f262a684-bc93-41c7-ee49-ad6ffb32c111"
      },
      "execution_count": null,
      "outputs": [
        {
          "output_type": "display_data",
          "data": {
            "text/plain": [
              "<Figure size 400x300 with 1 Axes>"
            ],
            "image/png": "[encoded data removed]"
          },
          "metadata": {}
        }
      ]
    },
    {
      "cell_type": "code",
      "source": [],
      "metadata": {
        "id": "q8Ti-KGq5qDX"
      },
      "execution_count": null,
      "outputs": []
    }
  ]
}