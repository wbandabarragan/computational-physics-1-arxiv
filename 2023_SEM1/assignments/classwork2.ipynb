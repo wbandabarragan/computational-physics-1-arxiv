{
 "cells": [
  {
   "cell_type": "markdown",
   "id": "aa268f46",
   "metadata": {
    "id": "aa268f46"
   },
   "source": [
    "# Classwork 2: numerical calculus and Fourier analysis\n",
    "\n",
    "#### Deadline: 2 August 2023 (by the end of the day)\n",
    "\n",
    "#### Credits: 20 points"
   ]
  },
  {
   "cell_type": "markdown",
   "id": "68efa68c",
   "metadata": {
    "id": "68efa68c"
   },
   "source": [
    "## Name/s: \n",
    "\n",
    "### Statement of author contribution (only needed if you work in pairs)"
   ]
  },
  {
   "cell_type": "markdown",
   "id": "b50caa6e",
   "metadata": {
    "id": "b50caa6e"
   },
   "source": [
    "- When you finish, please send me the **.ipynb** file via email to wbanda@yachaytech.edu.ec\n",
    "\n",
    "\n",
    "- **You may work individually or in pairs.** Please include your name/s in the notebook.\n",
    "\n",
    "\n",
    "- Within a **single python notebook**, solve the following problems:"
   ]
  },
  {
   "cell_type": "markdown",
   "id": "8c04d324",
   "metadata": {},
   "source": [
    "### 1. (4 points) Chemical-physics (system of linear equations):\n",
    "\n",
    "The following chemical reaction is unbalanced:\n",
    "\n",
    "$C_2H_6 + O_2\\to CO_2 + H_2O$\n",
    "\n",
    "Our job is to find $(𝑥_1,𝑥_2,𝑥_3,𝑥_4)$, so that the above equation is balanced:\n",
    "\n",
    "$x_1\\,C_2H_6 + x_2\\,O_2\\to x_3\\,CO_2 + x_4\\,H_2O$\n",
    "\n",
    "(a) Write down the system of linear equations, so that each element is balanced:\n",
    "\n",
    "- Carbon (C)\n",
    "\n",
    "- Hydrogen (H)\n",
    "\n",
    "- Oxygen (O)\n",
    "\n",
    "(b) Create a python routine that finds the parametric solution to the system of linear equations.\n",
    "\n",
    "(c) Write down one of the feasible solutions for the balanced chemical reaction."
   ]
  },
  {
   "cell_type": "markdown",
   "id": "ca4867b5",
   "metadata": {},
   "source": [
    "### 2. (4 points) Potentials and Forces (optimisation)\n",
    "\n",
    "The potential energy of a particle in a field has the form:\n",
    "\n",
    "$$V(r)=\\frac{3}{2r^2} - \\frac{14}{3r}$$\n",
    "\n",
    "where $r$ is the distance from the centre of the field.\n",
    "\n",
    "(a) Create a python function to compute this potential as a function of $r$.\n",
    "\n",
    "(b) Then, create an appropriate vector for $r$ and plot this potential $V(r)$ versus $r$. What kind of physical system could this potential describe?\n",
    "\n",
    "(c) Use sympy to compute the force: $F(r)=-\\frac{dV}{dr}$. Then, plot the $F(r)$ versus $r$. At which distance, $r_0$, does the force become zero?\n",
    "\n",
    "(d) Find the maximum possible value of the attractive force, $F_{max}$, and the distance, $r_{max}$, at which the particle would be subjected to this force."
   ]
  },
  {
   "cell_type": "markdown",
   "id": "8d7372ab",
   "metadata": {},
   "source": [
    "### 3. (4 points) Thermodynamics (grids and derivatives):\n",
    "\n",
    "The Earth's atmosphere cools down with altitude. To model this we can assume that the air is adiabatic with an equation of state given by:\n",
    "\n",
    "$p^{1-\\gamma}\\,T^{\\gamma} = \\rm constant$,\n",
    "\n",
    "where $p$ is the thermal pressure, $T$ is the temperature, and $\\gamma=1.4$ is the polytropic index. The above equation results in the following differential equation:\n",
    "\n",
    "$\\frac{dp}{p}=\\frac{\\gamma}{\\gamma - 1}\\frac{dT}{T}$\n",
    "\n",
    "In addition, the equation of hydrostatic equilibrium states that:\n",
    "\n",
    "$\\frac{dp}{p}=-\\frac{\\mu_m\\,g}{R\\,T}\\,dz$, \n",
    "\n",
    "where $\\mu_m=28.97\\,\\rm g\\,mol^{-1}$ is the molecular weight of the gas, $g$ is the acceleration due to gravity, $R$ is the ideal gas constant, and $z$ is height above ground level.\n",
    "\n",
    "Combining the two equations above, we obtain:\n",
    "\n",
    "$\\frac{dT}{dz}=-\\frac{\\gamma -1}{\\gamma}\\frac{\\mu_m\\,g}{R}$,\n",
    "\n",
    "whose solution reads:\n",
    "\n",
    "$T=T_0\\left(1-\\frac{\\gamma-1}{\\gamma}\\frac{z}{z_0}\\right)$, \n",
    "\n",
    "where $T_0$ is the temperature at ground level, and \n",
    "\n",
    "$z_0=\\frac{R\\,T_0}{\\mu_m\\,g}$\n",
    "\n",
    "is the isothermal scale-height calculated using this temperature. \n",
    "\n",
    "\n",
    "(a) Create a Python function that receives $T_0=20\\,\\rm ^{\\circ}C$ and $z$ as inputs, and returns:\n",
    "\n",
    "- the value of $z_0$ in $\\rm km$\n",
    "\n",
    "\n",
    "- the function $T(z)$ with $T$ in $\\rm ^{\\circ}C$\n",
    "\n",
    "(b) Code a Python function that returns a pcolor map of $T(z)$ (i.e. of the stratified atmosphere) interpolated on an ($x \\times y$) = ($30\\,\\rm km\\times 30\\,\\rm km$) grid with $z$ on the vertical axis. Consider that the temperature does not vary across $x$, only with height, $z$.\n",
    "\n",
    "\n",
    "(c) Code a Python function that returns a quiver map showing the direction of the buoyancy forces in the atmosphere. Remember that $p\\propto T^{\\frac{\\gamma}{\\gamma -1}}$."
   ]
  },
  {
   "cell_type": "markdown",
   "id": "ae4510a1",
   "metadata": {},
   "source": [
    "### 4. (8 points) Turbulence (Fourier analysis)\n",
    "\n",
    "We want to study the spectral properties of the density of turbulent flows using Fourier analysis. Let us consider the turbulence-in-a-box simulation we analysed in class:\n",
    "\n",
    "https://github.com/wbandabarragan/computational-physics-1/blob/main/exams/data_sets/TURB_DRIVE_SUP_hr.zip\n",
    "\n",
    "This simulation introduces a stochastic force field to generate turbulent motions in an isothermal ($\\gamma=1$) gas initially at rest. Turbulence is continuously generated throughout the whole simulation time.\n",
    "\n",
    "The simulation folder contains 101 VTK files, jointly with:\n",
    "\n",
    "- a **units.out** file that contains the CGS normalisation values.\n",
    "- a **vtk.out** file whose second column contains the times in code units.\n",
    "- a **grid.out** file that contains information on the grid structure.\n",
    "\n",
    "Each VTK file stores the following fields:\n",
    "\n",
    "- density (rho)\n",
    "- velocity_x (vx1)\n",
    "- velocity_y (vx2)\n",
    "- magnetic_field_x (Bx1)\n",
    "- magnetic_field_y (Bx2)\n",
    "\n",
    "We will only use the density field for this exercise.\n",
    "\n",
    "\n",
    "(a) Write a python function that reads and returns the density field normalised in CGS units, for any VTK file.\n",
    "\n",
    "(b) Call the above function for VTK file # 40, and make a map of the density field.\n",
    "\n",
    "(c) Create a function that Fourier transforms this density map in 2D and returns a two-panel image with the original field and a labeled 2D plot of its Fourier image.\n",
    "\n",
    "(d) Create a high-pass filter function that removes low spatial frequencies from the Fourier image and returns the resulting high-pass filter map. What features of the turbulent flow are highlighted in the filtered image and why?\n",
    "\n",
    "(e) Create a Gaussian-blurring function that smooths the image using a 2D Gaussian and returns three images, the original one and two images blurred with two different variances."
   ]
  }
 ],
 "metadata": {
  "colab": {
   "include_colab_link": true,
   "provenance": []
  },
  "kernelspec": {
   "display_name": "Python 3 (ipykernel)",
   "language": "python",
   "name": "python3"
  },
  "language_info": {
   "codemirror_mode": {
    "name": "ipython",
    "version": 3
   },
   "file_extension": ".py",
   "mimetype": "text/x-python",
   "name": "python",
   "nbconvert_exporter": "python",
   "pygments_lexer": "ipython3",
   "version": "3.7.16"
  }
 },
 "nbformat": 4,
 "nbformat_minor": 5
}
