{
 "cells": [
  {
   "cell_type": "markdown",
   "id": "aa268f46",
   "metadata": {
    "id": "aa268f46"
   },
   "source": [
    "# Homework 2: linear algebra and numerical calculus\n",
    "\n",
    "#### Deadline: Wednesday 26 July 2023 (by the end of the day)\n",
    "\n",
    "#### Credits: 20 points"
   ]
  },
  {
   "cell_type": "markdown",
   "id": "68efa68c",
   "metadata": {
    "id": "68efa68c"
   },
   "source": [
    "## Name: "
   ]
  },
  {
   "cell_type": "markdown",
   "id": "b50caa6e",
   "metadata": {
    "id": "b50caa6e"
   },
   "source": [
    "- When you finish, please send me the **.ipynb** file via email to wbanda@yachaytech.edu.ec\n",
    "\n",
    "\n",
    "\n",
    "- This homework is **individual**. Please include your name in the notebook.\n",
    "\n",
    "\n",
    "\n",
    "- Within a **single python notebook**, solve the following problems:"
   ]
  },
  {
   "cell_type": "markdown",
   "id": "dcb36f53",
   "metadata": {},
   "source": [
    "## Problem statement: shock-cloud interaction\n",
    "\n",
    "Shock waves are flow discontinuities that arise in supersonic gases when the local flow speed exceeds the sound speed of the gas. When shocks interact with gas clouds, they can accelerate them and disrupt them.\n",
    "\n",
    "Here, we numerically study one of such interactions where a shock wave propagates across a 2D computational domain (along the Y-axis from the bottom to the top), interacting with a cylindrical cloud in slab geometry. In the simulation, the cloud gas is tracked with a pigment (tracer).\n",
    "\n",
    "The flow is adiabatic (the polytropic index is $\\gamma=\\frac{5}{3}$), the gas is ionised (the mean particle mass is $\\mu = 0.6$), and the gas is also magnetised (the magnetic field is initially perpendicular to the flow, so it is oriented along the X-axis).\n",
    "\n",
    "The shock-cloud numerical simulation produces $61$ VTK files stored in:\n",
    "\n",
    "- the **MHD-shock-cloud** folder: \n",
    "\n",
    "https://github.com/wbandabarragan/computational-physics-1/blob/main/assignments/data_sets/MHD-shock-cloud.zip\n",
    "\n",
    "jointly with:\n",
    "\n",
    "- a **units.out** file that contains the CGS normalisation values.\n",
    "- a **vtk.out** file whose second column contains the times in code units.\n",
    "- a **grid.out** file that contains information on the grid structure.\n",
    "\n",
    "You can use VisIt to inspect the data."
   ]
  },
  {
   "cell_type": "markdown",
   "id": "c555e3c9",
   "metadata": {},
   "source": [
    "## 1. (5 points) 2D data I/O and visualisation\n",
    "\n",
    "Create a set of Python functions that:\n",
    "\n",
    "(a) opens the **units.out** file, stores the normalisation values for length, velocity, density, pressure, magnetic field and time into callable objects, and then returns them.\n",
    "\n",
    "**Note:**\n",
    "\n",
    "The normalisation values for thermal pressure ($p_0=\\rho_0\\,v_0^2$), magnetic field ($B_0=\\sqrt{4\\,\\pi\\,\\rho_0\\,v_0^2}$), and time ($t_0=\\frac{L_0}{v_0}$) can be derived from the length, velocity, and density values.\n",
    "\n",
    "(b) opens the **VTK** file # 35, reads the data arrays, and returns the 2D, CGS-normalised arrays for:\n",
    "\n",
    "- density (rho)\n",
    "- thermal pressure (prs)\n",
    "- pigment (tr1)\n",
    "- velocity_x (vx1)\n",
    "- velocity_y (vx2)\n",
    "- magnetic_field_x (Bx1)\n",
    "- magnetic_field_y (Bx2)\n",
    "\n",
    "**Notes:**\n",
    "\n",
    "- The pigment tr1 does not need to be normalised as it is just a dimensionless colour. Initially, the pigment/tracer tr1 is 1 for cloud gas and 0 everywhere else, so it effectively tracks the cloud gas.\n",
    "\n",
    "- Use the normalisation values returned by the function from part **(a)** to convert fron code units to CGS units.\n",
    "\n",
    "(c) reads the 2D arrays returned by the function above, interpolates them into a CGS-normalised meshgrid created with the mesh information stored in the VTK files, and exports 4 figures containing maps of:\n",
    "\n",
    "- density\n",
    "- thermal pressure\n",
    "- velocity\n",
    "- magnetic field\n",
    "\n",
    "**Note:**\n",
    "\n",
    "Choose different perceptually-uniform colour schemes for each of the above quantities."
   ]
  },
  {
   "cell_type": "markdown",
   "id": "4feff21c",
   "metadata": {},
   "source": [
    "## 2. (5 points) Image analysis: isolating features and derivatives\n",
    "\n",
    "For the same VTK file (# 35), create a set of Python functions that:\n",
    "\n",
    "(a) Isolate the cloud gas based on the following algorithm:\n",
    "\n",
    "- Read the 2D density (rho) and pigment (tr1) arrays.\n",
    "\n",
    "- Isolate the densities of grid cells that contain only pigment values tr1 > 0.05 (you can use conditionals to get the cell indices first).\n",
    "\n",
    "(b) Make a map of the resulting density of cloud gas only.\n",
    "\n",
    "(c) Isolate candidate shocked cells based on the following methods:\n",
    "\n",
    "- **Method 1:** Read the 2D velocity vector field. Compute the divergence of the velocity field and isolate the cells where there are convergent flows (i.e. where $\\vec\\nabla\\cdot \\vec v <0$). Cells with convergent flows are candidate shocked cells.\n",
    "\n",
    "\n",
    "\n",
    "- **Method 2:** Read the 2D pressure field. Compute the gradient of the pressure and isolate the cells with large pressure gradients (i.e. where $\\frac{|\\vec\\nabla P|}{P}>0.01\\max{\\left(\\frac{|\\vec\\nabla P|}{P}\\right)}$). Such cells are candidate shocked cells.\n",
    "\n",
    "(d) Make binary maps of the resulting candidate shock cells from both methods. Overall, do you find the same shock candidates on these maps? Label the main shock on these maps.\n"
   ]
  },
  {
   "cell_type": "markdown",
   "id": "add1f786",
   "metadata": {},
   "source": [
    "## 3. (5 points) Python loops: full data analysis\n",
    "\n",
    "Create a set of Python functions that:\n",
    "\n",
    "(a) Read the second column of the **vtk.out** file into a time array, normalises these times using the normalisation time computed in problem 1, and then returns a CGS-normalised time array.\n",
    "\n",
    "\n",
    "(b) Loop over all the simulation VTK files (0 to 60), calls all the functions written for problems 1 and 2, and then prints the resulting maps into two folders called:\n",
    "\n",
    "1. **\"maps\"**, which should contain the figures for density, thermal pressure, velocity, and magnetic field for all the times (add a CGS time-stamp to each map).\n",
    "\n",
    "2. **\"features\"**, which should contain the figures for cloud density and candidate shocked cells (from both methods) for all the times (add a CGS time-stamp to each map).\n",
    "\n",
    "**Note:** Fix the min/max values of the colourbars, so that maps at different times can be compared with one another.\n",
    "\n",
    "(c) Return a movie showing the time evolution of the magnetic field. What happens to the magnetic field as time progresses?\n",
    "\n",
    "**Note:** Since there are $256^2$ cells in this simulation, one way to improve the visualisation of 2D vector fields is to interpolate them into a coarser grid."
   ]
  },
  {
   "cell_type": "markdown",
   "id": "fef6241a",
   "metadata": {},
   "source": [
    "## 4. (5 points) Numerical calculus and time evolution\n",
    "\n",
    "Create a set of Python functions that:\n",
    "\n",
    "(a) Loop over all the simulation VTK files ($0$ to $60$), computes the following quantities for each time:\n",
    "\n",
    "- the total cloud mass ($m_{cloud}$).\n",
    "- the cloud mass loss rate ($\\dot{m}_{cloud}$)\n",
    "- position of the centre of mass of the cloud ($r_{cloud}$)\n",
    "- mass-weighted velocity of cloud ($v_{cloud}$)\n",
    "- acceleration of the cloud ($\\dot{v}_{cloud}$)\n",
    "\n",
    "and returns a CSV file with $6$ columns, time on the first column, and the above quantities in the next ones.\n",
    "\n",
    "**Notes:**\n",
    "- Before coding you should write down the equations needed to compute the above quantities. Some of them involve integrals, others derivatives.\n",
    "\n",
    "- Use the cloud tracer (tr1) as a weight to get the cloud cells.\n",
    "\n",
    "- The simulation is 2D. Thus, to obtain the correct units for some of the above integrated quantities, you can safely assume that the differential of the (missing) third component is equal to the other two, i.e. $dz=dx=dy$, so that $dV = dx^3$.\n",
    "\n",
    "(b) Make and return figures of each of the above quantities versus time. Does the cloud accelerate?\n",
    "\n",
    "(c) Return a movie showing the time evolution of the cloud density map and the position of the centre of mass of the cloud. Use a marker to indicate the time-dependent position on the density maps."
   ]
  }
 ],
 "metadata": {
  "colab": {
   "include_colab_link": true,
   "provenance": []
  },
  "kernelspec": {
   "display_name": "Python 3 (ipykernel)",
   "language": "python",
   "name": "python3"
  },
  "language_info": {
   "codemirror_mode": {
    "name": "ipython",
    "version": 3
   },
   "file_extension": ".py",
   "mimetype": "text/x-python",
   "name": "python",
   "nbconvert_exporter": "python",
   "pygments_lexer": "ipython3",
   "version": "3.7.16"
  }
 },
 "nbformat": 4,
 "nbformat_minor": 5
}
