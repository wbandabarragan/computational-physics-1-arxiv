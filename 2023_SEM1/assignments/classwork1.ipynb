{
 "cells": [
  {
   "cell_type": "markdown",
   "id": "930a8d07",
   "metadata": {
    "colab_type": "text",
    "id": "view-in-github"
   },
   "source": [
    "<a href=\"https://colab.research.google.com/github/wbandabarragan/computational-physics-1/blob/main/assignments/classwork1.ipynb\" target=\"_parent\"><img src=\"https://colab.research.google.com/assets/colab-badge.svg\" alt=\"Open In Colab\"/></a>"
   ]
  },
  {
   "cell_type": "markdown",
   "id": "aa268f46",
   "metadata": {
    "id": "aa268f46"
   },
   "source": [
    "# Classwork 1: python essentials and data analysis\n",
    "\n",
    "#### Date: 19 May 2023 (11h00 - 13h00)\n",
    "\n",
    "#### Credits: 20 points\n",
    "\n",
    "#### Quiz duration: 2 hours"
   ]
  },
  {
   "cell_type": "markdown",
   "id": "68efa68c",
   "metadata": {
    "id": "68efa68c"
   },
   "source": [
    "## Name: "
   ]
  },
  {
   "cell_type": "markdown",
   "id": "b50caa6e",
   "metadata": {
    "id": "b50caa6e"
   },
   "source": [
    "- When you finish, please send me the **.ipynb** file via email to wbanda@yachaytech.edu.ec\n",
    "\n",
    "\n",
    "\n",
    "- This classwork is **individual**. Please include your name in the notebook.\n",
    "\n",
    "\n",
    "\n",
    "- Within a **single python notebook**, solve the following problems:"
   ]
  },
  {
   "cell_type": "markdown",
   "id": "250211ef",
   "metadata": {
    "id": "250211ef"
   },
   "source": [
    "### Problem 1 (2D bubble kinematics, 6 points):\n",
    "\n",
    "This problem consists of studying the motion of the interface of a circular gas bubble that expands isotropically from an initial radius $r_0 = 10\\,[m]$. The detailed expansion of gas bubbles requires defining an equation of state for the gas and solving the fluid dynamical equations, but, as a first approximation, the expansion can be studied from a purely kinematical view point. For this problem, you will then use simple kinematics to study bubble expansion in 2D.\n",
    "\n",
    "Depending on the properties of the medium in which the bubble expands, the time-dependent radius of the bubble, $r_t$, can follow different acceleration functions:\n",
    "\n",
    "- **In medium 1:** $r_t = r_0 + 10\\,t\\:[m]$\n",
    "\n",
    "\n",
    "- **In medium 2:** $r_t = r_0 + 3\\,t^2\\:[m]$\n",
    "\n",
    "\n",
    "- **In medium 3:** $r_t = r_0 - 12\\,t + 1.1\\,t^3\\:[m]$\n",
    "\n",
    "\n",
    "- **In medium 4:** $r_t = r_0\\,\\exp{(0.9\\,t)}\\:[m]$\n",
    "\n",
    "For all these radii, time ($t$) is measured in units of $[s]$.\n",
    "\n",
    "(a) Create a Python function that reads in a time vector and returns 4 objects containing the time-dependent radii computed with the equations above. Then, define $r_0$ as a global parameter, create a time vector, $t$, that goes from $0$ to $5\\,[s]$ with $11$ elements in between, and test the function.\n",
    "\n",
    "(b) Create a Python function to generate circumferences centred in the origin of a 2D Cartesian plane. The function should return the $(x,y)$ coordinates of circumferences given a value for the radius and a vector containing values for the angle $\\theta \\in [0, 2\\,\\pi]$. The latter can be defined as a global parameter. Recall that the coordinates of a circumference can be obtained as follows:\n",
    "\n",
    "$$x = r\\,\\cos(\\theta)$$\n",
    "\n",
    "$$y = r\\,\\sin(\\theta)$$\n",
    "\n",
    "(c) Call the function from (b) using $r_0$ and the $\\theta$ vector as input parameters, and make a labeled 2D plot of the initial circumference. As we are interested in studying bubble expansion, set the $x$ and $y$ limits to go from $-100$ to $+100\\,[m]$.\n",
    "\n",
    "(d) Use the time vector created in (a) to calculate $r_t$ and the $(x,y)$ circumference coordinates for different media by calling the functions developed in (a) and (b), respectively. **Hint:** Creating empty lists to host the desired variables and using a for loop to compute the time-dependent radii (and fill up the lists) would be advantageous for this step.\n",
    "\n",
    "(e) Make a single figure showing the radii, $r_t$, computed in step (d) versus time. The plot should contain 4 lines showing the time evolution of the radii for different media. The radii should be on the Y axis and time on the X axis. In which medium did the bubble expand the farthest within the given time-scale?\n",
    "\n",
    "(f) Finally, make a 4-panel figure showing all the circumferences computed in step (d). Each panel should contain the results for a different medium, and, as before, the limits for the X and Y axes should go from $-100$ to $+100\\,[m]$ in all the panels for better visualisation of the expanding bubbles. **Hint:** Using pyplot's subplots function and a for loop would help to obtain this figure."
   ]
  },
  {
   "cell_type": "markdown",
   "id": "cc0c31ba",
   "metadata": {
    "id": "cc0c31ba"
   },
   "source": [
    "### Problem 2 (Maxwell–Boltzmann distribution, 6 points):\n",
    "\n",
    "For a system containing a large number of identical non-interacting, non-relativistic classical particles in thermodynamic equilibrium, the fraction of the particles within an infinitesimal element of the three-dimensional velocity space $d^3v$, centered on a velocity vector of magnitude $v$, is given by\n",
    "\n",
    "$$f(v)\\:d^3v = \\biggl[\\frac{m}{2 \\pi k_bT}\\biggr]^\\frac{3}{2} \\, \\exp\\left(-\\frac{mv^2}{2k_bT}\\right)\\:d^3v$$\n",
    "\n",
    "where $m$ is the particle mass, $k_b$ is the Boltzmann constant, $T$ is thermodynamic temperature, \n",
    "$f(v)$ is the (Maxwell–Boltzmann) probability distribution function (PDF), properly normalized so that $\\int f(v) \\, d^3v$ over all velocities is unity.\n",
    "\n",
    "Recognising the symmetry of $f(v)$, one can integrate over solid angle and write a probability distribution of speeds as the function:\n",
    "\n",
    "$$f(v) = \\biggl[\\frac{m}{2 \\pi k_bT}\\biggr]^\\frac{3}{2} \\, 4\\pi v^2 \\exp\\left(-\\frac{mv^2}{2k_bT}\\right)$$\n",
    "\n",
    "This probability density function gives the probability, per unit speed, of finding the particle with a speed near $v$. This equation is simply the Maxwell–Boltzmann distribution\n",
    "\n",
    "(a) Create a python function that reads in the particle mass, the thermodynamic temperature, and the velocity, and then returns the (Maxwell–Boltzmann) probability distribution function, $f(v)$.\n",
    "\n",
    "(b) Define a python dictionary containing the symbols of 5 noble gases as \"keys\" with their respective atomic masses in SI units ($m=m_u\\,A_r$) as elements. Here, $m_u$ is the atomic mass constant and $A_r$ is the standard atomic weight. For each atom, we have:\n",
    "\n",
    "- Helium ($\\rm He$) has $A_r(\\rm He)=4.003$\n",
    "\n",
    "- Neon ($\\rm Ne$) has $A_r(\\rm Ne)=20.180$\n",
    "\n",
    "- Argon ($\\rm Ar$) has $A_r(\\rm Ar)=39.963$\n",
    "\n",
    "- Krypton ($\\rm Kr$) has $A_r(\\rm Kr)=83.798$\n",
    "\n",
    "- Xenon ($\\rm Xe$) has $A_r(\\rm Xe)=131.293$\n",
    "\n",
    "(c) Generate a 1D velocity vector covering the range from $0$ to $3000\\,\\rm \\frac{m}{s}$, and fix the temperature of the gas at $50\\,\\rm K$.\n",
    "\n",
    "(d) Using the values of atomic masses from the dictionary in point (b), and the fixed velocity vector and temperature defined in point (c), call the function created in point (a) to obtain a set of arrays with the Maxwell–Boltzmann distributions, $f(v)$, for each nobel gas. (**Hint:** a for loop can help access the dictionary elements).\n",
    "\n",
    "(e) Use matplotlib to make a single high-quality labeled   of the velocity distribution of all 5 nobel gases for the set temperature. The plot should have $f(v)$ on the Y axis and $v$ on the X axis.\n",
    "\n",
    "(f) Repeat steps (c,d,e) for 3 more gas temperatures ($150\\,\\rm K$, $293\\,\\rm K$, and $500\\,\\rm K$), and report all the results in a single 4-panel high-quality labeled figure. What happens with the velocity distributions when we increase the temperature of the gas?\n",
    "\n"
   ]
  },
  {
   "cell_type": "markdown",
   "id": "6083b768",
   "metadata": {
    "id": "6083b768"
   },
   "source": [
    "### Problem 3 (Black body radiation, 8 points):\n",
    "\n",
    "This problem consists of determining the temperature of our Sun (which is an almost perfect black body) based on a regression performed on its spectrum. The Solar spectrum can be found in the link below. The data you will analyse were obtained from satellite instruments, so they do not contain atmospheric absorption.\n",
    "\n",
    "Please download th data file from:\n",
    "https://github.com/wbandabarragan/computational-physics-1/blob/main/assignments/AM0AM1_5.csv\n",
    "\n",
    "This data file contains 6 columns, but we will use only the first two:\n",
    "\n",
    "1. Wavelength ($\\lambda$ in $nm$)\n",
    "\n",
    "2. Extraterrestrial ($J_{\\lambda}\\equiv$ spectral radiosity in $W\\,m^{-2}\\,nm^{-1}$)\n",
    "\n",
    "As you know from quantum theory, the spectral radiance of a black body is described by Planck's law, so this would be a natural fitting model to be used for the regression. Planck's law reads:\n",
    "\n",
    "$$B_\\lambda =\\frac{2hc^2}{\\lambda^5}\\frac 1{ \\exp\\left(\\frac{hc}{\\lambda k_\\mathrm B T}\\right) - 1}$$ \n",
    "\n",
    "where $B_\\lambda$ is in units of $W\\,m^{-2}\\,nm^{-1}\\,sr^{-1}$ in the SI system. To obtain the spectral radiosity, you need to integrate the spectral radiance over the solid angle ($\\Omega$, in units of steradian $[sr]$) subtended by the emitting object (which in this case is the Sun), so:\n",
    "\n",
    "$$J_{\\lambda}=\\int_{\\Omega}B_\\lambda\\,d\\Omega$$\n",
    "\n",
    "\n",
    "We are far away from the Sun, so you should consider the Sun size on the sky to obtain the correct solid angle. For a celestial body, the solid angle (in units of $[sr]$) can be computed from of its radius, $R=696340\\,[km]$ and the average Earth-Sun distance (i.e. the distance from the observer to the object), $d=151.35\\times 10^6\\,[km]$, using:\n",
    "\n",
    "$$\\Omega = 2 \\pi \\left (1 - \\frac{\\sqrt{d^2 - R^2}}{d} \\right)$$  \n",
    "\n",
    "\n",
    "(a) Create a python function that computes and returns the solid angle $\\Omega$ from the Sun radius, $R$, and Earth-Sun distance, $d$. Then, call your function and report the solid angle in units of $[sr]$.\n",
    "\n",
    "(b) Create a python function that reads the filename (\"AM0AM1_5.csv\"), opens the data file using pandas, place the first two columns into pandas objects, and returns them as numpy arrays.\n",
    "\n",
    "(c) Call the function and obtain the wavelength ($\\lambda$ in $[nm]$) and spectral radiosity ($J_{\\lambda}$ in $[kW\\,m^{-2}\\,nm^{-1}]$). Then, make a high-quality labeled plot of spectral radiosity (in the Y axis) versus wavelength (in the X axis). Does the relation between the two look linear? **Hints:** The conversion to $[kW]$ will help later on, and computing the Spearman and Pearson coefficients may help in characterising the relationship.\n",
    "\n",
    "(d) Create a python function that defines the physically-motivated fitting function (i.e. $J_{\\lambda}$ (in units of $[kW\\,m^{-2}\\,nm^{-1}]$) as obtained from the Planck law). Which variable should be the free parameter for the regression? **Hints:** Be very careful in handling the units and do not forget to use the Sun's solid angle computed in (a) to obtain the spectral radiosity from the spectral radiance.\n",
    "\n",
    "(e) Carry out the regression using python tools (e.g. scipy's curve_fit function). Report the best-fit function, what is the temperature of the Sun? **Hint:** since the fitting function is not a simple polynomial function, it may help to aid curve_fit by providing an initial guess for the regression (see: p0 parameter).\n",
    "\n",
    "(f) Make a high-quality labeled plot of spectral radiosity (in the Y axis) versus wavelength (in the X axis) showing both the experimental data and the best-fit model (obtained from Planck's law for the fitted temperature).\n",
    "\n",
    "\n",
    "(g) Finally, you will compare the results to predictions based on classical theory. As you know, the black body radiation in classical theory is described by the Rayleigh-Jeans law. Create a python function that returns the spectral radiosity based on temperature, but now according to the Rayleigh-Jeans function given below. **Hint:** As before, be careful with the units and do not forget to use the Sun's solid angle computed in (a) to obtain the spectral radiosity, $J_{\\lambda}$, from the spectral radiance:\n",
    "\n",
    "$$B_{\\lambda}= \\frac{2ck_BT}{\\lambda^4}$$\n",
    "\n",
    "(h) Make a high-quality labeled plot of spectral radiance (in the Y axis) versus wavelength (in the X axis) showing the experimental data, the best-fit model (i.e. Planck's law for the fitted temperature), and the classical model obtained in (g). Does classical theory correctly describe the black body spectrum of the Sun? **Hint:** You may wish to limit the Y axis of the plot to be able to compare the lines."
   ]
  },
  {
   "cell_type": "code",
   "execution_count": null,
   "id": "60aaa322",
   "metadata": {},
   "outputs": [],
   "source": []
  }
 ],
 "metadata": {
  "colab": {
   "include_colab_link": true,
   "provenance": []
  },
  "kernelspec": {
   "display_name": "Python 3 (ipykernel)",
   "language": "python",
   "name": "python3"
  },
  "language_info": {
   "codemirror_mode": {
    "name": "ipython",
    "version": 3
   },
   "file_extension": ".py",
   "mimetype": "text/x-python",
   "name": "python",
   "nbconvert_exporter": "python",
   "pygments_lexer": "ipython3",
   "version": "3.7.16"
  }
 },
 "nbformat": 4,
 "nbformat_minor": 5
}
