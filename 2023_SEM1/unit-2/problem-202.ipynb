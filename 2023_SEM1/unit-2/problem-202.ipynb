{
 "cells": [
  {
   "cell_type": "markdown",
   "id": "071b8901",
   "metadata": {},
   "source": [
    "# Simulation data analysis\n",
    "\n",
    "The purpose of this exercise is to carry out data analysis looping over the full range of VTK files in the simulation folder. We want to calculate some integrated quantities:\n",
    "\n",
    "- Average density\n",
    "- Standard deviation of density\n",
    "- Speed\n",
    "- RMS Mach number\n",
    "\n",
    "\n",
    "## Loop over simulation files + Analysis"
   ]
  },
  {
   "cell_type": "code",
   "execution_count": 1,
   "id": "c60eba78",
   "metadata": {},
   "outputs": [],
   "source": [
    "import pyvista as pv\n",
    "import pandas as pd\n",
    "import numpy as np\n",
    "import os\n",
    "import matplotlib.pyplot as plt"
   ]
  },
  {
   "cell_type": "markdown",
   "id": "8d13abc8",
   "metadata": {},
   "source": [
    "## Read  Units (units.out)"
   ]
  },
  {
   "cell_type": "code",
   "execution_count": 2,
   "id": "b1d5b48b",
   "metadata": {},
   "outputs": [],
   "source": [
    "units_data = pd.read_csv(\"/Users/wladimir/Dropbox/Sample_Data/TURB_DRIVE_SUP/units.out\")\n",
    "\n",
    "rho_00   = np.array(units_data.loc[units_data[\"variable\"] == \"rho_0\"][\"normalisation\"])\n",
    "vel_00   = np.array(units_data.loc[units_data[\"variable\"] == \"v_0\"][\"normalisation\"])\n",
    "len_00   = np.array(units_data.loc[units_data[\"variable\"] == \"L_0\"][\"normalisation\"])\n",
    "c_iso    = np.array(units_data.loc[units_data[\"variable\"] == \"c_iso\"][\"normalisation\"])\n",
    "\n",
    "tim_00 = (len_00/vel_00)\n",
    "bfi_00 = (np.sqrt(4*np.pi*rho_00*vel_00**2))"
   ]
  },
  {
   "cell_type": "markdown",
   "id": "19ad25dd",
   "metadata": {},
   "source": [
    "## Read  times (second column vtk.out)"
   ]
  },
  {
   "cell_type": "code",
   "execution_count": 3,
   "id": "82fea229",
   "metadata": {},
   "outputs": [
    {
     "name": "stdout",
     "output_type": "stream",
     "text": [
      "101\n"
     ]
    }
   ],
   "source": [
    "time_data = pd.read_csv(\"/Users/wladimir/Dropbox/Sample_Data/TURB_DRIVE_SUP/vtk.out\", sep='\\s+', header=None)\n",
    "\n",
    "time_code = time_data.iloc[:,1]\n",
    "\n",
    "time_cgs = time_code*tim_00\n",
    "\n",
    "print(len(time_cgs))"
   ]
  },
  {
   "cell_type": "code",
   "execution_count": 4,
   "id": "78224924",
   "metadata": {},
   "outputs": [
    {
     "name": "stdout",
     "output_type": "stream",
     "text": [
      "6172000000000.0\n"
     ]
    }
   ],
   "source": [
    "print(np.max(time_cgs))"
   ]
  },
  {
   "cell_type": "code",
   "execution_count": 5,
   "id": "5f57ffe0",
   "metadata": {},
   "outputs": [
    {
     "name": "stdout",
     "output_type": "stream",
     "text": [
      "Directory already exists.\n"
     ]
    }
   ],
   "source": [
    "if os.path.isdir(\"/Users/wladimir/Dropbox/Sample_Data/TURB_DRIVE_SUP/Figures1\"):\n",
    "    print(\"Directory already exists.\")\n",
    "else:\n",
    "    print(\"Directory is being created.\")\n",
    "    os.mkdir(\"/Users/wladimir/Dropbox/Sample_Data/TURB_DRIVE_SUP/Figures1\")"
   ]
  },
  {
   "cell_type": "markdown",
   "id": "10575f2a",
   "metadata": {},
   "source": [
    "### I/O Function:"
   ]
  },
  {
   "cell_type": "code",
   "execution_count": 6,
   "id": "af6c5441",
   "metadata": {},
   "outputs": [],
   "source": [
    "def io_simulation(filename):\n",
    "    \"\"\"\n",
    "    I/O function:\n",
    "    \"\"\"\n",
    "    \n",
    "    # Opening the mesh\n",
    "    mesh = pv.read(filename)\n",
    "    \n",
    "    # Getting the data arrays\n",
    "    rho = pv.get_array(mesh, \"rho\", preference = 'cell') #density in code units\n",
    "    vx1 = pv.get_array(mesh, \"vx1\", preference = 'cell') #vx in code units\n",
    "    vx2 = pv.get_array(mesh, \"vx2\", preference = 'cell') #vy in code units    \n",
    "    \n",
    "    # Convert the arrays to 2D\n",
    "    rho_2D = rho.reshape(mesh.dimensions[0] - 1, mesh.dimensions[1] - 1)\n",
    "    vx1_2D = vx1.reshape(mesh.dimensions[0] - 1, mesh.dimensions[1] - 1)\n",
    "    vx2_2D = vx2.reshape(mesh.dimensions[0] - 1, mesh.dimensions[1] - 1)\n",
    "    \n",
    "    # Convert arrays to CGS units\n",
    "    rho_cgs2D = rho_2D*rho_00\n",
    "    vx1_cgs2D = vx1_2D*vel_00\n",
    "    vx2_cgs2D = vx2_2D*vel_00\n",
    "\n",
    "    return rho_cgs2D, vx1_cgs2D, vx2_cgs2D"
   ]
  },
  {
   "cell_type": "code",
   "execution_count": 10,
   "id": "6f03518a",
   "metadata": {},
   "outputs": [
    {
     "name": "stdout",
     "output_type": "stream",
     "text": [
      "0.0\n",
      "56147733240.0\n",
      "112343793240.0\n",
      "182814856020.0\n",
      "244348029580.0\n",
      "296175794860.0\n",
      "346957437000.0\n",
      "415590694200.0\n",
      "478889800400.0\n",
      "553238021000.0\n",
      "604333231600.0\n",
      "666554398000.0\n",
      "737688858200.0\n",
      "791171398400.0\n",
      "863854104799.9999\n",
      "920062817400.0\n",
      "983681324600.0\n",
      "1047852842999.9999\n",
      "1101169356400.0\n",
      "1169717131400.0\n",
      "1225532996200.0\n",
      "1292360634800.0\n",
      "1350463842800.0\n",
      "1417110950400.0\n",
      "1473747074000.0\n",
      "1538223489200.0\n",
      "1600975756200.0002\n",
      "1659601424000.0002\n",
      "1725210709800.0002\n",
      "1783161469400.0\n",
      "1847645291000.0002\n",
      "1907673854400.0\n",
      "1969693505000.0\n",
      "2035666321600.0002\n",
      "2096234009200.0\n",
      "2159740494599.9998\n",
      "2216392356800.0\n",
      "2279749171200.0\n",
      "2343710224400.0\n",
      "2402558084200.0\n",
      "2463908381400.0\n",
      "2525413595800.0\n",
      "2591891282000.0\n",
      "2650990342200.0\n",
      "2710559708800.0\n",
      "2771972343200.0\n",
      "2834253686600.0\n",
      "2895335810400.0\n",
      "2957889339000.0\n",
      "3016529202400.0\n",
      "3078682785400.0\n",
      "3144948772000.0\n",
      "3202860648000.0\n",
      "3267459886000.0005\n",
      "3329047188000.0005\n",
      "3389702518000.0005\n",
      "3454017844000.0\n",
      "3515614404000.0\n",
      "3576760408000.0\n",
      "3638718030000.0\n",
      "3696901474000.0\n",
      "3763441806000.0\n",
      "3825701855999.9995\n",
      "3885780104000.0\n",
      "3945562095999.9995\n",
      "4006488994000.0\n",
      "4072122042000.0\n",
      "4134826476000.0\n",
      "4190325100000.0\n",
      "4255658806000.0\n",
      "4315437712000.0005\n",
      "4380996695999.9995\n",
      "4443083930000.0\n",
      "4502686934000.0\n",
      "4562345486000.0\n",
      "4626879918000.0\n",
      "4688451790000.0\n",
      "4748770746000.0\n",
      "4811700458000.0\n",
      "4870797358000.0\n",
      "4935112684000.0\n",
      "4998434318000.0\n",
      "5060617218000.0\n",
      "5121963812000.0\n",
      "5181557558000.0\n",
      "5245521080000.0\n",
      "5305266040000.0\n",
      "5365322686000.0\n",
      "5426545840000.0\n",
      "5488395452000.0\n",
      "5551568958000.0\n",
      "5610511558000.0\n",
      "5672064914000.0\n",
      "5736670324000.0\n",
      "5796180748000.0\n",
      "5861869344000.0\n",
      "5920975502000.0\n",
      "5982550460000.0\n",
      "6044594490000.0\n",
      "6110076324000.0\n",
      "6172000000000.0\n",
      "             time     Av. Dens.    Std. Dens.\n",
      "0    0.000000e+00  1.660000e-24  3.673420e-40\n",
      "1    5.614773e+10  1.660000e-24  4.354185e-27\n",
      "2    1.123438e+11  1.660000e-24  1.526532e-26\n",
      "3    1.828149e+11  1.660000e-24  3.950658e-26\n",
      "4    2.443480e+11  1.660000e-24  7.787190e-26\n",
      "..            ...           ...           ...\n",
      "96   5.920976e+12  1.660000e-24  1.634459e-24\n",
      "97   5.982550e+12  1.660000e-24  1.621632e-24\n",
      "98   6.044594e+12  1.660000e-24  1.609173e-24\n",
      "99   6.110076e+12  1.660000e-24  1.607816e-24\n",
      "100  6.172000e+12  1.660000e-24  1.617887e-24\n",
      "\n",
      "[101 rows x 3 columns]\n"
     ]
    }
   ],
   "source": [
    "### Create empty lists\n",
    "\n",
    "t_list = []\n",
    "\n",
    "av_list = []\n",
    "\n",
    "std_list = []\n",
    "\n",
    "rms_mach_list = []\n",
    "\n",
    "\n",
    "for i in range(0,len(time_cgs)):\n",
    "    #print(i)\n",
    "    \n",
    "    filename = \"/Users/wladimir/Dropbox/Sample_Data/TURB_DRIVE_SUP/data.0{:03d}.vtk\".format(i) \n",
    "    \n",
    "    #print(filename)\n",
    "    rho_cgs2D, vx1_cgs2D, vx2_cgs2D = io_simulation(filename)\n",
    "    \n",
    "    # Get i time\n",
    "    time_i = time_cgs[i]\n",
    "    print(time_i)\n",
    "    \n",
    "    \n",
    "    \n",
    "    # Diagnostics\n",
    "    av_density  = np.mean(rho_cgs2D)\n",
    "    std_density = np.std(rho_cgs2D)\n",
    "    \n",
    "    modulus_velocity = np.sqrt(vx1_cgs2D**2 + vx2_cgs2D**2)\n",
    "    rms_mach = np.mean(modulus_velocity)/c_iso\n",
    "    \n",
    "    #print(av_density, std_density)\n",
    "    \n",
    "    # Fill up our empy lists\n",
    "    \n",
    "    t_list.append(time_i)\n",
    "    av_list.append(av_density)\n",
    "    std_list.append(std_density)\n",
    "    rms_mach_list.append(rms_mach)\n",
    "    \n",
    "    # PLotting\n",
    "    plt.figure(figsize = (16,10))\n",
    "    \n",
    "    plt.plot(t_list, std_list)\n",
    "    \n",
    "    plt.xlim(0, np.max(time_cgs))\n",
    "    plt.ylim(1.e-26, 2.e-24)\n",
    "    plt.savefig(\"/Users/wladimir/Dropbox/Sample_Data/TURB_DRIVE_SUP/std_dens{:03d}.png\".format(i))\n",
    "    plt.close()\n",
    "    \n",
    "\n",
    "    plt.figure(figsize = (16,10))\n",
    "    \n",
    "    plt.plot(t_list, rms_mach_list)\n",
    "    \n",
    "    plt.xlim(0, np.max(time_cgs))\n",
    "    plt.ylim(0, 2)\n",
    "    plt.savefig(\"/Users/wladimir/Dropbox/Sample_Data/TURB_DRIVE_SUP/Figures1/rms_mach{:03d}.png\".format(i))\n",
    "    plt.close()\n",
    "    \n",
    "# Outside the loop, we create a data frame:\n",
    "\n",
    "df = pd.DataFrame({'time': t_list, 'Av. Dens.': av_list, 'Std. Dens.': std_list})\n",
    "\n",
    "df.to_csv(\"/Users/wladimir/Dropbox/Sample_Data/TURB_DRIVE_SUP/datos1.csv\", sep=',', float_format='{:.2e}'.format)\n",
    "print(df)"
   ]
  },
  {
   "cell_type": "code",
   "execution_count": null,
   "id": "46876e28",
   "metadata": {},
   "outputs": [],
   "source": [
    "\n"
   ]
  }
 ],
 "metadata": {
  "kernelspec": {
   "display_name": "Python 3 (ipykernel)",
   "language": "python",
   "name": "python3"
  },
  "language_info": {
   "codemirror_mode": {
    "name": "ipython",
    "version": 3
   },
   "file_extension": ".py",
   "mimetype": "text/x-python",
   "name": "python",
   "nbconvert_exporter": "python",
   "pygments_lexer": "ipython3",
   "version": "3.7.16"
  }
 },
 "nbformat": 4,
 "nbformat_minor": 5
}
