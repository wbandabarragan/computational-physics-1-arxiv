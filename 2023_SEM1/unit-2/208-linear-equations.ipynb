{
 "cells": [
  {
   "cell_type": "markdown",
   "id": "b5147346",
   "metadata": {},
   "source": [
    "# Linear equation systems\n",
    "\n",
    "Here we will see a few methods to solve linear systems of equations:\n",
    "\n",
    "$ax + by = c$ \n",
    "\n",
    "$dx + ey = f$\n",
    "\n",
    "Most these methods rely on linear algebra.\n",
    "\n",
    "The most commonly-used linear algebra packages in python are:\n",
    "\n",
    "- numpy.linalg()\n",
    "- scipy.linalg()\n"
   ]
  },
  {
   "cell_type": "markdown",
   "id": "7153978b",
   "metadata": {},
   "source": [
    "## 1. Graphic solution:\n",
    "\n",
    "This method relies on finding the intersections points between the linear equations.\n",
    "\n",
    "To do this, we:\n",
    "\n",
    "1. Generate a vector for $x$.\n",
    "\n",
    "\n",
    "2. Define: $y_1$ for the first equation, and $y_2$ for the second one.\n",
    "\n",
    "\n",
    "3. Before and after the intersection point, the sign of the difference between the two will change, so we need to compute it with np.sign(y2 -y1).\n",
    "\n",
    "\n",
    "4. Then, we calculate the differences between the vector values produced by the sign function, np.diff(Asign). We will always get zeroes, except at the intersection point.\n",
    "\n",
    "\n",
    "5. Finally, we grab the index (idx) of the non-zero value and see to which x and y values that index corresponds: x[idx] and y[idx].\n",
    "\n",
    "\n",
    "6. This pair (x[idx], y[idx]) is our solution, which you can always double check in a plot.\n"
   ]
  },
  {
   "cell_type": "markdown",
   "id": "c7db546b",
   "metadata": {},
   "source": [
    "## Example:\n",
    "\n",
    "Solve:\n",
    "\n",
    "$2x -3y = 1$ \n",
    "\n",
    "$4x + 5y = -2$"
   ]
  },
  {
   "cell_type": "code",
   "execution_count": 52,
   "id": "41b60757",
   "metadata": {},
   "outputs": [],
   "source": [
    "# Import libraries\n",
    "\n",
    "import matplotlib.pyplot as plt\n",
    "import numpy as np"
   ]
  },
  {
   "cell_type": "code",
   "execution_count": 53,
   "id": "d26b1e21",
   "metadata": {},
   "outputs": [],
   "source": [
    "# Generate vector\n",
    "\n",
    "x = np.arange(-5, 5, 0.01)"
   ]
  },
  {
   "cell_type": "code",
   "execution_count": 54,
   "id": "1b3a27e5",
   "metadata": {},
   "outputs": [],
   "source": [
    "# Get both y values\n",
    "\n",
    "y1 = (2*x - 1)/3\n",
    "\n",
    "y2 = (-2 - 4*x)/5"
   ]
  },
  {
   "cell_type": "code",
   "execution_count": 55,
   "id": "b1e83ba9",
   "metadata": {},
   "outputs": [],
   "source": [
    "# Get sign vector\n",
    "\n",
    "Asign = np.sign(y2 -y1)"
   ]
  },
  {
   "cell_type": "code",
   "execution_count": 5,
   "id": "6e99b776",
   "metadata": {},
   "outputs": [],
   "source": [
    "#print(Asign)"
   ]
  },
  {
   "cell_type": "code",
   "execution_count": 56,
   "id": "f52958ae",
   "metadata": {},
   "outputs": [],
   "source": [
    "# Get difference\n",
    "\n",
    "Adiff = np.diff(Asign)"
   ]
  },
  {
   "cell_type": "code",
   "execution_count": 57,
   "id": "d69b8041",
   "metadata": {},
   "outputs": [],
   "source": [
    "#print(Adiff)\n"
   ]
  },
  {
   "cell_type": "code",
   "execution_count": 58,
   "id": "b0bfc653",
   "metadata": {},
   "outputs": [],
   "source": [
    "# Get index with non-zero value\n",
    "# https://numpy.org/doc/stable/reference/generated/numpy.argwhere.html\n",
    "\n",
    "A_arg = np.argwhere(Adiff).flatten()"
   ]
  },
  {
   "cell_type": "code",
   "execution_count": 60,
   "id": "3b7ce559",
   "metadata": {},
   "outputs": [
    {
     "name": "stdout",
     "output_type": "stream",
     "text": [
      "[495]\n"
     ]
    }
   ],
   "source": [
    "print(A_arg)"
   ]
  },
  {
   "cell_type": "code",
   "execution_count": 62,
   "id": "7dcb5d5e",
   "metadata": {},
   "outputs": [
    {
     "name": "stdout",
     "output_type": "stream",
     "text": [
      "Solution is: -0.050000000000105516 -0.36666666666673703\n"
     ]
    }
   ],
   "source": [
    "print(\"Solution is:\", float(x[A_arg]), float(y1[A_arg]))"
   ]
  },
  {
   "cell_type": "code",
   "execution_count": 63,
   "id": "6f815aeb",
   "metadata": {},
   "outputs": [],
   "source": [
    "# In one go:\n",
    "\n",
    "idx = np.argwhere(np.diff(np.sign(y2 - y1))).flatten()"
   ]
  },
  {
   "cell_type": "code",
   "execution_count": 64,
   "id": "c573ec0f",
   "metadata": {},
   "outputs": [
    {
     "name": "stdout",
     "output_type": "stream",
     "text": [
      "Solution is: -0.050000000000105516 -0.36666666666673703\n"
     ]
    }
   ],
   "source": [
    "print(\"Solution is:\", float(x[idx]), float(y1[idx]))"
   ]
  },
  {
   "cell_type": "code",
   "execution_count": 69,
   "id": "d1cd2fad",
   "metadata": {},
   "outputs": [
    {
     "data": {
      "image/png": "[encoded data removed]",
      "text/plain": [
       "<Figure size 600x400 with 1 Axes>"
      ]
     },
     "metadata": {},
     "output_type": "display_data"
    }
   ],
   "source": [
    "# Graphical solution\n",
    "\n",
    "fig, ax = plt.subplots(figsize=(6,4))\n",
    "ax.plot(x, y1, label = r\"$y_1$\")\n",
    "ax.plot(x, y2, label = r\"$y_2$\")\n",
    "\n",
    "ax.plot(x[idx], y1[idx], 'd', c = 'red', label = \"solution\")\n",
    "\n",
    "ax.legend()\n",
    "ax.set_xlabel(\"x\")\n",
    "ax.set_ylabel(\"y\")\n",
    "plt.show()"
   ]
  },
  {
   "cell_type": "markdown",
   "id": "589e35bd",
   "metadata": {},
   "source": [
    "## 2. Using Cramer's rule"
   ]
  },
  {
   "cell_type": "code",
   "execution_count": 14,
   "id": "4bdaf1d0",
   "metadata": {},
   "outputs": [],
   "source": [
    "def cramer_function(matrix_lhs, values_rhs): \n",
    "    \n",
    "    # Determinant of the original matrix\n",
    "    D = np.linalg.det(matrix_lhs)\n",
    "    \n",
    "    # Create matrices with columns containing alternating matrix + values\n",
    "    matrix1 = np.array([values_rhs, matrix_lhs[:,1]])\n",
    "    matrix2 = np.array([matrix_lhs[:,0], values_rhs])\n",
    "    \n",
    "    # Get determinants of both\n",
    "    D1 = np.linalg.det(matrix1)\n",
    "    D2 = np.linalg.det(matrix2)\n",
    "    \n",
    "    #finding the X1, X2, X3\n",
    "    sol1 = D1/D\n",
    "    sol2 = D2/D\n",
    "    \n",
    "    return sol1, sol2"
   ]
  },
  {
   "cell_type": "code",
   "execution_count": 15,
   "id": "5e7d8531",
   "metadata": {},
   "outputs": [],
   "source": [
    "A = np.array([[2, -3], [4, 5]])"
   ]
  },
  {
   "cell_type": "code",
   "execution_count": 16,
   "id": "4cc38423",
   "metadata": {},
   "outputs": [],
   "source": [
    "#print(A, A.shape)"
   ]
  },
  {
   "cell_type": "code",
   "execution_count": 17,
   "id": "e820970d",
   "metadata": {},
   "outputs": [],
   "source": [
    "b = np.array([1, -2])"
   ]
  },
  {
   "cell_type": "code",
   "execution_count": 18,
   "id": "4d0ed791",
   "metadata": {},
   "outputs": [],
   "source": [
    "sol1, sol2 = cramer_function(A, b)"
   ]
  },
  {
   "cell_type": "code",
   "execution_count": 19,
   "id": "e954deef",
   "metadata": {},
   "outputs": [
    {
     "name": "stdout",
     "output_type": "stream",
     "text": [
      "-0.04545454545454547 -0.3636363636363635\n"
     ]
    }
   ],
   "source": [
    "print(sol1, sol2)"
   ]
  },
  {
   "cell_type": "markdown",
   "id": "8416ae9c",
   "metadata": {},
   "source": [
    "## 3. Matrix solution:"
   ]
  },
  {
   "cell_type": "code",
   "execution_count": 20,
   "id": "cd262bf5",
   "metadata": {},
   "outputs": [],
   "source": [
    "A = np.array([[2, -3], [4, 5]])"
   ]
  },
  {
   "cell_type": "code",
   "execution_count": 21,
   "id": "d988ee3c",
   "metadata": {},
   "outputs": [
    {
     "name": "stdout",
     "output_type": "stream",
     "text": [
      "[[ 2 -3]\n",
      " [ 4  5]]\n"
     ]
    }
   ],
   "source": [
    "print(A)"
   ]
  },
  {
   "cell_type": "code",
   "execution_count": 22,
   "id": "65dddec6",
   "metadata": {},
   "outputs": [],
   "source": [
    "b = np.array([[1], [-2]])"
   ]
  },
  {
   "cell_type": "code",
   "execution_count": 23,
   "id": "d15d5013",
   "metadata": {},
   "outputs": [
    {
     "name": "stdout",
     "output_type": "stream",
     "text": [
      "[[ 1]\n",
      " [-2]]\n"
     ]
    }
   ],
   "source": [
    "print(b)"
   ]
  },
  {
   "cell_type": "code",
   "execution_count": 24,
   "id": "2e9e3761",
   "metadata": {},
   "outputs": [],
   "source": [
    "invA = np.linalg.inv(A)"
   ]
  },
  {
   "cell_type": "code",
   "execution_count": 25,
   "id": "6ebd4f31",
   "metadata": {},
   "outputs": [
    {
     "name": "stdout",
     "output_type": "stream",
     "text": [
      "[[ 0.22727273  0.13636364]\n",
      " [-0.18181818  0.09090909]]\n"
     ]
    }
   ],
   "source": [
    "print(invA)"
   ]
  },
  {
   "cell_type": "code",
   "execution_count": 26,
   "id": "222485de",
   "metadata": {},
   "outputs": [
    {
     "name": "stdout",
     "output_type": "stream",
     "text": [
      "[[1. 0.]\n",
      " [0. 1.]]\n"
     ]
    }
   ],
   "source": [
    "C = A @ invA\n",
    "\n",
    "print(C)"
   ]
  },
  {
   "cell_type": "code",
   "execution_count": 27,
   "id": "0eea6514",
   "metadata": {},
   "outputs": [],
   "source": [
    "X = invA.dot(b)"
   ]
  },
  {
   "cell_type": "code",
   "execution_count": 28,
   "id": "6b3bb266",
   "metadata": {},
   "outputs": [
    {
     "name": "stdout",
     "output_type": "stream",
     "text": [
      "[[-0.04545455]\n",
      " [-0.36363636]]\n"
     ]
    }
   ],
   "source": [
    "print(X)"
   ]
  },
  {
   "cell_type": "code",
   "execution_count": 29,
   "id": "c8a011cb",
   "metadata": {},
   "outputs": [],
   "source": [
    "X1 = invA @ b"
   ]
  },
  {
   "cell_type": "code",
   "execution_count": 30,
   "id": "83b334b0",
   "metadata": {},
   "outputs": [
    {
     "name": "stdout",
     "output_type": "stream",
     "text": [
      "[[-0.04545455]\n",
      " [-0.36363636]]\n"
     ]
    }
   ],
   "source": [
    "print(X1)"
   ]
  },
  {
   "cell_type": "markdown",
   "id": "3f3689a3",
   "metadata": {},
   "source": [
    "## Example 2:\n",
    "\n",
    "Solve: \n",
    "\n",
    "$4x + 3y + 2z = 25$\n",
    "\n",
    "$-2x + 2y + 3z = -10$\n",
    "\n",
    "$3x -5y + 2z = -4$"
   ]
  },
  {
   "cell_type": "code",
   "execution_count": 31,
   "id": "ec5d244a",
   "metadata": {},
   "outputs": [],
   "source": [
    "# Let's define a function:\n",
    "\n",
    "def z1(x, y):  # Which we can call later on\n",
    "    return (-4*x - 3*y + 25)/2 # Must be indented\n",
    "\n",
    "def z2(x, y):  # Which we can call later on\n",
    "    return (+2*x - 2*y - 10)/3 # Must be indented\n",
    "\n",
    "def z3(x, y):  # Which we can call later on\n",
    "    return (-3*x + 5*y - 4)/2 # Must be indented"
   ]
  },
  {
   "cell_type": "code",
   "execution_count": 32,
   "id": "95b34fea",
   "metadata": {},
   "outputs": [],
   "source": [
    "x = np.linspace(-10, 10, 30)  # Define x coordinates\n",
    "y = np.linspace(-10, 10, 30)  # Define y coordinates\n",
    "\n",
    "x_2D, y_2D = np.meshgrid(x, y)  #Create the grid, i.e., from vector coordinates, it generates a matrix of coordinates"
   ]
  },
  {
   "cell_type": "code",
   "execution_count": 33,
   "id": "b8fe4d79",
   "metadata": {},
   "outputs": [],
   "source": [
    "Z1 = z1(x_2D, y_2D) # Call function and get Z\n",
    "Z2 = z2(x_2D, y_2D) # Call function and get Z\n",
    "Z3 = z3(x_2D, y_2D) # Call function and get Z"
   ]
  },
  {
   "cell_type": "code",
   "execution_count": 34,
   "id": "6a60f103",
   "metadata": {},
   "outputs": [
    {
     "data": {
      "image/png": "[encoded data removed]",
      "text/plain": [
       "<Figure size 640x480 with 1 Axes>"
      ]
     },
     "metadata": {},
     "output_type": "display_data"
    }
   ],
   "source": [
    "# Now we do some plotting:\n",
    "fig = plt.figure()\n",
    "\n",
    "ax = plt.axes(projection='3d')\n",
    "ax.contour3D(x_2D, y_2D, Z1, 500, cmap='Blues') # Creates 'n=100' contours at different Z to make the surface\n",
    "ax.contour3D(x_2D, y_2D, Z2, 500, cmap='Reds') # Creates 'n=100' contours at different Z to make the surface\n",
    "ax.contour3D(x_2D, y_2D, Z3, 500, cmap='Greens') # Creates 'n=100' contours at different Z to make the surface\n",
    "\n",
    "ax.set_xlabel('x')  # Customised labels for axes\n",
    "ax.set_ylabel('y')\n",
    "ax.set_zlabel('z')\n",
    "\n",
    "plt.show()"
   ]
  },
  {
   "cell_type": "markdown",
   "id": "3b675240",
   "metadata": {},
   "source": [
    "### Matrix solution of example 2:\n"
   ]
  },
  {
   "cell_type": "code",
   "execution_count": 35,
   "id": "19b1f2cf",
   "metadata": {},
   "outputs": [],
   "source": [
    "A = np.array([[4, 3, 2], [-2, 2, 3], [3, -5, 2]])"
   ]
  },
  {
   "cell_type": "code",
   "execution_count": 36,
   "id": "bcf877f5",
   "metadata": {},
   "outputs": [
    {
     "name": "stdout",
     "output_type": "stream",
     "text": [
      "[[ 4  3  2]\n",
      " [-2  2  3]\n",
      " [ 3 -5  2]]\n"
     ]
    }
   ],
   "source": [
    "print(A)"
   ]
  },
  {
   "cell_type": "code",
   "execution_count": 37,
   "id": "5d2c3a2e",
   "metadata": {},
   "outputs": [],
   "source": [
    "b = np.array([25, -10, -4])"
   ]
  },
  {
   "cell_type": "code",
   "execution_count": 38,
   "id": "0bb91c4d",
   "metadata": {},
   "outputs": [
    {
     "name": "stdout",
     "output_type": "stream",
     "text": [
      "[ 25 -10  -4]\n"
     ]
    }
   ],
   "source": [
    "print(b)"
   ]
  },
  {
   "cell_type": "code",
   "execution_count": 39,
   "id": "b8954a87",
   "metadata": {},
   "outputs": [
    {
     "name": "stdout",
     "output_type": "stream",
     "text": [
      "[ 5.  3. -2.]\n"
     ]
    }
   ],
   "source": [
    "X = np.linalg.inv(A).dot(b)\n",
    "print(X)"
   ]
  },
  {
   "cell_type": "markdown",
   "id": "400e2565",
   "metadata": {},
   "source": [
    "## 4. Solvinf linear equations system wth symbolic algebra (sympy)\n",
    "\n",
    "#### Documentation:\n",
    "https://www.sympy.org/en/index.html\n",
    "\n",
    "\n",
    "#### About Sympy:\n",
    "SymPy is a Python library for symbolic mathematics. It aims to become a full-featured computer algebra system (CAS) while keeping the code as simple as possible in order to be comprehensible and easily extensible. SymPy is written entirely in Python.\n",
    "\n",
    "conda install sympy"
   ]
  },
  {
   "cell_type": "code",
   "execution_count": 40,
   "id": "92a2b21e",
   "metadata": {},
   "outputs": [],
   "source": [
    "import sympy as sp\n",
    "from sympy.solvers.solveset import linsolve"
   ]
  },
  {
   "cell_type": "markdown",
   "id": "0047f177",
   "metadata": {},
   "source": [
    "Solve: \n",
    "\n",
    "$4x + 3y + 2z = 25$\n",
    "\n",
    "$-2x + 2y + 3z = -10$\n",
    "\n",
    "$3x -5y + 2z = -4$"
   ]
  },
  {
   "cell_type": "markdown",
   "id": "4c8b505c",
   "metadata": {},
   "source": [
    "### a) Based on a list of equations:"
   ]
  },
  {
   "cell_type": "markdown",
   "id": "71b66a6f",
   "metadata": {},
   "source": [
    "#### 1. Define symbols"
   ]
  },
  {
   "cell_type": "code",
   "execution_count": 41,
   "id": "9973ec5c",
   "metadata": {},
   "outputs": [],
   "source": [
    "# 1. Define symbols\n",
    "\n",
    "x, y, z = sp.symbols('x, y, z')"
   ]
  },
  {
   "cell_type": "markdown",
   "id": "baa52a7d",
   "metadata": {},
   "source": [
    "#### 2) List of equations:"
   ]
  },
  {
   "cell_type": "code",
   "execution_count": 42,
   "id": "7f1f568d",
   "metadata": {},
   "outputs": [
    {
     "name": "stdout",
     "output_type": "stream",
     "text": [
      "{(5, 3, -2)}\n"
     ]
    }
   ],
   "source": [
    "solution = linsolve([4*x + 3*y + 2*z - 25,\\\n",
    "                     -2*x + 2*y + 3*z + 10,\\\n",
    "                     3*x - 5*y + 2*z + 4], (x, y, z))\n",
    "\n",
    "print(solution)"
   ]
  },
  {
   "cell_type": "markdown",
   "id": "672b1fff",
   "metadata": {},
   "source": [
    "### b) Using an augmented matrix:"
   ]
  },
  {
   "cell_type": "code",
   "execution_count": 43,
   "id": "65f28b1b",
   "metadata": {},
   "outputs": [
    {
     "name": "stdout",
     "output_type": "stream",
     "text": [
      "{(5, 3, -2)}\n",
      "(5, 3, -2)\n",
      "5\n"
     ]
    }
   ],
   "source": [
    "solution2 = linsolve(sp.Matrix(([4, 3, 2, 25],\\\n",
    "                                [-2, 2, 3, -10], [3, -5, 2, -4])), (x, y, z))\n",
    "\n",
    "print(solution2)\n",
    "\n",
    "solution2_list = list(solution2)\n",
    "\n",
    "print(solution2_list[0])\n",
    "print(solution2_list[0][0])"
   ]
  },
  {
   "cell_type": "markdown",
   "id": "52a35134",
   "metadata": {},
   "source": [
    "### c) Using a numpy-like matrix (A*x = b) form"
   ]
  },
  {
   "cell_type": "code",
   "execution_count": 44,
   "id": "9afca8fe",
   "metadata": {},
   "outputs": [
    {
     "name": "stdout",
     "output_type": "stream",
     "text": [
      "Matrix([[4, 3, 2, 25], [-2, 2, 3, -10], [3, -5, 2, -4]])\n",
      "Matrix([[4, 3, 2], [-2, 2, 3], [3, -5, 2]])\n",
      "Matrix([[25], [-10], [-4]])\n"
     ]
    }
   ],
   "source": [
    "M = sp.Matrix(([4, 3, 2, 25], [-2, 2, 3, -10],\\\n",
    "               [3, -5, 2, -4]))\n",
    "\n",
    "print(M)\n",
    "\n",
    "print(M[:, :-1])\n",
    "print(M[:, -1])"
   ]
  },
  {
   "cell_type": "code",
   "execution_count": 45,
   "id": "4a207287",
   "metadata": {},
   "outputs": [],
   "source": [
    "system = A, b = M[:, :-1], M[:, -1]"
   ]
  },
  {
   "cell_type": "code",
   "execution_count": 46,
   "id": "99bcee3c",
   "metadata": {},
   "outputs": [
    {
     "name": "stdout",
     "output_type": "stream",
     "text": [
      "{(5, 3, -2)}\n"
     ]
    }
   ],
   "source": [
    "solution3 = linsolve(system, x, y, z)\n",
    "\n",
    "print(solution3)"
   ]
  },
  {
   "cell_type": "code",
   "execution_count": null,
   "id": "50a6fa0d",
   "metadata": {},
   "outputs": [],
   "source": []
  }
 ],
 "metadata": {
  "kernelspec": {
   "display_name": "Python 3 (ipykernel)",
   "language": "python",
   "name": "python3"
  },
  "language_info": {
   "codemirror_mode": {
    "name": "ipython",
    "version": 3
   },
   "file_extension": ".py",
   "mimetype": "text/x-python",
   "name": "python",
   "nbconvert_exporter": "python",
   "pygments_lexer": "ipython3",
   "version": "3.7.16"
  }
 },
 "nbformat": 4,
 "nbformat_minor": 5
}
