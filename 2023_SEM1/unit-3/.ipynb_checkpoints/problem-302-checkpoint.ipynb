{
 "cells": [
  {
   "cell_type": "markdown",
   "id": "5c62924f",
   "metadata": {},
   "source": [
    "# Integrals (data)\n",
    "\n",
    "\n",
    "## Example:\n",
    "\n",
    "Recall the example of evolving mixed fractions of pigments in a wind-cloud simulation.\n",
    "\n",
    "\n",
    "We have three mixing fractions (one for each pigment) versus time, and we want to calculate:\n",
    "\n",
    "1) the rate at which the pigments mix, and\n",
    "\n",
    "2) the total amount of mixed mass of each pigment evaluated from such rate.\n",
    "\n",
    "3) compare that to the actual amount of mixed mass at the final time."
   ]
  },
  {
   "cell_type": "code",
   "execution_count": 1,
   "id": "cdfeb850",
   "metadata": {},
   "outputs": [],
   "source": [
    "import pandas as pd\n",
    "import numpy as np\n",
    "import matplotlib.pyplot as plt"
   ]
  },
  {
   "cell_type": "code",
   "execution_count": 2,
   "id": "9ff937a3",
   "metadata": {},
   "outputs": [],
   "source": [
    "df = pd.read_csv(\"./sample-data/data_wind_cloud_mix.txt\", sep = \"\\s+\")"
   ]
  },
  {
   "cell_type": "code",
   "execution_count": 4,
   "id": "e001aecf",
   "metadata": {},
   "outputs": [],
   "source": [
    "#print(df)"
   ]
  },
  {
   "cell_type": "code",
   "execution_count": 5,
   "id": "6faba657",
   "metadata": {},
   "outputs": [],
   "source": [
    "time = np.array(df[\"Time\"])\n",
    "\n",
    "pigment1 = np.array(df[\"MixedMass1\"])\n",
    "pigment2 = np.array(df[\"MixedMass2\"])\n",
    "pigment3 = np.array(df[\"MixedMass3\"])"
   ]
  },
  {
   "cell_type": "code",
   "execution_count": 7,
   "id": "43f3906b",
   "metadata": {},
   "outputs": [],
   "source": [
    "#print(time.shape, pigment1.shape)"
   ]
  },
  {
   "cell_type": "code",
   "execution_count": null,
   "id": "118973a2",
   "metadata": {},
   "outputs": [],
   "source": [
    "# Fig enviroment\n",
    "\n",
    "fig, ax = plt.subplots(figsize=(5,4))\n",
    "\n",
    "ax.plot(time, pigment1, c='red', label = \"pigment 1\")\n",
    "ax.plot(time, pigment2, c='blue', label = \"pigment 2\")\n",
    "ax.plot(time, pigment3, c='green', label = \"pigment 3\")\n",
    "\n",
    "plt.grid()\n",
    "\n",
    "plt.legend()\n",
    "\n",
    "plt.xlabel(r\"$t$\")\n",
    "plt.ylabel(r\"$m_i$\")\n",
    "\n",
    "plt.show()"
   ]
  },
  {
   "cell_type": "markdown",
   "id": "905c6add",
   "metadata": {},
   "source": [
    "## Get rate of mixing:"
   ]
  },
  {
   "cell_type": "code",
   "execution_count": null,
   "id": "346ad3b9",
   "metadata": {},
   "outputs": [],
   "source": [
    "dpigment1 = np.gradient(pigment1, time[1]-time[0], axis = 0)\n",
    "dpigment2 = np.gradient(pigment2, time[1]-time[0], axis = 0)\n",
    "dpigment3 = np.gradient(pigment3, time[1]-time[0], axis = 0)"
   ]
  },
  {
   "cell_type": "code",
   "execution_count": null,
   "id": "7632470b",
   "metadata": {},
   "outputs": [],
   "source": [
    "# Fig enviroment\n",
    "\n",
    "fig, ax = plt.subplots(figsize=(5,4))\n",
    "\n",
    "ax.plot(time, dpigment1, c='red', label = \"pigment 1\")\n",
    "ax.plot(time, dpigment2, c='blue', label = \"pigment 2\")\n",
    "ax.plot(time, dpigment3, c='green', label = \"pigment 3\")\n",
    "plt.xlabel(r\"$t$\")\n",
    "plt.ylabel(r\"$\\dot{m}_i$\")\n",
    "\n",
    "plt.show()"
   ]
  },
  {
   "cell_type": "markdown",
   "id": "f116a9b5",
   "metadata": {},
   "source": [
    "## Total mixed mass\n",
    "\n",
    "The total mixed mass of each pigment corresponds to the last value of each array:\n"
   ]
  },
  {
   "cell_type": "code",
   "execution_count": null,
   "id": "d9f4f3fb",
   "metadata": {},
   "outputs": [],
   "source": [
    "print(pigment1[-1])\n",
    "print(pigment2[-1])\n",
    "print(pigment3[-1])"
   ]
  },
  {
   "cell_type": "markdown",
   "id": "b7984d7d",
   "metadata": {},
   "source": [
    "## Get integral under curves:\n",
    "\n",
    "Another way is to integrate again, the values should be close to the ones above:"
   ]
  },
  {
   "cell_type": "code",
   "execution_count": null,
   "id": "0dfcf683",
   "metadata": {},
   "outputs": [],
   "source": [
    "import scipy as sc\n",
    "\n",
    "from scipy import integrate"
   ]
  },
  {
   "cell_type": "markdown",
   "id": "118540cf",
   "metadata": {},
   "source": [
    "### Trapezoid method:"
   ]
  },
  {
   "cell_type": "code",
   "execution_count": null,
   "id": "e8e2dfd4",
   "metadata": {},
   "outputs": [],
   "source": [
    "sc_trapezoid1 = sc.integrate.trapz(dpigment1,time)\n",
    "sc_trapezoid2 = sc.integrate.trapz(dpigment2,time)\n",
    "sc_trapezoid3 = sc.integrate.trapz(dpigment3,time)"
   ]
  },
  {
   "cell_type": "code",
   "execution_count": null,
   "id": "639c0d98",
   "metadata": {},
   "outputs": [],
   "source": [
    "print(sc_trapezoid1)\n",
    "print(sc_trapezoid2)\n",
    "print(sc_trapezoid3)"
   ]
  },
  {
   "cell_type": "markdown",
   "id": "cef17789",
   "metadata": {},
   "source": [
    "### Simpson method:"
   ]
  },
  {
   "cell_type": "code",
   "execution_count": null,
   "id": "2178ad34",
   "metadata": {},
   "outputs": [],
   "source": [
    "sc_simpson1 = sc.integrate.simpson(dpigment1,time)\n",
    "sc_simpson2 = sc.integrate.simpson(dpigment2,time)\n",
    "sc_simpson3 = sc.integrate.simpson(dpigment3,time)"
   ]
  },
  {
   "cell_type": "code",
   "execution_count": null,
   "id": "7a154f2f",
   "metadata": {},
   "outputs": [],
   "source": [
    "print(sc_simpson1)\n",
    "print(sc_simpson2)\n",
    "print(sc_simpson3)"
   ]
  }
 ],
 "metadata": {
  "kernelspec": {
   "display_name": "Python 3 (ipykernel)",
   "language": "python",
   "name": "python3"
  },
  "language_info": {
   "codemirror_mode": {
    "name": "ipython",
    "version": 3
   },
   "file_extension": ".py",
   "mimetype": "text/x-python",
   "name": "python",
   "nbconvert_exporter": "python",
   "pygments_lexer": "ipython3",
   "version": "3.7.16"
  }
 },
 "nbformat": 4,
 "nbformat_minor": 5
}
