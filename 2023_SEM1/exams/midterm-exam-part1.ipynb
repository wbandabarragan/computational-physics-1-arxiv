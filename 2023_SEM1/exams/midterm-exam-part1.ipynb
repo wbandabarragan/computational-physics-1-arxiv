{
 "cells": [
  {
   "cell_type": "markdown",
   "id": "379c335b",
   "metadata": {},
   "source": [
    "# Midterm Exam\n",
    "\n",
    "- **Subject:** Computational Physics I\n",
    "- **Date:** Tuesday 27 June 2023\n",
    "- **Credits:** 30 points\n",
    "- **Number of problems:** 6\n",
    "- **Type of evaluation:** Midterm Exam\n",
    "\n",
    "## Instructions:\n",
    "\n",
    "- When you finish, please send your .ipynb file via email to wbanda@yachaytech.edu.ec\n",
    "\n",
    "\n",
    "- The exam is open-book and has two parts:\n",
    "\n",
    "**Part I** should be submitted **individually** by the end of the class today.\n",
    "\n",
    "        \n",
    "**Part II** can be submitted **individually or in pairs** by Friday 7th July (by the end of the day).\n",
    "\n",
    "\n",
    "- You can call your notebook with your surname/s, e.g. name.ipynb, and also include your name/s in the notebook.\n",
    "\n",
    "\n",
    "- Within a **single python notebook**, add the following:"
   ]
  },
  {
   "cell_type": "markdown",
   "id": "4070e3bf",
   "metadata": {},
   "source": [
    "# Name:"
   ]
  },
  {
   "cell_type": "markdown",
   "id": "258824dd",
   "metadata": {},
   "source": [
    "## Part I (12 points): in class\n",
    "\n",
    "### 1. (4 points) Orbital dynamics\n",
    "This problem consists of computing and displaying the orbits of two of Earth's sattelites around the Sun:\n",
    "\n",
    "- The Moon with an orbital period of $T_{moon} = 27.3\\,\\rm days$ around our planet and located at a distance of $3.8\\times 10^5\\,\\rm km$ from Earth.\n",
    "\n",
    "\n",
    "- A human-made satellite in Geosynchronous Earth Orbit (GEO) with an orbital period of $T_{geo} = 1\\,\\rm day$ around our planet and located at a distance of $3.6 \\times 10^4\\,\\rm km$ from Earth.\n",
    "\n",
    "For simplicity, we can assume that all the orbits are circular. Thus, the Earth's orbit around the Sun is described by the following parametric equations:\n",
    "\n",
    "$$x_{earth} = R\\,\\cos(\\omega_{earth}\\,t)$$\n",
    "\n",
    "$$y_{earth} = R\\,\\sin(\\omega_{earth}\\,t)$$\n",
    "\n",
    "where $R=1.5\\times 10^8\\,\\rm km$ is the Sun-Earth distance, $\\omega_{earth}=\\frac{2\\pi}{T_{earth}}$, and $T_{earth} = 365\\,\\rm days$.\n",
    "\n",
    "\n",
    "Similarly, the orbits of each satellite ($i$) is the sum of its position relative to Earth and the position of Earth relative to the Sun (which is at the origin), so:\n",
    "\n",
    "$$x_{i} = x_{earth} + r_i\\,\\cos(\\omega_{i}\\,t)$$\n",
    "\n",
    "$$y_{i} = y_{earth} + r_i\\,\\sin(\\omega_{i}\\,t)$$\n",
    "\n",
    "where $i$ refers to either the Moon or the GEO satellite, $r_i$ to their distances from Earth, and $\\omega_{i}=\\frac{2\\pi}{T_{i}}$ refers to their respective angular frequencies.\n",
    "\n",
    "\n",
    "(a) Create a python function that takes the period ($T$) as argument and returns the angular frequency ($\\omega$) of any body. Then, call your function and assign to three global Python variables the angular frequencies of: i) Earth while orbiting around the Sun, (ii) the Moon, and (iii) the GEO satellite orbiting around Earth.\n",
    "\n",
    "(b) Create a vector for time, $t$, that spans from $0$ to $365 \\,\\rm days$, and define $R$ and $r_i$ as global variables.\n",
    "\n",
    "(c) Create a python function that takes $R$, $r_i$, $t$ as arguments and returns $x_{i}$ and $y_{i}$ for either the Moon and the GEO satellite. Then, call your function, retrieve $x_{i}$ and $y_{i}$, and save them into a CSV file with 7 columns: $t$, $x_{earth}$, $y_{earth}$, $x_{moon}$, $y_{moon}$, $x_{geo}$, $y_{geo}$.\n",
    "\n",
    "(d) Make a 2D Cartesian plot, with the Sun in the origin, showing the orbits of our planet, the Moon, and the GEO satellite around the Sun for a full year. Which orbit is more intricate?"
   ]
  },
  {
   "cell_type": "markdown",
   "id": "04641805",
   "metadata": {},
   "source": [
    "### 2. (4 points) Spectral fitting\n",
    "\n",
    "This problem consists of fitting spectral lines and finding the relative velocities between multiple Gaussian components (interstellar gas clouds).\n",
    "\n",
    "The supplied data file:\n",
    "\n",
    "https://github.com/wbandabarragan/computational-physics-1/tree/main/exams/data_sets/j094242-7731_gass_spectra.txt\n",
    "\n",
    "\n",
    "contains observational data from the Parkes radio telescope (see https://en.wikipedia.org/wiki/Parkes_Observatory).\n",
    "\n",
    "The data corresponds to $\\rm H_{I}$ clouds in the Chamaeleon molecular cloud complex (see https://en.wikipedia.org/wiki/Chamaeleon_complex).\n",
    "\n",
    "This data file contains emission line features from neutral hydrogen ($\\rm H_{I}$, i.e., $\\lambda = 21\\,\\rm cm$) in the Milky Way. The first column has gas velocities (in $\\rm km\\,s^{-1}$) and the second column emission intensity (called brightness temperature in $K$). We can assume that each gas cloud in our line of sight produces a Gaussian emission feature that is only dependent on the column density if the gas is optically thin.\n",
    "\n",
    "Carry out the following calculations using Python: \n",
    "\n",
    "(a) Read in the spectral data (velocity and intensity) from the file, and make a plot of the spectrum (velocity on the x-axis and intensity on the y-axis). How many \"$\\rm H_{I}$ clouds\" do you see? Note that each Gaussian-like feature represents a separate $\\rm H_{I}$ cloud.\n",
    "\n",
    "(b) Define a multi-Gaussian model for the spectrum and fit your model to the spectrum. **Hint:** a model with 3 Gaussians would be sufficient.\n",
    "\n",
    "(c) Make a high-quality, labeled plot that shows the original spectrum, the overall multi-Gaussian fit, and also each individual Gaussian component.\n",
    "\n",
    "(d) Find the (velocity, intensity) coordinates of the maximum of each Gaussian component. Use the computed coordinates to compare the central velocities of the clouds, and calculate the relative velocity between the clouds. **Note:** the velocity coordinates of the maxima are called central velocities.\n"
   ]
  },
  {
   "cell_type": "markdown",
   "id": "7f467101",
   "metadata": {},
   "source": [
    "### 3. (4 points) Stochastic 2D velocity fields\n",
    "\n",
    "This problem aims at producing stochastic velocity fields in 2D, which can then be compared with simulatons of 2D turbulence.\n",
    "\n",
    "(a) Generate a 2D meshgrid with $x\\in [-2,2]$ an $y\\in [-2,2]$ and $[N\\times N]=[200\\times 200]$ grid cells.\n",
    "\n",
    "(b) Create a Python function that takes $N=200$ as an argument and returns 2D arrays with the x- and y-components of 3 stochastic velocity fields:\n",
    "\n",
    "- A random field. **Hint:** use np.random.rand()\n",
    "\n",
    "- A Gaussian random field. **Hint:** use np.random.randn()\n",
    "\n",
    "- A log-normal random field. **Hint:** use np.random.lognormal()\n",
    "\n",
    "**Notes:** In all cases, you can use any default values as fiducial parameters or any values that you consider adequate because the distributions can always be re-normalised. Also, remember that the seed needs to be fixed (see np.random.seed()) when you generate random numbers so that the results are reproducible.\n",
    "\n",
    "(c) Calculate the modulus of each stochastic velocity field, and make a three-panel plot showing the three 1D histograms of the modulus of each velocity field.\n",
    "\n",
    "(d) Make a three-panel plot showing the 3 maps of the resulting moduli of the velocity fields. Comment on the results from (c) and (d), how these stochastic velocity fields differ from one another?"
   ]
  }
 ],
 "metadata": {
  "kernelspec": {
   "display_name": "Python 3 (ipykernel)",
   "language": "python",
   "name": "python3"
  },
  "language_info": {
   "codemirror_mode": {
    "name": "ipython",
    "version": 3
   },
   "file_extension": ".py",
   "mimetype": "text/x-python",
   "name": "python",
   "nbconvert_exporter": "python",
   "pygments_lexer": "ipython3",
   "version": "3.7.16"
  }
 },
 "nbformat": 4,
 "nbformat_minor": 5
}
