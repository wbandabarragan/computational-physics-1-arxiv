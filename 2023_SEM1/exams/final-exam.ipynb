{
 "cells": [
  {
   "cell_type": "markdown",
   "id": "ca065de3",
   "metadata": {},
   "source": [
    "# Final Exam\n",
    "\n",
    "- **Subject:** Computational Physics I\n",
    "- **Date:** Tuesday 8 August 2023\n",
    "- **Credits:** 30 points\n",
    "- **Number of problems:** 3\n",
    "- **Type of evaluation:** Final Exam"
   ]
  },
  {
   "cell_type": "markdown",
   "id": "9033a631",
   "metadata": {},
   "source": [
    "## Instructions:\n",
    "\n",
    "- When you finish, please send your .ipynb file via email to wbanda@yachaytech.edu.ec\n",
    "\n",
    "\n",
    "- The exam is open-book, **individual**, and has two parts:\n",
    "\n",
    "**Part 1** should be submitted by the end of the class today.\n",
    "\n",
    "        \n",
    "**Part 2** can be submitted by Wednesday 9th August (by 17h00). **Late submissions won't be accepted.**\n",
    "\n",
    "\n",
    "- You can call your notebook with your surname, e.g. name.ipynb, and also include your name in the notebook.\n",
    "\n",
    "\n",
    "- Within a **single python notebook**, add the following:"
   ]
  },
  {
   "cell_type": "markdown",
   "id": "ab4c8caf",
   "metadata": {},
   "source": [
    "## PART 1 (in class)"
   ]
  },
  {
   "cell_type": "markdown",
   "id": "f90c1537",
   "metadata": {},
   "source": [
    "## Name:"
   ]
  },
  {
   "cell_type": "markdown",
   "id": "9fb64bb3",
   "metadata": {},
   "source": [
    "## 1. (9 points): Describing weather balloon flight\n",
    "\n",
    "Weather balloons are used to study the atmospheric conditions in specific geographical locations. They carry several instruments on board, which collect data on atmospheric pressure, temperature, wind speed, etc, which are send back to the ground using radio frequencies.\n",
    "\n",
    "This problem consists on reading a data file collected by one of such balloons (the Eagle weather balloon, see: https://datamillnorth.org/dataset/weather-balloon-data) with the aim of understanding the correlations between atmospheric parameters and the balloon flight dynamics.\n",
    "\n",
    "#### Download data file:\n",
    "\n",
    "https://github.com/wbandabarragan/computational-physics-1/blob/main/exams/data_sets/weather-balloon-data.csv\n",
    "\n",
    "#### Data I/O / manipulation:\n",
    "\n",
    "(a) Create a python function that uses pandas to open the CSV data file containing the information on the Eagle weather balloon flight and returns the following arrays:\n",
    "\n",
    "- time\n",
    "- altitude\n",
    "- pressure\n",
    "\n",
    "\n",
    "(b) Inspect the data arrays. You will notice that the time stamps are given as: \"HH:MM:SS\", so you should convert them into seconds. Create a python function that takes the \"HH:MM:SS\" strings and returns the time in seconds (**Hint:** you can use the **time_str.split()** function for this).\n",
    "\n",
    "(c) Use your function from (b) to convert the time vector to seconds. **Hint:** the original time stamps are strings, so you would probably need a for loop for this.\n",
    "\n",
    "\n",
    "#### 1D pressure model via regression:\n",
    "\n",
    "(d) Now, you are going to create a 1D pressure model. Make a plot of pressure in the Y axis versus altitude in the X axis. Write down a physically motivated model with free parameters to describe the data. **Hint:** you have done something similar in CW2.\n",
    "\n",
    "(e) Carry out a regression to fit the data and find the free parameters in your model. Report the resulting function, and make a labeled plot showing the data and the fit. **Hint:** you may need to provide ansatsz for the free parameters.\n",
    "\n",
    "#### Balloon dynamics:\n",
    "\n",
    "(f) In this section, you will study the dynamics of the balloon. Make a plot of altitude in the Y axis versus time in the X axis. Briefly describe what you see.\n",
    "\n",
    "(g) Determine and print the time stamp at which the baloon reached its highest altitude. How long did it take it to arrive there?\n",
    "\n",
    "(h) Calculate the vertical velocity and acceleration of the balloon.\n",
    "\n",
    "(i) Make a 3-panel figure showing 3 plots: one for the height, one the vertical velocity and one for the acceleration, all versus time. What kind of motion does the balloon follow?"
   ]
  },
  {
   "cell_type": "markdown",
   "id": "7df7a7ee",
   "metadata": {},
   "source": [
    "## 2. (11 points) : Understanding the Solar cycle\n",
    "\n",
    "This problem consists of analysing the underlying periodity of the observed sunspots on the Sun (see some images here: https://en.wikipedia.org/wiki/Sunspot). The data file provided below contains the observed number of sunspots on the Sun for each month since January 1749 (month 0). The file contains two columns of numbers, the first representing the month and the second being the sunspot number.\n",
    "\n",
    "\n",
    "#### Download data file:\n",
    "https://github.com/wbandabarragan/computational-physics-1/blob/main/exams/data_sets/sunspots.txt\n",
    "\n",
    "#### Sunspot count:\n",
    "\n",
    "(a) Write a python function that reads the data in the file and returns two arrays:\n",
    "- time\n",
    "- sunspot count number\n",
    "\n",
    "(b) Call your function above and make a labeled plot of number of sunspots as a function of time. \n",
    "\n",
    "(c) Briefly comment, what features do you see in the data? What physical mechanism do you think causes this behaviour?\n",
    "\n",
    "#### Solar cycle - analysis 1:\n",
    "\n",
    "(d) Here you will estimate the length of the Solar cycle in months in a very rough way. Write a function that finds the peaks of sunspot count and returns two arrays (jointly with a CSV file) for the:\n",
    "\n",
    "- month where a peak was found\n",
    "- respective sunspot count\n",
    "\n",
    "(e) Call your function and report the peaks on the plot of sunspot count versus time.\n",
    "\n",
    "(f) Write a funtion that calculates the average of the distance between consecutive peaks. Such average will be the first estimate for the length of the Solar cycle. Call your funtion and print the value.\n",
    "\n",
    "#### Solar cycle - analysis 2:\n",
    "\n",
    "(g) Now we will use a more professional approach, which relies on Fourier analysis. Write a function that computes the Fourier transform of the sunspot data and returns the Fourier power and the respective frequencies.\n",
    "\n",
    "(h) Call your function and make a plot of the 1D Fourier power spectrum of the sunspot signal. Are there peaks at nonzero frequency values? What do they represent? \n",
    "\n",
    "(i) Find the frequency of the highest nonzero peak. Using this frequency, calculate and print the Solar cycle period and compare it to the one obtained in (f).\n",
    "\n",
    "#### Fourier filtering:\n",
    "\n",
    "(j) Write a function that filters outs all frequencies lower and higher than the frequency of the peak and returns the inverse Fourier transformed signal.\n",
    "\n",
    "(k) Call your funtion and make a plot. Compare it to the original signal. What kind of signal do you get and why?\n",
    "\n",
    "\n",
    "#### Rerefence:\n",
    "Newman M, Computational Physics"
   ]
  },
  {
   "cell_type": "markdown",
   "id": "69e49d86",
   "metadata": {},
   "source": [
    "## PART 2 (take-home):"
   ]
  },
  {
   "cell_type": "markdown",
   "id": "ee440cf0",
   "metadata": {},
   "source": [
    "## Name:"
   ]
  },
  {
   "cell_type": "markdown",
   "id": "a369a3d6",
   "metadata": {},
   "source": [
    "## 3. (10 points) : Removing artefacts from scientific images\n",
    "\n",
    "This problem consist of using Fourier analysis to remove undesired artefacts from scientific images of the Moon.\n",
    "\n",
    "The file provided below **First_View_of_Earth_from_Moon3.jpeg** contains an image of the Moon, taken by one of the Lunar Orbiter satellites (1966 - 1967). The Lunar Orbiters (https://nssdc.gsfc.nasa.gov/planetary/lunar/lunarorb.html) were mapping the Moon by taking pictures with film cameras. The film was scanned by a machine on the satellite and sent back to Earth through radio signals. Because of the scanning method there are clear artefacts in the images. Your task is to remove them.\n",
    "\n",
    "#### Download image file:\n",
    "\n",
    "https://github.com/wbandabarragan/computational-physics-1/blob/main/exams/data_sets/First_View_of_Earth_from_Moon3.jpeg\n",
    "\n",
    "#### Image I/O:\n",
    "\n",
    "(a) Write a python function that reads the data from the **First_View_of_Earth_from_Moon3.jpeg** file, selects and plots one of the 3 layers of the image and returns that image layer as a python array.\n",
    "\n",
    "(b) Briefly comment, what type of artefacts do you see in the image?\n",
    "\n",
    "\n",
    "#### 2D Fourier transform:\n",
    "\n",
    "(c) Create a function that Fourier transforms this image and returns a two-panel figure with the original image on the left and a labeled 2D plot of its Fourier image on the right.\n",
    "\n",
    "(d) Make a slice through the middle of the Fourier image in the same direction as the artefacts and plot the result. \n",
    "\n",
    "(e) Briefly comment, how do the image artefacts look in Fourier space?\n",
    "\n",
    "#### Masking and filtering:\n",
    "\n",
    "(f) Create an appropriate mask for the Fourier image that matches the features associated with the image artefacts. Plot the mask.\n",
    "\n",
    "(g) Use your mask from (f) to remove the artefacts from the Fourier image.\n",
    "\n",
    "(h) Inverse Fourier transform the masked Fourier image and make a two-panel figure showing the original image on the left and the new filtered image (without the artefacts) on the right.\n",
    "\n",
    "#### Artefact-free image:\n",
    "\n",
    "(i) Create a function that combines all the previous steps. The function should receive an image file, apply the filter and plot the original and the filtered images. \n",
    "\n",
    "(j) Apply the filter function from (i) to the other two channels of the image. Using the output clean images, reconstruct the 3-layered image and make a two panel figure showing the original 3-layered image and your new artefact-free 3-layered image."
   ]
  }
 ],
 "metadata": {
  "kernelspec": {
   "display_name": "Python 3 (ipykernel)",
   "language": "python",
   "name": "python3"
  },
  "language_info": {
   "codemirror_mode": {
    "name": "ipython",
    "version": 3
   },
   "file_extension": ".py",
   "mimetype": "text/x-python",
   "name": "python",
   "nbconvert_exporter": "python",
   "pygments_lexer": "ipython3",
   "version": "3.7.16"
  }
 },
 "nbformat": 4,
 "nbformat_minor": 5
}
