{
 "cells": [
  {
   "cell_type": "markdown",
   "id": "0084c909",
   "metadata": {},
   "source": [
    "# Ordinary Differential Equations\n",
    "\n",
    "A **differential equation** is a relationship between a function, $f(x)$, its independent variable, $x$, and any number of its derivatives.\n",
    "\n",
    "An **ordinary differential equation** or **ODE** is a differential equation where the independent variable, and therefore also the derivatives, is in one dimension. An ODE can be written as:\n",
    "\n",
    "$$\n",
    "F\\left(x, f(x), \\frac{df(x)}{dx}, \\frac{d^2f(x)}{dx^2}, \\frac{d^3f(x)}{dx^3}, \\ldots, \\frac{d^{n-1}f(x)}{dx^{n-1}}\\right) = \\frac{d^{n}f(x)}{dx^{n}},\n",
    "$$\n",
    "\n",
    "where $F$ is an arbitrary function that incorporates one or all of the input arguments, and $n$ is the **order** of the differential equation.\n",
    "\n",
    "This equation is referred to as an **$n^{\\mathrm{th}}$ order ODE**.\n",
    "\n",
    "\n",
    "**Reference:**\n",
    "\n",
    "https://pythonnumericalmethods.berkeley.edu/notebooks/chapter22.00-ODE-Initial-Value-Problems.html"
   ]
  },
  {
   "cell_type": "markdown",
   "id": "1a09781c",
   "metadata": {},
   "source": [
    "## Initial value problems:\n",
    "\n",
    "\n",
    "A common set of known values for an ODE solution is the **initial value**.\n",
    "\n",
    "For an ODE of order $n$, the initial value is a known value for the $0^{\\mathrm{th}}$ to $(n-1)^{\\mathrm{th}}$ derivatives at $x = 0, f(0), f^{(1)}(0), f^{(2)}(0),\\ldots, f^{(n-1)}(0)$.\n",
    "\n",
    "For a certain class of ordinary differential equations, the initial value is sufficient to find a unique particular solution. Finding a solution to an ODE given an initial value is called the **initial value problem**. Although the name suggests we will only cover ODEs that evolve in time, initial value problems can also include systems that evolve in other dimensions such as space."
   ]
  },
  {
   "cell_type": "markdown",
   "id": "b086d7e4",
   "metadata": {},
   "source": [
    "## 1. Solving ODEs using sympy (symbolic algebra):\n",
    "\n",
    "We can use **dsolve()**, which solves any (supported) kind of ordinary differential equation and system of ordinary differential equations.\n",
    "\n",
    "**Documentation:**\n",
    "\n",
    "https://docs.sympy.org/latest/modules/solvers/ode.html"
   ]
  },
  {
   "cell_type": "code",
   "execution_count": 1,
   "id": "5d3fad45",
   "metadata": {},
   "outputs": [],
   "source": [
    "import sympy as sp\n",
    "\n",
    "# To see the outputs in latex format\n",
    "from sympy.interactive import printing\n",
    "printing.init_printing(use_latex = True)"
   ]
  },
  {
   "cell_type": "markdown",
   "id": "01025588",
   "metadata": {},
   "source": [
    "## Example 1:\n",
    "\n",
    "Find the solution to:\n",
    "\n",
    "$\\frac{𝑑^2𝑓(𝑥)}{dx^2}−2𝑓(𝑥)=0$"
   ]
  },
  {
   "cell_type": "code",
   "execution_count": 2,
   "id": "b9b36f50",
   "metadata": {},
   "outputs": [],
   "source": [
    "# We define symbols for variables and functions:\n",
    "\n",
    "# For variable x:\n",
    "x = sp.Symbol('x')\n",
    "\n",
    "# For function f(x):\n",
    "f = sp.Function('f')(x)"
   ]
  },
  {
   "cell_type": "code",
   "execution_count": 3,
   "id": "0e36b41b",
   "metadata": {},
   "outputs": [
    {
     "data": {
      "image/png": "[encoded data removed]",
      "text/latex": [
       "$\\displaystyle f{\\left(x \\right)}$"
      ],
      "text/plain": [
       "f(x)"
      ]
     },
     "metadata": {},
     "output_type": "display_data"
    },
    {
     "name": "stdout",
     "output_type": "stream",
     "text": [
      "f(x)\n"
     ]
    }
   ],
   "source": [
    "display(f)\n",
    "\n",
    "print(f)"
   ]
  },
  {
   "cell_type": "code",
   "execution_count": 4,
   "id": "3deaa64f",
   "metadata": {},
   "outputs": [
    {
     "data": {
      "image/png": "[encoded data removed]",
      "text/latex": [
       "$\\displaystyle \\frac{d}{d x} f{\\left(x \\right)}$"
      ],
      "text/plain": [
       "d       \n",
       "──(f(x))\n",
       "dx      "
      ]
     },
     "metadata": {},
     "output_type": "display_data"
    },
    {
     "data": {
      "image/png": "[encoded data removed]",
      "text/latex": [
       "$\\displaystyle \\frac{d^{2}}{d x^{2}} f{\\left(x \\right)}$"
      ],
      "text/plain": [
       "  2      \n",
       " d       \n",
       "───(f(x))\n",
       "  2      \n",
       "dx       "
      ]
     },
     "metadata": {},
     "output_type": "display_data"
    },
    {
     "data": {
      "image/png": "[encoded data removed]",
      "text/latex": [
       "$\\displaystyle \\frac{d^{2}}{d x^{2}} f{\\left(x \\right)}$"
      ],
      "text/plain": [
       "  2      \n",
       " d       \n",
       "───(f(x))\n",
       "  2      \n",
       "dx       "
      ]
     },
     "metadata": {},
     "output_type": "display_data"
    }
   ],
   "source": [
    "# Derivatives:\n",
    "\n",
    "der_f1 = f.diff(x)\n",
    "der_f2 = f.diff(x, x)\n",
    "der_f2b = f.diff(x, 2) # indicating order\n",
    "\n",
    "display(der_f1)\n",
    "display(der_f2)\n",
    "display(der_f2b)\n",
    "\n",
    "#print(der_f1)"
   ]
  },
  {
   "cell_type": "markdown",
   "id": "57382684",
   "metadata": {},
   "source": [
    "We want to define this ODE:\n",
    "\n",
    "$\\frac{𝑑^2𝑓(𝑥)}{dx^2}−2𝑓(𝑥)=0$"
   ]
  },
  {
   "cell_type": "code",
   "execution_count": 5,
   "id": "0e61fee1",
   "metadata": {},
   "outputs": [
    {
     "data": {
      "image/png": "[encoded data removed]",
      "text/latex": [
       "$\\displaystyle - 2 f{\\left(x \\right)} + \\frac{d^{2}}{d x^{2}} f{\\left(x \\right)} = 0$"
      ],
      "text/plain": [
       "            2          \n",
       "           d           \n",
       "-2⋅f(x) + ───(f(x)) = 0\n",
       "            2          \n",
       "          dx           "
      ]
     },
     "metadata": {},
     "output_type": "display_data"
    },
    {
     "name": "stdout",
     "output_type": "stream",
     "text": [
      "Eq(-2*f(x) + Derivative(f(x), (x, 2)), 0)\n"
     ]
    }
   ],
   "source": [
    "# Differential equation:\n",
    "\n",
    "diffeq = sp.Eq(der_f2 - 2*f, 0)\n",
    "\n",
    "display(diffeq)\n",
    "\n",
    "print(diffeq)"
   ]
  },
  {
   "cell_type": "code",
   "execution_count": 6,
   "id": "9f025a10",
   "metadata": {},
   "outputs": [
    {
     "data": {
      "image/png": "[encoded data removed]",
      "text/latex": [
       "$\\displaystyle f{\\left(x \\right)} = C_{1} e^{- \\sqrt{2} x} + C_{2} e^{\\sqrt{2} x}$"
      ],
      "text/plain": [
       "           -√2⋅x       √2⋅x\n",
       "f(x) = C₁⋅ℯ      + C₂⋅ℯ    "
      ]
     },
     "metadata": {},
     "output_type": "display_data"
    }
   ],
   "source": [
    "# Now, we find the solution:\n",
    "\n",
    "result = sp.dsolve(diffeq, f)\n",
    "\n",
    "display(result)"
   ]
  },
  {
   "cell_type": "markdown",
   "id": "76c1c486",
   "metadata": {},
   "source": [
    "### Example 2: \n",
    "\n",
    "Find the solution to:\n",
    "\n",
    "\n",
    "$\\frac{𝑑^2f(x)}{dx^2}+𝑓(𝑥)=0$"
   ]
  },
  {
   "cell_type": "code",
   "execution_count": 7,
   "id": "05f76166",
   "metadata": {},
   "outputs": [
    {
     "data": {
      "image/png": "[encoded data removed]",
      "text/latex": [
       "$\\displaystyle f{\\left(x \\right)} + \\frac{d^{2}}{d x^{2}} f{\\left(x \\right)} = 0$"
      ],
      "text/plain": [
       "         2          \n",
       "        d           \n",
       "f(x) + ───(f(x)) = 0\n",
       "         2          \n",
       "       dx           "
      ]
     },
     "metadata": {},
     "output_type": "display_data"
    }
   ],
   "source": [
    "diffeq2 = sp.Eq(f.diff(x,2) + f, 0)\n",
    "\n",
    "display(diffeq2)"
   ]
  },
  {
   "cell_type": "code",
   "execution_count": 8,
   "id": "1abafc32",
   "metadata": {},
   "outputs": [
    {
     "data": {
      "image/png": "[encoded data removed]",
      "text/latex": [
       "$\\displaystyle f{\\left(x \\right)} = C_{1} \\sin{\\left(x \\right)} + C_{2} \\cos{\\left(x \\right)}$"
      ],
      "text/plain": [
       "f(x) = C₁⋅sin(x) + C₂⋅cos(x)"
      ]
     },
     "metadata": {},
     "output_type": "display_data"
    }
   ],
   "source": [
    "result2 = sp.dsolve(diffeq2, f)\n",
    "\n",
    "display(result2)"
   ]
  },
  {
   "cell_type": "markdown",
   "id": "d500cf87",
   "metadata": {},
   "source": [
    "### Example 3:\n",
    "\n",
    "Find the solution to:\n",
    "\n",
    "$\\sin(x)\\cos(f(x))+\\sin(f(x))\\cos(x)\\frac{d}{dx}f(x)=0$"
   ]
  },
  {
   "cell_type": "code",
   "execution_count": 9,
   "id": "001eebde",
   "metadata": {},
   "outputs": [],
   "source": [
    "from sympy import sin, cos, sqrt"
   ]
  },
  {
   "cell_type": "code",
   "execution_count": 10,
   "id": "d506f47f",
   "metadata": {},
   "outputs": [],
   "source": [
    "f = sp.Function('f')"
   ]
  },
  {
   "cell_type": "code",
   "execution_count": 11,
   "id": "1e28ab7c",
   "metadata": {},
   "outputs": [
    {
     "data": {
      "image/png": "[encoded data removed]",
      "text/latex": [
       "$\\displaystyle \\sin{\\left(x \\right)} \\cos{\\left(f{\\left(x \\right)} \\right)} + \\sin{\\left(f{\\left(x \\right)} \\right)} \\cos{\\left(x \\right)} \\frac{d}{d x} f{\\left(x \\right)} = 0$"
      ],
      "text/plain": [
       "                                    d           \n",
       "sin(x)⋅cos(f(x)) + sin(f(x))⋅cos(x)⋅──(f(x)) = 0\n",
       "                                    dx          "
      ]
     },
     "metadata": {},
     "output_type": "display_data"
    }
   ],
   "source": [
    "diffeq3 = sp.Eq(sin(x)*cos(f(x)) + sin(f(x))*cos(x)*f(x).diff(x), 0)\n",
    "\n",
    "display(diffeq3)"
   ]
  },
  {
   "cell_type": "code",
   "execution_count": 12,
   "id": "4be0d4fb",
   "metadata": {},
   "outputs": [
    {
     "data": {
      "image/png": "[encoded data removed]",
      "text/latex": [
       "$\\displaystyle \\left[ f{\\left(x \\right)} = - \\operatorname{acos}{\\left(\\frac{C_{1}}{\\cos{\\left(x \\right)}} \\right)} + 2 \\pi, \\  f{\\left(x \\right)} = \\operatorname{acos}{\\left(\\frac{C_{1}}{\\cos{\\left(x \\right)}} \\right)}\\right]$"
      ],
      "text/plain": [
       "⎡             ⎛  C₁  ⎞                   ⎛  C₁  ⎞⎤\n",
       "⎢f(x) = - acos⎜──────⎟ + 2⋅π, f(x) = acos⎜──────⎟⎥\n",
       "⎣             ⎝cos(x)⎠                   ⎝cos(x)⎠⎦"
      ]
     },
     "metadata": {},
     "output_type": "display_data"
    }
   ],
   "source": [
    "result3 = sp.dsolve(diffeq3, hint=\"1st_exact\")\n",
    "\n",
    "display(result3)"
   ]
  },
  {
   "cell_type": "code",
   "execution_count": 13,
   "id": "4fa9ec1a",
   "metadata": {},
   "outputs": [
    {
     "data": {
      "image/png": "[encoded data removed]",
      "text/latex": [
       "$\\displaystyle \\left[ f{\\left(x \\right)} = - \\operatorname{acos}{\\left(\\frac{C_{1}}{\\cos{\\left(x \\right)}} \\right)} + 2 \\pi, \\  f{\\left(x \\right)} = \\operatorname{acos}{\\left(\\frac{C_{1}}{\\cos{\\left(x \\right)}} \\right)}\\right]$"
      ],
      "text/plain": [
       "⎡             ⎛  C₁  ⎞                   ⎛  C₁  ⎞⎤\n",
       "⎢f(x) = - acos⎜──────⎟ + 2⋅π, f(x) = acos⎜──────⎟⎥\n",
       "⎣             ⎝cos(x)⎠                   ⎝cos(x)⎠⎦"
      ]
     },
     "metadata": {},
     "output_type": "display_data"
    }
   ],
   "source": [
    "result3_2 = sp.dsolve(diffeq3, hint=\"almost_linear\")\n",
    "\n",
    "display(result3_2)"
   ]
  },
  {
   "cell_type": "markdown",
   "id": "7674e25c",
   "metadata": {},
   "source": [
    "### Example 4 (initial value problem):\n",
    "\n",
    "Find the solution to:\n",
    "\n",
    "$\\frac{d}{dt}y(t) + \\frac{y(t)}{20} - 10 = 0$\n",
    "\n",
    "with $y(t=0) = 20$."
   ]
  },
  {
   "cell_type": "code",
   "execution_count": 14,
   "id": "1dbd8eca",
   "metadata": {},
   "outputs": [],
   "source": [
    "# We define symbols:\n",
    "\n",
    "t = sp.Symbol('t')\n",
    "y = sp.Function('y')"
   ]
  },
  {
   "cell_type": "code",
   "execution_count": 15,
   "id": "06e914d3",
   "metadata": {},
   "outputs": [
    {
     "data": {
      "image/png": "[encoded data removed]",
      "text/latex": [
       "$\\displaystyle \\frac{y{\\left(t \\right)}}{20} + \\frac{d}{d t} y{\\left(t \\right)} - 10 = 0$"
      ],
      "text/plain": [
       "y(t)   d                \n",
       "──── + ──(y(t)) - 10 = 0\n",
       " 20    dt               "
      ]
     },
     "metadata": {},
     "output_type": "display_data"
    }
   ],
   "source": [
    "# We define the ODE:\n",
    "\n",
    "diffeq4 = sp.Eq(y(t).diff(t) + y(t)/20 -10,0)\n",
    "\n",
    "display(diffeq4)"
   ]
  },
  {
   "cell_type": "code",
   "execution_count": 16,
   "id": "fb0249dc",
   "metadata": {},
   "outputs": [
    {
     "data": {
      "image/png": "[encoded data removed]",
      "text/latex": [
       "$\\displaystyle y{\\left(t \\right)} = 200 - 180 e^{- \\frac{t}{20}}$"
      ],
      "text/plain": [
       "                  -t \n",
       "                  ───\n",
       "                   20\n",
       "y(t) = 200 - 180⋅ℯ   "
      ]
     },
     "metadata": {},
     "output_type": "display_data"
    }
   ],
   "source": [
    "# Solution to the ODE:\n",
    "\n",
    "result4 = sp.dsolve(diffeq4, y(t), ics = {y(0):20})\n",
    "\n",
    "display(result4)"
   ]
  },
  {
   "cell_type": "markdown",
   "id": "406948c8",
   "metadata": {},
   "source": [
    "## Systems of ODEs\n",
    "\n",
    "\n",
    "We can use **dsolve()** or **dsolve_system**."
   ]
  },
  {
   "cell_type": "markdown",
   "id": "ca8505b6",
   "metadata": {},
   "source": [
    "### Example 5 (using dsolve) :\n",
    "\n",
    "Find the solution to:\n",
    "\n",
    "$x'(t) = x(t)y(t)\\sin(t)$\n",
    "\n",
    "$y'(t) = y^2(t)\\sin(t)$\n"
   ]
  },
  {
   "cell_type": "code",
   "execution_count": 17,
   "id": "4615c5c7",
   "metadata": {},
   "outputs": [],
   "source": [
    "# We define symbols:\n",
    "\n",
    "t = sp.symbols('t')\n",
    "\n",
    "x, y = sp.symbols('x, y', cls=sp.Function)"
   ]
  },
  {
   "cell_type": "code",
   "execution_count": 18,
   "id": "2df0cf94",
   "metadata": {},
   "outputs": [
    {
     "data": {
      "image/png": "[encoded data removed]",
      "text/latex": [
       "$\\displaystyle \\left( \\frac{d}{d t} x{\\left(t \\right)} = x{\\left(t \\right)} y{\\left(t \\right)} \\sin{\\left(t \\right)}, \\  \\frac{d}{d t} y{\\left(t \\right)} = y^{2}{\\left(t \\right)} \\sin{\\left(t \\right)}\\right)$"
      ],
      "text/plain": [
       "⎛d                            d           2          ⎞\n",
       "⎜──(x(t)) = x(t)⋅y(t)⋅sin(t), ──(y(t)) = y (t)⋅sin(t)⎟\n",
       "⎝dt                           dt                     ⎠"
      ]
     },
     "metadata": {},
     "output_type": "display_data"
    }
   ],
   "source": [
    "# Differential equations:\n",
    "\n",
    "diffeqs5 = (sp.Eq(x(t).diff(t), x(t)*y(t)*sin(t)), sp.Eq(y(t).diff(t), y(t)**2*sin(t)))\n",
    "\n",
    "display(diffeqs5)\n"
   ]
  },
  {
   "cell_type": "markdown",
   "id": "f6c26a49",
   "metadata": {},
   "source": [
    "$x'(t) = x(t)y(t)\\sin(t)$\n",
    "\n",
    "$y'(t) = y^2(t)\\sin(t)$"
   ]
  },
  {
   "cell_type": "code",
   "execution_count": 19,
   "id": "c74ec1a5",
   "metadata": {},
   "outputs": [
    {
     "data": {
      "image/png": "[encoded data removed]",
      "text/latex": [
       "$\\displaystyle \\left\\{x{\\left(t \\right)} = - \\frac{e^{C_{1}}}{C_{2} e^{C_{1}} - \\cos{\\left(t \\right)}}, y{\\left(t \\right)} = - \\frac{1}{C_{1} - \\cos{\\left(t \\right)}}\\right\\}$"
      ],
      "text/plain": [
       "⎧              C₁                          ⎫\n",
       "⎪            -ℯ                     -1     ⎪\n",
       "⎨x(t) = ───────────────, y(t) = ───────────⎬\n",
       "⎪           C₁                  C₁ - cos(t)⎪\n",
       "⎩       C₂⋅ℯ   - cos(t)                    ⎭"
      ]
     },
     "metadata": {},
     "output_type": "display_data"
    }
   ],
   "source": [
    "# Solution to the ODEs:\n",
    "\n",
    "result5 = sp.dsolve(diffeqs5)\n",
    "\n",
    "display(result5)"
   ]
  },
  {
   "cell_type": "markdown",
   "id": "451bb5ba",
   "metadata": {},
   "source": [
    "### Example 6 (using dsolve_system) :\n",
    "\n",
    "Find the solution to:\n",
    "\n",
    "$x'(t) = y(t)$\n",
    "\n",
    "$y'(t) = x(t)$"
   ]
  },
  {
   "cell_type": "code",
   "execution_count": 20,
   "id": "35bfc1d9",
   "metadata": {},
   "outputs": [],
   "source": [
    "from sympy.solvers.ode.systems import dsolve_system"
   ]
  },
  {
   "cell_type": "code",
   "execution_count": 21,
   "id": "563d3b08",
   "metadata": {},
   "outputs": [],
   "source": [
    "# Symbols, variables and functions\n",
    "\n",
    "t = sp.symbols(\"t\")\n",
    "x, y = sp.symbols(\"x y\", cls=sp.Function)"
   ]
  },
  {
   "cell_type": "code",
   "execution_count": 22,
   "id": "c210f7d1",
   "metadata": {},
   "outputs": [
    {
     "data": {
      "image/png": "[encoded data removed]",
      "text/latex": [
       "$\\displaystyle \\left( \\frac{d}{d t} x{\\left(t \\right)} = y{\\left(t \\right)}, \\  \\frac{d}{d t} y{\\left(t \\right)} = x{\\left(t \\right)}\\right)$"
      ],
      "text/plain": [
       "⎛d                d              ⎞\n",
       "⎜──(x(t)) = y(t), ──(y(t)) = x(t)⎟\n",
       "⎝dt               dt             ⎠"
      ]
     },
     "metadata": {},
     "output_type": "display_data"
    }
   ],
   "source": [
    "# SYSTEM OF ODES\n",
    "\n",
    "diffeqs6 = (sp.Eq(x(t).diff(t), y(t)), sp.Eq(y(t).diff(t), x(t)))\n",
    "\n",
    "display(diffeqs6)\n"
   ]
  },
  {
   "cell_type": "code",
   "execution_count": 23,
   "id": "00a97ff3",
   "metadata": {},
   "outputs": [
    {
     "data": {
      "image/png": "[encoded data removed]",
      "text/latex": [
       "$\\displaystyle \\left[ \\left[ x{\\left(t \\right)} = - C_{1} e^{- t} + C_{2} e^{t}, \\  y{\\left(t \\right)} = C_{1} e^{- t} + C_{2} e^{t}\\right]\\right]$"
      ],
      "text/plain": [
       "⎡⎡             -t       t             -t       t⎤⎤\n",
       "⎣⎣x(t) = - C₁⋅ℯ   + C₂⋅ℯ , y(t) = C₁⋅ℯ   + C₂⋅ℯ ⎦⎦"
      ]
     },
     "metadata": {},
     "output_type": "display_data"
    }
   ],
   "source": [
    "# Solution to the ODEs:\n",
    "\n",
    "result6 = dsolve_system(diffeqs6)\n",
    "\n",
    "display(result6)"
   ]
  },
  {
   "cell_type": "markdown",
   "id": "57e3eaf5",
   "metadata": {},
   "source": [
    "### Example 7 (using dsolve_system with initial value) :\n",
    "\n",
    "Find the solution to:\n",
    "\n",
    "$x'(t) = y(t)$\n",
    "\n",
    "$y'(t) = x(t)$\n",
    "\n",
    "with:\n",
    "\n",
    "$x(0) = 1$\n",
    "\n",
    "$y(0) = 0$\n"
   ]
  },
  {
   "cell_type": "code",
   "execution_count": 24,
   "id": "20a0a1f2",
   "metadata": {},
   "outputs": [
    {
     "data": {
      "image/png": "[encoded data removed]",
      "text/latex": [
       "$\\displaystyle \\left[ \\left[ x{\\left(t \\right)} = \\frac{e^{t}}{2} + \\frac{e^{- t}}{2}, \\  y{\\left(t \\right)} = \\frac{e^{t}}{2} - \\frac{e^{- t}}{2}\\right]\\right]$"
      ],
      "text/plain": [
       "⎡⎡        t    -t          t    -t⎤⎤\n",
       "⎢⎢       ℯ    ℯ           ℯ    ℯ  ⎥⎥\n",
       "⎢⎢x(t) = ── + ───, y(t) = ── - ───⎥⎥\n",
       "⎣⎣       2     2          2     2 ⎦⎦"
      ]
     },
     "metadata": {},
     "output_type": "display_data"
    }
   ],
   "source": [
    "# Solution to the ODEs:\n",
    "\n",
    "result7 = dsolve_system(diffeqs6, ics = {x(0): 1, y(0): 0})\n",
    "\n",
    "display(result7)"
   ]
  },
  {
   "cell_type": "markdown",
   "id": "7b6dd1ba",
   "metadata": {},
   "source": [
    "### Example 8 (using dsolve_system with initial value) :\n",
    "\n",
    "Find the solution to:\n",
    "\n",
    "$(f'(x))^2 = g^2(x)$\n",
    "\n",
    "$g'(x) = g(x)$\n"
   ]
  },
  {
   "cell_type": "code",
   "execution_count": 25,
   "id": "91ca8c0f",
   "metadata": {},
   "outputs": [],
   "source": [
    "# Symbols:\n",
    "\n",
    "x = sp.symbols(\"x\")\n",
    "\n",
    "# Functions:\n",
    "f, g = sp.symbols(\"f g\", cls=sp.Function)"
   ]
  },
  {
   "cell_type": "code",
   "execution_count": 26,
   "id": "a49254b6",
   "metadata": {},
   "outputs": [
    {
     "data": {
      "image/png": "[encoded data removed]",
      "text/latex": [
       "$\\displaystyle \\left[ \\left(\\frac{d}{d x} f{\\left(x \\right)}\\right)^{2} = g^{2}{\\left(x \\right)}, \\  \\frac{d}{d x} g{\\left(x \\right)} = g{\\left(x \\right)}\\right]$"
      ],
      "text/plain": [
       "⎡          2                         ⎤\n",
       "⎢⎛d       ⎞     2     d              ⎥\n",
       "⎢⎜──(f(x))⎟  = g (x), ──(g(x)) = g(x)⎥\n",
       "⎣⎝dx      ⎠           dx             ⎦"
      ]
     },
     "metadata": {},
     "output_type": "display_data"
    }
   ],
   "source": [
    "sys_deqs8 = [sp.Eq(f(x).diff(x)**2, g(x)**2), sp.Eq(g(x).diff(x), g(x))]\n",
    "display(sys_deqs8 )"
   ]
  },
  {
   "cell_type": "code",
   "execution_count": 27,
   "id": "506e64bc",
   "metadata": {},
   "outputs": [
    {
     "data": {
      "image/png": "[encoded data removed]",
      "text/latex": [
       "$\\displaystyle \\left[ \\left[ f{\\left(x \\right)} = C_{1} - C_{2} e^{x}, \\  g{\\left(x \\right)} = C_{2} e^{x}\\right], \\  \\left[ f{\\left(x \\right)} = C_{1} + C_{2} e^{x}, \\  g{\\left(x \\right)} = C_{2} e^{x}\\right]\\right]$"
      ],
      "text/plain": [
       "⎡⎡                x             x⎤  ⎡                x             x⎤⎤\n",
       "⎣⎣f(x) = C₁ - C₂⋅ℯ , g(x) = C₂⋅ℯ ⎦, ⎣f(x) = C₁ + C₂⋅ℯ , g(x) = C₂⋅ℯ ⎦⎦"
      ]
     },
     "metadata": {},
     "output_type": "display_data"
    }
   ],
   "source": [
    "result8 = dsolve_system(sys_deqs8)\n",
    "\n",
    "display(result8)"
   ]
  },
  {
   "cell_type": "markdown",
   "id": "d8e51645",
   "metadata": {},
   "source": [
    "## Verification:"
   ]
  },
  {
   "cell_type": "code",
   "execution_count": 28,
   "id": "baa6e639",
   "metadata": {},
   "outputs": [],
   "source": [
    "from sympy import checkodesol"
   ]
  },
  {
   "cell_type": "code",
   "execution_count": 29,
   "id": "cfb311c6",
   "metadata": {},
   "outputs": [
    {
     "data": {
      "image/png": "[encoded data removed]",
      "text/latex": [
       "$\\displaystyle \\left[ f{\\left(x \\right)} = C_{1} - C_{2} e^{x}, \\  g{\\left(x \\right)} = C_{2} e^{x}\\right]$"
      ],
      "text/plain": [
       "⎡                x             x⎤\n",
       "⎣f(x) = C₁ - C₂⋅ℯ , g(x) = C₂⋅ℯ ⎦"
      ]
     },
     "metadata": {},
     "output_type": "display_data"
    }
   ],
   "source": [
    "display(result8[0])"
   ]
  },
  {
   "cell_type": "code",
   "execution_count": 30,
   "id": "d7ff5c91",
   "metadata": {},
   "outputs": [
    {
     "name": "stdout",
     "output_type": "stream",
     "text": [
      "(True, [0, 0])\n"
     ]
    }
   ],
   "source": [
    "check_odes8 = checkodesol(sys_deqs8, result8[0])\n",
    "\n",
    "print(check_odes8)"
   ]
  },
  {
   "cell_type": "code",
   "execution_count": 31,
   "id": "9c6adab6",
   "metadata": {},
   "outputs": [
    {
     "name": "stdout",
     "output_type": "stream",
     "text": [
      "(True, [0, 0])\n"
     ]
    }
   ],
   "source": [
    "check_odes8 = checkodesol(sys_deqs8, result8[1])\n",
    "\n",
    "print(check_odes8)"
   ]
  }
 ],
 "metadata": {
  "kernelspec": {
   "display_name": "Python 3",
   "language": "python",
   "name": "python3"
  },
  "language_info": {
   "codemirror_mode": {
    "name": "ipython",
    "version": 3
   },
   "file_extension": ".py",
   "mimetype": "text/x-python",
   "name": "python",
   "nbconvert_exporter": "python",
   "pygments_lexer": "ipython3",
   "version": "3.7.10"
  }
 },
 "nbformat": 4,
 "nbformat_minor": 5
}
