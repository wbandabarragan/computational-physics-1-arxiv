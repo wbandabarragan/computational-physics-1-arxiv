{
 "cells": [
  {
   "cell_type": "markdown",
   "id": "379c335b",
   "metadata": {},
   "source": [
    "# Homework 1: \n",
    "\n",
    "### Deadline: Thursday 11 April 2024 (by 19h00)\n",
    "### Credits: 20 points"
   ]
  },
  {
   "cell_type": "markdown",
   "id": "4070e3bf",
   "metadata": {},
   "source": [
    "# Name:"
   ]
  },
  {
   "cell_type": "markdown",
   "id": "543fc139",
   "metadata": {},
   "source": [
    "### Instructions:\n",
    "\n",
    "- When you finish, please send me the **.ipynb** file via email to wbanda@yachaytech.edu.ec\n",
    "\n",
    "\n",
    "- This homework is individual. Please include your name in the notebook.\n",
    "\n",
    "\n",
    "- Within a **single python notebook**, solve the following problems:"
   ]
  },
  {
   "cell_type": "markdown",
   "id": "258824dd",
   "metadata": {},
   "source": [
    "### 1. (7 points) Orbital dynamics\n",
    "\n",
    "This problem consists of computing and displaying the orbits of Mars' moons (Phobos and Deimos) around Mars and the Sun:\n",
    "\n",
    "- Phobos has an orbital period of $T_{phobos} = 7.65\\,\\rm hours$ around Mars and is located at a distance of $5.99\\times 10^3\\,\\rm km$ from Mars.\n",
    "\n",
    "\n",
    "- Deimos has an orbital period $T_{deimos} = 30.30\\,\\rm hours$ around Mars and is located at a distance of $2.35\\times 10^4\\,\\rm km$ from Mars.\n",
    "\n",
    "For simplicity, we can assume that all the orbits are circular. Thus, the Mars' orbit around the Sun is described by the following parametric equations:\n",
    "\n",
    "$$x_{mars} = R\\,\\cos(\\omega_{mars}\\,t)$$\n",
    "\n",
    "$$y_{mars} = R\\,\\sin(\\omega_{mars}\\,t)$$\n",
    "\n",
    "where $R=2.1\\times 10^8\\,\\rm km$ is the Sun-Mars distance, $\\omega_{mars}=\\frac{2\\pi}{T_{mars}}$, and $T_{mars} = 687\\,\\rm days$.\n",
    "\n",
    "\n",
    "Similarly, the orbits of each moon ($i$) is the sum of its position relative to Mars and the position of Mars relative to the Sun (which is at the origin), so:\n",
    "\n",
    "$$x_{i} = x_{mars} + r_i\\,\\cos(\\omega_{i}\\,t)$$\n",
    "\n",
    "$$y_{i} = y_{mars} + r_i\\,\\sin(\\omega_{i}\\,t)$$\n",
    "\n",
    "where $i$ refers to either Phobos and Deimos, $r_i$ to their distances from Mars, and $\\omega_{i}=\\frac{2\\pi}{T_{i}}$ refers to their respective angular frequencies.\n",
    "\n",
    "\n",
    "(a) Create a python function that takes the period ($T$) as argument and returns the angular frequency ($\\omega$) of any body.\n",
    "\n",
    "(b) Then, call your function in (a) and assign to three global python variables the angular frequencies of: i) Mars while orbiting around the Sun, (ii) Phobos, and (iii) Deimos orbiting around Mars.\n",
    "\n",
    "(c) Create a vector for time, $t$, that spans from $0$ to $687 \\,\\rm days$, and define $R$ and $r_i$ as global variables.\n",
    "\n",
    "(d) Create a python function that takes $R$, $r_i$, $t$ as arguments and returns $x_{i}$ and $y_{i}$ for either Phobos or Deimos.\n",
    "\n",
    "(e) Then, call your function in (d), retrieve $x_{i}$ and $y_{i}$, and save them into a CSV file with 7 columns: $t$, $x_{mars}$, $y_{mars}$, $x_{phobos}$, $y_{phobos}$, $x_{deimos}$, $y_{deimos}$.\n",
    "\n",
    "(f) Make a 2D Cartesian plot, with the Sun in the origin, showing the orbits of Mars, Phobos, and Deimos around the Sun for a full Martian year. Which orbit is more intricate?\n",
    "\n",
    "(g) Make a 2D Cartesian plot, with Mars in the origin, showing the orbits of Phobos and Deimos around it for a full Deimos period."
   ]
  },
  {
   "cell_type": "markdown",
   "id": "04641805",
   "metadata": {},
   "source": [
    "### 2. (7 points) Spectral fitting\n",
    "\n",
    "This problem consists of fitting spectral lines and finding the relative velocities between multiple Gaussian components (interstellar gas clouds).\n",
    "\n",
    "The supplied data file:\n",
    "\n",
    "https://github.com/wbandabarragan/computational-physics-1/tree/main/sample-data/j074814-7435_gass_spectra.dat\n",
    "\n",
    "\n",
    "contains observational data from the Parkes radio telescope (see https://en.wikipedia.org/wiki/Parkes_Observatory).\n",
    "\n",
    "The data corresponds to $\\rm H\\,I$ clouds in the Chamaeleon molecular cloud complex (see https://en.wikipedia.org/wiki/Chamaeleon_complex).\n",
    "\n",
    "This data file contains emission line features from neutral hydrogen ($\\rm H\\,I$, i.e., $\\lambda = 21\\,\\rm cm$) in the Milky Way. The second column has gas velocities (in $\\rm km\\,s^{-1}$) and the third column emission intensity (called brightness temperature in $K$). We can assume that each gas cloud in our line of sight produces a Gaussian emission feature that is only dependent on the column density if the gas is optically thin.\n",
    "\n",
    "Carry out the following calculations using python: \n",
    "\n",
    "(a) Create a python function that reads in the spectral data (velocity and intensity) from the file, and returns them as arrays. **Hint:** You need to jump over the header of the data file.\n",
    "\n",
    "(b) Make a high-quality, labeled plot of the spectrum (velocity on the x-axis and intensity on the y-axis). How many \"$\\rm H\\,I$ clouds\" do you see? Note that each Gaussian-like feature represents a separate $\\rm H\\,I$ cloud. \n",
    "\n",
    "(c) Define an appropriate multi-Gaussian model for the spectrum and create a python function for it.\n",
    "\n",
    "(d) Fit your model to the spectrum, and report the best-fit values for the free parameters with their respective uncertainties.\n",
    "\n",
    "(e) Make a high-quality, labeled plot that shows the original spectrum, the overall multi-Gaussian fit, and also each individual Gaussian component.\n",
    "\n",
    "(f) Find the (velocity, intensity) coordinates of the maximum of each Gaussian component. **Note:** the velocity coordinates of the maxima are called central velocities.\n",
    "\n",
    "(g) Use the coordinates of the maxima computed in (f) to compare the central velocities of the clouds, and calculate the relative velocity between the clouds. "
   ]
  },
  {
   "cell_type": "markdown",
   "id": "7f467101",
   "metadata": {},
   "source": [
    "### 3. (6 points) Distance between galaxies\n",
    "\n",
    "The purpose of this exercise is to isolate features (galaxies) in an image by analysing the pixel information. The sample data correspond to NGC 1512 and its companion the dwarf galaxy NGC 1510 (see https://en.wikipedia.org/wiki/NGC_1512).\n",
    "\n",
    "The provided data file:\n",
    "\n",
    "https://github.com/wbandabarragan/computational-physics-1/tree/main/sample-data/skvNGC_1512.fits\n",
    "\n",
    "contains optical images of the two galaxies from NASA's HEARSARC website (https://skyview.gsfc.nasa.gov/current/cgi/titlepage.pl). The FITS file contains an image in blue colour taken from the 2nd Digitized Sky Survey (DSS2 Blue).\n",
    "\n",
    "Carry out the following analysis:\n",
    "\n",
    "(a) Create a python function that reads in the data from the FITS file, and returns two objects: the image itself as a 2D array, and the value of the header key called \"CDELT2\", which reports the size of a pixel in degrees.\n",
    "\n",
    "(b) Call your function in (a), and make a two-panel figure with high-quality, labeled plots of the image in pixel units and in degree units. **Hint:** Use the value of \"CDELT2\" for unit conversion.\n",
    "\n",
    "(c) Create a python funtion that receives the image as an argument and returns a masked image. The function should mask the background and any foreground stars, leaving only the regions containing the two galaxies in the image (i.e. the two largest regions in the image). **Hint:** Use thresholding, subsetting, and/or any other masking technique to select the areas of interest of the image.\n",
    "\n",
    "(d) Call your function in (c), and make a two-panel figure with high-quality, labeled plots of the resulting masked image in pixel units and in degree units.\n",
    "\n",
    "(e) Create a python funtion that identifies the centre of each galaxy, calculates the distance between the centres of the two galaxies, and returns such distance in pixels, degrees, and kiloparsecs. **Hint:** To convert the pixel units into degrees, use \"CDELT2\". To convert to physical distance units ($\\rm kpc$), define an appropriate trigonometrical model and use the knowledge that these galaxies are at a distance of $12.5\\,\\rm Mpc$ from us.\n",
    "\n",
    "(f) Make a high-quality, labeled plot of the masked image in physical units, showing the line connecting the centres of the galaxies and the physical distance value between them."
   ]
  }
 ],
 "metadata": {
  "kernelspec": {
   "display_name": "Python 3 (ipykernel)",
   "language": "python",
   "name": "python3"
  },
  "language_info": {
   "codemirror_mode": {
    "name": "ipython",
    "version": 3
   },
   "file_extension": ".py",
   "mimetype": "text/x-python",
   "name": "python",
   "nbconvert_exporter": "python",
   "pygments_lexer": "ipython3",
   "version": "3.7.16"
  }
 },
 "nbformat": 4,
 "nbformat_minor": 5
}
