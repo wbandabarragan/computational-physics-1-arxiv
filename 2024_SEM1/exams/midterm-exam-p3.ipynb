{
 "cells": [
  {
   "cell_type": "markdown",
   "id": "44b2867f",
   "metadata": {},
   "source": [
    "# Midterm Exam (part 3) - Computational Physics I\n",
    "\n",
    "### Deadline: Friday 26 April 2024 (by 17h00)\n",
    "### Credits: 10 points"
   ]
  },
  {
   "cell_type": "markdown",
   "id": "c9f94155",
   "metadata": {},
   "source": [
    "## Name: "
   ]
  },
  {
   "cell_type": "markdown",
   "id": "3169d85a",
   "metadata": {},
   "source": [
    "### Instructions:\n",
    "\n",
    "- When you finish, please send me the **.ipynb** file via email to wbanda@yachaytech.edu.ec\n",
    "\n",
    "\n",
    "- The exam is individual. Please include your name in the notebook.\n",
    "\n",
    "\n",
    "- Within a **single python notebook**, solve the following problem:"
   ]
  },
  {
   "cell_type": "markdown",
   "id": "621de2a4",
   "metadata": {},
   "source": [
    "## 8. 2D data analysis: subsonic versus supersonic turbulence (10 points)\n",
    "\n",
    "We want to study the properties of subsonic and supersonic turbulent flows in 2D. Let us consider the following high-resolution simulations of turbulence-in-a-box models:\n",
    "\n",
    "### Supersonic turbulence simulation:\n",
    "https://yachaytecheduec-my.sharepoint.com/:f:/g/personal/wbanda_yachaytech_edu_ec/EhXQXyn8GudCnZ15af_fLdEBcbpt7hyYpjSnwsGHrG0kDA?e=IlgN7g\n",
    "\n",
    "### Subsonic turbulence simulation:\n",
    "https://yachaytecheduec-my.sharepoint.com/:f:/g/personal/wbanda_yachaytech_edu_ec/EhNeXlEHX3JAjUYV44981LgBo9tn_BEFtUQJx98iGClHxg?e=350N8b\n",
    "\n",
    "As explained in class, these simulations introduce stochastic force fields to generate turbulent motions in an isothermal ($\\gamma=1$) gas, which is initially at rest. Turbulence is continuously generated throughout the simulations.\n",
    "\n",
    "The simulation folders contain 101 VTK files, jointly with:\n",
    "\n",
    "- a **units.out** file that contains the CGS normalisation values.\n",
    "- a **vtk.out** file whose second column contains the times in code units.\n",
    "\n",
    "Each VTK file stores the following fields:\n",
    "\n",
    "- density (rho)\n",
    "- velocity_x (vx1)\n",
    "- velocity_y (vx2)\n",
    "- magnetic_field_x (Bx1)\n",
    "- magnetic_field_y (Bx2)\n",
    "\n",
    "Use python to carry out the following analysis:\n",
    "\n",
    "(a) Write a python function that reads a VTK data file and returns the density field, the components of the velocity field, and the components of the magnetic field, all normalised in CGS units.\n",
    "\n",
    "(b) Call the above function for VTK file # 50 of each simulation, and make the following maps using the correct mesh coordinates and dimensions:\n",
    "\n",
    "- A 2-panel figure showing the supersonic (left) and subsonic (right) density, $\\rho$.\n",
    "- A 2-panel figure showing the supersonic (left) and subsonic (right) velocity magnitude, $v=\\sqrt{v_x^2+v_y^2}$.\n",
    "- A 2-panel figure showing the supersonic (left) and subsonic (right) magnetic vector field, $\\vec{B}= \\vec{B}_x + \\vec{B}_y$.\n",
    "\n",
    "**Notes:** Choose different perceptually-uniform colour schemes for each of the above quantities. Since these are high-resolution models, one way to improve the visualisation of 2D vector fields is to interpolate them into a coarser grid.\n",
    "\n",
    "(c) Compute 1D histograms of the density and the velocity magnitude, and make the following figures:\n",
    "\n",
    "- A 2-panel figure showing the supersonic (left) and subsonic (right) 1D histograms of the density for VTK file # 50.\n",
    "- A 2-panel figure showing the supersonic (left) and subsonic (right) 1D histograms of the velocity magnitude for VTK file # 50.\n",
    "\n",
    "(d) What distributions do the density and velocity fields have? Do you see differences between the supersonic and subsonic distributions? Why?\n",
    "\n",
    "(e) Create a python function that loops over all VTK files and saves maps (in PNG format) of the velocity field magnitude for all times. Add time stamps in physical units to the maps.\n",
    "\n",
    "(f) Create a python function that takes the velocity field components as arguments, loops over all the simulation VTK files, and computes the following quantities for each time:\n",
    "\n",
    "- the average velocity, $[v]$,\n",
    "\n",
    "- the rms velocity, $\\sqrt{[v^2]}$,\n",
    "\n",
    "- the (volume-weighted) average velocity dispersion, $\\sigma_v = \\sqrt{[ v^2 ] - [v ]^2}$.\n",
    "\n",
    "- the rms Mach number, ${\\cal M}_{\\rm rms}$, for which you need $c_{\\rm iso}$ given in **units.out**,\n",
    "\n",
    "and returns:\n",
    "\n",
    "- a CSV file with 5 columns, time on the first column, and the above quantities in the next ones.\n",
    "\n",
    "(g) Call your function from (f) for each simulation set (supersonic and subsonic) and use the CSV files to make the following plots:\n",
    "\n",
    "- A 2-panel figure showing the supersonic (left) and subsonic (right) average velocity versus time.\n",
    "- A 2-panel figure showing the supersonic (left) and subsonic (right) rms velocity versus time.\n",
    "- A 2-panel figure showing the supersonic (left) and subsonic (right) velocity dispersion versus time.\n",
    "- A 2-panel figure showing the supersonic (left) and subsonic (right) rms Mach number versus time.\n",
    "\n",
    "(h) Briefly describe in your own words what happens to the gas and how turbulence emerges and evolves during these simulations. Does the flow reach steady state in both models? At what times?\n",
    "\n",
    "(i) What are the time-averaged rms Mach numbers of each model (supersonic and subsonic) during steady state? Are they actually supersonic and subsonic turbulence models?\n",
    "\n",
    "(j) Create a python function that returns movies for each simulation (supersonic and subsonic) showing the time evolution of:\n",
    "\n",
    "- maps of the velocity field magnitude (printed in e), jointly with\n",
    "\n",
    "- the rms Mach numbers computed in (g)."
   ]
  }
 ],
 "metadata": {
  "kernelspec": {
   "display_name": "Python 3 (ipykernel)",
   "language": "python",
   "name": "python3"
  },
  "language_info": {
   "codemirror_mode": {
    "name": "ipython",
    "version": 3
   },
   "file_extension": ".py",
   "mimetype": "text/x-python",
   "name": "python",
   "nbconvert_exporter": "python",
   "pygments_lexer": "ipython3",
   "version": "3.9.18"
  }
 },
 "nbformat": 4,
 "nbformat_minor": 5
}
