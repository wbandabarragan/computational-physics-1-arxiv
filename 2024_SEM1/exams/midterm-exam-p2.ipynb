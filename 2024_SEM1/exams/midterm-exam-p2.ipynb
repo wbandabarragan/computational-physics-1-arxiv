{
 "cells": [
  {
   "cell_type": "markdown",
   "id": "44b2867f",
   "metadata": {},
   "source": [
    "# Midterm Exam (part 2) - Computational Physics I\n",
    "\n",
    "### Date: Wednesday 17 April 2024\n",
    "### Credits: 10 points\n",
    "\n",
    "### Duration: 1 hour 15 minutes"
   ]
  },
  {
   "cell_type": "markdown",
   "id": "c9f94155",
   "metadata": {},
   "source": [
    "## Name: "
   ]
  },
  {
   "cell_type": "markdown",
   "id": "3169d85a",
   "metadata": {},
   "source": [
    "### Instructions:\n",
    "\n",
    "- When you finish, please send me the **.ipynb** file via email to wbanda@yachaytech.edu.ec\n",
    "\n",
    "\n",
    "- The exam is individual. Please include your name in the notebook.\n",
    "\n",
    "\n",
    "- Within a **single python notebook**, solve the following problems:"
   ]
  },
  {
   "cell_type": "markdown",
   "id": "621de2a4",
   "metadata": {},
   "source": [
    "## 6. I/O and regression: damped pendulum (5 points) \n",
    "\n",
    "This problem consists of studying damped oscillations. Remember that the 2nd-order ODE describing damped oscillations is:\n",
    "\n",
    "$m\\,\\frac{d^2y}{dt^2}+b\\,\\frac{dy}{dt}+k\\,y = 0$, \n",
    "\n",
    "where $m=1\\,\\rm kg$ is the oscillator mass, $b$ is the damping coefficient, and $k$ is the force constant of the oscillator. The analytical solution to the above ODE, known as the the damped oscillation equation, reads:\n",
    "\n",
    "$y(t)=A\\,e^{-\\beta\\,t}\\,\\cos{(\\omega\\,t)}$, \n",
    "\n",
    "where $A$ is  the inital oscillation amplitude, $\\beta=\\frac{b}{2m}$ is the damping ratio, and $\\omega$ is the angular frequency of the oscillations given by:\n",
    "\n",
    "$\\omega = \\sqrt{\\frac{k}{m}-\\frac{b^2}{4m^2}}$.\n",
    "\n",
    "The data file given below contains a time series obtained from a damped harmonic oscillator experiment. The first column of the file has times in seconds $\\rm [s]$ and the second column has the displacements in meters $\\rm [m]$. \n",
    "\n",
    "https://github.com/wbandabarragan/computational-physics-1/tree/main/sample-data/damped_pendulum.csv\n",
    "\n",
    "a) Create a python I/O function that opens the data file and returns $2$ arrays, one for times and one for displacements.\n",
    "\n",
    "b) Call your I/O function and make a high-quality labeled plot of displacement (in the Y axis) versus time (in the X axis).\n",
    "\n",
    "c) Use a physically-motivated model (i.e. the damped oscillation equation), and constrain its free parameters by carrying out a regression.\n",
    "\n",
    "d) Report the results from your regression, i.e. the best-fit values for the free parametes with their respective uncertainties. Using your results, identify or calculate the following quantities in physical units:\n",
    "\n",
    "- The initial amplitude, $A$, of the oscillations.\n",
    "- The damping ratio, $\\beta$.\n",
    "- The angular frequency, $\\omega$, of the damped pendulum.\n",
    "- The damping coefficient, $b$.\n",
    "- The force constant of the oscillator, $k$.\n",
    "\n",
    "e) Make a plot showing the empirical data and the best-fit model obtained from your regression.\n",
    "\n",
    "\n",
    "\n",
    "##### Data reference: https://www.kaggle.com/datasets/cici118/damped-harmonic-oscillator"
   ]
  },
  {
   "attachments": {},
   "cell_type": "markdown",
   "id": "d0c8d0d7-ca04-4778-b736-269d34d35f9a",
   "metadata": {},
   "source": [
    "## 7. Image processing: Scanning Electron Microscope of Escherichia coli (5 points)\n",
    "\n",
    "This problem consists of analysing the reduction of the bacteria Escherichia coli (E. coli) after treatment with Zinc oxide (ZnO) nanoparticles. The images provided below were obtained from a Scanning Electron Microscope (SEM), before and after 5 hours of treatment with ZnO. One pixel of  the image has an area of $0.02^2\\mu m^2$.\n",
    "\n",
    "#### SEM image before ZnO treatment:\n",
    "https://github.com/wbandabarragan/computational-physics-1/tree/main/sample-data/bacteria_before.jpg\n",
    "\n",
    "#### SEM image after ZnO treatment:\n",
    "https://github.com/wbandabarragan/computational-physics-1/tree/main/sample-data/bacteria_after.jpg\n",
    "\n",
    "To analyse how effective this antibacterial treatment is, carry out the following analysis in python:\n",
    "\n",
    "a) Create a python function that reads in an image file and returns one its channels as an array.\n",
    "\n",
    "b) Call your function from (a), and:\n",
    "\n",
    "- Make a 2-panel figure showing the before and after SEM images.\n",
    "- Make a 2-panel figure showing the before and after pixel histograms of the SEM images.\n",
    "\n",
    "c) Create a python function that isolates the area covered by the E. coli bacteria from the background. Your function should read in an image channel array and return a cleaned binary image array with zeroes in the background and ones in the E. coli area.\n",
    "\n",
    "d) Call your function from (c), and:\n",
    "\n",
    "- Make a 2-panel figure showing the before and after binary images.\n",
    "- Make a 2-panel figure showing the before and after pixel histograms of the binary images.\n",
    "\n",
    "e) Using your binary images, calculate the following:\n",
    "\n",
    "- The total area in pixels and physical units covered by the E. coli bateria before and after treatment.\n",
    "- The ratio between such areas, how effective is the antibacterial treatment with ZnO nanoparticles?\n",
    "\n",
    "##### SEM images reference: Zhang et al. 2007, https://link.springer.com/article/10.1007/s11051-006-9150-1"
   ]
  }
 ],
 "metadata": {
  "kernelspec": {
   "display_name": "Python 3 (ipykernel)",
   "language": "python",
   "name": "python3"
  },
  "language_info": {
   "codemirror_mode": {
    "name": "ipython",
    "version": 3
   },
   "file_extension": ".py",
   "mimetype": "text/x-python",
   "name": "python",
   "nbconvert_exporter": "python",
   "pygments_lexer": "ipython3",
   "version": "3.9.18"
  }
 },
 "nbformat": 4,
 "nbformat_minor": 5
}
