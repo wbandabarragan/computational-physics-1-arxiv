{
 "cells": [
  {
   "cell_type": "markdown",
   "id": "44b2867f",
   "metadata": {},
   "source": [
    "# Quiz 2 (part 2): \n",
    "\n",
    "### Deadline: Wednesday 29 May 2024 (by 19h00)\n",
    "### Credits: 10 points"
   ]
  },
  {
   "cell_type": "markdown",
   "id": "c9f94155",
   "metadata": {},
   "source": [
    "## Name: "
   ]
  },
  {
   "cell_type": "markdown",
   "id": "3169d85a",
   "metadata": {},
   "source": [
    "### Instructions:\n",
    "\n",
    "- When you finish, please send me the **.ipynb** file via email to wbanda@yachaytech.edu.ec\n",
    "\n",
    "\n",
    "- The quiz is **individual**. Please include your name in the notebook.\n",
    "\n",
    "\n",
    "- Within a **single python notebook**, solve the following problems:"
   ]
  },
  {
   "cell_type": "markdown",
   "id": "621de2a4",
   "metadata": {},
   "source": [
    "## 6. (4 points) Stratified atmosphere\n",
    "\n",
    "The Earth's atmosphere cools down with altitude. To model this we can assume that the air is adiabatic with an equation of state given by:\n",
    "\n",
    "$p^{1-\\gamma}\\,T^{\\gamma} = \\rm constant$,\n",
    "\n",
    "where $p$ is the thermal pressure, $T$ is the temperature, and $\\gamma=1.4$ is the polytropic index. The above equation results in the following differential equation:\n",
    "\n",
    "$\\frac{dp}{p}=\\frac{\\gamma}{\\gamma - 1}\\frac{dT}{T}$\n",
    "\n",
    "In addition, the equation of hydrostatic equilibrium states that:\n",
    "\n",
    "$\\frac{dp}{p}=-\\frac{\\mu_m\\,g}{R\\,T}\\,dz$, \n",
    "\n",
    "where $\\mu_m=28.97\\,\\rm g\\,mol^{-1}$ is the molecular weight of the gas, $g$ is the acceleration due to gravity, $R$ is the ideal gas constant, and $z$ is height above ground level.\n",
    "\n",
    "Combining the two equations above, we obtain:\n",
    "\n",
    "$\\frac{dT}{dz}=-\\frac{\\gamma -1}{\\gamma}\\frac{\\mu_m\\,g}{R}$,\n",
    "\n",
    "whose solution reads:\n",
    "\n",
    "$T=T_0\\left(1-\\frac{\\gamma-1}{\\gamma}\\frac{z}{z_0}\\right)$, \n",
    "\n",
    "where $T_0$ is the temperature at ground level, and \n",
    "\n",
    "$z_0=\\frac{R\\,T_0}{\\mu_m\\,g}$\n",
    "\n",
    "is the isothermal scale-height calculated using this temperature. \n",
    "\n",
    "\n",
    "(a) Create a Python function that receives $T_0=25\\,\\rm ^{\\circ}C$ and $z$ as inputs, and returns:\n",
    "\n",
    "- the value of $z_0$ in $\\rm km$\n",
    "\n",
    "\n",
    "- the function $T(z)$ with $T$ in $\\rm ^{\\circ}C$\n",
    "\n",
    "(b) Code a Python function that returns a pcolor map of $T(z)$ (i.e. of the stratified atmosphere) interpolated on an ($x \\times y$) = ($20\\,\\rm km\\times 20\\,\\rm km$) grid with $z$ on the vertical axis. Consider that the temperature does not vary across $x$, only with height, $z$.\n",
    "\n",
    "\n",
    "(c) Code a Python function that returns a quiver map showing the direction of the buoyancy forces in the atmosphere. Remember that $p\\propto T^{\\frac{\\gamma}{\\gamma -1}}$.\n",
    "\n",
    "\n",
    "(d) Create a Python function that adds a (small-amplitude) stochastic force field to the one calculated above, and returns a quiver map showing the direction of the resulting buoyancy plus stochastic forces in the atmosphere. What does this stochastic force field represent?"
   ]
  },
  {
   "attachments": {},
   "cell_type": "markdown",
   "id": "d0c8d0d7-ca04-4778-b736-269d34d35f9a",
   "metadata": {},
   "source": [
    "## 7. (6 points) Understanding the Solar cycle\n",
    "\n",
    "This problem consists of analysing the underlying periodity of the observed sunspots on the Sun (see some images here: https://en.wikipedia.org/wiki/Sunspot). The data file provided below contains the observed number of sunspots on the Sun for each month since January 1749 (month 0). The file contains two columns of numbers, the first representing the month and the second being the sunspot number.\n",
    "\n",
    "\n",
    "#### Download data file:\n",
    "https://github.com/wbandabarragan/computational-physics-1/blob/main/sample-data/sunspots.txt\n",
    "\n",
    "#### Sunspot count:\n",
    "\n",
    "(a) Write a python function that reads the data in the file and returns two arrays:\n",
    "- time\n",
    "- sunspot count number\n",
    "\n",
    "(b) Call your function above and make a labeled plot of number of sunspots as a function of time. \n",
    "\n",
    "(c) Briefly comment, what features do you see in the data? What physical mechanism do you think causes this behaviour?\n",
    "\n",
    "#### Solar cycle - analysis 1:\n",
    "\n",
    "(d) Here you will estimate the length of the Solar cycle in months in a very rough way. Write a function that finds the peaks of sunspot count and returns two arrays (jointly with a CSV file) for the:\n",
    "\n",
    "- month where a peak was found\n",
    "- respective sunspot count\n",
    "\n",
    "(e) Call your function and report the peaks on the plot of sunspot count versus time.\n",
    "\n",
    "(f) Write a funtion that calculates the average of the distance between consecutive peaks. Such average will be the first estimate for the length of the Solar cycle. Call your funtion and print the value.\n",
    "\n",
    "#### Solar cycle - analysis 2:\n",
    "\n",
    "(g) Now we will use a more professional approach, which relies on Fourier analysis. Write a function that computes the Fourier transform of the sunspot data and returns the Fourier power and the respective frequencies.\n",
    "\n",
    "(h) Call your function and make a plot of the 1D Fourier power spectrum of the sunspot signal. Are there peaks at nonzero frequency values? What do they represent? \n",
    "\n",
    "(i) Find the frequency of the highest nonzero peak. Using this frequency, calculate and print the Solar cycle period and compare it to the one obtained in (f).\n",
    "\n",
    "#### Fourier filtering:\n",
    "\n",
    "(j) Write a function that filters outs all frequencies lower and higher than the frequency of the peak and returns the inverse Fourier transformed signal.\n",
    "\n",
    "(k) Call your funtion and make a plot. Compare it to the original signal. What kind of signal do you get and why?\n"
   ]
  }
 ],
 "metadata": {
  "kernelspec": {
   "display_name": "Python 3 (ipykernel)",
   "language": "python",
   "name": "python3"
  },
  "language_info": {
   "codemirror_mode": {
    "name": "ipython",
    "version": 3
   },
   "file_extension": ".py",
   "mimetype": "text/x-python",
   "name": "python",
   "nbconvert_exporter": "python",
   "pygments_lexer": "ipython3",
   "version": "3.9.18"
  }
 },
 "nbformat": 4,
 "nbformat_minor": 5
}
