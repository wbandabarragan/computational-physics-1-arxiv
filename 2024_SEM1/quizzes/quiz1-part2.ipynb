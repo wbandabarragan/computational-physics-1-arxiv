{
 "cells": [
  {
   "cell_type": "markdown",
   "id": "44b2867f",
   "metadata": {},
   "source": [
    "# Quiz 1 (part 2): \n",
    "\n",
    "### Deadline: Monday 25 March 2024 (by 19h00)\n",
    "### Credits: 10 points"
   ]
  },
  {
   "cell_type": "markdown",
   "id": "c9f94155",
   "metadata": {},
   "source": [
    "## Name: "
   ]
  },
  {
   "cell_type": "markdown",
   "id": "3169d85a",
   "metadata": {},
   "source": [
    "### Instructions:\n",
    "\n",
    "- When you finish, please send me the **.ipynb** file via email to wbanda@yachaytech.edu.ec\n",
    "\n",
    "\n",
    "- The quiz is individual. Please include your name in the notebook.\n",
    "\n",
    "\n",
    "- Within a **single python notebook**, solve the following problems:"
   ]
  },
  {
   "cell_type": "markdown",
   "id": "621de2a4",
   "metadata": {},
   "source": [
    "## 6. (4 points) Plotting and Python Functions: Log-normal distributions\n",
    "\n",
    "Log-normal distributions are important in physics. For instance, they characterise the density fields, $\\rho$, of supersonically-turbulent flows. A log-normal distribution can be defined by two variables, $\\bar\\mu$ and $\\sigma$, which represent the mean and standard deviation, respectively, of the underlying normal distribution.\n",
    "\n",
    "(a) Write down the probability density function (PDF) of a log-normal density distribution in terms of $\\bar\\mu$, $\\sigma$, and the log-normally distributed variable $\\rho$. Create a python function that outputs the PDF from user-defined $\\bar\\mu$, $\\sigma$, and $\\rho$.\n",
    "\n",
    "(b) Create two python variables for $\\bar\\mu$ and $\\sigma$, and assign adequate values to them. Then, define a 1D vector for the log-normally distributed variable $\\rho$. **Hint:** Make sure that the values you choose for these three inputs allow you to see both tails of the log-normal distribution.\n",
    "\n",
    "(c) Call your function from (a) using the variables defined in (b), and make a plot of the resulting probability density function of $\\rho$.\n",
    "\n",
    "(d) Using numpy functions, generate $n=10000$ log-normally distributed random numbers with the same $\\bar\\mu$ and $\\sigma$ as before. Make a histogram of these log-normally distributed numbers.\n",
    "\n",
    "(e) Make a new figure overplotting the analytical function produced in (c) and the histogram produced in (d). Do these plots coincide? If not, what is missing or can be modified? If needed, modify the code above so that they show better agreement."
   ]
  },
  {
   "cell_type": "markdown",
   "id": "d0c8d0d7-ca04-4778-b736-269d34d35f9a",
   "metadata": {},
   "source": [
    "## 7. (6 points) Data I/O and Regression: Climate change data\n",
    "\n",
    "Consider the following data files, which contain climate data:\n",
    "\n",
    "- **World Monthly Atmospheric Carbon Dioxide Concentrations (in $\\rm ppm$)**, which shows the concentration of carbon dioxide in the atmosphere, on a monthly and yearly basis, dating back to 1958. The source data come from the National Oceanic and Atmospheric Association Global Monitoring Laboratory. See file: https://github.com/wbandabarragan/computational-physics-1/blob/main/sample-data/Annual_Surface_Temperature_Change.csv\n",
    "\n",
    "- **Annual Surface Temperature Change (in $\\rm ^{\\circ}C$)**, which shows the mean surface temperature change during the period 1961-2021, using temperatures between 1951 and 1980 as a baseline. These data are provided by the Food and Agriculture Organization Corporate Statistical Database (FAOSTAT) and are based on publicly available GISTEMP data from the National Aeronautics and Space Administration Goddard Institute for Space Studies (NASA GISS). See file: https://github.com/wbandabarragan/computational-physics-1/blob/main/sample-data/Atmospheric_CO2_Concentrations.csv\n",
    "\n",
    "Both files were downloaded from: https://climatedata.imf.org/pages/climatechange-data\n",
    "\n",
    "Inspect the data files first, and then carry out the following tasks:\n",
    "\n",
    "(a) Create a Python function that uses pandas to read in the **Annual_Surface_Temperature_Change.csv** file, selects the row corresponding to the global anomaly, i.e., the row labeled with \"World\", and returns two arrays: one containing the years, and the other one containing the yearly temperature anomaly.\n",
    "\n",
    "**Hint:**\n",
    "- Note that years are reported with an \"F\" in front (e.g. \"F1961\"), which your function may need to remove.\n",
    "\n",
    "\n",
    "(b) Call your function from (a), and make a high-quality, labeled figure of the temperature anomaly (in $\\rm ^{\\circ}C$) versus time (in $\\rm years$). What trend do you see? Carry out a regression using the LM method, and report the resulting regression model with uncertainties. \n",
    "\n",
    "(c) Create a Python function that uses pandas to read in the **Atmospheric_CO2_Concentrations.csv** file, and returns 3 numpy arrays: one containing the year (see column \"Date\"), one containing the yearly averages of the Carbon Dioxide Concentrations (computed from column \"Value\"), and one containing the yearly $1\\sigma$ uncertainties associated with the Carbon Dioxide Concentrations (also computed from column \"Value\").\n",
    "\n",
    "**Hints:**\n",
    "- Your function needs to remove outliers, i.e. anomalous (very low) $\\rm CO_2$ concentration values.\n",
    "- Your function needs to group values by year and calculate yearly averages and standard deviations (without the outliers).\n",
    "- Note that years are reported with a month code at the end (e.g. \"1958M03\"), which your function may need to remove.\n",
    "\n",
    "(d) Call your function from (c), and make a high-quality, labeled figure of the yearly averages of $\\rm CO_2$ Concentrations (in $\\rm ppm$) versus time (in $\\rm years$). What trend do you see? Carry out a regression using the LM method, and report the resulting regression model with uncertainties. \n",
    "\n",
    "(e) Create a Python function that uses pandas to output (in CSV format) a new dataframe containing 4 columns:\n",
    "\n",
    "- Year\n",
    "\n",
    "- World temperature anomaly\n",
    "\n",
    "- World $\\rm CO_2$ concentration\n",
    "\n",
    "- $1\\sigma$ uncertainty in $\\rm CO_2$ concentration\n",
    "\n",
    "**Hints:**\n",
    "Check if the data outputs from (b) and (d) cover the same time period in years. If not, use conditionals to select only the overlapping years, so that all variables cover the same time range.\n",
    "\n",
    "\n",
    "(f) Using the new dataframe from (e), make a high-quality, labeled scatter plot (using markers) of the $\\rm CO_2$ concentration (including the $1\\sigma$ y-error bars) versus temperature anomaly. How monotonic and/or linear is the relation between the two variables?\n",
    "\n",
    "(g) Carry out two regressions using the $\\chi^2$ method for two different regression models (which you can propose yourself), and report the resulting regression functions with uncertainties.\n",
    "\n",
    "(h) Make a plot comparing the two above fits to the data. Which regression model produces the best result according to your goodness-of-fit analysis? "
   ]
  }
 ],
 "metadata": {
  "kernelspec": {
   "display_name": "Python 3 (ipykernel)",
   "language": "python",
   "name": "python3"
  },
  "language_info": {
   "codemirror_mode": {
    "name": "ipython",
    "version": 3
   },
   "file_extension": ".py",
   "mimetype": "text/x-python",
   "name": "python",
   "nbconvert_exporter": "python",
   "pygments_lexer": "ipython3",
   "version": "3.7.16"
  }
 },
 "nbformat": 4,
 "nbformat_minor": 5
}
