{
 "cells": [
  {
   "cell_type": "markdown",
   "id": "1324eecd",
   "metadata": {},
   "source": [
    "# Eigenvalues and Eigenvectors\n",
    "\n",
    "\n",
    "$$A\\,x=\\lambda\\,x$$\n",
    "\n",
    "\n",
    "where $\\lambda$ are the scale factors. \n",
    "\n",
    "## Linear transformations:"
   ]
  },
  {
   "cell_type": "code",
   "execution_count": 1,
   "id": "0312ed4f",
   "metadata": {},
   "outputs": [],
   "source": [
    "# Importing libraries\n",
    "\n",
    "import numpy as np\n",
    "import matplotlib.pyplot as plt"
   ]
  },
  {
   "cell_type": "code",
   "execution_count": 2,
   "id": "a792402b",
   "metadata": {},
   "outputs": [],
   "source": [
    "# Define our matrix\n",
    "\n",
    "a_matrix = np.array([[2, 0],[0, 1]])"
   ]
  },
  {
   "cell_type": "code",
   "execution_count": 3,
   "id": "e3460642",
   "metadata": {},
   "outputs": [
    {
     "name": "stdout",
     "output_type": "stream",
     "text": [
      "[[2 0]\n",
      " [0 1]]\n"
     ]
    }
   ],
   "source": [
    "print(a_matrix)"
   ]
  },
  {
   "cell_type": "markdown",
   "id": "85b13141",
   "metadata": {},
   "source": [
    "### Any vector:"
   ]
  },
  {
   "cell_type": "code",
   "execution_count": 4,
   "id": "95672616",
   "metadata": {},
   "outputs": [],
   "source": [
    "# Define our vector\n",
    "\n",
    "x = np.array([[1],[1]])"
   ]
  },
  {
   "cell_type": "code",
   "execution_count": 5,
   "id": "69ea08e4",
   "metadata": {},
   "outputs": [
    {
     "name": "stdout",
     "output_type": "stream",
     "text": [
      "[[1]\n",
      " [1]]\n"
     ]
    }
   ],
   "source": [
    "print(x)"
   ]
  },
  {
   "cell_type": "code",
   "execution_count": 6,
   "id": "98d8324f",
   "metadata": {},
   "outputs": [],
   "source": [
    "# Linear equation\n",
    "#b = np.dot(a_matrix, x)\n",
    "\n",
    "b = a_matrix @ x"
   ]
  },
  {
   "cell_type": "code",
   "execution_count": 7,
   "id": "91fae66d",
   "metadata": {},
   "outputs": [
    {
     "name": "stdout",
     "output_type": "stream",
     "text": [
      "[[2]\n",
      " [1]]\n"
     ]
    }
   ],
   "source": [
    "print(b)"
   ]
  },
  {
   "cell_type": "code",
   "execution_count": 8,
   "id": "1de11ced",
   "metadata": {},
   "outputs": [
    {
     "name": "stdout",
     "output_type": "stream",
     "text": [
      "[1]\n"
     ]
    }
   ],
   "source": [
    "print(b[1])"
   ]
  },
  {
   "cell_type": "code",
   "execution_count": 9,
   "id": "d6e91cdc",
   "metadata": {},
   "outputs": [
    {
     "data": {
      "image/png": "[encoded data removed]",
      "text/plain": [
       "<Figure size 300x200 with 1 Axes>"
      ]
     },
     "metadata": {},
     "output_type": "display_data"
    }
   ],
   "source": [
    "fig, ax = plt.subplots(figsize=(3,2))\n",
    "\n",
    "plt.quiver(0,0,x[0],x[1], angles='xy', scale_units='xy', scale = 1, color = 'b')\n",
    "plt.quiver(0,0,b[0],b[1], angles='xy', scale_units='xy', scale = 1, color = 'g')\n",
    "\n",
    "plt.xlim(-2.5, 2.5)\n",
    "plt.ylim(0, 2)\n",
    "\n",
    "plt.show()"
   ]
  },
  {
   "cell_type": "markdown",
   "id": "711e307d",
   "metadata": {},
   "source": [
    "### Special vector:"
   ]
  },
  {
   "cell_type": "code",
   "execution_count": 10,
   "id": "677367b9",
   "metadata": {},
   "outputs": [],
   "source": [
    "# New vector:\n",
    "x1 = np.array([[1],[0]])"
   ]
  },
  {
   "cell_type": "code",
   "execution_count": 11,
   "id": "7ab93837",
   "metadata": {},
   "outputs": [],
   "source": [
    "# Transformed vector\n",
    "\n",
    "b1 = a_matrix @ x1"
   ]
  },
  {
   "cell_type": "code",
   "execution_count": 12,
   "id": "93638a25",
   "metadata": {},
   "outputs": [
    {
     "name": "stdout",
     "output_type": "stream",
     "text": [
      "[[2]\n",
      " [0]]\n"
     ]
    }
   ],
   "source": [
    "print(b1)"
   ]
  },
  {
   "cell_type": "code",
   "execution_count": 13,
   "id": "8ef24658",
   "metadata": {},
   "outputs": [
    {
     "data": {
      "image/png": "[encoded data removed]",
      "text/plain": [
       "<Figure size 300x200 with 1 Axes>"
      ]
     },
     "metadata": {},
     "output_type": "display_data"
    }
   ],
   "source": [
    "fig, ax = plt.subplots(figsize=(3,2))\n",
    "\n",
    "plt.quiver(0,0,x1[0],x1[1], angles='xy', scale_units='xy', scale = 1, color = 'b')\n",
    "plt.quiver(0,0,b1[0],b1[1], angles='xy', scale_units='xy', scale = 1, color = 'g')\n",
    "\n",
    "plt.xlim(-2.5, 2.5)\n",
    "plt.ylim(-2, 2)\n",
    "\n",
    "plt.show()"
   ]
  },
  {
   "cell_type": "markdown",
   "id": "0bda3c9c",
   "metadata": {},
   "source": [
    "### 1. Get eigenvalues and eigenvectors using np.linalg.eig\n",
    "\n",
    "This numpy function computec the eigenvalues and right eigenvectors of a square array.\n"
   ]
  },
  {
   "cell_type": "code",
   "execution_count": 14,
   "id": "9820a233",
   "metadata": {},
   "outputs": [
    {
     "name": "stdout",
     "output_type": "stream",
     "text": [
      "[[2 0]\n",
      " [0 1]]\n"
     ]
    }
   ],
   "source": [
    "print(a_matrix)"
   ]
  },
  {
   "cell_type": "code",
   "execution_count": 15,
   "id": "c43efa88",
   "metadata": {},
   "outputs": [],
   "source": [
    "# Syntax\n",
    "\n",
    "w_eigenvalues, v_eigenvectors = np.linalg.eig(a_matrix)"
   ]
  },
  {
   "cell_type": "code",
   "execution_count": 16,
   "id": "9273c054",
   "metadata": {},
   "outputs": [
    {
     "name": "stdout",
     "output_type": "stream",
     "text": [
      "[2. 1.]\n"
     ]
    }
   ],
   "source": [
    "# Eigenvalues \n",
    "\n",
    "print(w_eigenvalues)"
   ]
  },
  {
   "cell_type": "code",
   "execution_count": 17,
   "id": "f328f01e",
   "metadata": {},
   "outputs": [
    {
     "name": "stdout",
     "output_type": "stream",
     "text": [
      "[[1. 0.]\n",
      " [0. 1.]]\n"
     ]
    }
   ],
   "source": [
    "# Eigenvectors\n",
    "\n",
    "print(v_eigenvectors)"
   ]
  },
  {
   "cell_type": "code",
   "execution_count": 18,
   "id": "f036a264",
   "metadata": {},
   "outputs": [
    {
     "name": "stdout",
     "output_type": "stream",
     "text": [
      "[[0]\n",
      " [1]]\n"
     ]
    }
   ],
   "source": [
    "# Define the second eigenvector \n",
    "\n",
    "x2 = np.array([[0],[1]])\n",
    "\n",
    "print(x2)"
   ]
  },
  {
   "cell_type": "code",
   "execution_count": 20,
   "id": "d994fc63",
   "metadata": {},
   "outputs": [
    {
     "name": "stdout",
     "output_type": "stream",
     "text": [
      "[[0]\n",
      " [1]]\n"
     ]
    }
   ],
   "source": [
    "# LT of this vector\n",
    "\n",
    "b2 = a_matrix @ x2\n",
    "\n",
    "print(b2)"
   ]
  },
  {
   "cell_type": "code",
   "execution_count": 21,
   "id": "cbda04af",
   "metadata": {},
   "outputs": [
    {
     "data": {
      "image/png": "[encoded data removed]",
      "text/plain": [
       "<Figure size 300x200 with 1 Axes>"
      ]
     },
     "metadata": {},
     "output_type": "display_data"
    }
   ],
   "source": [
    "fig, ax = plt.subplots(figsize=(3,2))\n",
    "\n",
    "plt.quiver(0,0,x2[0],x2[1], angles='xy', scale_units='xy', scale = 1, color = 'b')\n",
    "plt.quiver(0,0,b2[0],b2[1], angles='xy', scale_units='xy', scale = 1, color = 'g')\n",
    "\n",
    "plt.xlim(-2.5, 2.5)\n",
    "plt.ylim(-2, 2)\n",
    "\n",
    "plt.show()"
   ]
  },
  {
   "cell_type": "markdown",
   "id": "71af4e35",
   "metadata": {},
   "source": [
    "## 2. Finding the largest eigenvalue\n",
    "\n",
    "Assume $\\lambda_1$ is the largest eigenvalue, as $k$ grows the following equation will converge to the first term.\n",
    "\n",
    "$$ Ax_{k-1} = \\lambda_1[v_1+\\frac{c_2}{c_1}\\frac{\\lambda_2^k}{\\lambda_1^k}v_2+\\dots+\\frac{c_n}{c_1}\\frac{\\lambda_n^k}{\\lambda_1^k}v_n] = \\lambda_1x_k$$ "
   ]
  },
  {
   "cell_type": "code",
   "execution_count": 22,
   "id": "143f2edf",
   "metadata": {},
   "outputs": [
    {
     "name": "stdout",
     "output_type": "stream",
     "text": [
      "[2. 1.]\n"
     ]
    }
   ],
   "source": [
    "w, v = np.linalg.eig(a_matrix)\n",
    "\n",
    "print(w)"
   ]
  },
  {
   "cell_type": "code",
   "execution_count": 23,
   "id": "0b6d9857",
   "metadata": {},
   "outputs": [
    {
     "name": "stdout",
     "output_type": "stream",
     "text": [
      "2 [[1. ]\n",
      " [0.5]]\n"
     ]
    }
   ],
   "source": [
    "iteration = 1\n",
    "\n",
    "for i in range(iteration):\n",
    "    x = np.dot(a_matrix, x)\n",
    "    #print(x)\n",
    "    fac = np.max(abs(x))\n",
    "    x_n = x / np.max(x)\n",
    "    print(fac, x_n)"
   ]
  },
  {
   "cell_type": "markdown",
   "id": "11deb539",
   "metadata": {},
   "source": [
    "## 3. The QR method:\n",
    "\n",
    "This is a method to find the eigenvalues of a matrix in one go.\n",
    "\n",
    "We say that 2 square matrices $A$ and $B$ are similar if:\n",
    "\n",
    "$$A = C^{-1}BC$$"
   ]
  },
  {
   "cell_type": "code",
   "execution_count": 27,
   "id": "ee46bc94",
   "metadata": {},
   "outputs": [
    {
     "name": "stdout",
     "output_type": "stream",
     "text": [
      "[[0 2]\n",
      " [2 3]]\n"
     ]
    }
   ],
   "source": [
    "# Define a new matrix\n",
    "b_matrix = np.array([[0, 2], [2, 3]])\n",
    "\n",
    "# Get the Q and R matrices\n",
    "\n",
    "q, r = np.linalg.qr(b_matrix)\n",
    "\n",
    "print(b_matrix)"
   ]
  },
  {
   "cell_type": "code",
   "execution_count": 25,
   "id": "219eb393",
   "metadata": {},
   "outputs": [
    {
     "name": "stdout",
     "output_type": "stream",
     "text": [
      "Q:\n",
      " [[ 0. -1.]\n",
      " [-1.  0.]]\n",
      "R:\n",
      " [[-2. -3.]\n",
      " [ 0. -2.]]\n"
     ]
    }
   ],
   "source": [
    "print('Q:\\n', q)\n",
    "\n",
    "print('R:\\n', r)\n"
   ]
  },
  {
   "cell_type": "code",
   "execution_count": 26,
   "id": "79bb5a31",
   "metadata": {},
   "outputs": [
    {
     "name": "stdout",
     "output_type": "stream",
     "text": [
      "QR:\n",
      " [[0. 2.]\n",
      " [2. 3.]]\n"
     ]
    }
   ],
   "source": [
    "b = np.dot(q, r)\n",
    "print('QR:\\n', b)"
   ]
  },
  {
   "cell_type": "code",
   "execution_count": 28,
   "id": "a9877708",
   "metadata": {},
   "outputs": [
    {
     "name": "stdout",
     "output_type": "stream",
     "text": [
      "(array([-1.,  4.]), array([[-0.89442719, -0.4472136 ],\n",
      "       [ 0.4472136 , -0.89442719]]))\n"
     ]
    }
   ],
   "source": [
    "# Get eigenvalues in the easy way\n",
    "\n",
    "print(np.linalg.eig(b_matrix))"
   ]
  },
  {
   "cell_type": "code",
   "execution_count": 30,
   "id": "c991b372",
   "metadata": {},
   "outputs": [
    {
     "name": "stdout",
     "output_type": "stream",
     "text": [
      "Iteration 1:\n",
      "[[ 3.92307692  0.61538462]\n",
      " [ 0.61538462 -0.92307692]]\n",
      "Iteration 5:\n",
      "[[ 3.99999881e+00  2.44140567e-03]\n",
      " [ 2.44140567e-03 -9.99998808e-01]]\n",
      "Iteration 10:\n",
      "[[ 4.00000000e+00  2.38418579e-06]\n",
      " [ 2.38418579e-06 -1.00000000e+00]]\n",
      "Iteration 20:\n",
      "[[ 4.00000000e+00  2.27386092e-12]\n",
      " [ 2.27373675e-12 -1.00000000e+00]]\n"
     ]
    }
   ],
   "source": [
    "# Define # iterations\n",
    "p = [1, 5, 10, 20]\n",
    "\n",
    "for i in range(20):\n",
    "    # Split Q and R matrices\n",
    "    q, r = np.linalg.qr(b_matrix)\n",
    "    b_matrix = np.dot(r, q)\n",
    "    if i+1 in p:\n",
    "        print(f'Iteration {i+1}:')\n",
    "        print(b_matrix)"
   ]
  }
 ],
 "metadata": {
  "kernelspec": {
   "display_name": "Python 3 (ipykernel)",
   "language": "python",
   "name": "python3"
  },
  "language_info": {
   "codemirror_mode": {
    "name": "ipython",
    "version": 3
   },
   "file_extension": ".py",
   "mimetype": "text/x-python",
   "name": "python",
   "nbconvert_exporter": "python",
   "pygments_lexer": "ipython3",
   "version": "3.7.16"
  }
 },
 "nbformat": 4,
 "nbformat_minor": 5
}
