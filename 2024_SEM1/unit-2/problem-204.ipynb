{
 "cells": [
  {
   "cell_type": "markdown",
   "id": "db574934",
   "metadata": {},
   "source": [
    "\n",
    "## QM problem: Hamiltonian, eigenvalues and eigenvectors\n",
    "\n",
    "$$\\newcommand{\\ket}[1]{\\left|{#1}\\right\\rangle}$$\n",
    "$$\\newcommand{\\bra}[1]{\\left\\langle{#1}\\right|}$$\n",
    "$$\\newcommand{\\braket}[2]{\\left\\langle{#1}\\middle|{#2}\\right\\rangle}$$\n",
    "\n",
    "Consider a quantum system in a state, $\\ket{\\Psi}$:\n",
    "\n",
    "$\\Psi = \\frac{1}{\\sqrt{3}}\\left[\\begin{array}{@{}c@{}}\n",
    "    i \\\\\n",
    "    -i \\\\\n",
    "    i \n",
    "    \\end{array} \\right]$\n",
    "    \n",
    "The Hamiltonian is represented by the matrix shown below:\n",
    "\n",
    "\n",
    "$\\hat{H} = \\left[\\begin{array}{@{ }c@{\\kern2em} c@{\\kern2em} c@{ }}\n",
    "2 & 1 & 0\\\\\n",
    "1 & 2 & 0\\\\\n",
    "0 & 0 & 3\n",
    "\\end{array} \\right]$\n",
    "\n",
    "(a) Determine the eigenvalues and eigenvectors of $\\hat{H}$. What do the eigenvalues represent?\n",
    "\n",
    "\n",
    "(b) Which eigenvalue of $\\hat{H}$ is most likely to emerge from a measurement?\n",
    "\n",
    "\n",
    "(c) Find $\\langle H \\rangle$, $\\langle H^2 \\rangle$, and $\\sigma_H$.\n"
   ]
  },
  {
   "cell_type": "markdown",
   "id": "a07303bc",
   "metadata": {},
   "source": [
    "### Solution:\n",
    "\n",
    "(a) Determine the eigenvalues and eigenvectors of $\\hat{H}$. What do the eigenvalues represent?\n",
    "\n",
    "$\\hat{H} = \\left[\\begin{array}{@{ }c@{\\kern2em} c@{\\kern2em} c@{ }}\n",
    "2 & 1 & 0\\\\\n",
    "1 & 2 & 0\\\\\n",
    "0 & 0 & 3\n",
    "\\end{array} \\right]$"
   ]
  },
  {
   "cell_type": "code",
   "execution_count": 1,
   "id": "96d30f5b",
   "metadata": {},
   "outputs": [],
   "source": [
    "# Import our usual libraries\n",
    "import numpy as np"
   ]
  },
  {
   "cell_type": "code",
   "execution_count": 6,
   "id": "1e09218f",
   "metadata": {},
   "outputs": [
    {
     "name": "stdout",
     "output_type": "stream",
     "text": [
      "Hamiltonian is:\n",
      " [[2. 1. 0.]\n",
      " [1. 2. 0.]\n",
      " [0. 0. 3.]]\n"
     ]
    }
   ],
   "source": [
    "# Define the matrix\n",
    "\n",
    "h_matrix = np.array([[2., 1., 0.]\\\n",
    "                   ,[1., 2., 0.]\\\n",
    "                   ,[0., 0., 3.]])\n",
    "\n",
    "print(\"Hamiltonian is:\\n\", h_matrix)\n"
   ]
  },
  {
   "cell_type": "code",
   "execution_count": 7,
   "id": "8df4be17",
   "metadata": {},
   "outputs": [
    {
     "name": "stdout",
     "output_type": "stream",
     "text": [
      "Eigenvalues are:\n",
      " [3. 1. 3.]\n",
      "Eigenvectors are:\n",
      " [[ 0.70710678 -0.70710678  0.        ]\n",
      " [ 0.70710678  0.70710678  0.        ]\n",
      " [ 0.          0.          1.        ]]\n"
     ]
    }
   ],
   "source": [
    "# Let's use the eig() function\n",
    "\n",
    "w_eigenvalues, v_eigenvectors = np.linalg.eig(h_matrix)\n",
    "\n",
    "print(\"Eigenvalues are:\\n\", w_eigenvalues)\n",
    "\n",
    "print(\"Eigenvectors are:\\n\", v_eigenvectors)"
   ]
  },
  {
   "cell_type": "markdown",
   "id": "ed338d07",
   "metadata": {},
   "source": [
    "(b) Which eigenvalue of $\\hat{H}$ is most likely to emerge from a measurement?\n",
    "\n"
   ]
  },
  {
   "cell_type": "markdown",
   "id": "bedbbc4c",
   "metadata": {},
   "source": [
    "$\\Psi = \\frac{1}{\\sqrt{3}}\\left[\\begin{array}{@{}c@{}}\n",
    "    i \\\\\n",
    "    -i \\\\\n",
    "    i \n",
    "    \\end{array} \\right]$"
   ]
  },
  {
   "cell_type": "code",
   "execution_count": 9,
   "id": "56d020e6",
   "metadata": {},
   "outputs": [
    {
     "name": "stdout",
     "output_type": "stream",
     "text": [
      "[ 0.+0.57735027j -0.-0.57735027j  0.+0.57735027j]\n"
     ]
    }
   ],
   "source": [
    "# Define the state vector\n",
    "\n",
    "psi = np.array([1.j/np.sqrt(3), -1.j/np.sqrt(3), 1.j/np.sqrt(3)])\n",
    "\n",
    "print(psi)"
   ]
  },
  {
   "cell_type": "markdown",
   "id": "af2a5376",
   "metadata": {},
   "source": [
    "### Eigenvectors"
   ]
  },
  {
   "cell_type": "code",
   "execution_count": 11,
   "id": "3bf40935",
   "metadata": {},
   "outputs": [
    {
     "name": "stdout",
     "output_type": "stream",
     "text": [
      "[ 0.70710678 -0.70710678  0.        ]\n",
      "[0.70710678 0.70710678 0.        ]\n",
      "[0. 0. 1.]\n"
     ]
    }
   ],
   "source": [
    "vec_1 = v_eigenvectors[0]\n",
    "vec_2 = v_eigenvectors[1]\n",
    "vec_3 = v_eigenvectors[2]\n",
    "\n",
    "print(vec_1)\n",
    "print(vec_2)\n",
    "print(vec_3)"
   ]
  },
  {
   "cell_type": "markdown",
   "id": "9b1bd3a0",
   "metadata": {},
   "source": [
    "$\\bra{1}\\cdot\\ket{\\psi}$"
   ]
  },
  {
   "cell_type": "code",
   "execution_count": 25,
   "id": "1af7e48b",
   "metadata": {},
   "outputs": [
    {
     "name": "stdout",
     "output_type": "stream",
     "text": [
      "0.6666666666666665 0.0 0.33333333333333337\n"
     ]
    }
   ],
   "source": [
    "# np.inner()\n",
    "\n",
    "p1 = np.dot(vec_1, psi)**2/np.dot(psi,psi)\n",
    "p2 = np.dot(vec_2, psi)**2/np.dot(psi,psi)\n",
    "p3 = np.dot(vec_3, psi)**2/np.dot(psi,psi)\n",
    "\n",
    "print(np.abs(p1), np.abs(p2), np.abs(p3))"
   ]
  },
  {
   "cell_type": "markdown",
   "id": "1cd42cb1",
   "metadata": {},
   "source": [
    "The most likely is $E_1 = 3$ for $\\ket{\\psi_1}=[ 0.70710678, -0.70710678 , 0.        ]$"
   ]
  },
  {
   "cell_type": "markdown",
   "id": "a3e69df8",
   "metadata": {},
   "source": [
    "\n",
    "(c) Find $\\langle H \\rangle$, $\\langle H^2 \\rangle$, and $\\sigma_H$.\n",
    "\n",
    "\n",
    "$\\langle H \\rangle$ = $\\langle \\psi | H | \\psi \\rangle$"
   ]
  },
  {
   "cell_type": "code",
   "execution_count": 27,
   "id": "ec041f7d",
   "metadata": {},
   "outputs": [
    {
     "name": "stdout",
     "output_type": "stream",
     "text": [
      "1.6666666666666672\n"
     ]
    }
   ],
   "source": [
    "H_exp = np.dot(np.dot(np.conjugate(psi),h_matrix), psi.T)\n",
    "\n",
    "print(np.abs(H_exp))"
   ]
  },
  {
   "cell_type": "markdown",
   "id": "d30f2ba0",
   "metadata": {},
   "source": [
    "$\\langle H^2 \\rangle$ = $\\langle \\psi | H^2 | \\psi \\rangle$"
   ]
  },
  {
   "cell_type": "code",
   "execution_count": 28,
   "id": "e614483c",
   "metadata": {},
   "outputs": [
    {
     "name": "stdout",
     "output_type": "stream",
     "text": [
      "3.666666666666668\n"
     ]
    }
   ],
   "source": [
    "H2_exp = np.dot(np.dot(np.conjugate(psi),h_matrix @ h_matrix)\\\n",
    "               , psi.T)\n",
    "\n",
    "print(np.abs(H2_exp))"
   ]
  },
  {
   "cell_type": "markdown",
   "id": "3ad7ba96",
   "metadata": {},
   "source": [
    "### Uncertianty:\n",
    "\n",
    "$\\sigma_H = \\sqrt{\\langle H^2 \\rangle - \\langle H\\rangle^2}$"
   ]
  },
  {
   "cell_type": "code",
   "execution_count": 29,
   "id": "10404eda",
   "metadata": {},
   "outputs": [
    {
     "name": "stdout",
     "output_type": "stream",
     "text": [
      "sigma =  0.9428090415820631\n"
     ]
    }
   ],
   "source": [
    "# Get sigma \n",
    "print(\"sigma = \", np.sqrt(np.abs(H2_exp) - np.abs(H_exp)**2))"
   ]
  },
  {
   "cell_type": "code",
   "execution_count": null,
   "id": "9fea8147",
   "metadata": {},
   "outputs": [],
   "source": []
  }
 ],
 "metadata": {
  "kernelspec": {
   "display_name": "Python 3 (ipykernel)",
   "language": "python",
   "name": "python3"
  },
  "language_info": {
   "codemirror_mode": {
    "name": "ipython",
    "version": 3
   },
   "file_extension": ".py",
   "mimetype": "text/x-python",
   "name": "python",
   "nbconvert_exporter": "python",
   "pygments_lexer": "ipython3",
   "version": "3.7.16"
  }
 },
 "nbformat": 4,
 "nbformat_minor": 5
}
