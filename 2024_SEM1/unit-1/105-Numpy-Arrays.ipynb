{
  "nbformat": 4,
  "nbformat_minor": 0,
  "metadata": {
    "colab": {
      "provenance": [],
      "authorship_tag": "ABX9TyMNo8sXN1Y5T71bDbSgQbgC",
      "include_colab_link": true
    },
    "kernelspec": {
      "name": "python3",
      "display_name": "Python 3"
    },
    "language_info": {
      "name": "python"
    }
  },
  "cells": [
    {
      "cell_type": "markdown",
      "metadata": {
        "id": "view-in-github",
        "colab_type": "text"
      },
      "source": [
        "<a href=\"https://colab.research.google.com/github/wbandabarragan/computational-physics-1/blob/main/unit-1/105-Numpy-Arrays.ipynb\" target=\"_parent\"><img src=\"https://colab.research.google.com/assets/colab-badge.svg\" alt=\"Open In Colab\"/></a>"
      ]
    },
    {
      "cell_type": "markdown",
      "source": [
        "# Numpy Arrays:\n",
        "\n",
        "They are not good for data bases.\n",
        "\n",
        "They are useful for handling data (numbers).\n",
        "\n",
        "Recommendation: pass data to arrays!\n",
        "\n",
        "They are good for multi-dimensional data.\n",
        "\n",
        "They are not native, but developed by Numpy community.\n",
        "\n"
      ],
      "metadata": {
        "id": "s32PNnx9oWAi"
      }
    },
    {
      "cell_type": "code",
      "execution_count": 1,
      "metadata": {
        "id": "mQquUOdSoRZr"
      },
      "outputs": [],
      "source": [
        "# Importing the library\n",
        "\n",
        "import numpy as np"
      ]
    },
    {
      "cell_type": "markdown",
      "source": [
        "## 1. 1D arrays"
      ],
      "metadata": {
        "id": "iaxUiV89uJV7"
      }
    },
    {
      "cell_type": "code",
      "source": [
        "# Create 1D vectors\n",
        "\n",
        "# Create a tuple\n",
        "a = (5., 6., 7.)\n",
        "\n",
        "# Convert a tuple into an array np.array()\n",
        "a_rr = np.array(a)\n",
        "\n",
        "print(type(a), type(a_rr))"
      ],
      "metadata": {
        "colab": {
          "base_uri": "https://localhost:8080/"
        },
        "id": "Y9xFIE4TpV34",
        "outputId": "cf03d129-fe69-4990-89e8-5799af6c75d5"
      },
      "execution_count": 2,
      "outputs": [
        {
          "output_type": "stream",
          "name": "stdout",
          "text": [
            "<class 'tuple'> <class 'numpy.ndarray'>\n"
          ]
        }
      ]
    },
    {
      "cell_type": "code",
      "source": [
        "# Create a list\n",
        "b_list = [50., 60., 70.]\n",
        "\n",
        "# Convert a tuple into an array np.array()\n",
        "b_rr = np.array(b_list)\n",
        "\n",
        "print(type(b_list), type(b_rr))"
      ],
      "metadata": {
        "colab": {
          "base_uri": "https://localhost:8080/"
        },
        "id": "4OPU3IMsplll",
        "outputId": "854cddf8-9bff-4c81-f635-77ae8478f914"
      },
      "execution_count": 3,
      "outputs": [
        {
          "output_type": "stream",
          "name": "stdout",
          "text": [
            "<class 'list'> <class 'numpy.ndarray'>\n"
          ]
        }
      ]
    },
    {
      "cell_type": "code",
      "source": [
        "# Using a specific data type:\n",
        "\n",
        "c_rr = np.array([1.,  2.,  3.], dtype=np.float32)\n",
        "\n",
        "# A complex array:\n",
        "d_rr = np.array([1.,  2.,  3.], dtype=complex)\n",
        "\n",
        "print(c_rr)\n",
        "print(d_rr)"
      ],
      "metadata": {
        "colab": {
          "base_uri": "https://localhost:8080/"
        },
        "id": "7QF80Q3rqRv7",
        "outputId": "7e8e3bd9-a910-41aa-c9a8-d3e71156cbdf"
      },
      "execution_count": 4,
      "outputs": [
        {
          "output_type": "stream",
          "name": "stdout",
          "text": [
            "[1. 2. 3.]\n",
            "[1.+0.j 2.+0.j 3.+0.j]\n"
          ]
        }
      ]
    },
    {
      "cell_type": "code",
      "source": [
        "print(len(c_rr))\n",
        "\n",
        "print(c_rr.size)\n",
        "\n",
        "print(c_rr.shape)\n",
        "\n",
        "# Does not work with lists\n",
        "#print(b_list.size)"
      ],
      "metadata": {
        "colab": {
          "base_uri": "https://localhost:8080/"
        },
        "id": "DAu_0_N5sy0Y",
        "outputId": "922a63fb-2826-4ce9-b3c5-abb3bfdec655"
      },
      "execution_count": 5,
      "outputs": [
        {
          "output_type": "stream",
          "name": "stdout",
          "text": [
            "3\n",
            "3\n",
            "(3,)\n"
          ]
        }
      ]
    },
    {
      "cell_type": "markdown",
      "source": [
        "## 2. 2D arrays:"
      ],
      "metadata": {
        "id": "WlJbNyH5uM_M"
      }
    },
    {
      "cell_type": "code",
      "source": [
        "# Generate 2D array from a nested list\n",
        "x_2D = np.array([[1., 2.], [3., 4.]])\n",
        "\n",
        "print(x_2D)\n",
        "\n",
        "print(x_2D.size)\n",
        "\n",
        "print(x_2D.shape)"
      ],
      "metadata": {
        "colab": {
          "base_uri": "https://localhost:8080/"
        },
        "id": "LjSuZ3_YtZtH",
        "outputId": "c09abffe-efbb-493b-ec3a-b2baa9eeb3da"
      },
      "execution_count": 6,
      "outputs": [
        {
          "output_type": "stream",
          "name": "stdout",
          "text": [
            "[[1. 2.]\n",
            " [3. 4.]]\n",
            "4\n",
            "(2, 2)\n"
          ]
        }
      ]
    },
    {
      "cell_type": "code",
      "source": [
        "# Graphical representation of matrices\n",
        "\n",
        "import matplotlib.pyplot as plt\n",
        "\n",
        "%matplotlib inline\n",
        "\n",
        "plt.imshow(x_2D)"
      ],
      "metadata": {
        "colab": {
          "base_uri": "https://localhost:8080/",
          "height": 452
        },
        "id": "wswPxU0RugSZ",
        "outputId": "1589e713-6656-4442-f1c2-0d5d91bf0aad"
      },
      "execution_count": 7,
      "outputs": [
        {
          "output_type": "execute_result",
          "data": {
            "text/plain": [
              "<matplotlib.image.AxesImage at 0x7f7be0448820>"
            ]
          },
          "metadata": {},
          "execution_count": 7
        },
        {
          "output_type": "display_data",
          "data": {
            "text/plain": [
              "<Figure size 640x480 with 1 Axes>"
            ],
            "image/png": "[encoded data removed]"
          },
          "metadata": {}
        }
      ]
    },
    {
      "cell_type": "markdown",
      "source": [
        "# 3. Vector generation:\n",
        "\n",
        "- np.arange()\n",
        "\n",
        "- np.linspace()"
      ],
      "metadata": {
        "id": "WVRvltuHvqJn"
      }
    },
    {
      "cell_type": "code",
      "source": [
        "# Generate two axes:\n",
        "\n",
        "# This is with arange with takes the step in between elements\n",
        "x_axis = np.arange(0., 1., 0.1)\n",
        "\n",
        "print(x_axis)\n",
        "\n",
        "# This is with linspace with takes the # of elements\n",
        "y_axis = np.linspace(0., 1., 11)\n",
        "\n",
        "print(y_axis)"
      ],
      "metadata": {
        "colab": {
          "base_uri": "https://localhost:8080/"
        },
        "id": "blvCUy1JvOLB",
        "outputId": "f6713f2f-9113-4bdc-d202-dad9481414b1"
      },
      "execution_count": 8,
      "outputs": [
        {
          "output_type": "stream",
          "name": "stdout",
          "text": [
            "[0.  0.1 0.2 0.3 0.4 0.5 0.6 0.7 0.8 0.9]\n",
            "[0.  0.1 0.2 0.3 0.4 0.5 0.6 0.7 0.8 0.9 1. ]\n"
          ]
        }
      ]
    },
    {
      "cell_type": "markdown",
      "source": [
        "## 4. Indexing:"
      ],
      "metadata": {
        "id": "1l-6yTcfw9wB"
      }
    },
    {
      "cell_type": "code",
      "source": [
        "# Generate a new 1D vector:\n",
        "x = np.arange(0., 1., 0.1)\n",
        "print(x)\n",
        "\n",
        "# Indexing for the 2nd element\n",
        "print(x[1])\n",
        "\n",
        "# Indexing in one direction, : is used for everything else\n",
        "print(x[1:])\n",
        "\n",
        "# Indexing in one direction, : is used for everything else \n",
        "print(x[:2])\n",
        "\n",
        "# Get the last element, which is accessed with -1\n",
        "print(x[-1])\n",
        "\n",
        "# Get the 3rd last element, which is accessed with -3\n",
        "print(x[-3])"
      ],
      "metadata": {
        "id": "bpID_ejAv8gV",
        "colab": {
          "base_uri": "https://localhost:8080/"
        },
        "outputId": "352e9b88-ffde-4795-ca71-12b3ed319b7f"
      },
      "execution_count": 16,
      "outputs": [
        {
          "output_type": "stream",
          "name": "stdout",
          "text": [
            "[0.  0.1 0.2 0.3 0.4 0.5 0.6 0.7 0.8 0.9]\n",
            "0.1\n",
            "[0.1 0.2 0.3 0.4 0.5 0.6 0.7 0.8 0.9]\n",
            "[0.  0.1]\n",
            "0.9\n",
            "0.7000000000000001\n"
          ]
        }
      ]
    },
    {
      "cell_type": "code",
      "source": [
        "# Now for 2D arrays\n",
        "x_2D = np.array([[1., 2.], [3., 4.]])\n",
        "print(x_2D)\n",
        "\n",
        "# Indexing is done with 2 numbers\n",
        "print(x_2D[0,0])\n",
        "\n",
        "# Indexing is done with 2 numbers\n",
        "print(x_2D[1,0])\n",
        "\n",
        "# Indexing one row\n",
        "print(x_2D[1,:])\n",
        "\n",
        "# Indexing one column\n",
        "print(x_2D[:,0])\n",
        "\n",
        "# Indexing one column\n",
        "print(x_2D[:,-1])"
      ],
      "metadata": {
        "colab": {
          "base_uri": "https://localhost:8080/"
        },
        "id": "gvvx-v75xJ_L",
        "outputId": "b2558b14-a0dc-4312-cff8-4d358e136041"
      },
      "execution_count": 22,
      "outputs": [
        {
          "output_type": "stream",
          "name": "stdout",
          "text": [
            "[[1. 2.]\n",
            " [3. 4.]]\n",
            "1.0\n",
            "3.0\n",
            "[3. 4.]\n",
            "[1. 3.]\n",
            "[2. 4.]\n"
          ]
        }
      ]
    },
    {
      "cell_type": "markdown",
      "source": [
        "## 5. Extra numpy functions:\n"
      ],
      "metadata": {
        "id": "HKq8C0F8zetj"
      }
    },
    {
      "cell_type": "code",
      "source": [
        "# Zero Matrix\n",
        "a_0 = np.zeros((4,6))\n",
        "\n",
        "print(a_0)\n",
        "print(a_0.shape)\n",
        "\n",
        "# Ones Matrix\n",
        "a_1 = np.ones((4,6))\n",
        "\n",
        "print(a_1)\n",
        "print(a_1.shape)"
      ],
      "metadata": {
        "colab": {
          "base_uri": "https://localhost:8080/"
        },
        "id": "sKY_J2Duyfsy",
        "outputId": "80f32f2e-034a-4d6e-a93e-52b9eca2227d"
      },
      "execution_count": 31,
      "outputs": [
        {
          "output_type": "stream",
          "name": "stdout",
          "text": [
            "[[0. 0. 0. 0. 0. 0.]\n",
            " [0. 0. 0. 0. 0. 0.]\n",
            " [0. 0. 0. 0. 0. 0.]\n",
            " [0. 0. 0. 0. 0. 0.]]\n",
            "(4, 6)\n",
            "[[1. 1. 1. 1. 1. 1.]\n",
            " [1. 1. 1. 1. 1. 1.]\n",
            " [1. 1. 1. 1. 1. 1.]\n",
            " [1. 1. 1. 1. 1. 1.]]\n",
            "(4, 6)\n"
          ]
        }
      ]
    },
    {
      "cell_type": "code",
      "source": [
        "# Empty Matrix\n",
        "a_e = np.empty((4,6))\n",
        "print(a_e)\n",
        "\n",
        "# Fill up the matrix\n",
        "a_e[:,3] = 30.\n",
        "\n",
        "a_e[1,:] = 20.\n",
        "print(a_e)"
      ],
      "metadata": {
        "colab": {
          "base_uri": "https://localhost:8080/"
        },
        "id": "BmAK_jnMzyDA",
        "outputId": "8a560368-9e0a-49bb-87f7-e206f75d7fdc"
      },
      "execution_count": 35,
      "outputs": [
        {
          "output_type": "stream",
          "name": "stdout",
          "text": [
            "[[ 1.  1.  1.  1.  1.  1.]\n",
            " [ 1.  1.  1.  1.  1.  1.]\n",
            " [ 1.  1.  1.  1.  1.  1.]\n",
            " [ 1.  1.  1. 30.  1.  1.]]\n",
            "[[ 1.  1.  1. 30.  1.  1.]\n",
            " [20. 20. 20. 20. 20. 20.]\n",
            " [ 1.  1.  1. 30.  1.  1.]\n",
            " [ 1.  1.  1. 30.  1.  1.]]\n"
          ]
        }
      ]
    },
    {
      "cell_type": "code",
      "source": [
        "# Identity matrix \n",
        "a_i = np.identity(3)\n",
        "print(a_i)\n",
        "\n",
        "# Diagonal 2D array\n",
        "a_d = np.eye(3, k=0)\n",
        "print(a_d)\n",
        "\n",
        "# Diagonal 2D array\n",
        "a_dk = np.eye(3, k=1)\n",
        "print(a_dk)"
      ],
      "metadata": {
        "colab": {
          "base_uri": "https://localhost:8080/"
        },
        "id": "i-s_Kp3R0aUb",
        "outputId": "1de066e8-ce84-44bd-8cde-c9b42a517b59"
      },
      "execution_count": 39,
      "outputs": [
        {
          "output_type": "stream",
          "name": "stdout",
          "text": [
            "[[1. 0. 0.]\n",
            " [0. 1. 0.]\n",
            " [0. 0. 1.]]\n",
            "[[1. 0. 0.]\n",
            " [0. 1. 0.]\n",
            " [0. 0. 1.]]\n",
            "[[0. 1. 0.]\n",
            " [0. 0. 1.]\n",
            " [0. 0. 0.]]\n"
          ]
        }
      ]
    },
    {
      "cell_type": "code",
      "source": [
        "# Transposes of matrices\n",
        "b_2D = np.array([[2., 3.], [-1., 5.]])\n",
        "print(b_2D)\n",
        "\n",
        "# Get transpose\n",
        "b_2Dt1 = b_2D.transpose()\n",
        "print(b_2Dt1)\n",
        "\n",
        "b_2Dt2 = b_2D.T\n",
        "print(b_2Dt2)"
      ],
      "metadata": {
        "colab": {
          "base_uri": "https://localhost:8080/"
        },
        "id": "7GY7rE6g1UMs",
        "outputId": "39c844b5-2dc6-4143-c5a5-0b554ca43c5f"
      },
      "execution_count": 45,
      "outputs": [
        {
          "output_type": "stream",
          "name": "stdout",
          "text": [
            "[[ 2.  3.]\n",
            " [-1.  5.]]\n",
            "[[ 2. -1.]\n",
            " [ 3.  5.]]\n",
            "[[ 2. -1.]\n",
            " [ 3.  5.]]\n"
          ]
        }
      ]
    },
    {
      "cell_type": "code",
      "source": [
        "# Operations\n",
        "c_2D = np.array([[1., 7.], [9., -4.]])\n",
        "\n",
        "# Sum the elements\n",
        "s_2D = b_2D + c_2D\n",
        "print(s_2D)\n",
        "\n",
        "# Diff the elements\n",
        "r_2D = b_2D - c_2D\n",
        "print(r_2D)\n",
        "\n",
        "# Element-wise multiplication, NOT to be confused with matrix multiplication\n",
        "m_2D = b_2D * c_2D\n",
        "print(m_2D)\n",
        "\n",
        "# Matrix multiplication\n",
        "M_2D = b_2D @ c_2D\n",
        "print(M_2D)\n",
        "\n",
        "# Element-wise division\n",
        "d_2D = b_2D / c_2D\n",
        "print(d_2D)\n",
        "\n",
        "# Element-wise exp\n",
        "e_2D = b_2D**c_2D\n",
        "print(e_2D)"
      ],
      "metadata": {
        "colab": {
          "base_uri": "https://localhost:8080/"
        },
        "id": "gZLMj1rt2UZy",
        "outputId": "1983ea99-547b-4a4b-ad91-655a9ff88fa2"
      },
      "execution_count": 51,
      "outputs": [
        {
          "output_type": "stream",
          "name": "stdout",
          "text": [
            "[[ 3. 10.]\n",
            " [ 8.  1.]]\n",
            "[[  1.  -4.]\n",
            " [-10.   9.]]\n",
            "[[  2.  21.]\n",
            " [ -9. -20.]]\n",
            "[[ 29.   2.]\n",
            " [ 44. -27.]]\n",
            "[[ 2.          0.42857143]\n",
            " [-0.11111111 -1.25      ]]\n",
            "[[ 2.000e+00  2.187e+03]\n",
            " [-1.000e+00  1.600e-03]]\n"
          ]
        }
      ]
    },
    {
      "cell_type": "markdown",
      "source": [
        "## 6. Vectorised functions:"
      ],
      "metadata": {
        "id": "GvUy73fb5AUw"
      }
    },
    {
      "cell_type": "code",
      "source": [
        "# Example: Cosine of a vector\n",
        "out_1 = np.cos(x)\n",
        "print(out_1)\n",
        "\n",
        "# This performs an element-wise calculation\n",
        "out_2 = np.cos(x_2D)\n",
        "print(out_2)\n",
        "\n",
        "# Example: sqrt of a vector\n",
        "out_3 = np.sqrt(x_2D)\n",
        "print(out_3)"
      ],
      "metadata": {
        "colab": {
          "base_uri": "https://localhost:8080/"
        },
        "id": "DncEN_Xx3K56",
        "outputId": "a7706ccc-b8a2-44df-b514-119e8d5efead"
      },
      "execution_count": 56,
      "outputs": [
        {
          "output_type": "stream",
          "name": "stdout",
          "text": [
            "[1.         0.99500417 0.98006658 0.95533649 0.92106099 0.87758256\n",
            " 0.82533561 0.76484219 0.69670671 0.62160997]\n",
            "[[ 0.54030231 -0.41614684]\n",
            " [-0.9899925  -0.65364362]]\n",
            "[[1.         1.41421356]\n",
            " [1.73205081 2.        ]]\n"
          ]
        }
      ]
    },
    {
      "cell_type": "markdown",
      "source": [
        "## 7. Indexing as conditionals"
      ],
      "metadata": {
        "id": "GAAFJGmv6NCy"
      }
    },
    {
      "cell_type": "code",
      "source": [
        "# Generate new vector\n",
        "y = np.array([-1, 6, 7, 9, 10, 3, 4, 2, 1, 0, -5])\n",
        "print(y)\n",
        "\n",
        "# Now, we apply logical operators:\n",
        "print(y > 0)\n",
        "\n",
        "# To get the values that satisfy the condition, we use the logical op. as an index\n",
        "z = y[y > 0]\n",
        "print(z)\n",
        "\n",
        "# Replacing with conditionals\n",
        "z[z > 7.] = 0\n",
        "print(z)"
      ],
      "metadata": {
        "colab": {
          "base_uri": "https://localhost:8080/"
        },
        "id": "lJLwmpl65Ol3",
        "outputId": "8c564ba1-c4cb-4c26-9112-5a3581a75ce7"
      },
      "execution_count": 61,
      "outputs": [
        {
          "output_type": "stream",
          "name": "stdout",
          "text": [
            "[-1  6  7  9 10  3  4  2  1  0 -5]\n",
            "[False  True  True  True  True  True  True  True  True False False]\n",
            "[ 6  7  9 10  3  4  2  1]\n",
            "[6 7 0 0 3 4 2 1]\n"
          ]
        }
      ]
    }
  ]
}